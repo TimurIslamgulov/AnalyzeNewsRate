{
  "nbformat": 4,
  "nbformat_minor": 0,
  "metadata": {
    "colab": {
      "name": "SSL_texts.ipynb",
      "provenance": [],
      "collapsed_sections": []
    },
    "kernelspec": {
      "name": "python3",
      "display_name": "Python 3"
    },
    "language_info": {
      "name": "python"
    },
    "widgets": {
      "application/vnd.jupyter.widget-state+json": {
        "44812ff1026b411ab79757344d0e8b51": {
          "model_module": "@jupyter-widgets/controls",
          "model_name": "HBoxModel",
          "model_module_version": "1.5.0",
          "state": {
            "_view_name": "HBoxView",
            "_dom_classes": [],
            "_model_name": "HBoxModel",
            "_view_module": "@jupyter-widgets/controls",
            "_model_module_version": "1.5.0",
            "_view_count": null,
            "_view_module_version": "1.5.0",
            "box_style": "",
            "layout": "IPY_MODEL_7719a77af10c4251bf3b43a343f5a5db",
            "_model_module": "@jupyter-widgets/controls",
            "children": [
              "IPY_MODEL_3edfb4686e434ba18eafeeb4955ed93d",
              "IPY_MODEL_ff536322b4b74d1f9470895a750e6c0e",
              "IPY_MODEL_76affca57b084da387d7b410a8433886"
            ]
          }
        },
        "7719a77af10c4251bf3b43a343f5a5db": {
          "model_module": "@jupyter-widgets/base",
          "model_name": "LayoutModel",
          "model_module_version": "1.2.0",
          "state": {
            "_view_name": "LayoutView",
            "grid_template_rows": null,
            "right": null,
            "justify_content": null,
            "_view_module": "@jupyter-widgets/base",
            "overflow": null,
            "_model_module_version": "1.2.0",
            "_view_count": null,
            "flex_flow": null,
            "width": null,
            "min_width": null,
            "border": null,
            "align_items": null,
            "bottom": null,
            "_model_module": "@jupyter-widgets/base",
            "top": null,
            "grid_column": null,
            "overflow_y": null,
            "overflow_x": null,
            "grid_auto_flow": null,
            "grid_area": null,
            "grid_template_columns": null,
            "flex": null,
            "_model_name": "LayoutModel",
            "justify_items": null,
            "grid_row": null,
            "max_height": null,
            "align_content": null,
            "visibility": null,
            "align_self": null,
            "height": null,
            "min_height": null,
            "padding": null,
            "grid_auto_rows": null,
            "grid_gap": null,
            "max_width": null,
            "order": null,
            "_view_module_version": "1.2.0",
            "grid_template_areas": null,
            "object_position": null,
            "object_fit": null,
            "grid_auto_columns": null,
            "margin": null,
            "display": null,
            "left": null
          }
        },
        "3edfb4686e434ba18eafeeb4955ed93d": {
          "model_module": "@jupyter-widgets/controls",
          "model_name": "HTMLModel",
          "model_module_version": "1.5.0",
          "state": {
            "_view_name": "HTMLView",
            "style": "IPY_MODEL_77c5f5436fb1465ea36436bc7a82b6b4",
            "_dom_classes": [],
            "description": "",
            "_model_name": "HTMLModel",
            "placeholder": "​",
            "_view_module": "@jupyter-widgets/controls",
            "_model_module_version": "1.5.0",
            "value": "100%",
            "_view_count": null,
            "_view_module_version": "1.5.0",
            "description_tooltip": null,
            "_model_module": "@jupyter-widgets/controls",
            "layout": "IPY_MODEL_5d78fbf8b45a449a86d2b50c53f518aa"
          }
        },
        "ff536322b4b74d1f9470895a750e6c0e": {
          "model_module": "@jupyter-widgets/controls",
          "model_name": "FloatProgressModel",
          "model_module_version": "1.5.0",
          "state": {
            "_view_name": "ProgressView",
            "style": "IPY_MODEL_2efc79e51c2c4a7c821afbe837286c4b",
            "_dom_classes": [],
            "description": "",
            "_model_name": "FloatProgressModel",
            "bar_style": "success",
            "max": 2069,
            "_view_module": "@jupyter-widgets/controls",
            "_model_module_version": "1.5.0",
            "value": 2069,
            "_view_count": null,
            "_view_module_version": "1.5.0",
            "orientation": "horizontal",
            "min": 0,
            "description_tooltip": null,
            "_model_module": "@jupyter-widgets/controls",
            "layout": "IPY_MODEL_40e59c608d2346a2b3f16231e6ebf070"
          }
        },
        "76affca57b084da387d7b410a8433886": {
          "model_module": "@jupyter-widgets/controls",
          "model_name": "HTMLModel",
          "model_module_version": "1.5.0",
          "state": {
            "_view_name": "HTMLView",
            "style": "IPY_MODEL_bb47682cfec84137ba89b155ba3880d5",
            "_dom_classes": [],
            "description": "",
            "_model_name": "HTMLModel",
            "placeholder": "​",
            "_view_module": "@jupyter-widgets/controls",
            "_model_module_version": "1.5.0",
            "value": " 2069/2069 [00:00&lt;00:00, 4249.64it/s]",
            "_view_count": null,
            "_view_module_version": "1.5.0",
            "description_tooltip": null,
            "_model_module": "@jupyter-widgets/controls",
            "layout": "IPY_MODEL_ec302ec542e3496a8127c76456f81507"
          }
        },
        "77c5f5436fb1465ea36436bc7a82b6b4": {
          "model_module": "@jupyter-widgets/controls",
          "model_name": "DescriptionStyleModel",
          "model_module_version": "1.5.0",
          "state": {
            "_view_name": "StyleView",
            "_model_name": "DescriptionStyleModel",
            "description_width": "",
            "_view_module": "@jupyter-widgets/base",
            "_model_module_version": "1.5.0",
            "_view_count": null,
            "_view_module_version": "1.2.0",
            "_model_module": "@jupyter-widgets/controls"
          }
        },
        "5d78fbf8b45a449a86d2b50c53f518aa": {
          "model_module": "@jupyter-widgets/base",
          "model_name": "LayoutModel",
          "model_module_version": "1.2.0",
          "state": {
            "_view_name": "LayoutView",
            "grid_template_rows": null,
            "right": null,
            "justify_content": null,
            "_view_module": "@jupyter-widgets/base",
            "overflow": null,
            "_model_module_version": "1.2.0",
            "_view_count": null,
            "flex_flow": null,
            "width": null,
            "min_width": null,
            "border": null,
            "align_items": null,
            "bottom": null,
            "_model_module": "@jupyter-widgets/base",
            "top": null,
            "grid_column": null,
            "overflow_y": null,
            "overflow_x": null,
            "grid_auto_flow": null,
            "grid_area": null,
            "grid_template_columns": null,
            "flex": null,
            "_model_name": "LayoutModel",
            "justify_items": null,
            "grid_row": null,
            "max_height": null,
            "align_content": null,
            "visibility": null,
            "align_self": null,
            "height": null,
            "min_height": null,
            "padding": null,
            "grid_auto_rows": null,
            "grid_gap": null,
            "max_width": null,
            "order": null,
            "_view_module_version": "1.2.0",
            "grid_template_areas": null,
            "object_position": null,
            "object_fit": null,
            "grid_auto_columns": null,
            "margin": null,
            "display": null,
            "left": null
          }
        },
        "2efc79e51c2c4a7c821afbe837286c4b": {
          "model_module": "@jupyter-widgets/controls",
          "model_name": "ProgressStyleModel",
          "model_module_version": "1.5.0",
          "state": {
            "_view_name": "StyleView",
            "_model_name": "ProgressStyleModel",
            "description_width": "",
            "_view_module": "@jupyter-widgets/base",
            "_model_module_version": "1.5.0",
            "_view_count": null,
            "_view_module_version": "1.2.0",
            "bar_color": null,
            "_model_module": "@jupyter-widgets/controls"
          }
        },
        "40e59c608d2346a2b3f16231e6ebf070": {
          "model_module": "@jupyter-widgets/base",
          "model_name": "LayoutModel",
          "model_module_version": "1.2.0",
          "state": {
            "_view_name": "LayoutView",
            "grid_template_rows": null,
            "right": null,
            "justify_content": null,
            "_view_module": "@jupyter-widgets/base",
            "overflow": null,
            "_model_module_version": "1.2.0",
            "_view_count": null,
            "flex_flow": null,
            "width": null,
            "min_width": null,
            "border": null,
            "align_items": null,
            "bottom": null,
            "_model_module": "@jupyter-widgets/base",
            "top": null,
            "grid_column": null,
            "overflow_y": null,
            "overflow_x": null,
            "grid_auto_flow": null,
            "grid_area": null,
            "grid_template_columns": null,
            "flex": null,
            "_model_name": "LayoutModel",
            "justify_items": null,
            "grid_row": null,
            "max_height": null,
            "align_content": null,
            "visibility": null,
            "align_self": null,
            "height": null,
            "min_height": null,
            "padding": null,
            "grid_auto_rows": null,
            "grid_gap": null,
            "max_width": null,
            "order": null,
            "_view_module_version": "1.2.0",
            "grid_template_areas": null,
            "object_position": null,
            "object_fit": null,
            "grid_auto_columns": null,
            "margin": null,
            "display": null,
            "left": null
          }
        },
        "bb47682cfec84137ba89b155ba3880d5": {
          "model_module": "@jupyter-widgets/controls",
          "model_name": "DescriptionStyleModel",
          "model_module_version": "1.5.0",
          "state": {
            "_view_name": "StyleView",
            "_model_name": "DescriptionStyleModel",
            "description_width": "",
            "_view_module": "@jupyter-widgets/base",
            "_model_module_version": "1.5.0",
            "_view_count": null,
            "_view_module_version": "1.2.0",
            "_model_module": "@jupyter-widgets/controls"
          }
        },
        "ec302ec542e3496a8127c76456f81507": {
          "model_module": "@jupyter-widgets/base",
          "model_name": "LayoutModel",
          "model_module_version": "1.2.0",
          "state": {
            "_view_name": "LayoutView",
            "grid_template_rows": null,
            "right": null,
            "justify_content": null,
            "_view_module": "@jupyter-widgets/base",
            "overflow": null,
            "_model_module_version": "1.2.0",
            "_view_count": null,
            "flex_flow": null,
            "width": null,
            "min_width": null,
            "border": null,
            "align_items": null,
            "bottom": null,
            "_model_module": "@jupyter-widgets/base",
            "top": null,
            "grid_column": null,
            "overflow_y": null,
            "overflow_x": null,
            "grid_auto_flow": null,
            "grid_area": null,
            "grid_template_columns": null,
            "flex": null,
            "_model_name": "LayoutModel",
            "justify_items": null,
            "grid_row": null,
            "max_height": null,
            "align_content": null,
            "visibility": null,
            "align_self": null,
            "height": null,
            "min_height": null,
            "padding": null,
            "grid_auto_rows": null,
            "grid_gap": null,
            "max_width": null,
            "order": null,
            "_view_module_version": "1.2.0",
            "grid_template_areas": null,
            "object_position": null,
            "object_fit": null,
            "grid_auto_columns": null,
            "margin": null,
            "display": null,
            "left": null
          }
        },
        "ca5c849151ec4b328c1891bfecfb0616": {
          "model_module": "@jupyter-widgets/controls",
          "model_name": "HBoxModel",
          "model_module_version": "1.5.0",
          "state": {
            "_view_name": "HBoxView",
            "_dom_classes": [],
            "_model_name": "HBoxModel",
            "_view_module": "@jupyter-widgets/controls",
            "_model_module_version": "1.5.0",
            "_view_count": null,
            "_view_module_version": "1.5.0",
            "box_style": "",
            "layout": "IPY_MODEL_2e50bfe13cf54dc980eebee16c65c239",
            "_model_module": "@jupyter-widgets/controls",
            "children": [
              "IPY_MODEL_73eb164f262f4fa6b1c92a1a3e8b19fa",
              "IPY_MODEL_d774cc31dc8a4b62a253b247328e6b58",
              "IPY_MODEL_71d55c019596475e80f387d900ebcb59"
            ]
          }
        },
        "2e50bfe13cf54dc980eebee16c65c239": {
          "model_module": "@jupyter-widgets/base",
          "model_name": "LayoutModel",
          "model_module_version": "1.2.0",
          "state": {
            "_view_name": "LayoutView",
            "grid_template_rows": null,
            "right": null,
            "justify_content": null,
            "_view_module": "@jupyter-widgets/base",
            "overflow": null,
            "_model_module_version": "1.2.0",
            "_view_count": null,
            "flex_flow": null,
            "width": null,
            "min_width": null,
            "border": null,
            "align_items": null,
            "bottom": null,
            "_model_module": "@jupyter-widgets/base",
            "top": null,
            "grid_column": null,
            "overflow_y": null,
            "overflow_x": null,
            "grid_auto_flow": null,
            "grid_area": null,
            "grid_template_columns": null,
            "flex": null,
            "_model_name": "LayoutModel",
            "justify_items": null,
            "grid_row": null,
            "max_height": null,
            "align_content": null,
            "visibility": null,
            "align_self": null,
            "height": null,
            "min_height": null,
            "padding": null,
            "grid_auto_rows": null,
            "grid_gap": null,
            "max_width": null,
            "order": null,
            "_view_module_version": "1.2.0",
            "grid_template_areas": null,
            "object_position": null,
            "object_fit": null,
            "grid_auto_columns": null,
            "margin": null,
            "display": null,
            "left": null
          }
        },
        "73eb164f262f4fa6b1c92a1a3e8b19fa": {
          "model_module": "@jupyter-widgets/controls",
          "model_name": "HTMLModel",
          "model_module_version": "1.5.0",
          "state": {
            "_view_name": "HTMLView",
            "style": "IPY_MODEL_a6fa44257d8f462ba64a40d9b566c610",
            "_dom_classes": [],
            "description": "",
            "_model_name": "HTMLModel",
            "placeholder": "​",
            "_view_module": "@jupyter-widgets/controls",
            "_model_module_version": "1.5.0",
            "value": "100%",
            "_view_count": null,
            "_view_module_version": "1.5.0",
            "description_tooltip": null,
            "_model_module": "@jupyter-widgets/controls",
            "layout": "IPY_MODEL_e78b903b95c145388ea58694135540f6"
          }
        },
        "d774cc31dc8a4b62a253b247328e6b58": {
          "model_module": "@jupyter-widgets/controls",
          "model_name": "FloatProgressModel",
          "model_module_version": "1.5.0",
          "state": {
            "_view_name": "ProgressView",
            "style": "IPY_MODEL_1f0c0b6d1f5e4b0f9de24a0be87126d6",
            "_dom_classes": [],
            "description": "",
            "_model_name": "FloatProgressModel",
            "bar_style": "success",
            "max": 2069,
            "_view_module": "@jupyter-widgets/controls",
            "_model_module_version": "1.5.0",
            "value": 2069,
            "_view_count": null,
            "_view_module_version": "1.5.0",
            "orientation": "horizontal",
            "min": 0,
            "description_tooltip": null,
            "_model_module": "@jupyter-widgets/controls",
            "layout": "IPY_MODEL_c16279907a8a43e38fe45c7255e5f4f5"
          }
        },
        "71d55c019596475e80f387d900ebcb59": {
          "model_module": "@jupyter-widgets/controls",
          "model_name": "HTMLModel",
          "model_module_version": "1.5.0",
          "state": {
            "_view_name": "HTMLView",
            "style": "IPY_MODEL_68ec0b1b6cd041ef947425f4ec171b6c",
            "_dom_classes": [],
            "description": "",
            "_model_name": "HTMLModel",
            "placeholder": "​",
            "_view_module": "@jupyter-widgets/controls",
            "_model_module_version": "1.5.0",
            "value": " 2069/2069 [00:03&lt;00:00, 578.80it/s]",
            "_view_count": null,
            "_view_module_version": "1.5.0",
            "description_tooltip": null,
            "_model_module": "@jupyter-widgets/controls",
            "layout": "IPY_MODEL_0857a0d91aef45e58033cb37ca223aa0"
          }
        },
        "a6fa44257d8f462ba64a40d9b566c610": {
          "model_module": "@jupyter-widgets/controls",
          "model_name": "DescriptionStyleModel",
          "model_module_version": "1.5.0",
          "state": {
            "_view_name": "StyleView",
            "_model_name": "DescriptionStyleModel",
            "description_width": "",
            "_view_module": "@jupyter-widgets/base",
            "_model_module_version": "1.5.0",
            "_view_count": null,
            "_view_module_version": "1.2.0",
            "_model_module": "@jupyter-widgets/controls"
          }
        },
        "e78b903b95c145388ea58694135540f6": {
          "model_module": "@jupyter-widgets/base",
          "model_name": "LayoutModel",
          "model_module_version": "1.2.0",
          "state": {
            "_view_name": "LayoutView",
            "grid_template_rows": null,
            "right": null,
            "justify_content": null,
            "_view_module": "@jupyter-widgets/base",
            "overflow": null,
            "_model_module_version": "1.2.0",
            "_view_count": null,
            "flex_flow": null,
            "width": null,
            "min_width": null,
            "border": null,
            "align_items": null,
            "bottom": null,
            "_model_module": "@jupyter-widgets/base",
            "top": null,
            "grid_column": null,
            "overflow_y": null,
            "overflow_x": null,
            "grid_auto_flow": null,
            "grid_area": null,
            "grid_template_columns": null,
            "flex": null,
            "_model_name": "LayoutModel",
            "justify_items": null,
            "grid_row": null,
            "max_height": null,
            "align_content": null,
            "visibility": null,
            "align_self": null,
            "height": null,
            "min_height": null,
            "padding": null,
            "grid_auto_rows": null,
            "grid_gap": null,
            "max_width": null,
            "order": null,
            "_view_module_version": "1.2.0",
            "grid_template_areas": null,
            "object_position": null,
            "object_fit": null,
            "grid_auto_columns": null,
            "margin": null,
            "display": null,
            "left": null
          }
        },
        "1f0c0b6d1f5e4b0f9de24a0be87126d6": {
          "model_module": "@jupyter-widgets/controls",
          "model_name": "ProgressStyleModel",
          "model_module_version": "1.5.0",
          "state": {
            "_view_name": "StyleView",
            "_model_name": "ProgressStyleModel",
            "description_width": "",
            "_view_module": "@jupyter-widgets/base",
            "_model_module_version": "1.5.0",
            "_view_count": null,
            "_view_module_version": "1.2.0",
            "bar_color": null,
            "_model_module": "@jupyter-widgets/controls"
          }
        },
        "c16279907a8a43e38fe45c7255e5f4f5": {
          "model_module": "@jupyter-widgets/base",
          "model_name": "LayoutModel",
          "model_module_version": "1.2.0",
          "state": {
            "_view_name": "LayoutView",
            "grid_template_rows": null,
            "right": null,
            "justify_content": null,
            "_view_module": "@jupyter-widgets/base",
            "overflow": null,
            "_model_module_version": "1.2.0",
            "_view_count": null,
            "flex_flow": null,
            "width": null,
            "min_width": null,
            "border": null,
            "align_items": null,
            "bottom": null,
            "_model_module": "@jupyter-widgets/base",
            "top": null,
            "grid_column": null,
            "overflow_y": null,
            "overflow_x": null,
            "grid_auto_flow": null,
            "grid_area": null,
            "grid_template_columns": null,
            "flex": null,
            "_model_name": "LayoutModel",
            "justify_items": null,
            "grid_row": null,
            "max_height": null,
            "align_content": null,
            "visibility": null,
            "align_self": null,
            "height": null,
            "min_height": null,
            "padding": null,
            "grid_auto_rows": null,
            "grid_gap": null,
            "max_width": null,
            "order": null,
            "_view_module_version": "1.2.0",
            "grid_template_areas": null,
            "object_position": null,
            "object_fit": null,
            "grid_auto_columns": null,
            "margin": null,
            "display": null,
            "left": null
          }
        },
        "68ec0b1b6cd041ef947425f4ec171b6c": {
          "model_module": "@jupyter-widgets/controls",
          "model_name": "DescriptionStyleModel",
          "model_module_version": "1.5.0",
          "state": {
            "_view_name": "StyleView",
            "_model_name": "DescriptionStyleModel",
            "description_width": "",
            "_view_module": "@jupyter-widgets/base",
            "_model_module_version": "1.5.0",
            "_view_count": null,
            "_view_module_version": "1.2.0",
            "_model_module": "@jupyter-widgets/controls"
          }
        },
        "0857a0d91aef45e58033cb37ca223aa0": {
          "model_module": "@jupyter-widgets/base",
          "model_name": "LayoutModel",
          "model_module_version": "1.2.0",
          "state": {
            "_view_name": "LayoutView",
            "grid_template_rows": null,
            "right": null,
            "justify_content": null,
            "_view_module": "@jupyter-widgets/base",
            "overflow": null,
            "_model_module_version": "1.2.0",
            "_view_count": null,
            "flex_flow": null,
            "width": null,
            "min_width": null,
            "border": null,
            "align_items": null,
            "bottom": null,
            "_model_module": "@jupyter-widgets/base",
            "top": null,
            "grid_column": null,
            "overflow_y": null,
            "overflow_x": null,
            "grid_auto_flow": null,
            "grid_area": null,
            "grid_template_columns": null,
            "flex": null,
            "_model_name": "LayoutModel",
            "justify_items": null,
            "grid_row": null,
            "max_height": null,
            "align_content": null,
            "visibility": null,
            "align_self": null,
            "height": null,
            "min_height": null,
            "padding": null,
            "grid_auto_rows": null,
            "grid_gap": null,
            "max_width": null,
            "order": null,
            "_view_module_version": "1.2.0",
            "grid_template_areas": null,
            "object_position": null,
            "object_fit": null,
            "grid_auto_columns": null,
            "margin": null,
            "display": null,
            "left": null
          }
        },
        "9bc2645fc3964bc9bde929a7fdce4957": {
          "model_module": "@jupyter-widgets/controls",
          "model_name": "HBoxModel",
          "model_module_version": "1.5.0",
          "state": {
            "_view_name": "HBoxView",
            "_dom_classes": [],
            "_model_name": "HBoxModel",
            "_view_module": "@jupyter-widgets/controls",
            "_model_module_version": "1.5.0",
            "_view_count": null,
            "_view_module_version": "1.5.0",
            "box_style": "",
            "layout": "IPY_MODEL_5082694a093747d8af83f5b6d4f0825c",
            "_model_module": "@jupyter-widgets/controls",
            "children": [
              "IPY_MODEL_2c7db666a31b404bad98093d094e3ace",
              "IPY_MODEL_3d3de9fe4d1447a4b60a37429aaf5c89",
              "IPY_MODEL_fc22030f6d7441968bb71674762a478f"
            ]
          }
        },
        "5082694a093747d8af83f5b6d4f0825c": {
          "model_module": "@jupyter-widgets/base",
          "model_name": "LayoutModel",
          "model_module_version": "1.2.0",
          "state": {
            "_view_name": "LayoutView",
            "grid_template_rows": null,
            "right": null,
            "justify_content": null,
            "_view_module": "@jupyter-widgets/base",
            "overflow": null,
            "_model_module_version": "1.2.0",
            "_view_count": null,
            "flex_flow": null,
            "width": null,
            "min_width": null,
            "border": null,
            "align_items": null,
            "bottom": null,
            "_model_module": "@jupyter-widgets/base",
            "top": null,
            "grid_column": null,
            "overflow_y": null,
            "overflow_x": null,
            "grid_auto_flow": null,
            "grid_area": null,
            "grid_template_columns": null,
            "flex": null,
            "_model_name": "LayoutModel",
            "justify_items": null,
            "grid_row": null,
            "max_height": null,
            "align_content": null,
            "visibility": null,
            "align_self": null,
            "height": null,
            "min_height": null,
            "padding": null,
            "grid_auto_rows": null,
            "grid_gap": null,
            "max_width": null,
            "order": null,
            "_view_module_version": "1.2.0",
            "grid_template_areas": null,
            "object_position": null,
            "object_fit": null,
            "grid_auto_columns": null,
            "margin": null,
            "display": null,
            "left": null
          }
        },
        "2c7db666a31b404bad98093d094e3ace": {
          "model_module": "@jupyter-widgets/controls",
          "model_name": "HTMLModel",
          "model_module_version": "1.5.0",
          "state": {
            "_view_name": "HTMLView",
            "style": "IPY_MODEL_58795a6913a14f578f97996493762304",
            "_dom_classes": [],
            "description": "",
            "_model_name": "HTMLModel",
            "placeholder": "​",
            "_view_module": "@jupyter-widgets/controls",
            "_model_module_version": "1.5.0",
            "value": "100%",
            "_view_count": null,
            "_view_module_version": "1.5.0",
            "description_tooltip": null,
            "_model_module": "@jupyter-widgets/controls",
            "layout": "IPY_MODEL_277094d0de3244408103370e23bf68e4"
          }
        },
        "3d3de9fe4d1447a4b60a37429aaf5c89": {
          "model_module": "@jupyter-widgets/controls",
          "model_name": "FloatProgressModel",
          "model_module_version": "1.5.0",
          "state": {
            "_view_name": "ProgressView",
            "style": "IPY_MODEL_ceafecbe12884a7597b0cf4f4660bedf",
            "_dom_classes": [],
            "description": "",
            "_model_name": "FloatProgressModel",
            "bar_style": "success",
            "max": 2069,
            "_view_module": "@jupyter-widgets/controls",
            "_model_module_version": "1.5.0",
            "value": 2069,
            "_view_count": null,
            "_view_module_version": "1.5.0",
            "orientation": "horizontal",
            "min": 0,
            "description_tooltip": null,
            "_model_module": "@jupyter-widgets/controls",
            "layout": "IPY_MODEL_273111cf114042cbac5bcd312a20f0bd"
          }
        },
        "fc22030f6d7441968bb71674762a478f": {
          "model_module": "@jupyter-widgets/controls",
          "model_name": "HTMLModel",
          "model_module_version": "1.5.0",
          "state": {
            "_view_name": "HTMLView",
            "style": "IPY_MODEL_03cd4a3b4bdc475a85f758111e318533",
            "_dom_classes": [],
            "description": "",
            "_model_name": "HTMLModel",
            "placeholder": "​",
            "_view_module": "@jupyter-widgets/controls",
            "_model_module_version": "1.5.0",
            "value": " 2069/2069 [00:04&lt;00:00, 523.81it/s]",
            "_view_count": null,
            "_view_module_version": "1.5.0",
            "description_tooltip": null,
            "_model_module": "@jupyter-widgets/controls",
            "layout": "IPY_MODEL_e521052470714ea2a08b8e4cdbbbf37f"
          }
        },
        "58795a6913a14f578f97996493762304": {
          "model_module": "@jupyter-widgets/controls",
          "model_name": "DescriptionStyleModel",
          "model_module_version": "1.5.0",
          "state": {
            "_view_name": "StyleView",
            "_model_name": "DescriptionStyleModel",
            "description_width": "",
            "_view_module": "@jupyter-widgets/base",
            "_model_module_version": "1.5.0",
            "_view_count": null,
            "_view_module_version": "1.2.0",
            "_model_module": "@jupyter-widgets/controls"
          }
        },
        "277094d0de3244408103370e23bf68e4": {
          "model_module": "@jupyter-widgets/base",
          "model_name": "LayoutModel",
          "model_module_version": "1.2.0",
          "state": {
            "_view_name": "LayoutView",
            "grid_template_rows": null,
            "right": null,
            "justify_content": null,
            "_view_module": "@jupyter-widgets/base",
            "overflow": null,
            "_model_module_version": "1.2.0",
            "_view_count": null,
            "flex_flow": null,
            "width": null,
            "min_width": null,
            "border": null,
            "align_items": null,
            "bottom": null,
            "_model_module": "@jupyter-widgets/base",
            "top": null,
            "grid_column": null,
            "overflow_y": null,
            "overflow_x": null,
            "grid_auto_flow": null,
            "grid_area": null,
            "grid_template_columns": null,
            "flex": null,
            "_model_name": "LayoutModel",
            "justify_items": null,
            "grid_row": null,
            "max_height": null,
            "align_content": null,
            "visibility": null,
            "align_self": null,
            "height": null,
            "min_height": null,
            "padding": null,
            "grid_auto_rows": null,
            "grid_gap": null,
            "max_width": null,
            "order": null,
            "_view_module_version": "1.2.0",
            "grid_template_areas": null,
            "object_position": null,
            "object_fit": null,
            "grid_auto_columns": null,
            "margin": null,
            "display": null,
            "left": null
          }
        },
        "ceafecbe12884a7597b0cf4f4660bedf": {
          "model_module": "@jupyter-widgets/controls",
          "model_name": "ProgressStyleModel",
          "model_module_version": "1.5.0",
          "state": {
            "_view_name": "StyleView",
            "_model_name": "ProgressStyleModel",
            "description_width": "",
            "_view_module": "@jupyter-widgets/base",
            "_model_module_version": "1.5.0",
            "_view_count": null,
            "_view_module_version": "1.2.0",
            "bar_color": null,
            "_model_module": "@jupyter-widgets/controls"
          }
        },
        "273111cf114042cbac5bcd312a20f0bd": {
          "model_module": "@jupyter-widgets/base",
          "model_name": "LayoutModel",
          "model_module_version": "1.2.0",
          "state": {
            "_view_name": "LayoutView",
            "grid_template_rows": null,
            "right": null,
            "justify_content": null,
            "_view_module": "@jupyter-widgets/base",
            "overflow": null,
            "_model_module_version": "1.2.0",
            "_view_count": null,
            "flex_flow": null,
            "width": null,
            "min_width": null,
            "border": null,
            "align_items": null,
            "bottom": null,
            "_model_module": "@jupyter-widgets/base",
            "top": null,
            "grid_column": null,
            "overflow_y": null,
            "overflow_x": null,
            "grid_auto_flow": null,
            "grid_area": null,
            "grid_template_columns": null,
            "flex": null,
            "_model_name": "LayoutModel",
            "justify_items": null,
            "grid_row": null,
            "max_height": null,
            "align_content": null,
            "visibility": null,
            "align_self": null,
            "height": null,
            "min_height": null,
            "padding": null,
            "grid_auto_rows": null,
            "grid_gap": null,
            "max_width": null,
            "order": null,
            "_view_module_version": "1.2.0",
            "grid_template_areas": null,
            "object_position": null,
            "object_fit": null,
            "grid_auto_columns": null,
            "margin": null,
            "display": null,
            "left": null
          }
        },
        "03cd4a3b4bdc475a85f758111e318533": {
          "model_module": "@jupyter-widgets/controls",
          "model_name": "DescriptionStyleModel",
          "model_module_version": "1.5.0",
          "state": {
            "_view_name": "StyleView",
            "_model_name": "DescriptionStyleModel",
            "description_width": "",
            "_view_module": "@jupyter-widgets/base",
            "_model_module_version": "1.5.0",
            "_view_count": null,
            "_view_module_version": "1.2.0",
            "_model_module": "@jupyter-widgets/controls"
          }
        },
        "e521052470714ea2a08b8e4cdbbbf37f": {
          "model_module": "@jupyter-widgets/base",
          "model_name": "LayoutModel",
          "model_module_version": "1.2.0",
          "state": {
            "_view_name": "LayoutView",
            "grid_template_rows": null,
            "right": null,
            "justify_content": null,
            "_view_module": "@jupyter-widgets/base",
            "overflow": null,
            "_model_module_version": "1.2.0",
            "_view_count": null,
            "flex_flow": null,
            "width": null,
            "min_width": null,
            "border": null,
            "align_items": null,
            "bottom": null,
            "_model_module": "@jupyter-widgets/base",
            "top": null,
            "grid_column": null,
            "overflow_y": null,
            "overflow_x": null,
            "grid_auto_flow": null,
            "grid_area": null,
            "grid_template_columns": null,
            "flex": null,
            "_model_name": "LayoutModel",
            "justify_items": null,
            "grid_row": null,
            "max_height": null,
            "align_content": null,
            "visibility": null,
            "align_self": null,
            "height": null,
            "min_height": null,
            "padding": null,
            "grid_auto_rows": null,
            "grid_gap": null,
            "max_width": null,
            "order": null,
            "_view_module_version": "1.2.0",
            "grid_template_areas": null,
            "object_position": null,
            "object_fit": null,
            "grid_auto_columns": null,
            "margin": null,
            "display": null,
            "left": null
          }
        },
        "8c14b22e138e46ffaac0d187cd1486bb": {
          "model_module": "@jupyter-widgets/controls",
          "model_name": "HBoxModel",
          "model_module_version": "1.5.0",
          "state": {
            "_view_name": "HBoxView",
            "_dom_classes": [],
            "_model_name": "HBoxModel",
            "_view_module": "@jupyter-widgets/controls",
            "_model_module_version": "1.5.0",
            "_view_count": null,
            "_view_module_version": "1.5.0",
            "box_style": "",
            "layout": "IPY_MODEL_861e126a166d41c980549ee380bf5724",
            "_model_module": "@jupyter-widgets/controls",
            "children": [
              "IPY_MODEL_52764f4e5c284019a62e0400f2d3cfd0",
              "IPY_MODEL_673cb39bc71d4d758c4a1cb0eb70d944",
              "IPY_MODEL_b4bf9d0215194c57bdca2dfe8c89d99a"
            ]
          }
        },
        "861e126a166d41c980549ee380bf5724": {
          "model_module": "@jupyter-widgets/base",
          "model_name": "LayoutModel",
          "model_module_version": "1.2.0",
          "state": {
            "_view_name": "LayoutView",
            "grid_template_rows": null,
            "right": null,
            "justify_content": null,
            "_view_module": "@jupyter-widgets/base",
            "overflow": null,
            "_model_module_version": "1.2.0",
            "_view_count": null,
            "flex_flow": null,
            "width": null,
            "min_width": null,
            "border": null,
            "align_items": null,
            "bottom": null,
            "_model_module": "@jupyter-widgets/base",
            "top": null,
            "grid_column": null,
            "overflow_y": null,
            "overflow_x": null,
            "grid_auto_flow": null,
            "grid_area": null,
            "grid_template_columns": null,
            "flex": null,
            "_model_name": "LayoutModel",
            "justify_items": null,
            "grid_row": null,
            "max_height": null,
            "align_content": null,
            "visibility": null,
            "align_self": null,
            "height": null,
            "min_height": null,
            "padding": null,
            "grid_auto_rows": null,
            "grid_gap": null,
            "max_width": null,
            "order": null,
            "_view_module_version": "1.2.0",
            "grid_template_areas": null,
            "object_position": null,
            "object_fit": null,
            "grid_auto_columns": null,
            "margin": null,
            "display": null,
            "left": null
          }
        },
        "52764f4e5c284019a62e0400f2d3cfd0": {
          "model_module": "@jupyter-widgets/controls",
          "model_name": "HTMLModel",
          "model_module_version": "1.5.0",
          "state": {
            "_view_name": "HTMLView",
            "style": "IPY_MODEL_a3fbbdaa615346da9db55563db0fd3a5",
            "_dom_classes": [],
            "description": "",
            "_model_name": "HTMLModel",
            "placeholder": "​",
            "_view_module": "@jupyter-widgets/controls",
            "_model_module_version": "1.5.0",
            "value": "100%",
            "_view_count": null,
            "_view_module_version": "1.5.0",
            "description_tooltip": null,
            "_model_module": "@jupyter-widgets/controls",
            "layout": "IPY_MODEL_860d660d12a74b449089e993684708e1"
          }
        },
        "673cb39bc71d4d758c4a1cb0eb70d944": {
          "model_module": "@jupyter-widgets/controls",
          "model_name": "FloatProgressModel",
          "model_module_version": "1.5.0",
          "state": {
            "_view_name": "ProgressView",
            "style": "IPY_MODEL_efdd1ebf58f34fa386b92ab2314a2767",
            "_dom_classes": [],
            "description": "",
            "_model_name": "FloatProgressModel",
            "bar_style": "success",
            "max": 37243,
            "_view_module": "@jupyter-widgets/controls",
            "_model_module_version": "1.5.0",
            "value": 37243,
            "_view_count": null,
            "_view_module_version": "1.5.0",
            "orientation": "horizontal",
            "min": 0,
            "description_tooltip": null,
            "_model_module": "@jupyter-widgets/controls",
            "layout": "IPY_MODEL_52e23d627a784adba85f6600c3e111a6"
          }
        },
        "b4bf9d0215194c57bdca2dfe8c89d99a": {
          "model_module": "@jupyter-widgets/controls",
          "model_name": "HTMLModel",
          "model_module_version": "1.5.0",
          "state": {
            "_view_name": "HTMLView",
            "style": "IPY_MODEL_81113f41ffb744da8d8ca12c6d5832ef",
            "_dom_classes": [],
            "description": "",
            "_model_name": "HTMLModel",
            "placeholder": "​",
            "_view_module": "@jupyter-widgets/controls",
            "_model_module_version": "1.5.0",
            "value": " 37243/37243 [00:04&lt;00:00, 10137.78it/s]",
            "_view_count": null,
            "_view_module_version": "1.5.0",
            "description_tooltip": null,
            "_model_module": "@jupyter-widgets/controls",
            "layout": "IPY_MODEL_ef5edd101d064bfa84536fcb4ce400ac"
          }
        },
        "a3fbbdaa615346da9db55563db0fd3a5": {
          "model_module": "@jupyter-widgets/controls",
          "model_name": "DescriptionStyleModel",
          "model_module_version": "1.5.0",
          "state": {
            "_view_name": "StyleView",
            "_model_name": "DescriptionStyleModel",
            "description_width": "",
            "_view_module": "@jupyter-widgets/base",
            "_model_module_version": "1.5.0",
            "_view_count": null,
            "_view_module_version": "1.2.0",
            "_model_module": "@jupyter-widgets/controls"
          }
        },
        "860d660d12a74b449089e993684708e1": {
          "model_module": "@jupyter-widgets/base",
          "model_name": "LayoutModel",
          "model_module_version": "1.2.0",
          "state": {
            "_view_name": "LayoutView",
            "grid_template_rows": null,
            "right": null,
            "justify_content": null,
            "_view_module": "@jupyter-widgets/base",
            "overflow": null,
            "_model_module_version": "1.2.0",
            "_view_count": null,
            "flex_flow": null,
            "width": null,
            "min_width": null,
            "border": null,
            "align_items": null,
            "bottom": null,
            "_model_module": "@jupyter-widgets/base",
            "top": null,
            "grid_column": null,
            "overflow_y": null,
            "overflow_x": null,
            "grid_auto_flow": null,
            "grid_area": null,
            "grid_template_columns": null,
            "flex": null,
            "_model_name": "LayoutModel",
            "justify_items": null,
            "grid_row": null,
            "max_height": null,
            "align_content": null,
            "visibility": null,
            "align_self": null,
            "height": null,
            "min_height": null,
            "padding": null,
            "grid_auto_rows": null,
            "grid_gap": null,
            "max_width": null,
            "order": null,
            "_view_module_version": "1.2.0",
            "grid_template_areas": null,
            "object_position": null,
            "object_fit": null,
            "grid_auto_columns": null,
            "margin": null,
            "display": null,
            "left": null
          }
        },
        "efdd1ebf58f34fa386b92ab2314a2767": {
          "model_module": "@jupyter-widgets/controls",
          "model_name": "ProgressStyleModel",
          "model_module_version": "1.5.0",
          "state": {
            "_view_name": "StyleView",
            "_model_name": "ProgressStyleModel",
            "description_width": "",
            "_view_module": "@jupyter-widgets/base",
            "_model_module_version": "1.5.0",
            "_view_count": null,
            "_view_module_version": "1.2.0",
            "bar_color": null,
            "_model_module": "@jupyter-widgets/controls"
          }
        },
        "52e23d627a784adba85f6600c3e111a6": {
          "model_module": "@jupyter-widgets/base",
          "model_name": "LayoutModel",
          "model_module_version": "1.2.0",
          "state": {
            "_view_name": "LayoutView",
            "grid_template_rows": null,
            "right": null,
            "justify_content": null,
            "_view_module": "@jupyter-widgets/base",
            "overflow": null,
            "_model_module_version": "1.2.0",
            "_view_count": null,
            "flex_flow": null,
            "width": null,
            "min_width": null,
            "border": null,
            "align_items": null,
            "bottom": null,
            "_model_module": "@jupyter-widgets/base",
            "top": null,
            "grid_column": null,
            "overflow_y": null,
            "overflow_x": null,
            "grid_auto_flow": null,
            "grid_area": null,
            "grid_template_columns": null,
            "flex": null,
            "_model_name": "LayoutModel",
            "justify_items": null,
            "grid_row": null,
            "max_height": null,
            "align_content": null,
            "visibility": null,
            "align_self": null,
            "height": null,
            "min_height": null,
            "padding": null,
            "grid_auto_rows": null,
            "grid_gap": null,
            "max_width": null,
            "order": null,
            "_view_module_version": "1.2.0",
            "grid_template_areas": null,
            "object_position": null,
            "object_fit": null,
            "grid_auto_columns": null,
            "margin": null,
            "display": null,
            "left": null
          }
        },
        "81113f41ffb744da8d8ca12c6d5832ef": {
          "model_module": "@jupyter-widgets/controls",
          "model_name": "DescriptionStyleModel",
          "model_module_version": "1.5.0",
          "state": {
            "_view_name": "StyleView",
            "_model_name": "DescriptionStyleModel",
            "description_width": "",
            "_view_module": "@jupyter-widgets/base",
            "_model_module_version": "1.5.0",
            "_view_count": null,
            "_view_module_version": "1.2.0",
            "_model_module": "@jupyter-widgets/controls"
          }
        },
        "ef5edd101d064bfa84536fcb4ce400ac": {
          "model_module": "@jupyter-widgets/base",
          "model_name": "LayoutModel",
          "model_module_version": "1.2.0",
          "state": {
            "_view_name": "LayoutView",
            "grid_template_rows": null,
            "right": null,
            "justify_content": null,
            "_view_module": "@jupyter-widgets/base",
            "overflow": null,
            "_model_module_version": "1.2.0",
            "_view_count": null,
            "flex_flow": null,
            "width": null,
            "min_width": null,
            "border": null,
            "align_items": null,
            "bottom": null,
            "_model_module": "@jupyter-widgets/base",
            "top": null,
            "grid_column": null,
            "overflow_y": null,
            "overflow_x": null,
            "grid_auto_flow": null,
            "grid_area": null,
            "grid_template_columns": null,
            "flex": null,
            "_model_name": "LayoutModel",
            "justify_items": null,
            "grid_row": null,
            "max_height": null,
            "align_content": null,
            "visibility": null,
            "align_self": null,
            "height": null,
            "min_height": null,
            "padding": null,
            "grid_auto_rows": null,
            "grid_gap": null,
            "max_width": null,
            "order": null,
            "_view_module_version": "1.2.0",
            "grid_template_areas": null,
            "object_position": null,
            "object_fit": null,
            "grid_auto_columns": null,
            "margin": null,
            "display": null,
            "left": null
          }
        },
        "811189c91f7048b69afeaf4fc16a8063": {
          "model_module": "@jupyter-widgets/controls",
          "model_name": "HBoxModel",
          "model_module_version": "1.5.0",
          "state": {
            "_view_name": "HBoxView",
            "_dom_classes": [],
            "_model_name": "HBoxModel",
            "_view_module": "@jupyter-widgets/controls",
            "_model_module_version": "1.5.0",
            "_view_count": null,
            "_view_module_version": "1.5.0",
            "box_style": "",
            "layout": "IPY_MODEL_38d2d984ef0844a2adaf82d07eddc775",
            "_model_module": "@jupyter-widgets/controls",
            "children": [
              "IPY_MODEL_d5ac270c34c944c8abf6159cbebb12cb",
              "IPY_MODEL_cc0ba0e91e9548ffbc65214c80f5a582",
              "IPY_MODEL_70dd6fec48ce400da31dd171bfb03c91"
            ]
          }
        },
        "38d2d984ef0844a2adaf82d07eddc775": {
          "model_module": "@jupyter-widgets/base",
          "model_name": "LayoutModel",
          "model_module_version": "1.2.0",
          "state": {
            "_view_name": "LayoutView",
            "grid_template_rows": null,
            "right": null,
            "justify_content": null,
            "_view_module": "@jupyter-widgets/base",
            "overflow": null,
            "_model_module_version": "1.2.0",
            "_view_count": null,
            "flex_flow": null,
            "width": null,
            "min_width": null,
            "border": null,
            "align_items": null,
            "bottom": null,
            "_model_module": "@jupyter-widgets/base",
            "top": null,
            "grid_column": null,
            "overflow_y": null,
            "overflow_x": null,
            "grid_auto_flow": null,
            "grid_area": null,
            "grid_template_columns": null,
            "flex": null,
            "_model_name": "LayoutModel",
            "justify_items": null,
            "grid_row": null,
            "max_height": null,
            "align_content": null,
            "visibility": null,
            "align_self": null,
            "height": null,
            "min_height": null,
            "padding": null,
            "grid_auto_rows": null,
            "grid_gap": null,
            "max_width": null,
            "order": null,
            "_view_module_version": "1.2.0",
            "grid_template_areas": null,
            "object_position": null,
            "object_fit": null,
            "grid_auto_columns": null,
            "margin": null,
            "display": null,
            "left": null
          }
        },
        "d5ac270c34c944c8abf6159cbebb12cb": {
          "model_module": "@jupyter-widgets/controls",
          "model_name": "HTMLModel",
          "model_module_version": "1.5.0",
          "state": {
            "_view_name": "HTMLView",
            "style": "IPY_MODEL_6fbc1508e5e04b0f92f5c119eab728e1",
            "_dom_classes": [],
            "description": "",
            "_model_name": "HTMLModel",
            "placeholder": "​",
            "_view_module": "@jupyter-widgets/controls",
            "_model_module_version": "1.5.0",
            "value": "100%",
            "_view_count": null,
            "_view_module_version": "1.5.0",
            "description_tooltip": null,
            "_model_module": "@jupyter-widgets/controls",
            "layout": "IPY_MODEL_6fb9902e785742c9839403c8c4de05a5"
          }
        },
        "cc0ba0e91e9548ffbc65214c80f5a582": {
          "model_module": "@jupyter-widgets/controls",
          "model_name": "FloatProgressModel",
          "model_module_version": "1.5.0",
          "state": {
            "_view_name": "ProgressView",
            "style": "IPY_MODEL_e8d0b03a020742abbe04ee8dc280a288",
            "_dom_classes": [],
            "description": "",
            "_model_name": "FloatProgressModel",
            "bar_style": "success",
            "max": 37243,
            "_view_module": "@jupyter-widgets/controls",
            "_model_module_version": "1.5.0",
            "value": 37243,
            "_view_count": null,
            "_view_module_version": "1.5.0",
            "orientation": "horizontal",
            "min": 0,
            "description_tooltip": null,
            "_model_module": "@jupyter-widgets/controls",
            "layout": "IPY_MODEL_6ec88409608943c7bfe32294bbc01b99"
          }
        },
        "70dd6fec48ce400da31dd171bfb03c91": {
          "model_module": "@jupyter-widgets/controls",
          "model_name": "HTMLModel",
          "model_module_version": "1.5.0",
          "state": {
            "_view_name": "HTMLView",
            "style": "IPY_MODEL_88129bd061424cfe82cd018562f0ee23",
            "_dom_classes": [],
            "description": "",
            "_model_name": "HTMLModel",
            "placeholder": "​",
            "_view_module": "@jupyter-widgets/controls",
            "_model_module_version": "1.5.0",
            "value": " 37243/37243 [00:13&lt;00:00, 1514.16it/s]",
            "_view_count": null,
            "_view_module_version": "1.5.0",
            "description_tooltip": null,
            "_model_module": "@jupyter-widgets/controls",
            "layout": "IPY_MODEL_9094ae0be06b4a01abe8c29530a2665f"
          }
        },
        "6fbc1508e5e04b0f92f5c119eab728e1": {
          "model_module": "@jupyter-widgets/controls",
          "model_name": "DescriptionStyleModel",
          "model_module_version": "1.5.0",
          "state": {
            "_view_name": "StyleView",
            "_model_name": "DescriptionStyleModel",
            "description_width": "",
            "_view_module": "@jupyter-widgets/base",
            "_model_module_version": "1.5.0",
            "_view_count": null,
            "_view_module_version": "1.2.0",
            "_model_module": "@jupyter-widgets/controls"
          }
        },
        "6fb9902e785742c9839403c8c4de05a5": {
          "model_module": "@jupyter-widgets/base",
          "model_name": "LayoutModel",
          "model_module_version": "1.2.0",
          "state": {
            "_view_name": "LayoutView",
            "grid_template_rows": null,
            "right": null,
            "justify_content": null,
            "_view_module": "@jupyter-widgets/base",
            "overflow": null,
            "_model_module_version": "1.2.0",
            "_view_count": null,
            "flex_flow": null,
            "width": null,
            "min_width": null,
            "border": null,
            "align_items": null,
            "bottom": null,
            "_model_module": "@jupyter-widgets/base",
            "top": null,
            "grid_column": null,
            "overflow_y": null,
            "overflow_x": null,
            "grid_auto_flow": null,
            "grid_area": null,
            "grid_template_columns": null,
            "flex": null,
            "_model_name": "LayoutModel",
            "justify_items": null,
            "grid_row": null,
            "max_height": null,
            "align_content": null,
            "visibility": null,
            "align_self": null,
            "height": null,
            "min_height": null,
            "padding": null,
            "grid_auto_rows": null,
            "grid_gap": null,
            "max_width": null,
            "order": null,
            "_view_module_version": "1.2.0",
            "grid_template_areas": null,
            "object_position": null,
            "object_fit": null,
            "grid_auto_columns": null,
            "margin": null,
            "display": null,
            "left": null
          }
        },
        "e8d0b03a020742abbe04ee8dc280a288": {
          "model_module": "@jupyter-widgets/controls",
          "model_name": "ProgressStyleModel",
          "model_module_version": "1.5.0",
          "state": {
            "_view_name": "StyleView",
            "_model_name": "ProgressStyleModel",
            "description_width": "",
            "_view_module": "@jupyter-widgets/base",
            "_model_module_version": "1.5.0",
            "_view_count": null,
            "_view_module_version": "1.2.0",
            "bar_color": null,
            "_model_module": "@jupyter-widgets/controls"
          }
        },
        "6ec88409608943c7bfe32294bbc01b99": {
          "model_module": "@jupyter-widgets/base",
          "model_name": "LayoutModel",
          "model_module_version": "1.2.0",
          "state": {
            "_view_name": "LayoutView",
            "grid_template_rows": null,
            "right": null,
            "justify_content": null,
            "_view_module": "@jupyter-widgets/base",
            "overflow": null,
            "_model_module_version": "1.2.0",
            "_view_count": null,
            "flex_flow": null,
            "width": null,
            "min_width": null,
            "border": null,
            "align_items": null,
            "bottom": null,
            "_model_module": "@jupyter-widgets/base",
            "top": null,
            "grid_column": null,
            "overflow_y": null,
            "overflow_x": null,
            "grid_auto_flow": null,
            "grid_area": null,
            "grid_template_columns": null,
            "flex": null,
            "_model_name": "LayoutModel",
            "justify_items": null,
            "grid_row": null,
            "max_height": null,
            "align_content": null,
            "visibility": null,
            "align_self": null,
            "height": null,
            "min_height": null,
            "padding": null,
            "grid_auto_rows": null,
            "grid_gap": null,
            "max_width": null,
            "order": null,
            "_view_module_version": "1.2.0",
            "grid_template_areas": null,
            "object_position": null,
            "object_fit": null,
            "grid_auto_columns": null,
            "margin": null,
            "display": null,
            "left": null
          }
        },
        "88129bd061424cfe82cd018562f0ee23": {
          "model_module": "@jupyter-widgets/controls",
          "model_name": "DescriptionStyleModel",
          "model_module_version": "1.5.0",
          "state": {
            "_view_name": "StyleView",
            "_model_name": "DescriptionStyleModel",
            "description_width": "",
            "_view_module": "@jupyter-widgets/base",
            "_model_module_version": "1.5.0",
            "_view_count": null,
            "_view_module_version": "1.2.0",
            "_model_module": "@jupyter-widgets/controls"
          }
        },
        "9094ae0be06b4a01abe8c29530a2665f": {
          "model_module": "@jupyter-widgets/base",
          "model_name": "LayoutModel",
          "model_module_version": "1.2.0",
          "state": {
            "_view_name": "LayoutView",
            "grid_template_rows": null,
            "right": null,
            "justify_content": null,
            "_view_module": "@jupyter-widgets/base",
            "overflow": null,
            "_model_module_version": "1.2.0",
            "_view_count": null,
            "flex_flow": null,
            "width": null,
            "min_width": null,
            "border": null,
            "align_items": null,
            "bottom": null,
            "_model_module": "@jupyter-widgets/base",
            "top": null,
            "grid_column": null,
            "overflow_y": null,
            "overflow_x": null,
            "grid_auto_flow": null,
            "grid_area": null,
            "grid_template_columns": null,
            "flex": null,
            "_model_name": "LayoutModel",
            "justify_items": null,
            "grid_row": null,
            "max_height": null,
            "align_content": null,
            "visibility": null,
            "align_self": null,
            "height": null,
            "min_height": null,
            "padding": null,
            "grid_auto_rows": null,
            "grid_gap": null,
            "max_width": null,
            "order": null,
            "_view_module_version": "1.2.0",
            "grid_template_areas": null,
            "object_position": null,
            "object_fit": null,
            "grid_auto_columns": null,
            "margin": null,
            "display": null,
            "left": null
          }
        },
        "2b67b74b30bf4ce6abd3496a2bc1dcba": {
          "model_module": "@jupyter-widgets/controls",
          "model_name": "HBoxModel",
          "model_module_version": "1.5.0",
          "state": {
            "_view_name": "HBoxView",
            "_dom_classes": [],
            "_model_name": "HBoxModel",
            "_view_module": "@jupyter-widgets/controls",
            "_model_module_version": "1.5.0",
            "_view_count": null,
            "_view_module_version": "1.5.0",
            "box_style": "",
            "layout": "IPY_MODEL_73f8865f48c74abb8d8e44de81e3456c",
            "_model_module": "@jupyter-widgets/controls",
            "children": [
              "IPY_MODEL_70abf0d8061040f2aa47add4bcbb18c6",
              "IPY_MODEL_c3b19f46fae64a1fbc5fdaf1d1ae981b",
              "IPY_MODEL_5e5b6a2351c240fc80fb952351041473"
            ]
          }
        },
        "73f8865f48c74abb8d8e44de81e3456c": {
          "model_module": "@jupyter-widgets/base",
          "model_name": "LayoutModel",
          "model_module_version": "1.2.0",
          "state": {
            "_view_name": "LayoutView",
            "grid_template_rows": null,
            "right": null,
            "justify_content": null,
            "_view_module": "@jupyter-widgets/base",
            "overflow": null,
            "_model_module_version": "1.2.0",
            "_view_count": null,
            "flex_flow": null,
            "width": null,
            "min_width": null,
            "border": null,
            "align_items": null,
            "bottom": null,
            "_model_module": "@jupyter-widgets/base",
            "top": null,
            "grid_column": null,
            "overflow_y": null,
            "overflow_x": null,
            "grid_auto_flow": null,
            "grid_area": null,
            "grid_template_columns": null,
            "flex": null,
            "_model_name": "LayoutModel",
            "justify_items": null,
            "grid_row": null,
            "max_height": null,
            "align_content": null,
            "visibility": null,
            "align_self": null,
            "height": null,
            "min_height": null,
            "padding": null,
            "grid_auto_rows": null,
            "grid_gap": null,
            "max_width": null,
            "order": null,
            "_view_module_version": "1.2.0",
            "grid_template_areas": null,
            "object_position": null,
            "object_fit": null,
            "grid_auto_columns": null,
            "margin": null,
            "display": null,
            "left": null
          }
        },
        "70abf0d8061040f2aa47add4bcbb18c6": {
          "model_module": "@jupyter-widgets/controls",
          "model_name": "HTMLModel",
          "model_module_version": "1.5.0",
          "state": {
            "_view_name": "HTMLView",
            "style": "IPY_MODEL_85473bb13e6c44f3b1b036a21ad7ddca",
            "_dom_classes": [],
            "description": "",
            "_model_name": "HTMLModel",
            "placeholder": "​",
            "_view_module": "@jupyter-widgets/controls",
            "_model_module_version": "1.5.0",
            "value": "100%",
            "_view_count": null,
            "_view_module_version": "1.5.0",
            "description_tooltip": null,
            "_model_module": "@jupyter-widgets/controls",
            "layout": "IPY_MODEL_0e2d2615d3744c4a999f964d4b40d3d2"
          }
        },
        "c3b19f46fae64a1fbc5fdaf1d1ae981b": {
          "model_module": "@jupyter-widgets/controls",
          "model_name": "FloatProgressModel",
          "model_module_version": "1.5.0",
          "state": {
            "_view_name": "ProgressView",
            "style": "IPY_MODEL_18700cefacfa46ab8a9cbd267dde778a",
            "_dom_classes": [],
            "description": "",
            "_model_name": "FloatProgressModel",
            "bar_style": "success",
            "max": 41555,
            "_view_module": "@jupyter-widgets/controls",
            "_model_module_version": "1.5.0",
            "value": 41555,
            "_view_count": null,
            "_view_module_version": "1.5.0",
            "orientation": "horizontal",
            "min": 0,
            "description_tooltip": null,
            "_model_module": "@jupyter-widgets/controls",
            "layout": "IPY_MODEL_0b2f028a63b5475c992130a1449863ba"
          }
        },
        "5e5b6a2351c240fc80fb952351041473": {
          "model_module": "@jupyter-widgets/controls",
          "model_name": "HTMLModel",
          "model_module_version": "1.5.0",
          "state": {
            "_view_name": "HTMLView",
            "style": "IPY_MODEL_4fccbe5c38e84e568a48e1b547c5030c",
            "_dom_classes": [],
            "description": "",
            "_model_name": "HTMLModel",
            "placeholder": "​",
            "_view_module": "@jupyter-widgets/controls",
            "_model_module_version": "1.5.0",
            "value": " 41555/41555 [00:14&lt;00:00, 2542.53it/s]",
            "_view_count": null,
            "_view_module_version": "1.5.0",
            "description_tooltip": null,
            "_model_module": "@jupyter-widgets/controls",
            "layout": "IPY_MODEL_2731d9156cae422a8cf71b9b223c6bbf"
          }
        },
        "85473bb13e6c44f3b1b036a21ad7ddca": {
          "model_module": "@jupyter-widgets/controls",
          "model_name": "DescriptionStyleModel",
          "model_module_version": "1.5.0",
          "state": {
            "_view_name": "StyleView",
            "_model_name": "DescriptionStyleModel",
            "description_width": "",
            "_view_module": "@jupyter-widgets/base",
            "_model_module_version": "1.5.0",
            "_view_count": null,
            "_view_module_version": "1.2.0",
            "_model_module": "@jupyter-widgets/controls"
          }
        },
        "0e2d2615d3744c4a999f964d4b40d3d2": {
          "model_module": "@jupyter-widgets/base",
          "model_name": "LayoutModel",
          "model_module_version": "1.2.0",
          "state": {
            "_view_name": "LayoutView",
            "grid_template_rows": null,
            "right": null,
            "justify_content": null,
            "_view_module": "@jupyter-widgets/base",
            "overflow": null,
            "_model_module_version": "1.2.0",
            "_view_count": null,
            "flex_flow": null,
            "width": null,
            "min_width": null,
            "border": null,
            "align_items": null,
            "bottom": null,
            "_model_module": "@jupyter-widgets/base",
            "top": null,
            "grid_column": null,
            "overflow_y": null,
            "overflow_x": null,
            "grid_auto_flow": null,
            "grid_area": null,
            "grid_template_columns": null,
            "flex": null,
            "_model_name": "LayoutModel",
            "justify_items": null,
            "grid_row": null,
            "max_height": null,
            "align_content": null,
            "visibility": null,
            "align_self": null,
            "height": null,
            "min_height": null,
            "padding": null,
            "grid_auto_rows": null,
            "grid_gap": null,
            "max_width": null,
            "order": null,
            "_view_module_version": "1.2.0",
            "grid_template_areas": null,
            "object_position": null,
            "object_fit": null,
            "grid_auto_columns": null,
            "margin": null,
            "display": null,
            "left": null
          }
        },
        "18700cefacfa46ab8a9cbd267dde778a": {
          "model_module": "@jupyter-widgets/controls",
          "model_name": "ProgressStyleModel",
          "model_module_version": "1.5.0",
          "state": {
            "_view_name": "StyleView",
            "_model_name": "ProgressStyleModel",
            "description_width": "",
            "_view_module": "@jupyter-widgets/base",
            "_model_module_version": "1.5.0",
            "_view_count": null,
            "_view_module_version": "1.2.0",
            "bar_color": null,
            "_model_module": "@jupyter-widgets/controls"
          }
        },
        "0b2f028a63b5475c992130a1449863ba": {
          "model_module": "@jupyter-widgets/base",
          "model_name": "LayoutModel",
          "model_module_version": "1.2.0",
          "state": {
            "_view_name": "LayoutView",
            "grid_template_rows": null,
            "right": null,
            "justify_content": null,
            "_view_module": "@jupyter-widgets/base",
            "overflow": null,
            "_model_module_version": "1.2.0",
            "_view_count": null,
            "flex_flow": null,
            "width": null,
            "min_width": null,
            "border": null,
            "align_items": null,
            "bottom": null,
            "_model_module": "@jupyter-widgets/base",
            "top": null,
            "grid_column": null,
            "overflow_y": null,
            "overflow_x": null,
            "grid_auto_flow": null,
            "grid_area": null,
            "grid_template_columns": null,
            "flex": null,
            "_model_name": "LayoutModel",
            "justify_items": null,
            "grid_row": null,
            "max_height": null,
            "align_content": null,
            "visibility": null,
            "align_self": null,
            "height": null,
            "min_height": null,
            "padding": null,
            "grid_auto_rows": null,
            "grid_gap": null,
            "max_width": null,
            "order": null,
            "_view_module_version": "1.2.0",
            "grid_template_areas": null,
            "object_position": null,
            "object_fit": null,
            "grid_auto_columns": null,
            "margin": null,
            "display": null,
            "left": null
          }
        },
        "4fccbe5c38e84e568a48e1b547c5030c": {
          "model_module": "@jupyter-widgets/controls",
          "model_name": "DescriptionStyleModel",
          "model_module_version": "1.5.0",
          "state": {
            "_view_name": "StyleView",
            "_model_name": "DescriptionStyleModel",
            "description_width": "",
            "_view_module": "@jupyter-widgets/base",
            "_model_module_version": "1.5.0",
            "_view_count": null,
            "_view_module_version": "1.2.0",
            "_model_module": "@jupyter-widgets/controls"
          }
        },
        "2731d9156cae422a8cf71b9b223c6bbf": {
          "model_module": "@jupyter-widgets/base",
          "model_name": "LayoutModel",
          "model_module_version": "1.2.0",
          "state": {
            "_view_name": "LayoutView",
            "grid_template_rows": null,
            "right": null,
            "justify_content": null,
            "_view_module": "@jupyter-widgets/base",
            "overflow": null,
            "_model_module_version": "1.2.0",
            "_view_count": null,
            "flex_flow": null,
            "width": null,
            "min_width": null,
            "border": null,
            "align_items": null,
            "bottom": null,
            "_model_module": "@jupyter-widgets/base",
            "top": null,
            "grid_column": null,
            "overflow_y": null,
            "overflow_x": null,
            "grid_auto_flow": null,
            "grid_area": null,
            "grid_template_columns": null,
            "flex": null,
            "_model_name": "LayoutModel",
            "justify_items": null,
            "grid_row": null,
            "max_height": null,
            "align_content": null,
            "visibility": null,
            "align_self": null,
            "height": null,
            "min_height": null,
            "padding": null,
            "grid_auto_rows": null,
            "grid_gap": null,
            "max_width": null,
            "order": null,
            "_view_module_version": "1.2.0",
            "grid_template_areas": null,
            "object_position": null,
            "object_fit": null,
            "grid_auto_columns": null,
            "margin": null,
            "display": null,
            "left": null
          }
        },
        "943fb4a96a4144038bb51f957f752f63": {
          "model_module": "@jupyter-widgets/controls",
          "model_name": "HBoxModel",
          "model_module_version": "1.5.0",
          "state": {
            "_view_name": "HBoxView",
            "_dom_classes": [],
            "_model_name": "HBoxModel",
            "_view_module": "@jupyter-widgets/controls",
            "_model_module_version": "1.5.0",
            "_view_count": null,
            "_view_module_version": "1.5.0",
            "box_style": "",
            "layout": "IPY_MODEL_084949d1e5614e0980d8a6e537ebf3c2",
            "_model_module": "@jupyter-widgets/controls",
            "children": [
              "IPY_MODEL_3628f1b4d68c48fb809be4024703cea8",
              "IPY_MODEL_fe73f92d92cf409c94aee07360c3bbd8",
              "IPY_MODEL_a51f1787d9354ab3be23e2127249df65"
            ]
          }
        },
        "084949d1e5614e0980d8a6e537ebf3c2": {
          "model_module": "@jupyter-widgets/base",
          "model_name": "LayoutModel",
          "model_module_version": "1.2.0",
          "state": {
            "_view_name": "LayoutView",
            "grid_template_rows": null,
            "right": null,
            "justify_content": null,
            "_view_module": "@jupyter-widgets/base",
            "overflow": null,
            "_model_module_version": "1.2.0",
            "_view_count": null,
            "flex_flow": null,
            "width": null,
            "min_width": null,
            "border": null,
            "align_items": null,
            "bottom": null,
            "_model_module": "@jupyter-widgets/base",
            "top": null,
            "grid_column": null,
            "overflow_y": null,
            "overflow_x": null,
            "grid_auto_flow": null,
            "grid_area": null,
            "grid_template_columns": null,
            "flex": null,
            "_model_name": "LayoutModel",
            "justify_items": null,
            "grid_row": null,
            "max_height": null,
            "align_content": null,
            "visibility": null,
            "align_self": null,
            "height": null,
            "min_height": null,
            "padding": null,
            "grid_auto_rows": null,
            "grid_gap": null,
            "max_width": null,
            "order": null,
            "_view_module_version": "1.2.0",
            "grid_template_areas": null,
            "object_position": null,
            "object_fit": null,
            "grid_auto_columns": null,
            "margin": null,
            "display": null,
            "left": null
          }
        },
        "3628f1b4d68c48fb809be4024703cea8": {
          "model_module": "@jupyter-widgets/controls",
          "model_name": "HTMLModel",
          "model_module_version": "1.5.0",
          "state": {
            "_view_name": "HTMLView",
            "style": "IPY_MODEL_b3d6cc2539124b83ad3d0219607f6007",
            "_dom_classes": [],
            "description": "",
            "_model_name": "HTMLModel",
            "placeholder": "​",
            "_view_module": "@jupyter-widgets/controls",
            "_model_module_version": "1.5.0",
            "value": "100%",
            "_view_count": null,
            "_view_module_version": "1.5.0",
            "description_tooltip": null,
            "_model_module": "@jupyter-widgets/controls",
            "layout": "IPY_MODEL_fbc9373ed00a4f5792e075704eb5086e"
          }
        },
        "fe73f92d92cf409c94aee07360c3bbd8": {
          "model_module": "@jupyter-widgets/controls",
          "model_name": "FloatProgressModel",
          "model_module_version": "1.5.0",
          "state": {
            "_view_name": "ProgressView",
            "style": "IPY_MODEL_a0cb1250ea1c44a69912ec84cecd2d48",
            "_dom_classes": [],
            "description": "",
            "_model_name": "FloatProgressModel",
            "bar_style": "success",
            "max": 41555,
            "_view_module": "@jupyter-widgets/controls",
            "_model_module_version": "1.5.0",
            "value": 41555,
            "_view_count": null,
            "_view_module_version": "1.5.0",
            "orientation": "horizontal",
            "min": 0,
            "description_tooltip": null,
            "_model_module": "@jupyter-widgets/controls",
            "layout": "IPY_MODEL_738844bf30474c02955fae0dd48a9ae5"
          }
        },
        "a51f1787d9354ab3be23e2127249df65": {
          "model_module": "@jupyter-widgets/controls",
          "model_name": "HTMLModel",
          "model_module_version": "1.5.0",
          "state": {
            "_view_name": "HTMLView",
            "style": "IPY_MODEL_b9a6fe2507b8402ebeb86a25d8899bf6",
            "_dom_classes": [],
            "description": "",
            "_model_name": "HTMLModel",
            "placeholder": "​",
            "_view_module": "@jupyter-widgets/controls",
            "_model_module_version": "1.5.0",
            "value": " 41555/41555 [00:20&lt;00:00, 1095.70it/s]",
            "_view_count": null,
            "_view_module_version": "1.5.0",
            "description_tooltip": null,
            "_model_module": "@jupyter-widgets/controls",
            "layout": "IPY_MODEL_21940524a8a94ad9bfe551e20bdb39bb"
          }
        },
        "b3d6cc2539124b83ad3d0219607f6007": {
          "model_module": "@jupyter-widgets/controls",
          "model_name": "DescriptionStyleModel",
          "model_module_version": "1.5.0",
          "state": {
            "_view_name": "StyleView",
            "_model_name": "DescriptionStyleModel",
            "description_width": "",
            "_view_module": "@jupyter-widgets/base",
            "_model_module_version": "1.5.0",
            "_view_count": null,
            "_view_module_version": "1.2.0",
            "_model_module": "@jupyter-widgets/controls"
          }
        },
        "fbc9373ed00a4f5792e075704eb5086e": {
          "model_module": "@jupyter-widgets/base",
          "model_name": "LayoutModel",
          "model_module_version": "1.2.0",
          "state": {
            "_view_name": "LayoutView",
            "grid_template_rows": null,
            "right": null,
            "justify_content": null,
            "_view_module": "@jupyter-widgets/base",
            "overflow": null,
            "_model_module_version": "1.2.0",
            "_view_count": null,
            "flex_flow": null,
            "width": null,
            "min_width": null,
            "border": null,
            "align_items": null,
            "bottom": null,
            "_model_module": "@jupyter-widgets/base",
            "top": null,
            "grid_column": null,
            "overflow_y": null,
            "overflow_x": null,
            "grid_auto_flow": null,
            "grid_area": null,
            "grid_template_columns": null,
            "flex": null,
            "_model_name": "LayoutModel",
            "justify_items": null,
            "grid_row": null,
            "max_height": null,
            "align_content": null,
            "visibility": null,
            "align_self": null,
            "height": null,
            "min_height": null,
            "padding": null,
            "grid_auto_rows": null,
            "grid_gap": null,
            "max_width": null,
            "order": null,
            "_view_module_version": "1.2.0",
            "grid_template_areas": null,
            "object_position": null,
            "object_fit": null,
            "grid_auto_columns": null,
            "margin": null,
            "display": null,
            "left": null
          }
        },
        "a0cb1250ea1c44a69912ec84cecd2d48": {
          "model_module": "@jupyter-widgets/controls",
          "model_name": "ProgressStyleModel",
          "model_module_version": "1.5.0",
          "state": {
            "_view_name": "StyleView",
            "_model_name": "ProgressStyleModel",
            "description_width": "",
            "_view_module": "@jupyter-widgets/base",
            "_model_module_version": "1.5.0",
            "_view_count": null,
            "_view_module_version": "1.2.0",
            "bar_color": null,
            "_model_module": "@jupyter-widgets/controls"
          }
        },
        "738844bf30474c02955fae0dd48a9ae5": {
          "model_module": "@jupyter-widgets/base",
          "model_name": "LayoutModel",
          "model_module_version": "1.2.0",
          "state": {
            "_view_name": "LayoutView",
            "grid_template_rows": null,
            "right": null,
            "justify_content": null,
            "_view_module": "@jupyter-widgets/base",
            "overflow": null,
            "_model_module_version": "1.2.0",
            "_view_count": null,
            "flex_flow": null,
            "width": null,
            "min_width": null,
            "border": null,
            "align_items": null,
            "bottom": null,
            "_model_module": "@jupyter-widgets/base",
            "top": null,
            "grid_column": null,
            "overflow_y": null,
            "overflow_x": null,
            "grid_auto_flow": null,
            "grid_area": null,
            "grid_template_columns": null,
            "flex": null,
            "_model_name": "LayoutModel",
            "justify_items": null,
            "grid_row": null,
            "max_height": null,
            "align_content": null,
            "visibility": null,
            "align_self": null,
            "height": null,
            "min_height": null,
            "padding": null,
            "grid_auto_rows": null,
            "grid_gap": null,
            "max_width": null,
            "order": null,
            "_view_module_version": "1.2.0",
            "grid_template_areas": null,
            "object_position": null,
            "object_fit": null,
            "grid_auto_columns": null,
            "margin": null,
            "display": null,
            "left": null
          }
        },
        "b9a6fe2507b8402ebeb86a25d8899bf6": {
          "model_module": "@jupyter-widgets/controls",
          "model_name": "DescriptionStyleModel",
          "model_module_version": "1.5.0",
          "state": {
            "_view_name": "StyleView",
            "_model_name": "DescriptionStyleModel",
            "description_width": "",
            "_view_module": "@jupyter-widgets/base",
            "_model_module_version": "1.5.0",
            "_view_count": null,
            "_view_module_version": "1.2.0",
            "_model_module": "@jupyter-widgets/controls"
          }
        },
        "21940524a8a94ad9bfe551e20bdb39bb": {
          "model_module": "@jupyter-widgets/base",
          "model_name": "LayoutModel",
          "model_module_version": "1.2.0",
          "state": {
            "_view_name": "LayoutView",
            "grid_template_rows": null,
            "right": null,
            "justify_content": null,
            "_view_module": "@jupyter-widgets/base",
            "overflow": null,
            "_model_module_version": "1.2.0",
            "_view_count": null,
            "flex_flow": null,
            "width": null,
            "min_width": null,
            "border": null,
            "align_items": null,
            "bottom": null,
            "_model_module": "@jupyter-widgets/base",
            "top": null,
            "grid_column": null,
            "overflow_y": null,
            "overflow_x": null,
            "grid_auto_flow": null,
            "grid_area": null,
            "grid_template_columns": null,
            "flex": null,
            "_model_name": "LayoutModel",
            "justify_items": null,
            "grid_row": null,
            "max_height": null,
            "align_content": null,
            "visibility": null,
            "align_self": null,
            "height": null,
            "min_height": null,
            "padding": null,
            "grid_auto_rows": null,
            "grid_gap": null,
            "max_width": null,
            "order": null,
            "_view_module_version": "1.2.0",
            "grid_template_areas": null,
            "object_position": null,
            "object_fit": null,
            "grid_auto_columns": null,
            "margin": null,
            "display": null,
            "left": null
          }
        }
      }
    },
    "accelerator": "GPU"
  },
  "cells": [
    {
      "cell_type": "code",
      "source": [
        "!pip install pymystem3==0.1.10\n",
        "#а то гугл коллаб отказывается лемматизировать "
      ],
      "metadata": {
        "colab": {
          "base_uri": "https://localhost:8080/"
        },
        "id": "VIVUdB6vtVA0",
        "outputId": "bc8b7baf-cb4e-48ca-c168-c704d387bc7f"
      },
      "execution_count": null,
      "outputs": [
        {
          "output_type": "stream",
          "name": "stdout",
          "text": [
            "Requirement already satisfied: pymystem3==0.1.10 in /usr/local/lib/python3.7/dist-packages (0.1.10)\n",
            "Requirement already satisfied: requests in /usr/local/lib/python3.7/dist-packages (from pymystem3==0.1.10) (2.23.0)\n",
            "Requirement already satisfied: idna<3,>=2.5 in /usr/local/lib/python3.7/dist-packages (from requests->pymystem3==0.1.10) (2.10)\n",
            "Requirement already satisfied: chardet<4,>=3.0.2 in /usr/local/lib/python3.7/dist-packages (from requests->pymystem3==0.1.10) (3.0.4)\n",
            "Requirement already satisfied: certifi>=2017.4.17 in /usr/local/lib/python3.7/dist-packages (from requests->pymystem3==0.1.10) (2021.10.8)\n",
            "Requirement already satisfied: urllib3!=1.25.0,!=1.25.1,<1.26,>=1.21.1 in /usr/local/lib/python3.7/dist-packages (from requests->pymystem3==0.1.10) (1.24.3)\n"
          ]
        }
      ]
    },
    {
      "cell_type": "code",
      "execution_count": 4,
      "metadata": {
        "id": "3AOO14DkvlOJ",
        "colab": {
          "base_uri": "https://localhost:8080/"
        },
        "outputId": "d2380071-c7b3-46dc-810f-0abfb1620cda"
      },
      "outputs": [
        {
          "output_type": "stream",
          "name": "stdout",
          "text": [
            "[nltk_data] Downloading package stopwords to /root/nltk_data...\n",
            "[nltk_data]   Package stopwords is already up-to-date!\n",
            "[nltk_data] Downloading package punkt to /root/nltk_data...\n",
            "[nltk_data]   Package punkt is already up-to-date!\n"
          ]
        }
      ],
      "source": [
        "import pandas as pd\n",
        "import matplotlib.pyplot as plt\n",
        "import numpy as np\n",
        "import seaborn as sns\n",
        "from tqdm.auto import tqdm, trange\n",
        "from pymystem3 import Mystem\n",
        "import nltk\n",
        "from nltk.stem import *\n",
        "from nltk.corpus import stopwords\n",
        "from string import punctuation\n",
        "from nltk.tokenize import word_tokenize\n",
        "from nltk.stem.snowball import SnowballStemmer \n",
        "stemmer = SnowballStemmer(\"russian\") \n",
        "nltk.download('stopwords')\n",
        "nltk.download('punkt')\n",
        "from sklearn.naive_bayes import MultinomialNB\n",
        "from sklearn.pipeline import Pipeline\n",
        "from sklearn.feature_extraction.text import TfidfTransformer\n",
        "from sklearn.feature_extraction.text import CountVectorizer\n",
        "from sklearn.metrics import accuracy_score\n"
      ]
    },
    {
      "cell_type": "code",
      "source": [
        "#монтируем с гугл диска чтоб не закачивать постоянно\n",
        "from google.colab import drive\n",
        "drive.mount('/content/drive')"
      ],
      "metadata": {
        "colab": {
          "base_uri": "https://localhost:8080/"
        },
        "id": "EL0m_PeUvrRY",
        "outputId": "9b05d1c1-06b9-425b-d12f-0a167b42a094"
      },
      "execution_count": 5,
      "outputs": [
        {
          "output_type": "stream",
          "name": "stdout",
          "text": [
            "Drive already mounted at /content/drive; to attempt to forcibly remount, call drive.mount(\"/content/drive\", force_remount=True).\n"
          ]
        }
      ]
    },
    {
      "cell_type": "code",
      "source": [
        "df=pd.read_csv('/content/drive/MyDrive/Colab Notebooks/20170301.csv')"
      ],
      "metadata": {
        "id": "bQr659X8vw1f"
      },
      "execution_count": null,
      "outputs": []
    },
    {
      "cell_type": "markdown",
      "source": [
        "\n",
        "\n",
        "---\n",
        "\n",
        "\n",
        "### **1. изучение датасета новостей**\n",
        "\n",
        "\n",
        "---\n",
        "\n"
      ],
      "metadata": {
        "id": "xh5fBj3rSGZI"
      }
    },
    {
      "cell_type": "markdown",
      "source": [
        "Далее познакомимся с данными, со структурой датасета, посмотрим пропуски"
      ],
      "metadata": {
        "id": "dI9jMPgTyqpw"
      }
    },
    {
      "cell_type": "code",
      "source": [
        "df.info()"
      ],
      "metadata": {
        "colab": {
          "base_uri": "https://localhost:8080/"
        },
        "id": "gYoDsnLJwGSX",
        "outputId": "db2b3a55-c2d7-4f82-abcd-99a7aa247063"
      },
      "execution_count": null,
      "outputs": [
        {
          "output_type": "stream",
          "name": "stdout",
          "text": [
            "<class 'pandas.core.frame.DataFrame'>\n",
            "RangeIndex: 576383 entries, 0 to 576382\n",
            "Data columns (total 8 columns):\n",
            " #   Column       Non-Null Count   Dtype \n",
            "---  ------       --------------   ----- \n",
            " 0   u_id         576383 non-null  int64 \n",
            " 1   provider     576383 non-null  object\n",
            " 2   date_time    576383 non-null  object\n",
            " 3   title        576383 non-null  object\n",
            " 4   description  542805 non-null  object\n",
            " 5   link         576292 non-null  object\n",
            " 6   pubdate      576383 non-null  object\n",
            " 7   numfield     576383 non-null  int64 \n",
            "dtypes: int64(2), object(6)\n",
            "memory usage: 35.2+ MB\n"
          ]
        }
      ]
    },
    {
      "cell_type": "markdown",
      "source": [
        "в поле описания имеется очень много пропусков, здесь логично встсавить туда хотя бы краткое описание title"
      ],
      "metadata": {
        "id": "ZK6yOkc3yzIQ"
      }
    },
    {
      "cell_type": "code",
      "source": [
        "df.head()"
      ],
      "metadata": {
        "colab": {
          "base_uri": "https://localhost:8080/",
          "height": 336
        },
        "id": "HMMCbfAYwWnx",
        "outputId": "45c35a55-3eb8-45d8-b8b3-7028a10b44bb"
      },
      "execution_count": null,
      "outputs": [
        {
          "output_type": "execute_result",
          "data": {
            "text/html": [
              "\n",
              "  <div id=\"df-f0679744-f6df-4b48-ae2b-271645745c36\">\n",
              "    <div class=\"colab-df-container\">\n",
              "      <div>\n",
              "<style scoped>\n",
              "    .dataframe tbody tr th:only-of-type {\n",
              "        vertical-align: middle;\n",
              "    }\n",
              "\n",
              "    .dataframe tbody tr th {\n",
              "        vertical-align: top;\n",
              "    }\n",
              "\n",
              "    .dataframe thead th {\n",
              "        text-align: right;\n",
              "    }\n",
              "</style>\n",
              "<table border=\"1\" class=\"dataframe\">\n",
              "  <thead>\n",
              "    <tr style=\"text-align: right;\">\n",
              "      <th></th>\n",
              "      <th>u_id</th>\n",
              "      <th>provider</th>\n",
              "      <th>date_time</th>\n",
              "      <th>title</th>\n",
              "      <th>description</th>\n",
              "      <th>link</th>\n",
              "      <th>pubdate</th>\n",
              "      <th>numfield</th>\n",
              "    </tr>\n",
              "  </thead>\n",
              "  <tbody>\n",
              "    <tr>\n",
              "      <th>0</th>\n",
              "      <td>103451</td>\n",
              "      <td>washingtonpostcom_world[eng]</td>\n",
              "      <td>2017-01-17 20:15:49</td>\n",
              "      <td>\"$10,000 stuffed in a diplomat-s car.\" Moscow ...</td>\n",
              "      <td>Russia-s foreign minister said that United Sta...</td>\n",
              "      <td>https://www.washingtonpost.com/news/worldviews...</td>\n",
              "      <td>17.01.2017 20:15</td>\n",
              "      <td>3</td>\n",
              "    </tr>\n",
              "    <tr>\n",
              "      <th>1</th>\n",
              "      <td>211367</td>\n",
              "      <td>vsesmiru_business</td>\n",
              "      <td>2017-02-02 06:00:33</td>\n",
              "      <td>\"100 друзей\" Гродненского мясокомбината</td>\n",
              "      <td>Дизайнеры агентства Fabula Branding (Минск) пр...</td>\n",
              "      <td>http://www.vsesmi.ru/business/2017/02/02/321648/</td>\n",
              "      <td>02.02.2017 01:03</td>\n",
              "      <td>4</td>\n",
              "    </tr>\n",
              "    <tr>\n",
              "      <th>2</th>\n",
              "      <td>13559</td>\n",
              "      <td>mailru_common</td>\n",
              "      <td>2016-11-28 13:30:23</td>\n",
              "      <td>\"12-я партия - игра жизни не только Карякина, ...</td>\n",
              "      <td>&lt;p&gt;Победитель шахматной олимпиады 1998 гроссме...</td>\n",
              "      <td>https://sport.mail.ru/news/chess/27940207/</td>\n",
              "      <td>28.11.2016 13:22</td>\n",
              "      <td>4</td>\n",
              "    </tr>\n",
              "    <tr>\n",
              "      <th>3</th>\n",
              "      <td>17165</td>\n",
              "      <td>mailru_common</td>\n",
              "      <td>2016-11-28 21:15:25</td>\n",
              "      <td>\"37 мне только по паспорту\". Почему Лебедев не...</td>\n",
              "      <td>&lt;p&gt;Боксёры Денис Лебедев и Мурат Гассиев, встр...</td>\n",
              "      <td>https://sport.mail.ru/news/boxing/27946630/</td>\n",
              "      <td>28.11.2016 21:09</td>\n",
              "      <td>4</td>\n",
              "    </tr>\n",
              "    <tr>\n",
              "      <th>4</th>\n",
              "      <td>147533</td>\n",
              "      <td>mailru_polit</td>\n",
              "      <td>2017-01-24 10:15:32</td>\n",
              "      <td>\"5 канал\": Украина подала в ЕСПЧ пять исков пр...</td>\n",
              "      <td>&lt;p&gt;Речь идет о событиях в Крыму и Донбассе и н...</td>\n",
              "      <td>https://news.mail.ru/politics/28526323/</td>\n",
              "      <td>24.01.2017 10:04</td>\n",
              "      <td>4</td>\n",
              "    </tr>\n",
              "  </tbody>\n",
              "</table>\n",
              "</div>\n",
              "      <button class=\"colab-df-convert\" onclick=\"convertToInteractive('df-f0679744-f6df-4b48-ae2b-271645745c36')\"\n",
              "              title=\"Convert this dataframe to an interactive table.\"\n",
              "              style=\"display:none;\">\n",
              "        \n",
              "  <svg xmlns=\"http://www.w3.org/2000/svg\" height=\"24px\"viewBox=\"0 0 24 24\"\n",
              "       width=\"24px\">\n",
              "    <path d=\"M0 0h24v24H0V0z\" fill=\"none\"/>\n",
              "    <path d=\"M18.56 5.44l.94 2.06.94-2.06 2.06-.94-2.06-.94-.94-2.06-.94 2.06-2.06.94zm-11 1L8.5 8.5l.94-2.06 2.06-.94-2.06-.94L8.5 2.5l-.94 2.06-2.06.94zm10 10l.94 2.06.94-2.06 2.06-.94-2.06-.94-.94-2.06-.94 2.06-2.06.94z\"/><path d=\"M17.41 7.96l-1.37-1.37c-.4-.4-.92-.59-1.43-.59-.52 0-1.04.2-1.43.59L10.3 9.45l-7.72 7.72c-.78.78-.78 2.05 0 2.83L4 21.41c.39.39.9.59 1.41.59.51 0 1.02-.2 1.41-.59l7.78-7.78 2.81-2.81c.8-.78.8-2.07 0-2.86zM5.41 20L4 18.59l7.72-7.72 1.47 1.35L5.41 20z\"/>\n",
              "  </svg>\n",
              "      </button>\n",
              "      \n",
              "  <style>\n",
              "    .colab-df-container {\n",
              "      display:flex;\n",
              "      flex-wrap:wrap;\n",
              "      gap: 12px;\n",
              "    }\n",
              "\n",
              "    .colab-df-convert {\n",
              "      background-color: #E8F0FE;\n",
              "      border: none;\n",
              "      border-radius: 50%;\n",
              "      cursor: pointer;\n",
              "      display: none;\n",
              "      fill: #1967D2;\n",
              "      height: 32px;\n",
              "      padding: 0 0 0 0;\n",
              "      width: 32px;\n",
              "    }\n",
              "\n",
              "    .colab-df-convert:hover {\n",
              "      background-color: #E2EBFA;\n",
              "      box-shadow: 0px 1px 2px rgba(60, 64, 67, 0.3), 0px 1px 3px 1px rgba(60, 64, 67, 0.15);\n",
              "      fill: #174EA6;\n",
              "    }\n",
              "\n",
              "    [theme=dark] .colab-df-convert {\n",
              "      background-color: #3B4455;\n",
              "      fill: #D2E3FC;\n",
              "    }\n",
              "\n",
              "    [theme=dark] .colab-df-convert:hover {\n",
              "      background-color: #434B5C;\n",
              "      box-shadow: 0px 1px 3px 1px rgba(0, 0, 0, 0.15);\n",
              "      filter: drop-shadow(0px 1px 2px rgba(0, 0, 0, 0.3));\n",
              "      fill: #FFFFFF;\n",
              "    }\n",
              "  </style>\n",
              "\n",
              "      <script>\n",
              "        const buttonEl =\n",
              "          document.querySelector('#df-f0679744-f6df-4b48-ae2b-271645745c36 button.colab-df-convert');\n",
              "        buttonEl.style.display =\n",
              "          google.colab.kernel.accessAllowed ? 'block' : 'none';\n",
              "\n",
              "        async function convertToInteractive(key) {\n",
              "          const element = document.querySelector('#df-f0679744-f6df-4b48-ae2b-271645745c36');\n",
              "          const dataTable =\n",
              "            await google.colab.kernel.invokeFunction('convertToInteractive',\n",
              "                                                     [key], {});\n",
              "          if (!dataTable) return;\n",
              "\n",
              "          const docLinkHtml = 'Like what you see? Visit the ' +\n",
              "            '<a target=\"_blank\" href=https://colab.research.google.com/notebooks/data_table.ipynb>data table notebook</a>'\n",
              "            + ' to learn more about interactive tables.';\n",
              "          element.innerHTML = '';\n",
              "          dataTable['output_type'] = 'display_data';\n",
              "          await google.colab.output.renderOutput(dataTable, element);\n",
              "          const docLink = document.createElement('div');\n",
              "          docLink.innerHTML = docLinkHtml;\n",
              "          element.appendChild(docLink);\n",
              "        }\n",
              "      </script>\n",
              "    </div>\n",
              "  </div>\n",
              "  "
            ],
            "text/plain": [
              "     u_id                      provider  ...           pubdate numfield\n",
              "0  103451  washingtonpostcom_world[eng]  ...  17.01.2017 20:15        3\n",
              "1  211367             vsesmiru_business  ...  02.02.2017 01:03        4\n",
              "2   13559                 mailru_common  ...  28.11.2016 13:22        4\n",
              "3   17165                 mailru_common  ...  28.11.2016 21:09        4\n",
              "4  147533                  mailru_polit  ...  24.01.2017 10:04        4\n",
              "\n",
              "[5 rows x 8 columns]"
            ]
          },
          "metadata": {},
          "execution_count": 8
        }
      ]
    },
    {
      "cell_type": "code",
      "source": [
        "df['description']=df['description'].fillna(df['title'])\n"
      ],
      "metadata": {
        "id": "1-jzZFKdy9dJ"
      },
      "execution_count": null,
      "outputs": []
    },
    {
      "cell_type": "code",
      "source": [
        "df=df[df['link'].str.contains(\"business\") | df['link'].str.contains(\"finance\") | df['link'].str.contains(\"economy\")]\n"
      ],
      "metadata": {
        "id": "jrNWUFPsqQmB"
      },
      "execution_count": null,
      "outputs": []
    },
    {
      "cell_type": "code",
      "source": [
        "def detect_ru(row):\n",
        "  alphabet = {\"а\",\"б\",\"в\",\"г\",\"д\",\"е\",\"ё\",\"ж\",\"з\",\"и\",\"й\",\"к\",\"л\",\"м\",\"н\",\"о\",\n",
        "              \"п\",\"р\",\"с\",\"т\",\"у\",\"ф\",\"х\",\"ц\",\"ч\",\"ш\",\"щ\",\"ъ\",\"ы\",\"ь\",\"э\",\"ю\",\"я\"}\n",
        "\n",
        "  text = row['description']\n",
        "  return bool(alphabet.intersection(set(text.lower())))\n"
      ],
      "metadata": {
        "id": "gcDL-bN3tT4l"
      },
      "execution_count": null,
      "outputs": []
    },
    {
      "cell_type": "code",
      "source": [
        "df['Languagereveiw'] = df.apply(detect_ru, axis=1)"
      ],
      "metadata": {
        "id": "_8EZ92eyuazt"
      },
      "execution_count": null,
      "outputs": []
    },
    {
      "cell_type": "code",
      "source": [
        "df=df[df['Languagereveiw']==True ].reset_index(drop=True)\n",
        "df.head()"
      ],
      "metadata": {
        "id": "Bk-1a4eoyd35",
        "colab": {
          "base_uri": "https://localhost:8080/",
          "height": 389
        },
        "outputId": "ed163562-a980-4a91-99bf-378117741ec1"
      },
      "execution_count": null,
      "outputs": [
        {
          "output_type": "execute_result",
          "data": {
            "text/html": [
              "\n",
              "  <div id=\"df-97893a9b-5de6-4f1c-953e-8c7061189019\">\n",
              "    <div class=\"colab-df-container\">\n",
              "      <div>\n",
              "<style scoped>\n",
              "    .dataframe tbody tr th:only-of-type {\n",
              "        vertical-align: middle;\n",
              "    }\n",
              "\n",
              "    .dataframe tbody tr th {\n",
              "        vertical-align: top;\n",
              "    }\n",
              "\n",
              "    .dataframe thead th {\n",
              "        text-align: right;\n",
              "    }\n",
              "</style>\n",
              "<table border=\"1\" class=\"dataframe\">\n",
              "  <thead>\n",
              "    <tr style=\"text-align: right;\">\n",
              "      <th></th>\n",
              "      <th>u_id</th>\n",
              "      <th>provider</th>\n",
              "      <th>date_time</th>\n",
              "      <th>title</th>\n",
              "      <th>description</th>\n",
              "      <th>link</th>\n",
              "      <th>pubdate</th>\n",
              "      <th>numfield</th>\n",
              "      <th>Languagereveiw</th>\n",
              "    </tr>\n",
              "  </thead>\n",
              "  <tbody>\n",
              "    <tr>\n",
              "      <th>0</th>\n",
              "      <td>211367</td>\n",
              "      <td>vsesmiru_business</td>\n",
              "      <td>2017-02-02 06:00:33</td>\n",
              "      <td>\"100 друзей\" Гродненского мясокомбината</td>\n",
              "      <td>Дизайнеры агентства Fabula Branding (Минск) пр...</td>\n",
              "      <td>http://www.vsesmi.ru/business/2017/02/02/321648/</td>\n",
              "      <td>02.02.2017 01:03</td>\n",
              "      <td>4</td>\n",
              "      <td>True</td>\n",
              "    </tr>\n",
              "    <tr>\n",
              "      <th>1</th>\n",
              "      <td>353361</td>\n",
              "      <td>vsesmiru_business</td>\n",
              "      <td>2017-02-24 09:00:34</td>\n",
              "      <td>\"ArcelorMittal Кривой Рог\" инициировал антидем...</td>\n",
              "      <td>В течение 30 дней, с даты публикации сообщения...</td>\n",
              "      <td>http://www.vsesmi.ru/business/2017/02/24/385699/</td>\n",
              "      <td>24.02.2017 08:31</td>\n",
              "      <td>4</td>\n",
              "      <td>True</td>\n",
              "    </tr>\n",
              "    <tr>\n",
              "      <th>2</th>\n",
              "      <td>65369</td>\n",
              "      <td>newrucom_common</td>\n",
              "      <td>2016-12-05 20:30:06</td>\n",
              "      <td>\"Абсолютно никчемный аргумент\": Путин прокомме...</td>\n",
              "      <td>Глава государства назвал совершенно не имеющей...</td>\n",
              "      <td>http://www.newsru.com/finance/05dec2016/gazpro...</td>\n",
              "      <td>05.12.2016 20:26</td>\n",
              "      <td>4</td>\n",
              "      <td>True</td>\n",
              "    </tr>\n",
              "    <tr>\n",
              "      <th>3</th>\n",
              "      <td>58879</td>\n",
              "      <td>vsesmiru_business</td>\n",
              "      <td>2017-01-11 07:45:35</td>\n",
              "      <td>\"Аврора\" со следующей недели открывает новый р...</td>\n",
              "      <td>Интерфакс-Россия, Новость:\\nАвиакомпания \"Авро...</td>\n",
              "      <td>http://www.vsesmi.ru/business/2017/01/11/256028/</td>\n",
              "      <td>11.01.2017 07:26</td>\n",
              "      <td>4</td>\n",
              "      <td>True</td>\n",
              "    </tr>\n",
              "    <tr>\n",
              "      <th>4</th>\n",
              "      <td>243101</td>\n",
              "      <td>vestifinance_common</td>\n",
              "      <td>2017-02-07 11:15:54</td>\n",
              "      <td>\"АвтоВАЗ\" наращивает продажи. Главное</td>\n",
              "      <td>Отечественный концерн по производству автомоби...</td>\n",
              "      <td>http://www.vestifinance.ru/videos/32121</td>\n",
              "      <td>07.02.2017 11:11</td>\n",
              "      <td>4</td>\n",
              "      <td>True</td>\n",
              "    </tr>\n",
              "  </tbody>\n",
              "</table>\n",
              "</div>\n",
              "      <button class=\"colab-df-convert\" onclick=\"convertToInteractive('df-97893a9b-5de6-4f1c-953e-8c7061189019')\"\n",
              "              title=\"Convert this dataframe to an interactive table.\"\n",
              "              style=\"display:none;\">\n",
              "        \n",
              "  <svg xmlns=\"http://www.w3.org/2000/svg\" height=\"24px\"viewBox=\"0 0 24 24\"\n",
              "       width=\"24px\">\n",
              "    <path d=\"M0 0h24v24H0V0z\" fill=\"none\"/>\n",
              "    <path d=\"M18.56 5.44l.94 2.06.94-2.06 2.06-.94-2.06-.94-.94-2.06-.94 2.06-2.06.94zm-11 1L8.5 8.5l.94-2.06 2.06-.94-2.06-.94L8.5 2.5l-.94 2.06-2.06.94zm10 10l.94 2.06.94-2.06 2.06-.94-2.06-.94-.94-2.06-.94 2.06-2.06.94z\"/><path d=\"M17.41 7.96l-1.37-1.37c-.4-.4-.92-.59-1.43-.59-.52 0-1.04.2-1.43.59L10.3 9.45l-7.72 7.72c-.78.78-.78 2.05 0 2.83L4 21.41c.39.39.9.59 1.41.59.51 0 1.02-.2 1.41-.59l7.78-7.78 2.81-2.81c.8-.78.8-2.07 0-2.86zM5.41 20L4 18.59l7.72-7.72 1.47 1.35L5.41 20z\"/>\n",
              "  </svg>\n",
              "      </button>\n",
              "      \n",
              "  <style>\n",
              "    .colab-df-container {\n",
              "      display:flex;\n",
              "      flex-wrap:wrap;\n",
              "      gap: 12px;\n",
              "    }\n",
              "\n",
              "    .colab-df-convert {\n",
              "      background-color: #E8F0FE;\n",
              "      border: none;\n",
              "      border-radius: 50%;\n",
              "      cursor: pointer;\n",
              "      display: none;\n",
              "      fill: #1967D2;\n",
              "      height: 32px;\n",
              "      padding: 0 0 0 0;\n",
              "      width: 32px;\n",
              "    }\n",
              "\n",
              "    .colab-df-convert:hover {\n",
              "      background-color: #E2EBFA;\n",
              "      box-shadow: 0px 1px 2px rgba(60, 64, 67, 0.3), 0px 1px 3px 1px rgba(60, 64, 67, 0.15);\n",
              "      fill: #174EA6;\n",
              "    }\n",
              "\n",
              "    [theme=dark] .colab-df-convert {\n",
              "      background-color: #3B4455;\n",
              "      fill: #D2E3FC;\n",
              "    }\n",
              "\n",
              "    [theme=dark] .colab-df-convert:hover {\n",
              "      background-color: #434B5C;\n",
              "      box-shadow: 0px 1px 3px 1px rgba(0, 0, 0, 0.15);\n",
              "      filter: drop-shadow(0px 1px 2px rgba(0, 0, 0, 0.3));\n",
              "      fill: #FFFFFF;\n",
              "    }\n",
              "  </style>\n",
              "\n",
              "      <script>\n",
              "        const buttonEl =\n",
              "          document.querySelector('#df-97893a9b-5de6-4f1c-953e-8c7061189019 button.colab-df-convert');\n",
              "        buttonEl.style.display =\n",
              "          google.colab.kernel.accessAllowed ? 'block' : 'none';\n",
              "\n",
              "        async function convertToInteractive(key) {\n",
              "          const element = document.querySelector('#df-97893a9b-5de6-4f1c-953e-8c7061189019');\n",
              "          const dataTable =\n",
              "            await google.colab.kernel.invokeFunction('convertToInteractive',\n",
              "                                                     [key], {});\n",
              "          if (!dataTable) return;\n",
              "\n",
              "          const docLinkHtml = 'Like what you see? Visit the ' +\n",
              "            '<a target=\"_blank\" href=https://colab.research.google.com/notebooks/data_table.ipynb>data table notebook</a>'\n",
              "            + ' to learn more about interactive tables.';\n",
              "          element.innerHTML = '';\n",
              "          dataTable['output_type'] = 'display_data';\n",
              "          await google.colab.output.renderOutput(dataTable, element);\n",
              "          const docLink = document.createElement('div');\n",
              "          docLink.innerHTML = docLinkHtml;\n",
              "          element.appendChild(docLink);\n",
              "        }\n",
              "      </script>\n",
              "    </div>\n",
              "  </div>\n",
              "  "
            ],
            "text/plain": [
              "     u_id             provider  ... numfield Languagereveiw\n",
              "0  211367    vsesmiru_business  ...        4           True\n",
              "1  353361    vsesmiru_business  ...        4           True\n",
              "2   65369      newrucom_common  ...        4           True\n",
              "3   58879    vsesmiru_business  ...        4           True\n",
              "4  243101  vestifinance_common  ...        4           True\n",
              "\n",
              "[5 rows x 9 columns]"
            ]
          },
          "metadata": {},
          "execution_count": 11
        }
      ]
    },
    {
      "cell_type": "code",
      "source": [
        "df.info()"
      ],
      "metadata": {
        "id": "gurkJWpIzIJY",
        "colab": {
          "base_uri": "https://localhost:8080/"
        },
        "outputId": "d0aa8770-7f6c-4562-df59-6cfe9fe416fb"
      },
      "execution_count": null,
      "outputs": [
        {
          "output_type": "stream",
          "name": "stdout",
          "text": [
            "<class 'pandas.core.frame.DataFrame'>\n",
            "RangeIndex: 37243 entries, 0 to 37242\n",
            "Data columns (total 9 columns):\n",
            " #   Column          Non-Null Count  Dtype \n",
            "---  ------          --------------  ----- \n",
            " 0   u_id            37243 non-null  int64 \n",
            " 1   provider        37243 non-null  object\n",
            " 2   date_time       37243 non-null  object\n",
            " 3   title           37243 non-null  object\n",
            " 4   description     37243 non-null  object\n",
            " 5   link            37243 non-null  object\n",
            " 6   pubdate         37243 non-null  object\n",
            " 7   numfield        37243 non-null  int64 \n",
            " 8   Languagereveiw  37243 non-null  bool  \n",
            "dtypes: bool(1), int64(2), object(6)\n",
            "memory usage: 2.3+ MB\n"
          ]
        }
      ]
    },
    {
      "cell_type": "code",
      "source": [
        "df.duplicated().sum()"
      ],
      "metadata": {
        "colab": {
          "base_uri": "https://localhost:8080/"
        },
        "id": "oGS8DnRYAh2S",
        "outputId": "c804ea93-6183-4f08-c88d-2610f81bb21f"
      },
      "execution_count": null,
      "outputs": [
        {
          "output_type": "execute_result",
          "data": {
            "text/plain": [
              "0"
            ]
          },
          "metadata": {},
          "execution_count": 13
        }
      ]
    },
    {
      "cell_type": "code",
      "source": [
        "#df=df[:2150]"
      ],
      "metadata": {
        "id": "87Ta0Ab3ytz2"
      },
      "execution_count": null,
      "outputs": []
    },
    {
      "cell_type": "code",
      "source": [
        "dout=df['description']"
      ],
      "metadata": {
        "id": "NBH6KCAN1ZXp"
      },
      "execution_count": null,
      "outputs": []
    },
    {
      "cell_type": "code",
      "source": [
        "dout.duplicated().sum()"
      ],
      "metadata": {
        "id": "dIDYPxBt1Iev",
        "colab": {
          "base_uri": "https://localhost:8080/",
          "height": 167
        },
        "outputId": "b77d1ec7-71b5-4560-8bd2-76ec97e5816c"
      },
      "execution_count": null,
      "outputs": [
        {
          "output_type": "error",
          "ename": "NameError",
          "evalue": "ignored",
          "traceback": [
            "\u001b[0;31m---------------------------------------------------------------------------\u001b[0m",
            "\u001b[0;31mNameError\u001b[0m                                 Traceback (most recent call last)",
            "\u001b[0;32m<ipython-input-45-efae4ec9cc04>\u001b[0m in \u001b[0;36m<module>\u001b[0;34m()\u001b[0m\n\u001b[0;32m----> 1\u001b[0;31m \u001b[0mdout\u001b[0m\u001b[0;34m.\u001b[0m\u001b[0mduplicated\u001b[0m\u001b[0;34m(\u001b[0m\u001b[0;34m)\u001b[0m\u001b[0;34m.\u001b[0m\u001b[0msum\u001b[0m\u001b[0;34m(\u001b[0m\u001b[0;34m)\u001b[0m\u001b[0;34m\u001b[0m\u001b[0;34m\u001b[0m\u001b[0m\n\u001b[0m",
            "\u001b[0;31mNameError\u001b[0m: name 'dout' is not defined"
          ]
        }
      ]
    },
    {
      "cell_type": "code",
      "source": [
        "dout = dout.drop_duplicates()"
      ],
      "metadata": {
        "id": "wQQUGTYP1ixJ"
      },
      "execution_count": null,
      "outputs": []
    },
    {
      "cell_type": "code",
      "source": [
        "dout.describe()"
      ],
      "metadata": {
        "id": "7k5t454x1isP"
      },
      "execution_count": null,
      "outputs": []
    },
    {
      "cell_type": "code",
      "source": [
        "dout.to_csv(\"descr.csv\", index=False)"
      ],
      "metadata": {
        "id": "eBwB7lu9yzKn"
      },
      "execution_count": null,
      "outputs": []
    },
    {
      "cell_type": "code",
      "source": [
        "dout.head(15)"
      ],
      "metadata": {
        "id": "VZvV8WXT2TNH"
      },
      "execution_count": null,
      "outputs": []
    },
    {
      "cell_type": "code",
      "source": [
        "from google.colab import files\n",
        "files.download(\"descr.csv\")"
      ],
      "metadata": {
        "id": "kkDNnSQ5y9R3"
      },
      "execution_count": null,
      "outputs": []
    },
    {
      "cell_type": "markdown",
      "source": [
        "**!!!СЕЙЧАС ТУТ и  РАЗМЕЧАЮ вручную 2000 примеров, беру только русские новости, иначе нереал**"
      ],
      "metadata": {
        "id": "49w-P1vX0ve3"
      }
    },
    {
      "cell_type": "markdown",
      "source": [
        "\n",
        "\n",
        "---\n",
        "\n",
        "\n",
        "### **2. Подготовка обучающего датасета**\n",
        "\n",
        "---\n",
        "\n"
      ],
      "metadata": {
        "id": "dL3AzH1rR3X_"
      }
    },
    {
      "cell_type": "code",
      "source": [
        "df_train=pd.read_csv('/content/drive/MyDrive/Colab Notebooks/descr_labeled.csv',sep='I',error_bad_lines=False)"
      ],
      "metadata": {
        "id": "Mc4oRbSTkimP",
        "colab": {
          "base_uri": "https://localhost:8080/"
        },
        "outputId": "dd09125f-efb1-4695-adfa-f0613dd8b050"
      },
      "execution_count": null,
      "outputs": [
        {
          "output_type": "stream",
          "name": "stderr",
          "text": [
            "/usr/local/lib/python3.7/dist-packages/IPython/core/interactiveshell.py:2882: FutureWarning: The error_bad_lines argument has been deprecated and will be removed in a future version.\n",
            "\n",
            "\n",
            "  exec(code_obj, self.user_global_ns, self.user_ns)\n"
          ]
        }
      ]
    },
    {
      "cell_type": "code",
      "source": [
        "df_train.head(20)"
      ],
      "metadata": {
        "colab": {
          "base_uri": "https://localhost:8080/",
          "height": 817
        },
        "id": "1UTvpsWElyN2",
        "outputId": "9bd8e255-a58f-418b-a233-d506c3d07671"
      },
      "execution_count": null,
      "outputs": [
        {
          "output_type": "execute_result",
          "data": {
            "text/html": [
              "\n",
              "  <div id=\"df-3e80a619-c413-4048-a8c5-4e5468ba00f8\">\n",
              "    <div class=\"colab-df-container\">\n",
              "      <div>\n",
              "<style scoped>\n",
              "    .dataframe tbody tr th:only-of-type {\n",
              "        vertical-align: middle;\n",
              "    }\n",
              "\n",
              "    .dataframe tbody tr th {\n",
              "        vertical-align: top;\n",
              "    }\n",
              "\n",
              "    .dataframe thead th {\n",
              "        text-align: right;\n",
              "    }\n",
              "</style>\n",
              "<table border=\"1\" class=\"dataframe\">\n",
              "  <thead>\n",
              "    <tr style=\"text-align: right;\">\n",
              "      <th></th>\n",
              "      <th>description</th>\n",
              "      <th>label</th>\n",
              "    </tr>\n",
              "  </thead>\n",
              "  <tbody>\n",
              "    <tr>\n",
              "      <th>0</th>\n",
              "      <td>Дизайнеры агентства Fabula Branding (Минск) пр...</td>\n",
              "      <td>1</td>\n",
              "    </tr>\n",
              "    <tr>\n",
              "      <th>1</th>\n",
              "      <td>В течение 30 дней, с даты публикации сообщения...</td>\n",
              "      <td>2</td>\n",
              "    </tr>\n",
              "    <tr>\n",
              "      <th>2</th>\n",
              "      <td>Глава государства назвал совершенно не имеющей...</td>\n",
              "      <td>2</td>\n",
              "    </tr>\n",
              "    <tr>\n",
              "      <th>3</th>\n",
              "      <td>Интерфакс-Россия, Новость: Авиакомпания \"Аврор...</td>\n",
              "      <td>3</td>\n",
              "    </tr>\n",
              "    <tr>\n",
              "      <th>4</th>\n",
              "      <td>Отечественный концерн по производству автомоби...</td>\n",
              "      <td>4</td>\n",
              "    </tr>\n",
              "    <tr>\n",
              "      <th>5</th>\n",
              "      <td>\"АвтоВАЗ\" начал продажи автомобилей Lada Vesta...</td>\n",
              "      <td>3</td>\n",
              "    </tr>\n",
              "    <tr>\n",
              "      <th>6</th>\n",
              "      <td>Совет директоров \"АвтоВАЗа\" принял стратегичес...</td>\n",
              "      <td>4</td>\n",
              "    </tr>\n",
              "    <tr>\n",
              "      <th>7</th>\n",
              "      <td>\"АвтоВАЗ\" завершил размещение дополнительных а...</td>\n",
              "      <td>3</td>\n",
              "    </tr>\n",
              "    <tr>\n",
              "      <th>8</th>\n",
              "      <td>\"АвтоВАЗ\" в январе увеличил продажи на 4,6% в ...</td>\n",
              "      <td>4</td>\n",
              "    </tr>\n",
              "    <tr>\n",
              "      <th>9</th>\n",
              "      <td>\"АвтоВАЗ\" сократит 740 человек (2% сотрудников...</td>\n",
              "      <td>5</td>\n",
              "    </tr>\n",
              "    <tr>\n",
              "      <th>10</th>\n",
              "      <td>Картер Пейдж - человек, которого называют бывш...</td>\n",
              "      <td>3</td>\n",
              "    </tr>\n",
              "    <tr>\n",
              "      <th>11</th>\n",
              "      <td>Группа компаний «Агро-Белогорье» запустила тре...</td>\n",
              "      <td>4</td>\n",
              "    </tr>\n",
              "    <tr>\n",
              "      <th>12</th>\n",
              "      <td>\"Ак Барс\": Вопрос объединения с Татфондбанком ...</td>\n",
              "      <td>3</td>\n",
              "    </tr>\n",
              "    <tr>\n",
              "      <th>13</th>\n",
              "      <td>О перспективах деятельности, дивидендной полит...</td>\n",
              "      <td>3</td>\n",
              "    </tr>\n",
              "    <tr>\n",
              "      <th>14</th>\n",
              "      <td>В январе 2017 года ОАО «Алтайский маслосырзаво...</td>\n",
              "      <td>4</td>\n",
              "    </tr>\n",
              "    <tr>\n",
              "      <th>15</th>\n",
              "      <td>Кризис не помешал «Альфа-групп» увеличить акти...</td>\n",
              "      <td>4</td>\n",
              "    </tr>\n",
              "    <tr>\n",
              "      <th>16</th>\n",
              "      <td>Дональда Трампа обвиняют в протекционизме. Но ...</td>\n",
              "      <td>3</td>\n",
              "    </tr>\n",
              "    <tr>\n",
              "      <th>17</th>\n",
              "      <td>Завод мощностью 42 млрд куб. м газа в год буде...</td>\n",
              "      <td>3</td>\n",
              "    </tr>\n",
              "    <tr>\n",
              "      <th>18</th>\n",
              "      <td>ООО \"АПП \"Ставрополье\" при содействии Корпорац...</td>\n",
              "      <td>4</td>\n",
              "    </tr>\n",
              "    <tr>\n",
              "      <th>19</th>\n",
              "      <td>В холдинге «Ариант» подвели итоги производства...</td>\n",
              "      <td>4</td>\n",
              "    </tr>\n",
              "  </tbody>\n",
              "</table>\n",
              "</div>\n",
              "      <button class=\"colab-df-convert\" onclick=\"convertToInteractive('df-3e80a619-c413-4048-a8c5-4e5468ba00f8')\"\n",
              "              title=\"Convert this dataframe to an interactive table.\"\n",
              "              style=\"display:none;\">\n",
              "        \n",
              "  <svg xmlns=\"http://www.w3.org/2000/svg\" height=\"24px\"viewBox=\"0 0 24 24\"\n",
              "       width=\"24px\">\n",
              "    <path d=\"M0 0h24v24H0V0z\" fill=\"none\"/>\n",
              "    <path d=\"M18.56 5.44l.94 2.06.94-2.06 2.06-.94-2.06-.94-.94-2.06-.94 2.06-2.06.94zm-11 1L8.5 8.5l.94-2.06 2.06-.94-2.06-.94L8.5 2.5l-.94 2.06-2.06.94zm10 10l.94 2.06.94-2.06 2.06-.94-2.06-.94-.94-2.06-.94 2.06-2.06.94z\"/><path d=\"M17.41 7.96l-1.37-1.37c-.4-.4-.92-.59-1.43-.59-.52 0-1.04.2-1.43.59L10.3 9.45l-7.72 7.72c-.78.78-.78 2.05 0 2.83L4 21.41c.39.39.9.59 1.41.59.51 0 1.02-.2 1.41-.59l7.78-7.78 2.81-2.81c.8-.78.8-2.07 0-2.86zM5.41 20L4 18.59l7.72-7.72 1.47 1.35L5.41 20z\"/>\n",
              "  </svg>\n",
              "      </button>\n",
              "      \n",
              "  <style>\n",
              "    .colab-df-container {\n",
              "      display:flex;\n",
              "      flex-wrap:wrap;\n",
              "      gap: 12px;\n",
              "    }\n",
              "\n",
              "    .colab-df-convert {\n",
              "      background-color: #E8F0FE;\n",
              "      border: none;\n",
              "      border-radius: 50%;\n",
              "      cursor: pointer;\n",
              "      display: none;\n",
              "      fill: #1967D2;\n",
              "      height: 32px;\n",
              "      padding: 0 0 0 0;\n",
              "      width: 32px;\n",
              "    }\n",
              "\n",
              "    .colab-df-convert:hover {\n",
              "      background-color: #E2EBFA;\n",
              "      box-shadow: 0px 1px 2px rgba(60, 64, 67, 0.3), 0px 1px 3px 1px rgba(60, 64, 67, 0.15);\n",
              "      fill: #174EA6;\n",
              "    }\n",
              "\n",
              "    [theme=dark] .colab-df-convert {\n",
              "      background-color: #3B4455;\n",
              "      fill: #D2E3FC;\n",
              "    }\n",
              "\n",
              "    [theme=dark] .colab-df-convert:hover {\n",
              "      background-color: #434B5C;\n",
              "      box-shadow: 0px 1px 3px 1px rgba(0, 0, 0, 0.15);\n",
              "      filter: drop-shadow(0px 1px 2px rgba(0, 0, 0, 0.3));\n",
              "      fill: #FFFFFF;\n",
              "    }\n",
              "  </style>\n",
              "\n",
              "      <script>\n",
              "        const buttonEl =\n",
              "          document.querySelector('#df-3e80a619-c413-4048-a8c5-4e5468ba00f8 button.colab-df-convert');\n",
              "        buttonEl.style.display =\n",
              "          google.colab.kernel.accessAllowed ? 'block' : 'none';\n",
              "\n",
              "        async function convertToInteractive(key) {\n",
              "          const element = document.querySelector('#df-3e80a619-c413-4048-a8c5-4e5468ba00f8');\n",
              "          const dataTable =\n",
              "            await google.colab.kernel.invokeFunction('convertToInteractive',\n",
              "                                                     [key], {});\n",
              "          if (!dataTable) return;\n",
              "\n",
              "          const docLinkHtml = 'Like what you see? Visit the ' +\n",
              "            '<a target=\"_blank\" href=https://colab.research.google.com/notebooks/data_table.ipynb>data table notebook</a>'\n",
              "            + ' to learn more about interactive tables.';\n",
              "          element.innerHTML = '';\n",
              "          dataTable['output_type'] = 'display_data';\n",
              "          await google.colab.output.renderOutput(dataTable, element);\n",
              "          const docLink = document.createElement('div');\n",
              "          docLink.innerHTML = docLinkHtml;\n",
              "          element.appendChild(docLink);\n",
              "        }\n",
              "      </script>\n",
              "    </div>\n",
              "  </div>\n",
              "  "
            ],
            "text/plain": [
              "                                          description  label\n",
              "0   Дизайнеры агентства Fabula Branding (Минск) пр...      1\n",
              "1   В течение 30 дней, с даты публикации сообщения...      2\n",
              "2   Глава государства назвал совершенно не имеющей...      2\n",
              "3   Интерфакс-Россия, Новость: Авиакомпания \"Аврор...      3\n",
              "4   Отечественный концерн по производству автомоби...      4\n",
              "5   \"АвтоВАЗ\" начал продажи автомобилей Lada Vesta...      3\n",
              "6   Совет директоров \"АвтоВАЗа\" принял стратегичес...      4\n",
              "7   \"АвтоВАЗ\" завершил размещение дополнительных а...      3\n",
              "8   \"АвтоВАЗ\" в январе увеличил продажи на 4,6% в ...      4\n",
              "9   \"АвтоВАЗ\" сократит 740 человек (2% сотрудников...      5\n",
              "10  Картер Пейдж - человек, которого называют бывш...      3\n",
              "11  Группа компаний «Агро-Белогорье» запустила тре...      4\n",
              "12  \"Ак Барс\": Вопрос объединения с Татфондбанком ...      3\n",
              "13  О перспективах деятельности, дивидендной полит...      3\n",
              "14  В январе 2017 года ОАО «Алтайский маслосырзаво...      4\n",
              "15  Кризис не помешал «Альфа-групп» увеличить акти...      4\n",
              "16  Дональда Трампа обвиняют в протекционизме. Но ...      3\n",
              "17  Завод мощностью 42 млрд куб. м газа в год буде...      3\n",
              "18  ООО \"АПП \"Ставрополье\" при содействии Корпорац...      4\n",
              "19  В холдинге «Ариант» подвели итоги производства...      4"
            ]
          },
          "metadata": {},
          "execution_count": 11
        }
      ]
    },
    {
      "cell_type": "code",
      "source": [
        "df_train.tail(10)"
      ],
      "metadata": {
        "colab": {
          "base_uri": "https://localhost:8080/",
          "height": 453
        },
        "id": "oo5Rv5qcoL6W",
        "outputId": "d2d8843e-875c-4afa-91b8-f0b75205d2ea"
      },
      "execution_count": null,
      "outputs": [
        {
          "output_type": "execute_result",
          "data": {
            "text/html": [
              "\n",
              "  <div id=\"df-b685f474-58b3-43dc-b956-4000c86a8d58\">\n",
              "    <div class=\"colab-df-container\">\n",
              "      <div>\n",
              "<style scoped>\n",
              "    .dataframe tbody tr th:only-of-type {\n",
              "        vertical-align: middle;\n",
              "    }\n",
              "\n",
              "    .dataframe tbody tr th {\n",
              "        vertical-align: top;\n",
              "    }\n",
              "\n",
              "    .dataframe thead th {\n",
              "        text-align: right;\n",
              "    }\n",
              "</style>\n",
              "<table border=\"1\" class=\"dataframe\">\n",
              "  <thead>\n",
              "    <tr style=\"text-align: right;\">\n",
              "      <th></th>\n",
              "      <th>description</th>\n",
              "      <th>label</th>\n",
              "    </tr>\n",
              "  </thead>\n",
              "  <tbody>\n",
              "    <tr>\n",
              "      <th>2059</th>\n",
              "      <td>Шведский концерн IKEA, которому принадлежит кр...</td>\n",
              "      <td>3</td>\n",
              "    </tr>\n",
              "    <tr>\n",
              "      <th>2060</th>\n",
              "      <td>Шведская компания IKEA выплатит $50 млн в каче...</td>\n",
              "      <td>2</td>\n",
              "    </tr>\n",
              "    <tr>\n",
              "      <th>2061</th>\n",
              "      <td>Компания IRI Investments Lietuva, контролируем...</td>\n",
              "      <td>3</td>\n",
              "    </tr>\n",
              "    <tr>\n",
              "      <th>2062</th>\n",
              "      <td>Краснинский суд Смоленской области арестовал с...</td>\n",
              "      <td>2</td>\n",
              "    </tr>\n",
              "    <tr>\n",
              "      <th>2063</th>\n",
              "      <td>Шведская компания IKEA не согласна с решением ...</td>\n",
              "      <td>2</td>\n",
              "    </tr>\n",
              "    <tr>\n",
              "      <th>2064</th>\n",
              "      <td>Шведская IKEA не будет строить торговый центр ...</td>\n",
              "      <td>3</td>\n",
              "    </tr>\n",
              "    <tr>\n",
              "      <th>2065</th>\n",
              "      <td>Шведская IKEA планирует выставить права на дол...</td>\n",
              "      <td>3</td>\n",
              "    </tr>\n",
              "    <tr>\n",
              "      <th>2066</th>\n",
              "      <td>Шведская компания IKEA намерена трудоустроить ...</td>\n",
              "      <td>3</td>\n",
              "    </tr>\n",
              "    <tr>\n",
              "      <th>2067</th>\n",
              "      <td>Шведский ритейлер IKEA направил обращение упол...</td>\n",
              "      <td>2</td>\n",
              "    </tr>\n",
              "    <tr>\n",
              "      <th>2068</th>\n",
              "      <td>Каждый пятый товар сети подешевеет на 15–20%</td>\n",
              "      <td>5</td>\n",
              "    </tr>\n",
              "  </tbody>\n",
              "</table>\n",
              "</div>\n",
              "      <button class=\"colab-df-convert\" onclick=\"convertToInteractive('df-b685f474-58b3-43dc-b956-4000c86a8d58')\"\n",
              "              title=\"Convert this dataframe to an interactive table.\"\n",
              "              style=\"display:none;\">\n",
              "        \n",
              "  <svg xmlns=\"http://www.w3.org/2000/svg\" height=\"24px\"viewBox=\"0 0 24 24\"\n",
              "       width=\"24px\">\n",
              "    <path d=\"M0 0h24v24H0V0z\" fill=\"none\"/>\n",
              "    <path d=\"M18.56 5.44l.94 2.06.94-2.06 2.06-.94-2.06-.94-.94-2.06-.94 2.06-2.06.94zm-11 1L8.5 8.5l.94-2.06 2.06-.94-2.06-.94L8.5 2.5l-.94 2.06-2.06.94zm10 10l.94 2.06.94-2.06 2.06-.94-2.06-.94-.94-2.06-.94 2.06-2.06.94z\"/><path d=\"M17.41 7.96l-1.37-1.37c-.4-.4-.92-.59-1.43-.59-.52 0-1.04.2-1.43.59L10.3 9.45l-7.72 7.72c-.78.78-.78 2.05 0 2.83L4 21.41c.39.39.9.59 1.41.59.51 0 1.02-.2 1.41-.59l7.78-7.78 2.81-2.81c.8-.78.8-2.07 0-2.86zM5.41 20L4 18.59l7.72-7.72 1.47 1.35L5.41 20z\"/>\n",
              "  </svg>\n",
              "      </button>\n",
              "      \n",
              "  <style>\n",
              "    .colab-df-container {\n",
              "      display:flex;\n",
              "      flex-wrap:wrap;\n",
              "      gap: 12px;\n",
              "    }\n",
              "\n",
              "    .colab-df-convert {\n",
              "      background-color: #E8F0FE;\n",
              "      border: none;\n",
              "      border-radius: 50%;\n",
              "      cursor: pointer;\n",
              "      display: none;\n",
              "      fill: #1967D2;\n",
              "      height: 32px;\n",
              "      padding: 0 0 0 0;\n",
              "      width: 32px;\n",
              "    }\n",
              "\n",
              "    .colab-df-convert:hover {\n",
              "      background-color: #E2EBFA;\n",
              "      box-shadow: 0px 1px 2px rgba(60, 64, 67, 0.3), 0px 1px 3px 1px rgba(60, 64, 67, 0.15);\n",
              "      fill: #174EA6;\n",
              "    }\n",
              "\n",
              "    [theme=dark] .colab-df-convert {\n",
              "      background-color: #3B4455;\n",
              "      fill: #D2E3FC;\n",
              "    }\n",
              "\n",
              "    [theme=dark] .colab-df-convert:hover {\n",
              "      background-color: #434B5C;\n",
              "      box-shadow: 0px 1px 3px 1px rgba(0, 0, 0, 0.15);\n",
              "      filter: drop-shadow(0px 1px 2px rgba(0, 0, 0, 0.3));\n",
              "      fill: #FFFFFF;\n",
              "    }\n",
              "  </style>\n",
              "\n",
              "      <script>\n",
              "        const buttonEl =\n",
              "          document.querySelector('#df-b685f474-58b3-43dc-b956-4000c86a8d58 button.colab-df-convert');\n",
              "        buttonEl.style.display =\n",
              "          google.colab.kernel.accessAllowed ? 'block' : 'none';\n",
              "\n",
              "        async function convertToInteractive(key) {\n",
              "          const element = document.querySelector('#df-b685f474-58b3-43dc-b956-4000c86a8d58');\n",
              "          const dataTable =\n",
              "            await google.colab.kernel.invokeFunction('convertToInteractive',\n",
              "                                                     [key], {});\n",
              "          if (!dataTable) return;\n",
              "\n",
              "          const docLinkHtml = 'Like what you see? Visit the ' +\n",
              "            '<a target=\"_blank\" href=https://colab.research.google.com/notebooks/data_table.ipynb>data table notebook</a>'\n",
              "            + ' to learn more about interactive tables.';\n",
              "          element.innerHTML = '';\n",
              "          dataTable['output_type'] = 'display_data';\n",
              "          await google.colab.output.renderOutput(dataTable, element);\n",
              "          const docLink = document.createElement('div');\n",
              "          docLink.innerHTML = docLinkHtml;\n",
              "          element.appendChild(docLink);\n",
              "        }\n",
              "      </script>\n",
              "    </div>\n",
              "  </div>\n",
              "  "
            ],
            "text/plain": [
              "                                            description  label\n",
              "2059  Шведский концерн IKEA, которому принадлежит кр...      3\n",
              "2060  Шведская компания IKEA выплатит $50 млн в каче...      2\n",
              "2061  Компания IRI Investments Lietuva, контролируем...      3\n",
              "2062  Краснинский суд Смоленской области арестовал с...      2\n",
              "2063  Шведская компания IKEA не согласна с решением ...      2\n",
              "2064  Шведская IKEA не будет строить торговый центр ...      3\n",
              "2065  Шведская IKEA планирует выставить права на дол...      3\n",
              "2066  Шведская компания IKEA намерена трудоустроить ...      3\n",
              "2067  Шведский ритейлер IKEA направил обращение упол...      2\n",
              "2068       Каждый пятый товар сети подешевеет на 15–20%      5"
            ]
          },
          "metadata": {},
          "execution_count": 15
        }
      ]
    },
    {
      "cell_type": "markdown",
      "source": [
        "разметили вручную новости в программе CSVpad \n"
      ],
      "metadata": {
        "id": "WuxWXqRanyuW"
      }
    },
    {
      "cell_type": "markdown",
      "source": [
        "метки ставятся следующим образом  \n",
        "\n",
        "1 - реклама, позитивное ожидание чего-либо \n",
        "\n",
        " 2 - судебные дела, иски, претензии \n",
        "\n",
        "3 - информационное сообщение нейтральное по смыслу \n",
        "\n",
        "4 - рост продаж, производства, поставок - позитив по сути \n",
        "\n",
        "5 - уменьшение чего - либо, продаж, поставок и т.д.  - негатив короче"
      ],
      "metadata": {
        "id": "a0wU3kTMpJrA"
      }
    },
    {
      "cell_type": "code",
      "source": [
        "df_train['label'].value_counts()"
      ],
      "metadata": {
        "colab": {
          "base_uri": "https://localhost:8080/"
        },
        "id": "1h8P4yBtRN-w",
        "outputId": "963cb13f-5497-4745-f0ae-e292f2f62ca9"
      },
      "execution_count": null,
      "outputs": [
        {
          "output_type": "execute_result",
          "data": {
            "text/plain": [
              "3    1125\n",
              "1     464\n",
              "2     213\n",
              "4     155\n",
              "5     112\n",
              "Name: label, dtype: int64"
            ]
          },
          "metadata": {},
          "execution_count": 10
        }
      ]
    },
    {
      "cell_type": "markdown",
      "source": [
        "ок, теперь есть столбец текста новости и столбец метки новости! можно двигаться дальше"
      ],
      "metadata": {
        "id": "yFiFL3rAzMSY"
      }
    },
    {
      "cell_type": "markdown",
      "source": [
        "\n",
        "\n",
        "---\n",
        "\n",
        "\n",
        "### 3. Очищение текста новости\n",
        "\n",
        "\n",
        "---\n",
        "\n"
      ],
      "metadata": {
        "id": "y6fWxNsASii2"
      }
    },
    {
      "cell_type": "markdown",
      "source": [
        "удаляем стоп слова, обрабатываем текст"
      ],
      "metadata": {
        "id": "AA4x_pSA3OBw"
      }
    },
    {
      "cell_type": "code",
      "source": [
        "import string\n",
        "def remove_punctuation(text):\n",
        "    return \"\".join([ch if ch not in string.punctuation else ' ' for ch in text])\n",
        "\n",
        "def remove_numbers(text):\n",
        "    return ''.join([i if not i.isdigit() else ' ' for i in text])\n",
        "\n",
        "import re\n",
        "def remove_multiple_spaces(text):\n",
        "\treturn re.sub(r'\\s+', ' ', text, flags=re.I)\n",
        "\n",
        "\n",
        "mystem = Mystem() \n",
        "\n",
        "russian_stopwords = stopwords.words(\"russian\")\n",
        "russian_stopwords.extend(['…', '«', '»', '...'])\n",
        "def lemmatize_text(text):\n",
        "    tokens = mystem.lemmatize(text.lower())\n",
        "    tokens = [token for token in tokens if token not in russian_stopwords and token != \" \"]\n",
        "    text = \" \".join(tokens)\n",
        "    return text"
      ],
      "metadata": {
        "id": "012MRxRt3OuQ",
        "colab": {
          "base_uri": "https://localhost:8080/"
        },
        "outputId": "3872f2ff-f592-4c55-96be-9d5f699724f1"
      },
      "execution_count": null,
      "outputs": [
        {
          "output_type": "stream",
          "name": "stderr",
          "text": [
            "Installing mystem to /root/.local/bin/mystem from http://download.cdn.yandex.net/mystem/mystem-3.0-linux3.1-64bit.tar.gz\n"
          ]
        }
      ]
    },
    {
      "cell_type": "code",
      "source": [
        "#df_train=df.reset_index(drop = True)"
      ],
      "metadata": {
        "id": "nm_FRLG_7ps9"
      },
      "execution_count": null,
      "outputs": []
    },
    {
      "cell_type": "code",
      "source": [
        "preproccessing = lambda text: (remove_multiple_spaces(remove_numbers(remove_punctuation(text))))\n",
        "df_train['preproccessed'] = list(map(preproccessing, df_train['description']))"
      ],
      "metadata": {
        "id": "lwnjegljpBw3"
      },
      "execution_count": null,
      "outputs": []
    },
    {
      "cell_type": "markdown",
      "source": [
        "очистили текст от пунктуации, от пробелов, от цифр, и переведем в нижний регистр"
      ],
      "metadata": {
        "id": "t6an-AScTjyQ"
      }
    },
    {
      "cell_type": "code",
      "source": [
        "prep_text = [remove_multiple_spaces(remove_numbers(remove_punctuation(text.lower()))) for text in tqdm(df_train['description'])]"
      ],
      "metadata": {
        "colab": {
          "base_uri": "https://localhost:8080/",
          "height": 49,
          "referenced_widgets": [
            "44812ff1026b411ab79757344d0e8b51",
            "7719a77af10c4251bf3b43a343f5a5db",
            "3edfb4686e434ba18eafeeb4955ed93d",
            "ff536322b4b74d1f9470895a750e6c0e",
            "76affca57b084da387d7b410a8433886",
            "77c5f5436fb1465ea36436bc7a82b6b4",
            "5d78fbf8b45a449a86d2b50c53f518aa",
            "2efc79e51c2c4a7c821afbe837286c4b",
            "40e59c608d2346a2b3f16231e6ebf070",
            "bb47682cfec84137ba89b155ba3880d5",
            "ec302ec542e3496a8127c76456f81507"
          ]
        },
        "id": "CC3al6jbkXK9",
        "outputId": "87f18332-47f2-45ff-ca09-65161a9da041"
      },
      "execution_count": null,
      "outputs": [
        {
          "output_type": "display_data",
          "data": {
            "application/vnd.jupyter.widget-view+json": {
              "model_id": "44812ff1026b411ab79757344d0e8b51",
              "version_minor": 0,
              "version_major": 2
            },
            "text/plain": [
              "  0%|          | 0/2069 [00:00<?, ?it/s]"
            ]
          },
          "metadata": {}
        }
      ]
    },
    {
      "cell_type": "code",
      "source": [
        "len(prep_text)\n",
        "prep_text[0]"
      ],
      "metadata": {
        "colab": {
          "base_uri": "https://localhost:8080/",
          "height": 122
        },
        "id": "QcUB4Z2qkdHM",
        "outputId": "a5e9c341-7769-4052-f9e9-49dea45d675e"
      },
      "execution_count": null,
      "outputs": [
        {
          "output_type": "execute_result",
          "data": {
            "application/vnd.google.colaboratory.intrinsic+json": {
              "type": "string"
            },
            "text/plain": [
              "'дизайнеры агентства fabula branding минск провели комплексную разработку торговой марки колбасных изделий « друзей» нейминг логотип дизайн упаковки для оао «гродненский мясокомбинат» продукт – колбасные изделия среднего ценового сегмента сырокопченые сыровяленые вареные колбасы сосиски и сардельки регионы продаж – беларусь и россия ситуации потребления дружеские и семейные застолья пикник гости быстрый перекус целевая аудитория – мужчины и женщины лет решением стал теплый и яркий желтый цвет который хорошо отстраивает продукт на полке служит цветовым идентификатором торговой марки и вызывает приятные ассоциации с пикником дружескими посиделками на даче дружелюбную и приветливую стилистику дизайна поддерживает цифра « » образованная колбасками маркер категории а также рукописный шрифт логотипа '"
            ]
          },
          "metadata": {},
          "execution_count": 54
        }
      ]
    },
    {
      "cell_type": "code",
      "source": [
        "df_train['text_prep'] = prep_text"
      ],
      "metadata": {
        "id": "mptGQVdPkhSm"
      },
      "execution_count": null,
      "outputs": []
    },
    {
      "cell_type": "code",
      "source": [
        "df_train.head()"
      ],
      "metadata": {
        "colab": {
          "base_uri": "https://localhost:8080/",
          "height": 302
        },
        "id": "A6gFYmQgkjxG",
        "outputId": "21e8eead-85e3-4e2d-923e-cfe2f3b5669a"
      },
      "execution_count": null,
      "outputs": [
        {
          "output_type": "execute_result",
          "data": {
            "text/html": [
              "\n",
              "  <div id=\"df-c604712a-e390-4c33-accf-20d2d47d021a\">\n",
              "    <div class=\"colab-df-container\">\n",
              "      <div>\n",
              "<style scoped>\n",
              "    .dataframe tbody tr th:only-of-type {\n",
              "        vertical-align: middle;\n",
              "    }\n",
              "\n",
              "    .dataframe tbody tr th {\n",
              "        vertical-align: top;\n",
              "    }\n",
              "\n",
              "    .dataframe thead th {\n",
              "        text-align: right;\n",
              "    }\n",
              "</style>\n",
              "<table border=\"1\" class=\"dataframe\">\n",
              "  <thead>\n",
              "    <tr style=\"text-align: right;\">\n",
              "      <th></th>\n",
              "      <th>description</th>\n",
              "      <th>label</th>\n",
              "      <th>preproccessed</th>\n",
              "      <th>text_prep</th>\n",
              "    </tr>\n",
              "  </thead>\n",
              "  <tbody>\n",
              "    <tr>\n",
              "      <th>0</th>\n",
              "      <td>Дизайнеры агентства Fabula Branding (Минск) пр...</td>\n",
              "      <td>1</td>\n",
              "      <td>Дизайнеры агентства Fabula Branding Минск пров...</td>\n",
              "      <td>дизайнеры агентства fabula branding минск пров...</td>\n",
              "    </tr>\n",
              "    <tr>\n",
              "      <th>1</th>\n",
              "      <td>В течение 30 дней, с даты публикации сообщения...</td>\n",
              "      <td>2</td>\n",
              "      <td>В течение дней с даты публикации сообщения в У...</td>\n",
              "      <td>в течение дней с даты публикации сообщения в у...</td>\n",
              "    </tr>\n",
              "    <tr>\n",
              "      <th>2</th>\n",
              "      <td>Глава государства назвал совершенно не имеющей...</td>\n",
              "      <td>2</td>\n",
              "      <td>Глава государства назвал совершенно не имеющей...</td>\n",
              "      <td>глава государства назвал совершенно не имеющей...</td>\n",
              "    </tr>\n",
              "    <tr>\n",
              "      <th>3</th>\n",
              "      <td>Интерфакс-Россия, Новость: Авиакомпания \"Аврор...</td>\n",
              "      <td>3</td>\n",
              "      <td>Интерфакс Россия Новость Авиакомпания Аврора с...</td>\n",
              "      <td>интерфакс россия новость авиакомпания аврора с...</td>\n",
              "    </tr>\n",
              "    <tr>\n",
              "      <th>4</th>\n",
              "      <td>Отечественный концерн по производству автомоби...</td>\n",
              "      <td>4</td>\n",
              "      <td>Отечественный концерн по производству автомоби...</td>\n",
              "      <td>отечественный концерн по производству автомоби...</td>\n",
              "    </tr>\n",
              "  </tbody>\n",
              "</table>\n",
              "</div>\n",
              "      <button class=\"colab-df-convert\" onclick=\"convertToInteractive('df-c604712a-e390-4c33-accf-20d2d47d021a')\"\n",
              "              title=\"Convert this dataframe to an interactive table.\"\n",
              "              style=\"display:none;\">\n",
              "        \n",
              "  <svg xmlns=\"http://www.w3.org/2000/svg\" height=\"24px\"viewBox=\"0 0 24 24\"\n",
              "       width=\"24px\">\n",
              "    <path d=\"M0 0h24v24H0V0z\" fill=\"none\"/>\n",
              "    <path d=\"M18.56 5.44l.94 2.06.94-2.06 2.06-.94-2.06-.94-.94-2.06-.94 2.06-2.06.94zm-11 1L8.5 8.5l.94-2.06 2.06-.94-2.06-.94L8.5 2.5l-.94 2.06-2.06.94zm10 10l.94 2.06.94-2.06 2.06-.94-2.06-.94-.94-2.06-.94 2.06-2.06.94z\"/><path d=\"M17.41 7.96l-1.37-1.37c-.4-.4-.92-.59-1.43-.59-.52 0-1.04.2-1.43.59L10.3 9.45l-7.72 7.72c-.78.78-.78 2.05 0 2.83L4 21.41c.39.39.9.59 1.41.59.51 0 1.02-.2 1.41-.59l7.78-7.78 2.81-2.81c.8-.78.8-2.07 0-2.86zM5.41 20L4 18.59l7.72-7.72 1.47 1.35L5.41 20z\"/>\n",
              "  </svg>\n",
              "      </button>\n",
              "      \n",
              "  <style>\n",
              "    .colab-df-container {\n",
              "      display:flex;\n",
              "      flex-wrap:wrap;\n",
              "      gap: 12px;\n",
              "    }\n",
              "\n",
              "    .colab-df-convert {\n",
              "      background-color: #E8F0FE;\n",
              "      border: none;\n",
              "      border-radius: 50%;\n",
              "      cursor: pointer;\n",
              "      display: none;\n",
              "      fill: #1967D2;\n",
              "      height: 32px;\n",
              "      padding: 0 0 0 0;\n",
              "      width: 32px;\n",
              "    }\n",
              "\n",
              "    .colab-df-convert:hover {\n",
              "      background-color: #E2EBFA;\n",
              "      box-shadow: 0px 1px 2px rgba(60, 64, 67, 0.3), 0px 1px 3px 1px rgba(60, 64, 67, 0.15);\n",
              "      fill: #174EA6;\n",
              "    }\n",
              "\n",
              "    [theme=dark] .colab-df-convert {\n",
              "      background-color: #3B4455;\n",
              "      fill: #D2E3FC;\n",
              "    }\n",
              "\n",
              "    [theme=dark] .colab-df-convert:hover {\n",
              "      background-color: #434B5C;\n",
              "      box-shadow: 0px 1px 3px 1px rgba(0, 0, 0, 0.15);\n",
              "      filter: drop-shadow(0px 1px 2px rgba(0, 0, 0, 0.3));\n",
              "      fill: #FFFFFF;\n",
              "    }\n",
              "  </style>\n",
              "\n",
              "      <script>\n",
              "        const buttonEl =\n",
              "          document.querySelector('#df-c604712a-e390-4c33-accf-20d2d47d021a button.colab-df-convert');\n",
              "        buttonEl.style.display =\n",
              "          google.colab.kernel.accessAllowed ? 'block' : 'none';\n",
              "\n",
              "        async function convertToInteractive(key) {\n",
              "          const element = document.querySelector('#df-c604712a-e390-4c33-accf-20d2d47d021a');\n",
              "          const dataTable =\n",
              "            await google.colab.kernel.invokeFunction('convertToInteractive',\n",
              "                                                     [key], {});\n",
              "          if (!dataTable) return;\n",
              "\n",
              "          const docLinkHtml = 'Like what you see? Visit the ' +\n",
              "            '<a target=\"_blank\" href=https://colab.research.google.com/notebooks/data_table.ipynb>data table notebook</a>'\n",
              "            + ' to learn more about interactive tables.';\n",
              "          element.innerHTML = '';\n",
              "          dataTable['output_type'] = 'display_data';\n",
              "          await google.colab.output.renderOutput(dataTable, element);\n",
              "          const docLink = document.createElement('div');\n",
              "          docLink.innerHTML = docLinkHtml;\n",
              "          element.appendChild(docLink);\n",
              "        }\n",
              "      </script>\n",
              "    </div>\n",
              "  </div>\n",
              "  "
            ],
            "text/plain": [
              "                                         description  ...                                          text_prep\n",
              "0  Дизайнеры агентства Fabula Branding (Минск) пр...  ...  дизайнеры агентства fabula branding минск пров...\n",
              "1  В течение 30 дней, с даты публикации сообщения...  ...  в течение дней с даты публикации сообщения в у...\n",
              "2  Глава государства назвал совершенно не имеющей...  ...  глава государства назвал совершенно не имеющей...\n",
              "3  Интерфакс-Россия, Новость: Авиакомпания \"Аврор...  ...  интерфакс россия новость авиакомпания аврора с...\n",
              "4  Отечественный концерн по производству автомоби...  ...  отечественный концерн по производству автомоби...\n",
              "\n",
              "[5 rows x 4 columns]"
            ]
          },
          "metadata": {},
          "execution_count": 21
        }
      ]
    },
    {
      "cell_type": "markdown",
      "source": [
        "\n",
        "\n",
        "---\n",
        "\n",
        "\n",
        "### 4. Стэмминг\n",
        "\n",
        "\n",
        "---\n",
        "\n"
      ],
      "metadata": {
        "id": "gFgbrfC8UEPe"
      }
    },
    {
      "cell_type": "code",
      "source": [
        "russian_stopwords = stopwords.words(\"russian\")\n",
        "russian_stopwords.extend(['…', '«', '»', '...', 'т.д.', 'т', 'д'])"
      ],
      "metadata": {
        "id": "NrHG4D1aURDm"
      },
      "execution_count": null,
      "outputs": []
    },
    {
      "cell_type": "code",
      "source": [
        "text = df_train['text_prep'][1]\n",
        "word_tokenize(text) "
      ],
      "metadata": {
        "id": "y8Oa6oVDUVUe"
      },
      "execution_count": null,
      "outputs": []
    },
    {
      "cell_type": "code",
      "source": [
        "stemmed_texts_list = []\n",
        "for text in tqdm(df_train['text_prep']):\n",
        "    tokens = word_tokenize(text)    \n",
        "    stemmed_tokens = [stemmer.stem(token) for token in tokens if token not in russian_stopwords]\n",
        "    text = \" \".join(stemmed_tokens)\n",
        "    stemmed_texts_list.append(text)\n",
        "\n",
        "df_train['text_stem'] = stemmed_texts_list"
      ],
      "metadata": {
        "colab": {
          "base_uri": "https://localhost:8080/",
          "height": 49,
          "referenced_widgets": [
            "9bc2645fc3964bc9bde929a7fdce4957",
            "5082694a093747d8af83f5b6d4f0825c",
            "2c7db666a31b404bad98093d094e3ace",
            "3d3de9fe4d1447a4b60a37429aaf5c89",
            "fc22030f6d7441968bb71674762a478f",
            "58795a6913a14f578f97996493762304",
            "277094d0de3244408103370e23bf68e4",
            "ceafecbe12884a7597b0cf4f4660bedf",
            "273111cf114042cbac5bcd312a20f0bd",
            "03cd4a3b4bdc475a85f758111e318533",
            "e521052470714ea2a08b8e4cdbbbf37f"
          ]
        },
        "id": "3ioIElVWVN70",
        "outputId": "502c0881-729c-4318-b619-5f51e0c2d59c"
      },
      "execution_count": null,
      "outputs": [
        {
          "output_type": "display_data",
          "data": {
            "application/vnd.jupyter.widget-view+json": {
              "model_id": "9bc2645fc3964bc9bde929a7fdce4957",
              "version_minor": 0,
              "version_major": 2
            },
            "text/plain": [
              "  0%|          | 0/2069 [00:00<?, ?it/s]"
            ]
          },
          "metadata": {}
        }
      ]
    },
    {
      "cell_type": "code",
      "source": [
        "def remove_stop_words(text):\n",
        "    tokens = word_tokenize(text) \n",
        "    tokens = [token for token in tokens if token not in russian_stopwords and token != ' ']\n",
        "    return \" \".join(tokens)"
      ],
      "metadata": {
        "id": "niOk2NyykNCi"
      },
      "execution_count": null,
      "outputs": []
    },
    {
      "cell_type": "code",
      "source": [
        "sw_texts_list = []\n",
        "for text in tqdm(df_train['text_prep']):\n",
        "    tokens = word_tokenize(text)    \n",
        "    tokens = [token for token in tokens if token not in russian_stopwords and token != ' ']\n",
        "    text = \" \".join(tokens)\n",
        "    sw_texts_list.append(text)\n",
        "\n",
        "df_train['text_sw'] = sw_texts_list"
      ],
      "metadata": {
        "id": "u85I68poxvdI"
      },
      "execution_count": null,
      "outputs": []
    },
    {
      "cell_type": "code",
      "source": [
        "df_train.head()"
      ],
      "metadata": {
        "colab": {
          "base_uri": "https://localhost:8080/",
          "height": 1056
        },
        "id": "vV6E3MuNka7p",
        "outputId": "dc0ec0d2-64ac-4fcf-f84d-c42789b9084c"
      },
      "execution_count": null,
      "outputs": [
        {
          "output_type": "execute_result",
          "data": {
            "text/html": [
              "\n",
              "  <div id=\"df-fb08f115-965d-4500-bba4-cf6f9b585610\">\n",
              "    <div class=\"colab-df-container\">\n",
              "      <div>\n",
              "<style scoped>\n",
              "    .dataframe tbody tr th:only-of-type {\n",
              "        vertical-align: middle;\n",
              "    }\n",
              "\n",
              "    .dataframe tbody tr th {\n",
              "        vertical-align: top;\n",
              "    }\n",
              "\n",
              "    .dataframe thead th {\n",
              "        text-align: right;\n",
              "    }\n",
              "</style>\n",
              "<table border=\"1\" class=\"dataframe\">\n",
              "  <thead>\n",
              "    <tr style=\"text-align: right;\">\n",
              "      <th></th>\n",
              "      <th>description</th>\n",
              "      <th>label</th>\n",
              "      <th>preproccessed</th>\n",
              "      <th>text_prep</th>\n",
              "      <th>text_stem</th>\n",
              "      <th>text_sw</th>\n",
              "      <th>text_lemm</th>\n",
              "    </tr>\n",
              "  </thead>\n",
              "  <tbody>\n",
              "    <tr>\n",
              "      <th>0</th>\n",
              "      <td>Дизайнеры агентства Fabula Branding (Минск) пр...</td>\n",
              "      <td>1</td>\n",
              "      <td>Дизайнеры агентства Fabula Branding Минск пров...</td>\n",
              "      <td>дизайнеры агентства fabula branding минск пров...</td>\n",
              "      <td>дизайнер агентств fabul branding минск провел ...</td>\n",
              "      <td>дизайнеры агентства fabula branding минск пров...</td>\n",
              "      <td>дизайнер агентство fabula branding минск прово...</td>\n",
              "    </tr>\n",
              "    <tr>\n",
              "      <th>1</th>\n",
              "      <td>В течение 30 дней, с даты публикации сообщения...</td>\n",
              "      <td>2</td>\n",
              "      <td>В течение дней с даты публикации сообщения в У...</td>\n",
              "      <td>в течение дней с даты публикации сообщения в у...</td>\n",
              "      <td>течен дне дат публикац сообщен урядов курьер м...</td>\n",
              "      <td>течение дней даты публикации сообщения урядово...</td>\n",
              "      <td>течение день дата публикация сообщение урядово...</td>\n",
              "    </tr>\n",
              "    <tr>\n",
              "      <th>2</th>\n",
              "      <td>Глава государства назвал совершенно не имеющей...</td>\n",
              "      <td>2</td>\n",
              "      <td>Глава государства назвал совершенно не имеющей...</td>\n",
              "      <td>глава государства назвал совершенно не имеющей...</td>\n",
              "      <td>глав государств назва совершен имеющ соб основ...</td>\n",
              "      <td>глава государства назвал совершенно имеющей со...</td>\n",
              "      <td>глава государство называть совершенно иметь ос...</td>\n",
              "    </tr>\n",
              "    <tr>\n",
              "      <th>3</th>\n",
              "      <td>Интерфакс-Россия, Новость: Авиакомпания \"Аврор...</td>\n",
              "      <td>3</td>\n",
              "      <td>Интерфакс Россия Новость Авиакомпания Аврора с...</td>\n",
              "      <td>интерфакс россия новость авиакомпания аврора с...</td>\n",
              "      <td>интерфакс росс новост авиакомпан аврор январ г...</td>\n",
              "      <td>интерфакс россия новость авиакомпания аврора я...</td>\n",
              "      <td>интерфакс россия новость авиакомпания аврора я...</td>\n",
              "    </tr>\n",
              "    <tr>\n",
              "      <th>4</th>\n",
              "      <td>Отечественный концерн по производству автомоби...</td>\n",
              "      <td>4</td>\n",
              "      <td>Отечественный концерн по производству автомоби...</td>\n",
              "      <td>отечественный концерн по производству автомоби...</td>\n",
              "      <td>отечествен концерн производств автомобил отчит...</td>\n",
              "      <td>отечественный концерн производству автомобилей...</td>\n",
              "      <td>отечественный концерн производство автомобиль ...</td>\n",
              "    </tr>\n",
              "  </tbody>\n",
              "</table>\n",
              "</div>\n",
              "      <button class=\"colab-df-convert\" onclick=\"convertToInteractive('df-fb08f115-965d-4500-bba4-cf6f9b585610')\"\n",
              "              title=\"Convert this dataframe to an interactive table.\"\n",
              "              style=\"display:none;\">\n",
              "        \n",
              "  <svg xmlns=\"http://www.w3.org/2000/svg\" height=\"24px\"viewBox=\"0 0 24 24\"\n",
              "       width=\"24px\">\n",
              "    <path d=\"M0 0h24v24H0V0z\" fill=\"none\"/>\n",
              "    <path d=\"M18.56 5.44l.94 2.06.94-2.06 2.06-.94-2.06-.94-.94-2.06-.94 2.06-2.06.94zm-11 1L8.5 8.5l.94-2.06 2.06-.94-2.06-.94L8.5 2.5l-.94 2.06-2.06.94zm10 10l.94 2.06.94-2.06 2.06-.94-2.06-.94-.94-2.06-.94 2.06-2.06.94z\"/><path d=\"M17.41 7.96l-1.37-1.37c-.4-.4-.92-.59-1.43-.59-.52 0-1.04.2-1.43.59L10.3 9.45l-7.72 7.72c-.78.78-.78 2.05 0 2.83L4 21.41c.39.39.9.59 1.41.59.51 0 1.02-.2 1.41-.59l7.78-7.78 2.81-2.81c.8-.78.8-2.07 0-2.86zM5.41 20L4 18.59l7.72-7.72 1.47 1.35L5.41 20z\"/>\n",
              "  </svg>\n",
              "      </button>\n",
              "      \n",
              "  <style>\n",
              "    .colab-df-container {\n",
              "      display:flex;\n",
              "      flex-wrap:wrap;\n",
              "      gap: 12px;\n",
              "    }\n",
              "\n",
              "    .colab-df-convert {\n",
              "      background-color: #E8F0FE;\n",
              "      border: none;\n",
              "      border-radius: 50%;\n",
              "      cursor: pointer;\n",
              "      display: none;\n",
              "      fill: #1967D2;\n",
              "      height: 32px;\n",
              "      padding: 0 0 0 0;\n",
              "      width: 32px;\n",
              "    }\n",
              "\n",
              "    .colab-df-convert:hover {\n",
              "      background-color: #E2EBFA;\n",
              "      box-shadow: 0px 1px 2px rgba(60, 64, 67, 0.3), 0px 1px 3px 1px rgba(60, 64, 67, 0.15);\n",
              "      fill: #174EA6;\n",
              "    }\n",
              "\n",
              "    [theme=dark] .colab-df-convert {\n",
              "      background-color: #3B4455;\n",
              "      fill: #D2E3FC;\n",
              "    }\n",
              "\n",
              "    [theme=dark] .colab-df-convert:hover {\n",
              "      background-color: #434B5C;\n",
              "      box-shadow: 0px 1px 3px 1px rgba(0, 0, 0, 0.15);\n",
              "      filter: drop-shadow(0px 1px 2px rgba(0, 0, 0, 0.3));\n",
              "      fill: #FFFFFF;\n",
              "    }\n",
              "  </style>\n",
              "\n",
              "      <script>\n",
              "        const buttonEl =\n",
              "          document.querySelector('#df-fb08f115-965d-4500-bba4-cf6f9b585610 button.colab-df-convert');\n",
              "        buttonEl.style.display =\n",
              "          google.colab.kernel.accessAllowed ? 'block' : 'none';\n",
              "\n",
              "        async function convertToInteractive(key) {\n",
              "          const element = document.querySelector('#df-fb08f115-965d-4500-bba4-cf6f9b585610');\n",
              "          const dataTable =\n",
              "            await google.colab.kernel.invokeFunction('convertToInteractive',\n",
              "                                                     [key], {});\n",
              "          if (!dataTable) return;\n",
              "\n",
              "          const docLinkHtml = 'Like what you see? Visit the ' +\n",
              "            '<a target=\"_blank\" href=https://colab.research.google.com/notebooks/data_table.ipynb>data table notebook</a>'\n",
              "            + ' to learn more about interactive tables.';\n",
              "          element.innerHTML = '';\n",
              "          dataTable['output_type'] = 'display_data';\n",
              "          await google.colab.output.renderOutput(dataTable, element);\n",
              "          const docLink = document.createElement('div');\n",
              "          docLink.innerHTML = docLinkHtml;\n",
              "          element.appendChild(docLink);\n",
              "        }\n",
              "      </script>\n",
              "    </div>\n",
              "  </div>\n",
              "  "
            ],
            "text/plain": [
              "                                         description  ...                                          text_lemm\n",
              "0  Дизайнеры агентства Fabula Branding (Минск) пр...  ...  дизайнер агентство fabula branding минск прово...\n",
              "1  В течение 30 дней, с даты публикации сообщения...  ...  течение день дата публикация сообщение урядово...\n",
              "2  Глава государства назвал совершенно не имеющей...  ...  глава государство называть совершенно иметь ос...\n",
              "3  Интерфакс-Россия, Новость: Авиакомпания \"Аврор...  ...  интерфакс россия новость авиакомпания аврора я...\n",
              "4  Отечественный концерн по производству автомоби...  ...  отечественный концерн производство автомобиль ...\n",
              "\n",
              "[5 rows x 7 columns]"
            ]
          },
          "metadata": {},
          "execution_count": 16
        }
      ]
    },
    {
      "cell_type": "markdown",
      "source": [
        "\n",
        "\n",
        "---\n",
        "\n",
        "\n",
        "### 5. Лемматизация\n",
        "\n",
        "\n",
        "---\n",
        "\n"
      ],
      "metadata": {
        "id": "UFMei-BpUGqu"
      }
    },
    {
      "cell_type": "code",
      "source": [
        "df_train.info()"
      ],
      "metadata": {
        "colab": {
          "base_uri": "https://localhost:8080/"
        },
        "id": "nxAN87Pypwb2",
        "outputId": "14b5e16d-073d-4494-b243-7b2e554251d7"
      },
      "execution_count": null,
      "outputs": [
        {
          "output_type": "stream",
          "name": "stdout",
          "text": [
            "<class 'pandas.core.frame.DataFrame'>\n",
            "RangeIndex: 2069 entries, 0 to 2068\n",
            "Data columns (total 6 columns):\n",
            " #   Column         Non-Null Count  Dtype \n",
            "---  ------         --------------  ----- \n",
            " 0   description    2069 non-null   object\n",
            " 1   label          2069 non-null   int64 \n",
            " 2   preproccessed  2069 non-null   object\n",
            " 3   text_prep      2069 non-null   object\n",
            " 4   text_stem      2069 non-null   object\n",
            " 5   text_sw        2069 non-null   object\n",
            "dtypes: int64(1), object(5)\n",
            "memory usage: 97.1+ KB\n"
          ]
        }
      ]
    },
    {
      "cell_type": "code",
      "source": [
        "lemm_texts_list = []\n",
        "for text in tqdm(df_train['text_sw']):\n",
        "    #print(text)\n",
        "    try:\n",
        "        text_lem = mystem.lemmatize(text)\n",
        "        tokens = [token for token in text_lem if token != ' ' and token not in russian_stopwords]\n",
        "        text = \" \".join(tokens)\n",
        "        lemm_texts_list.append(text)\n",
        "    except Exception as e:\n",
        "        print(e)\n",
        "    \n",
        "df_train['text_lemm'] = lemm_texts_list"
      ],
      "metadata": {
        "id": "pL3uKIfumekh",
        "colab": {
          "base_uri": "https://localhost:8080/",
          "height": 49,
          "referenced_widgets": [
            "ca5c849151ec4b328c1891bfecfb0616",
            "2e50bfe13cf54dc980eebee16c65c239",
            "73eb164f262f4fa6b1c92a1a3e8b19fa",
            "d774cc31dc8a4b62a253b247328e6b58",
            "71d55c019596475e80f387d900ebcb59",
            "a6fa44257d8f462ba64a40d9b566c610",
            "e78b903b95c145388ea58694135540f6",
            "1f0c0b6d1f5e4b0f9de24a0be87126d6",
            "c16279907a8a43e38fe45c7255e5f4f5",
            "68ec0b1b6cd041ef947425f4ec171b6c",
            "0857a0d91aef45e58033cb37ca223aa0"
          ]
        },
        "outputId": "c35f7b36-b485-4277-c429-28dced0821ae"
      },
      "execution_count": null,
      "outputs": [
        {
          "output_type": "display_data",
          "data": {
            "application/vnd.jupyter.widget-view+json": {
              "model_id": "ca5c849151ec4b328c1891bfecfb0616",
              "version_minor": 0,
              "version_major": 2
            },
            "text/plain": [
              "  0%|          | 0/2069 [00:00<?, ?it/s]"
            ]
          },
          "metadata": {}
        }
      ]
    },
    {
      "cell_type": "code",
      "source": [
        "df_train.tail(20)"
      ],
      "metadata": {
        "id": "z6WbPAZlmjI7",
        "colab": {
          "base_uri": "https://localhost:8080/",
          "height": 2570
        },
        "outputId": "39f67435-6f32-4b55-dbde-d88acd9de86c"
      },
      "execution_count": null,
      "outputs": [
        {
          "output_type": "execute_result",
          "data": {
            "text/html": [
              "\n",
              "  <div id=\"df-77f2cdda-465a-4b9b-96e6-6d00d0482570\">\n",
              "    <div class=\"colab-df-container\">\n",
              "      <div>\n",
              "<style scoped>\n",
              "    .dataframe tbody tr th:only-of-type {\n",
              "        vertical-align: middle;\n",
              "    }\n",
              "\n",
              "    .dataframe tbody tr th {\n",
              "        vertical-align: top;\n",
              "    }\n",
              "\n",
              "    .dataframe thead th {\n",
              "        text-align: right;\n",
              "    }\n",
              "</style>\n",
              "<table border=\"1\" class=\"dataframe\">\n",
              "  <thead>\n",
              "    <tr style=\"text-align: right;\">\n",
              "      <th></th>\n",
              "      <th>description</th>\n",
              "      <th>label</th>\n",
              "      <th>preproccessed</th>\n",
              "      <th>text_prep</th>\n",
              "      <th>text_stem</th>\n",
              "      <th>text_sw</th>\n",
              "      <th>text_lemm</th>\n",
              "    </tr>\n",
              "  </thead>\n",
              "  <tbody>\n",
              "    <tr>\n",
              "      <th>2049</th>\n",
              "      <td>От Ассоциации предприятий информационных техно...</td>\n",
              "      <td>3</td>\n",
              "      <td>От Ассоциации предприятий информационных техно...</td>\n",
              "      <td>от ассоциации предприятий информационных техно...</td>\n",
              "      <td>ассоциац предприят информацион технолог украин...</td>\n",
              "      <td>ассоциации предприятий информационных технолог...</td>\n",
              "      <td>ассоциация предприятие информационный технолог...</td>\n",
              "    </tr>\n",
              "    <tr>\n",
              "      <th>2050</th>\n",
              "      <td>IBU временно отстранил от соревнований российс...</td>\n",
              "      <td>2</td>\n",
              "      <td>IBU временно отстранил от соревнований российс...</td>\n",
              "      <td>ibu временно отстранил от соревнований российс...</td>\n",
              "      <td>ib времен отстран соревнован российск биатлони...</td>\n",
              "      <td>ibu временно отстранил соревнований российскую...</td>\n",
              "      <td>ibu временно отстранять соревнование российски...</td>\n",
              "    </tr>\n",
              "    <tr>\n",
              "      <th>2051</th>\n",
              "      <td>АйСиБиСи Банк (100% &amp;amp;quot;дочка&amp;amp;quot; ...</td>\n",
              "      <td>3</td>\n",
              "      <td>АйСиБиСи Банк amp quot дочка amp quot крупнейш...</td>\n",
              "      <td>айсибиси банк amp quot дочка amp quot крупнейш...</td>\n",
              "      <td>айсибис банк amp quot дочк amp quot крупн банк...</td>\n",
              "      <td>айсибиси банк amp quot дочка amp quot крупнейш...</td>\n",
              "      <td>айсибиси банк amp quot дочка amp quot крупный ...</td>\n",
              "    </tr>\n",
              "    <tr>\n",
              "      <th>2052</th>\n",
              "      <td>В феврале 2017 года состоится первая встреча с...</td>\n",
              "      <td>3</td>\n",
              "      <td>В феврале года состоится первая встреча с поте...</td>\n",
              "      <td>в феврале года состоится первая встреча с поте...</td>\n",
              "      <td>феврал год состо перв встреч потенциальн инвес...</td>\n",
              "      <td>феврале года состоится первая встреча потенциа...</td>\n",
              "      <td>февраль год состояться первый встреча потенциа...</td>\n",
              "    </tr>\n",
              "    <tr>\n",
              "      <th>2053</th>\n",
              "      <td>Исламская корпорация по развитию частного сект...</td>\n",
              "      <td>3</td>\n",
              "      <td>Исламская корпорация по развитию частного сект...</td>\n",
              "      <td>исламская корпорация по развитию частного сект...</td>\n",
              "      <td>исламск корпорац развит частн сектор</td>\n",
              "      <td>исламская корпорация развитию частного сектора</td>\n",
              "      <td>исламский корпорация развитие частный сектор \\n</td>\n",
              "    </tr>\n",
              "    <tr>\n",
              "      <th>2054</th>\n",
              "      <td>Россия и Объединенные Арабские Эмираты договор...</td>\n",
              "      <td>1</td>\n",
              "      <td>Россия и Объединенные Арабские Эмираты договор...</td>\n",
              "      <td>россия и объединенные арабские эмираты договор...</td>\n",
              "      <td>росс объединен арабск эмират договор развива с...</td>\n",
              "      <td>россия объединенные арабские эмираты договорил...</td>\n",
              "      <td>россия объединять арабский эмират договаривать...</td>\n",
              "    </tr>\n",
              "    <tr>\n",
              "      <th>2055</th>\n",
              "      <td>Каир продолжает рассматривать российское предл...</td>\n",
              "      <td>3</td>\n",
              "      <td>Каир продолжает рассматривать российское предл...</td>\n",
              "      <td>каир продолжает рассматривать российское предл...</td>\n",
              "      <td>каир продолжа рассматрива российск предложен к...</td>\n",
              "      <td>каир продолжает рассматривать российское предл...</td>\n",
              "      <td>каир продолжать рассматривать российский предл...</td>\n",
              "    </tr>\n",
              "    <tr>\n",
              "      <th>2056</th>\n",
              "      <td>IKEA Group, являющаяся оператором большинства ...</td>\n",
              "      <td>3</td>\n",
              "      <td>IKEA Group являющаяся оператором большинства м...</td>\n",
              "      <td>ikea group являющаяся оператором большинства м...</td>\n",
              "      <td>ike group явля оператор большинств магазин ike...</td>\n",
              "      <td>ikea group являющаяся оператором большинства м...</td>\n",
              "      <td>ikea group являться оператор большинство магаз...</td>\n",
              "    </tr>\n",
              "    <tr>\n",
              "      <th>2057</th>\n",
              "      <td>Каждый сотрудник шведской корпорации IKEA в Ве...</td>\n",
              "      <td>1</td>\n",
              "      <td>Каждый сотрудник шведской корпорации IKEA в Ве...</td>\n",
              "      <td>каждый сотрудник шведской корпорации ikea в ве...</td>\n",
              "      <td>кажд сотрудник шведск корпорац ike великобрита...</td>\n",
              "      <td>каждый сотрудник шведской корпорации ikea вели...</td>\n",
              "      <td>каждый сотрудник шведский корпорация ikea вели...</td>\n",
              "    </tr>\n",
              "    <tr>\n",
              "      <th>2058</th>\n",
              "      <td>Каждый сотрудник шведской корпорации IKEA в Ве...</td>\n",
              "      <td>1</td>\n",
              "      <td>Каждый сотрудник шведской корпорации IKEA в Ве...</td>\n",
              "      <td>каждый сотрудник шведской корпорации ikea в ве...</td>\n",
              "      <td>кажд сотрудник шведск корпорац ike великобрита...</td>\n",
              "      <td>каждый сотрудник шведской корпорации ikea вели...</td>\n",
              "      <td>каждый сотрудник шведский корпорация ikea вели...</td>\n",
              "    </tr>\n",
              "    <tr>\n",
              "      <th>2059</th>\n",
              "      <td>Шведский концерн IKEA, которому принадлежит кр...</td>\n",
              "      <td>3</td>\n",
              "      <td>Шведский концерн IKEA которому принадлежит кру...</td>\n",
              "      <td>шведский концерн ikea которому принадлежит кру...</td>\n",
              "      <td>шведск концерн ike котор принадлеж крупн мир с...</td>\n",
              "      <td>шведский концерн ikea которому принадлежит кру...</td>\n",
              "      <td>шведский концерн ikea который принадлежать кру...</td>\n",
              "    </tr>\n",
              "    <tr>\n",
              "      <th>2060</th>\n",
              "      <td>Шведская компания IKEA выплатит $50 млн в каче...</td>\n",
              "      <td>2</td>\n",
              "      <td>Шведская компания IKEA выплатит млн в качестве...</td>\n",
              "      <td>шведская компания ikea выплатит млн в качестве...</td>\n",
              "      <td>шведск компан ike выплат млн качеств компенсац...</td>\n",
              "      <td>шведская компания ikea выплатит млн качестве к...</td>\n",
              "      <td>шведский компания ikea выплачивать млн качеств...</td>\n",
              "    </tr>\n",
              "    <tr>\n",
              "      <th>2061</th>\n",
              "      <td>Компания IRI Investments Lietuva, контролируем...</td>\n",
              "      <td>3</td>\n",
              "      <td>Компания IRI Investments Lietuva контролируема...</td>\n",
              "      <td>компания iri investments lietuva контролируема...</td>\n",
              "      <td>компан ir investments lietuv контролируем швед...</td>\n",
              "      <td>компания iri investments lietuva контролируема...</td>\n",
              "      <td>компания iri investments lietuva контролируемы...</td>\n",
              "    </tr>\n",
              "    <tr>\n",
              "      <th>2062</th>\n",
              "      <td>Краснинский суд Смоленской области арестовал с...</td>\n",
              "      <td>2</td>\n",
              "      <td>Краснинский суд Смоленской области арестовал с...</td>\n",
              "      <td>краснинский суд смоленской области арестовал с...</td>\n",
              "      <td>краснинск суд смоленск област арестова счет мл...</td>\n",
              "      <td>краснинский суд смоленской области арестовал с...</td>\n",
              "      <td>краснинский суд смоленский область арестовыват...</td>\n",
              "    </tr>\n",
              "    <tr>\n",
              "      <th>2063</th>\n",
              "      <td>Шведская компания IKEA не согласна с решением ...</td>\n",
              "      <td>2</td>\n",
              "      <td>Шведская компания IKEA не согласна с решением ...</td>\n",
              "      <td>шведская компания ikea не согласна с решением ...</td>\n",
              "      <td>шведск компан ike согласн решен суд арестова м...</td>\n",
              "      <td>шведская компания ikea согласна решением суда ...</td>\n",
              "      <td>шведский компания ikea согласный решение суд а...</td>\n",
              "    </tr>\n",
              "    <tr>\n",
              "      <th>2064</th>\n",
              "      <td>Шведская IKEA не будет строить торговый центр ...</td>\n",
              "      <td>3</td>\n",
              "      <td>Шведская IKEA не будет строить торговый центр ...</td>\n",
              "      <td>шведская ikea не будет строить торговый центр ...</td>\n",
              "      <td>шведск ike стро торгов центр quot мег quot мыт...</td>\n",
              "      <td>шведская ikea строить торговый центр quot мега...</td>\n",
              "      <td>шведский ikea строить торговый центр quot мега...</td>\n",
              "    </tr>\n",
              "    <tr>\n",
              "      <th>2065</th>\n",
              "      <td>Шведская IKEA планирует выставить права на дол...</td>\n",
              "      <td>3</td>\n",
              "      <td>Шведская IKEA планирует выставить права на дол...</td>\n",
              "      <td>шведская ikea планирует выставить права на дол...</td>\n",
              "      <td>шведск ike планир выстав прав долгосрочн аренд...</td>\n",
              "      <td>шведская ikea планирует выставить права долгос...</td>\n",
              "      <td>шведский ikea планировать выставлять право дол...</td>\n",
              "    </tr>\n",
              "    <tr>\n",
              "      <th>2066</th>\n",
              "      <td>Шведская компания IKEA намерена трудоустроить ...</td>\n",
              "      <td>3</td>\n",
              "      <td>Шведская компания IKEA намерена трудоустроить ...</td>\n",
              "      <td>шведская компания ikea намерена трудоустроить ...</td>\n",
              "      <td>шведск компан ike намер трудоустро окол сирийс...</td>\n",
              "      <td>шведская компания ikea намерена трудоустроить ...</td>\n",
              "      <td>шведский компания ikea намерен трудоустраивать...</td>\n",
              "    </tr>\n",
              "    <tr>\n",
              "      <th>2067</th>\n",
              "      <td>Шведский ритейлер IKEA направил обращение упол...</td>\n",
              "      <td>2</td>\n",
              "      <td>Шведский ритейлер IKEA направил обращение упол...</td>\n",
              "      <td>шведский ритейлер ikea направил обращение упол...</td>\n",
              "      <td>шведск ритейлер ike направ обращен уполномочен...</td>\n",
              "      <td>шведский ритейлер ikea направил обращение упол...</td>\n",
              "      <td>шведский ритейлер ikea направлять обращение уп...</td>\n",
              "    </tr>\n",
              "    <tr>\n",
              "      <th>2068</th>\n",
              "      <td>Каждый пятый товар сети подешевеет на 15–20%</td>\n",
              "      <td>5</td>\n",
              "      <td>Каждый пятый товар сети подешевеет на –</td>\n",
              "      <td>каждый пятый товар сети подешевеет на –</td>\n",
              "      <td>кажд пят товар сет подешевеет –</td>\n",
              "      <td>каждый пятый товар сети подешевеет –</td>\n",
              "      <td>каждый пятый товар сеть подешеветь  –\\n</td>\n",
              "    </tr>\n",
              "  </tbody>\n",
              "</table>\n",
              "</div>\n",
              "      <button class=\"colab-df-convert\" onclick=\"convertToInteractive('df-77f2cdda-465a-4b9b-96e6-6d00d0482570')\"\n",
              "              title=\"Convert this dataframe to an interactive table.\"\n",
              "              style=\"display:none;\">\n",
              "        \n",
              "  <svg xmlns=\"http://www.w3.org/2000/svg\" height=\"24px\"viewBox=\"0 0 24 24\"\n",
              "       width=\"24px\">\n",
              "    <path d=\"M0 0h24v24H0V0z\" fill=\"none\"/>\n",
              "    <path d=\"M18.56 5.44l.94 2.06.94-2.06 2.06-.94-2.06-.94-.94-2.06-.94 2.06-2.06.94zm-11 1L8.5 8.5l.94-2.06 2.06-.94-2.06-.94L8.5 2.5l-.94 2.06-2.06.94zm10 10l.94 2.06.94-2.06 2.06-.94-2.06-.94-.94-2.06-.94 2.06-2.06.94z\"/><path d=\"M17.41 7.96l-1.37-1.37c-.4-.4-.92-.59-1.43-.59-.52 0-1.04.2-1.43.59L10.3 9.45l-7.72 7.72c-.78.78-.78 2.05 0 2.83L4 21.41c.39.39.9.59 1.41.59.51 0 1.02-.2 1.41-.59l7.78-7.78 2.81-2.81c.8-.78.8-2.07 0-2.86zM5.41 20L4 18.59l7.72-7.72 1.47 1.35L5.41 20z\"/>\n",
              "  </svg>\n",
              "      </button>\n",
              "      \n",
              "  <style>\n",
              "    .colab-df-container {\n",
              "      display:flex;\n",
              "      flex-wrap:wrap;\n",
              "      gap: 12px;\n",
              "    }\n",
              "\n",
              "    .colab-df-convert {\n",
              "      background-color: #E8F0FE;\n",
              "      border: none;\n",
              "      border-radius: 50%;\n",
              "      cursor: pointer;\n",
              "      display: none;\n",
              "      fill: #1967D2;\n",
              "      height: 32px;\n",
              "      padding: 0 0 0 0;\n",
              "      width: 32px;\n",
              "    }\n",
              "\n",
              "    .colab-df-convert:hover {\n",
              "      background-color: #E2EBFA;\n",
              "      box-shadow: 0px 1px 2px rgba(60, 64, 67, 0.3), 0px 1px 3px 1px rgba(60, 64, 67, 0.15);\n",
              "      fill: #174EA6;\n",
              "    }\n",
              "\n",
              "    [theme=dark] .colab-df-convert {\n",
              "      background-color: #3B4455;\n",
              "      fill: #D2E3FC;\n",
              "    }\n",
              "\n",
              "    [theme=dark] .colab-df-convert:hover {\n",
              "      background-color: #434B5C;\n",
              "      box-shadow: 0px 1px 3px 1px rgba(0, 0, 0, 0.15);\n",
              "      filter: drop-shadow(0px 1px 2px rgba(0, 0, 0, 0.3));\n",
              "      fill: #FFFFFF;\n",
              "    }\n",
              "  </style>\n",
              "\n",
              "      <script>\n",
              "        const buttonEl =\n",
              "          document.querySelector('#df-77f2cdda-465a-4b9b-96e6-6d00d0482570 button.colab-df-convert');\n",
              "        buttonEl.style.display =\n",
              "          google.colab.kernel.accessAllowed ? 'block' : 'none';\n",
              "\n",
              "        async function convertToInteractive(key) {\n",
              "          const element = document.querySelector('#df-77f2cdda-465a-4b9b-96e6-6d00d0482570');\n",
              "          const dataTable =\n",
              "            await google.colab.kernel.invokeFunction('convertToInteractive',\n",
              "                                                     [key], {});\n",
              "          if (!dataTable) return;\n",
              "\n",
              "          const docLinkHtml = 'Like what you see? Visit the ' +\n",
              "            '<a target=\"_blank\" href=https://colab.research.google.com/notebooks/data_table.ipynb>data table notebook</a>'\n",
              "            + ' to learn more about interactive tables.';\n",
              "          element.innerHTML = '';\n",
              "          dataTable['output_type'] = 'display_data';\n",
              "          await google.colab.output.renderOutput(dataTable, element);\n",
              "          const docLink = document.createElement('div');\n",
              "          docLink.innerHTML = docLinkHtml;\n",
              "          element.appendChild(docLink);\n",
              "        }\n",
              "      </script>\n",
              "    </div>\n",
              "  </div>\n",
              "  "
            ],
            "text/plain": [
              "                                            description  ...                                          text_lemm\n",
              "2049  От Ассоциации предприятий информационных техно...  ...  ассоциация предприятие информационный технолог...\n",
              "2050  IBU временно отстранил от соревнований российс...  ...  ibu временно отстранять соревнование российски...\n",
              "2051  АйСиБиСи Банк (100% &amp;quot;дочка&amp;quot; ...  ...  айсибиси банк amp quot дочка amp quot крупный ...\n",
              "2052  В феврале 2017 года состоится первая встреча с...  ...  февраль год состояться первый встреча потенциа...\n",
              "2053  Исламская корпорация по развитию частного сект...  ...    исламский корпорация развитие частный сектор \\n\n",
              "2054  Россия и Объединенные Арабские Эмираты договор...  ...  россия объединять арабский эмират договаривать...\n",
              "2055  Каир продолжает рассматривать российское предл...  ...  каир продолжать рассматривать российский предл...\n",
              "2056  IKEA Group, являющаяся оператором большинства ...  ...  ikea group являться оператор большинство магаз...\n",
              "2057  Каждый сотрудник шведской корпорации IKEA в Ве...  ...  каждый сотрудник шведский корпорация ikea вели...\n",
              "2058  Каждый сотрудник шведской корпорации IKEA в Ве...  ...  каждый сотрудник шведский корпорация ikea вели...\n",
              "2059  Шведский концерн IKEA, которому принадлежит кр...  ...  шведский концерн ikea который принадлежать кру...\n",
              "2060  Шведская компания IKEA выплатит $50 млн в каче...  ...  шведский компания ikea выплачивать млн качеств...\n",
              "2061  Компания IRI Investments Lietuva, контролируем...  ...  компания iri investments lietuva контролируемы...\n",
              "2062  Краснинский суд Смоленской области арестовал с...  ...  краснинский суд смоленский область арестовыват...\n",
              "2063  Шведская компания IKEA не согласна с решением ...  ...  шведский компания ikea согласный решение суд а...\n",
              "2064  Шведская IKEA не будет строить торговый центр ...  ...  шведский ikea строить торговый центр quot мега...\n",
              "2065  Шведская IKEA планирует выставить права на дол...  ...  шведский ikea планировать выставлять право дол...\n",
              "2066  Шведская компания IKEA намерена трудоустроить ...  ...  шведский компания ikea намерен трудоустраивать...\n",
              "2067  Шведский ритейлер IKEA направил обращение упол...  ...  шведский ритейлер ikea направлять обращение уп...\n",
              "2068       Каждый пятый товар сети подешевеет на 15–20%  ...            каждый пятый товар сеть подешеветь  –\\n\n",
              "\n",
              "[20 rows x 7 columns]"
            ]
          },
          "metadata": {},
          "execution_count": 15
        }
      ]
    },
    {
      "cell_type": "code",
      "source": [
        "df_train.to_csv('df_train_prep.csv', index=False)"
      ],
      "metadata": {
        "id": "5Zl4PQT2u_tQ"
      },
      "execution_count": null,
      "outputs": []
    },
    {
      "cell_type": "code",
      "source": [
        "from google.colab import files\n",
        "files.download(\"df_train_prep.csv\")"
      ],
      "metadata": {
        "colab": {
          "base_uri": "https://localhost:8080/",
          "height": 317
        },
        "id": "zoFbILmP-kwM",
        "outputId": "4de49779-b25d-4d2e-f956-1146ae0dfd64"
      },
      "execution_count": null,
      "outputs": [
        {
          "output_type": "error",
          "ename": "FileNotFoundError",
          "evalue": "ignored",
          "traceback": [
            "\u001b[0;31m---------------------------------------------------------------------------\u001b[0m",
            "\u001b[0;31mFileNotFoundError\u001b[0m                         Traceback (most recent call last)",
            "\u001b[0;32m<ipython-input-13-b87717fff74d>\u001b[0m in \u001b[0;36m<module>\u001b[0;34m()\u001b[0m\n\u001b[1;32m      1\u001b[0m \u001b[0;32mfrom\u001b[0m \u001b[0mgoogle\u001b[0m\u001b[0;34m.\u001b[0m\u001b[0mcolab\u001b[0m \u001b[0;32mimport\u001b[0m \u001b[0mfiles\u001b[0m\u001b[0;34m\u001b[0m\u001b[0;34m\u001b[0m\u001b[0m\n\u001b[0;32m----> 2\u001b[0;31m \u001b[0mfiles\u001b[0m\u001b[0;34m.\u001b[0m\u001b[0mdownload\u001b[0m\u001b[0;34m(\u001b[0m\u001b[0;34m\"df_train_prep.csv\"\u001b[0m\u001b[0;34m)\u001b[0m\u001b[0;34m\u001b[0m\u001b[0;34m\u001b[0m\u001b[0m\n\u001b[0m",
            "\u001b[0;32m/usr/local/lib/python3.7/dist-packages/google/colab/files.py\u001b[0m in \u001b[0;36mdownload\u001b[0;34m(filename)\u001b[0m\n\u001b[1;32m    140\u001b[0m       \u001b[0;32mraise\u001b[0m \u001b[0mOSError\u001b[0m\u001b[0;34m(\u001b[0m\u001b[0mmsg\u001b[0m\u001b[0;34m)\u001b[0m\u001b[0;34m\u001b[0m\u001b[0;34m\u001b[0m\u001b[0m\n\u001b[1;32m    141\u001b[0m     \u001b[0;32melse\u001b[0m\u001b[0;34m:\u001b[0m\u001b[0;34m\u001b[0m\u001b[0;34m\u001b[0m\u001b[0m\n\u001b[0;32m--> 142\u001b[0;31m       \u001b[0;32mraise\u001b[0m \u001b[0mFileNotFoundError\u001b[0m\u001b[0;34m(\u001b[0m\u001b[0mmsg\u001b[0m\u001b[0;34m)\u001b[0m  \u001b[0;31m# pylint: disable=undefined-variable\u001b[0m\u001b[0;34m\u001b[0m\u001b[0;34m\u001b[0m\u001b[0m\n\u001b[0m\u001b[1;32m    143\u001b[0m \u001b[0;34m\u001b[0m\u001b[0m\n\u001b[1;32m    144\u001b[0m   \u001b[0mcomm_manager\u001b[0m \u001b[0;34m=\u001b[0m \u001b[0m_IPython\u001b[0m\u001b[0;34m.\u001b[0m\u001b[0mget_ipython\u001b[0m\u001b[0;34m(\u001b[0m\u001b[0;34m)\u001b[0m\u001b[0;34m.\u001b[0m\u001b[0mkernel\u001b[0m\u001b[0;34m.\u001b[0m\u001b[0mcomm_manager\u001b[0m\u001b[0;34m\u001b[0m\u001b[0;34m\u001b[0m\u001b[0m\n",
            "\u001b[0;31mFileNotFoundError\u001b[0m: Cannot find file: df_train_prep.csv"
          ]
        }
      ]
    },
    {
      "cell_type": "markdown",
      "source": [
        ""
      ],
      "metadata": {
        "id": "xeUOdKFDwLAS"
      }
    },
    {
      "cell_type": "code",
      "source": [
        "X = df_train['text_sw']\n",
        "y = df_train['label']"
      ],
      "metadata": {
        "id": "1mltAkn2wIES"
      },
      "execution_count": null,
      "outputs": []
    },
    {
      "cell_type": "markdown",
      "source": [
        "разобьем обучающий датасет на тренировку и тестирование"
      ],
      "metadata": {
        "id": "_iVocq6OwX1j"
      }
    },
    {
      "cell_type": "code",
      "source": [
        "from sklearn.model_selection import train_test_split\n",
        "X_train, X_test, y_train, y_test = train_test_split(X, y, test_size=0.3, random_state = 42)"
      ],
      "metadata": {
        "id": "bkjpD-F9wUYK"
      },
      "execution_count": null,
      "outputs": []
    },
    {
      "cell_type": "code",
      "source": [
        "X[0]"
      ],
      "metadata": {
        "colab": {
          "base_uri": "https://localhost:8080/",
          "height": 122
        },
        "id": "ugvSZ-PqwfZl",
        "outputId": "ddebf90d-8422-44b5-ffb6-4c71ae461438"
      },
      "execution_count": null,
      "outputs": [
        {
          "output_type": "execute_result",
          "data": {
            "application/vnd.google.colaboratory.intrinsic+json": {
              "type": "string"
            },
            "text/plain": [
              "'дизайнеры агентства fabula branding минск провели комплексную разработку торговой марки колбасных изделий друзей нейминг логотип дизайн упаковки оао гродненский мясокомбинат продукт – колбасные изделия среднего ценового сегмента сырокопченые сыровяленые вареные колбасы сосиски сардельки регионы продаж – беларусь россия ситуации потребления дружеские семейные застолья пикник гости быстрый перекус целевая аудитория – мужчины женщины лет решением стал теплый яркий желтый цвет который отстраивает продукт полке служит цветовым идентификатором торговой марки вызывает приятные ассоциации пикником дружескими посиделками даче дружелюбную приветливую стилистику дизайна поддерживает цифра образованная колбасками маркер категории также рукописный шрифт логотипа'"
            ]
          },
          "metadata": {},
          "execution_count": 146
        }
      ]
    },
    {
      "cell_type": "code",
      "source": [
        "y[0]"
      ],
      "metadata": {
        "colab": {
          "base_uri": "https://localhost:8080/"
        },
        "id": "xoBsLSKGwkYT",
        "outputId": "0750aaee-ab41-4ebf-b6ed-9787d8018efa"
      },
      "execution_count": null,
      "outputs": [
        {
          "output_type": "execute_result",
          "data": {
            "text/plain": [
              "1"
            ]
          },
          "metadata": {},
          "execution_count": 150
        }
      ]
    },
    {
      "cell_type": "markdown",
      "source": [
        "\n",
        "---\n",
        "\n",
        "\n",
        "### 6. Байесовский классификатор\n",
        "\n",
        "\n",
        "---\n"
      ],
      "metadata": {
        "id": "Ft6meXyPwpGt"
      }
    },
    {
      "cell_type": "code",
      "source": [
        "nb = Pipeline([('vect', CountVectorizer()),\n",
        "               ('tfidf', TfidfTransformer()),\n",
        "               ('clf', MultinomialNB()),\n",
        "              ])"
      ],
      "metadata": {
        "id": "FsZiiyCkwyza"
      },
      "execution_count": null,
      "outputs": []
    },
    {
      "cell_type": "code",
      "source": [
        "%%time\n",
        "nb.fit(X_train, y_train)"
      ],
      "metadata": {
        "colab": {
          "base_uri": "https://localhost:8080/"
        },
        "id": "b5Lg5aAYw0xl",
        "outputId": "626163d0-0f7b-49b2-9d4f-4f8154dc05b2"
      },
      "execution_count": null,
      "outputs": [
        {
          "output_type": "stream",
          "name": "stdout",
          "text": [
            "CPU times: user 87.8 ms, sys: 6.12 ms, total: 93.9 ms\n",
            "Wall time: 114 ms\n"
          ]
        },
        {
          "output_type": "execute_result",
          "data": {
            "text/plain": [
              "Pipeline(steps=[('vect', CountVectorizer()), ('tfidf', TfidfTransformer()),\n",
              "                ('clf', MultinomialNB())])"
            ]
          },
          "metadata": {},
          "execution_count": 22
        }
      ]
    },
    {
      "cell_type": "code",
      "source": [
        "%%time\n",
        "from sklearn.metrics import classification_report\n",
        "y_pred = nb.predict(X_test)"
      ],
      "metadata": {
        "colab": {
          "base_uri": "https://localhost:8080/"
        },
        "id": "VT-NZaf3w2Qa",
        "outputId": "0712c55b-fd98-42b4-bf64-07742abf5196"
      },
      "execution_count": null,
      "outputs": [
        {
          "output_type": "stream",
          "name": "stdout",
          "text": [
            "CPU times: user 24.4 ms, sys: 0 ns, total: 24.4 ms\n",
            "Wall time: 25.4 ms\n"
          ]
        }
      ]
    },
    {
      "cell_type": "code",
      "source": [
        "y_pred[0]"
      ],
      "metadata": {
        "colab": {
          "base_uri": "https://localhost:8080/"
        },
        "id": "Sp64r53Jw4lK",
        "outputId": "35af3dff-a49b-4645-8ad6-69aee50b787a"
      },
      "execution_count": null,
      "outputs": [
        {
          "output_type": "execute_result",
          "data": {
            "text/plain": [
              "3"
            ]
          },
          "metadata": {},
          "execution_count": 161
        }
      ]
    },
    {
      "cell_type": "code",
      "source": [
        "my_tags = df_train['label'].unique().astype('str')\n",
        "my_tags"
      ],
      "metadata": {
        "colab": {
          "base_uri": "https://localhost:8080/"
        },
        "id": "p5awek_dxYuz",
        "outputId": "5a334096-6136-4efa-89b7-816ce9e65e93"
      },
      "execution_count": null,
      "outputs": [
        {
          "output_type": "execute_result",
          "data": {
            "text/plain": [
              "array(['1', '2', '3', '4', '5'], dtype='<U21')"
            ]
          },
          "metadata": {},
          "execution_count": 24
        }
      ]
    },
    {
      "cell_type": "code",
      "source": [
        "\n",
        "print('accuracy %s' % accuracy_score(y_pred, y_test))\n",
        "print(classification_report(y_test, y_pred, target_names=my_tags))"
      ],
      "metadata": {
        "colab": {
          "base_uri": "https://localhost:8080/"
        },
        "id": "nijrHcpZw8aR",
        "outputId": "2daca4fa-0650-41ca-be3f-042ff7f18b1b"
      },
      "execution_count": null,
      "outputs": [
        {
          "output_type": "stream",
          "name": "stdout",
          "text": [
            "accuracy 0.5684380032206119\n",
            "              precision    recall  f1-score   support\n",
            "\n",
            "           1       0.88      0.10      0.19       143\n",
            "           2       1.00      0.03      0.06        68\n",
            "           3       0.56      1.00      0.72       335\n",
            "           4       0.33      0.03      0.05        38\n",
            "           5       0.00      0.00      0.00        37\n",
            "\n",
            "    accuracy                           0.57       621\n",
            "   macro avg       0.55      0.23      0.20       621\n",
            "weighted avg       0.63      0.57      0.44       621\n",
            "\n"
          ]
        },
        {
          "output_type": "stream",
          "name": "stderr",
          "text": [
            "/usr/local/lib/python3.7/dist-packages/sklearn/metrics/_classification.py:1318: UndefinedMetricWarning: Precision and F-score are ill-defined and being set to 0.0 in labels with no predicted samples. Use `zero_division` parameter to control this behavior.\n",
            "  _warn_prf(average, modifier, msg_start, len(result))\n",
            "/usr/local/lib/python3.7/dist-packages/sklearn/metrics/_classification.py:1318: UndefinedMetricWarning: Precision and F-score are ill-defined and being set to 0.0 in labels with no predicted samples. Use `zero_division` parameter to control this behavior.\n",
            "  _warn_prf(average, modifier, msg_start, len(result))\n",
            "/usr/local/lib/python3.7/dist-packages/sklearn/metrics/_classification.py:1318: UndefinedMetricWarning: Precision and F-score are ill-defined and being set to 0.0 in labels with no predicted samples. Use `zero_division` parameter to control this behavior.\n",
            "  _warn_prf(average, modifier, msg_start, len(result))\n"
          ]
        }
      ]
    },
    {
      "cell_type": "markdown",
      "source": [
        "\n",
        "\n",
        "---\n",
        "\n",
        "\n",
        "### Linear Support Vector Machine\n",
        "\n",
        "\n",
        "---\n",
        "\n"
      ],
      "metadata": {
        "id": "91KO9OcryICj"
      }
    },
    {
      "cell_type": "code",
      "source": [
        "from sklearn.linear_model import SGDClassifier\n",
        "\n",
        "sgd = Pipeline([('vect', CountVectorizer()),\n",
        "                ('tfidf', TfidfTransformer()),\n",
        "                ('sgd', SGDClassifier(loss='hinge', penalty='l2',alpha=1e-3, random_state=42, max_iter=5, tol=None)),\n",
        "               ])"
      ],
      "metadata": {
        "id": "F0mJ58b7yHhi"
      },
      "execution_count": null,
      "outputs": []
    },
    {
      "cell_type": "code",
      "source": [
        "%%time\n",
        "sgd.fit(X_train, y_train)"
      ],
      "metadata": {
        "colab": {
          "base_uri": "https://localhost:8080/"
        },
        "id": "TA9PJZHLyOZy",
        "outputId": "b4042381-86de-4890-a433-927ed805f0fa"
      },
      "execution_count": null,
      "outputs": [
        {
          "output_type": "stream",
          "name": "stdout",
          "text": [
            "CPU times: user 99.7 ms, sys: 14.8 ms, total: 114 ms\n",
            "Wall time: 108 ms\n"
          ]
        },
        {
          "output_type": "execute_result",
          "data": {
            "text/plain": [
              "Pipeline(steps=[('vect', CountVectorizer()), ('tfidf', TfidfTransformer()),\n",
              "                ('sgd',\n",
              "                 SGDClassifier(alpha=0.001, max_iter=5, random_state=42,\n",
              "                               tol=None))])"
            ]
          },
          "metadata": {},
          "execution_count": 27
        }
      ]
    },
    {
      "cell_type": "code",
      "source": [
        "%%time\n",
        "y_pred = sgd.predict(X_test)"
      ],
      "metadata": {
        "colab": {
          "base_uri": "https://localhost:8080/"
        },
        "id": "IGXAy2UiyQk7",
        "outputId": "2314ef73-a777-45b8-de21-9611b433854e"
      },
      "execution_count": null,
      "outputs": [
        {
          "output_type": "stream",
          "name": "stdout",
          "text": [
            "CPU times: user 27.2 ms, sys: 0 ns, total: 27.2 ms\n",
            "Wall time: 30.3 ms\n"
          ]
        }
      ]
    },
    {
      "cell_type": "code",
      "source": [
        "print('accuracy %s' % accuracy_score(y_pred, y_test))\n",
        "print(classification_report(y_test, y_pred,target_names=my_tags))"
      ],
      "metadata": {
        "colab": {
          "base_uri": "https://localhost:8080/"
        },
        "id": "Ok7St_k7ySOj",
        "outputId": "263e86dd-6da1-47c9-c91d-31c17a7869d7"
      },
      "execution_count": null,
      "outputs": [
        {
          "output_type": "stream",
          "name": "stdout",
          "text": [
            "accuracy 0.6280193236714976\n",
            "              precision    recall  f1-score   support\n",
            "\n",
            "           1       0.59      0.22      0.32       143\n",
            "           2       0.84      0.38      0.53        68\n",
            "           3       0.63      0.96      0.76       335\n",
            "           4       0.38      0.24      0.29        38\n",
            "           5       0.60      0.08      0.14        37\n",
            "\n",
            "    accuracy                           0.63       621\n",
            "   macro avg       0.61      0.38      0.41       621\n",
            "weighted avg       0.63      0.63      0.57       621\n",
            "\n"
          ]
        }
      ]
    },
    {
      "cell_type": "markdown",
      "source": [
        "### Случайный лес"
      ],
      "metadata": {
        "id": "M_avLUFHbUAH"
      }
    },
    {
      "cell_type": "code",
      "source": [
        "from sklearn.ensemble import RandomForestClassifier\n",
        "\n",
        "rf_model = Pipeline([('vect', CountVectorizer()),\n",
        "                ('tfidf', TfidfTransformer()),\n",
        "                ('rf', RandomForestClassifier()),\n",
        "               ])"
      ],
      "metadata": {
        "id": "04bwxvr4bXk-"
      },
      "execution_count": null,
      "outputs": []
    },
    {
      "cell_type": "code",
      "source": [
        "%%time\n",
        "rf_model.fit(X_train, y_train)"
      ],
      "metadata": {
        "colab": {
          "base_uri": "https://localhost:8080/"
        },
        "id": "HLn__zTMbsOe",
        "outputId": "c2e9a658-093e-497b-dfbc-b09aea868c4a"
      },
      "execution_count": null,
      "outputs": [
        {
          "output_type": "stream",
          "name": "stdout",
          "text": [
            "CPU times: user 1.12 s, sys: 4.03 ms, total: 1.12 s\n",
            "Wall time: 1.12 s\n"
          ]
        },
        {
          "output_type": "execute_result",
          "data": {
            "text/plain": [
              "Pipeline(steps=[('vect', CountVectorizer()), ('tfidf', TfidfTransformer()),\n",
              "                ('rf', RandomForestClassifier())])"
            ]
          },
          "metadata": {},
          "execution_count": 31
        }
      ]
    },
    {
      "cell_type": "code",
      "source": [
        "print('accuracy %s' % accuracy_score(y_pred, y_test))\n",
        "print(classification_report(y_test, y_pred,target_names=my_tags))"
      ],
      "metadata": {
        "colab": {
          "base_uri": "https://localhost:8080/"
        },
        "id": "piUZh9U2cLNu",
        "outputId": "15db5cac-329d-44d0-e783-00ba87e17221"
      },
      "execution_count": null,
      "outputs": [
        {
          "output_type": "stream",
          "name": "stdout",
          "text": [
            "accuracy 0.6280193236714976\n",
            "              precision    recall  f1-score   support\n",
            "\n",
            "           1       0.59      0.22      0.32       143\n",
            "           2       0.84      0.38      0.53        68\n",
            "           3       0.63      0.96      0.76       335\n",
            "           4       0.38      0.24      0.29        38\n",
            "           5       0.60      0.08      0.14        37\n",
            "\n",
            "    accuracy                           0.63       621\n",
            "   macro avg       0.61      0.38      0.41       621\n",
            "weighted avg       0.63      0.63      0.57       621\n",
            "\n"
          ]
        }
      ]
    },
    {
      "cell_type": "markdown",
      "source": [
        "### Logistic Regression"
      ],
      "metadata": {
        "id": "HQ39MCMgyecu"
      }
    },
    {
      "cell_type": "code",
      "source": [
        "from sklearn.linear_model import LogisticRegression\n",
        "\n",
        "logreg = Pipeline([('vect', CountVectorizer()),\n",
        "                ('tfidf', TfidfTransformer()),\n",
        "                ('logreg', LogisticRegression(n_jobs=1, C=1e5)),\n",
        "               ])"
      ],
      "metadata": {
        "id": "4yhEZxoAycdq"
      },
      "execution_count": null,
      "outputs": []
    },
    {
      "cell_type": "code",
      "source": [
        "%%time\n",
        "logreg.fit(X_train, y_train)"
      ],
      "metadata": {
        "id": "dWfnPLabyiEa",
        "colab": {
          "base_uri": "https://localhost:8080/"
        },
        "outputId": "82b7e74d-facd-48c5-b965-74a504d194ca"
      },
      "execution_count": null,
      "outputs": [
        {
          "output_type": "stream",
          "name": "stdout",
          "text": [
            "CPU times: user 1.92 s, sys: 2.26 s, total: 4.18 s\n",
            "Wall time: 2.39 s\n"
          ]
        },
        {
          "output_type": "stream",
          "name": "stderr",
          "text": [
            "/usr/local/lib/python3.7/dist-packages/sklearn/linear_model/_logistic.py:818: ConvergenceWarning: lbfgs failed to converge (status=1):\n",
            "STOP: TOTAL NO. of ITERATIONS REACHED LIMIT.\n",
            "\n",
            "Increase the number of iterations (max_iter) or scale the data as shown in:\n",
            "    https://scikit-learn.org/stable/modules/preprocessing.html\n",
            "Please also refer to the documentation for alternative solver options:\n",
            "    https://scikit-learn.org/stable/modules/linear_model.html#logistic-regression\n",
            "  extra_warning_msg=_LOGISTIC_SOLVER_CONVERGENCE_MSG,\n"
          ]
        },
        {
          "output_type": "execute_result",
          "data": {
            "text/plain": [
              "Pipeline(steps=[('vect', CountVectorizer()), ('tfidf', TfidfTransformer()),\n",
              "                ('logreg', LogisticRegression(C=100000.0, n_jobs=1))])"
            ]
          },
          "metadata": {},
          "execution_count": 34
        }
      ]
    },
    {
      "cell_type": "code",
      "source": [
        "%%time\n",
        "y_pred = logreg.predict(X_test)"
      ],
      "metadata": {
        "colab": {
          "base_uri": "https://localhost:8080/"
        },
        "id": "apPM8wZhyjg0",
        "outputId": "5be9e5e2-fe95-4c9c-eeb1-3fd4875f7bb1"
      },
      "execution_count": null,
      "outputs": [
        {
          "output_type": "stream",
          "name": "stdout",
          "text": [
            "CPU times: user 51.2 ms, sys: 75.1 ms, total: 126 ms\n",
            "Wall time: 70.6 ms\n"
          ]
        }
      ]
    },
    {
      "cell_type": "code",
      "source": [
        "print('accuracy %s' % accuracy_score(y_pred, y_test))\n",
        "print(classification_report(y_test, y_pred,target_names=my_tags))"
      ],
      "metadata": {
        "colab": {
          "base_uri": "https://localhost:8080/"
        },
        "id": "UphnsA1eymp6",
        "outputId": "80b006b4-b528-4c70-ec0f-a13c7f5b847a"
      },
      "execution_count": null,
      "outputs": [
        {
          "output_type": "stream",
          "name": "stdout",
          "text": [
            "accuracy 0.642512077294686\n",
            "              precision    recall  f1-score   support\n",
            "\n",
            "           1       0.55      0.36      0.43       143\n",
            "           2       0.79      0.46      0.58        68\n",
            "           3       0.67      0.87      0.76       335\n",
            "           4       0.42      0.50      0.46        38\n",
            "           5       0.67      0.16      0.26        37\n",
            "\n",
            "    accuracy                           0.64       621\n",
            "   macro avg       0.62      0.47      0.50       621\n",
            "weighted avg       0.64      0.64      0.62       621\n",
            "\n"
          ]
        }
      ]
    },
    {
      "cell_type": "markdown",
      "source": [
        ""
      ],
      "metadata": {
        "id": "4YtB9BylysCa"
      }
    },
    {
      "cell_type": "code",
      "source": [
        "X_train[0]"
      ],
      "metadata": {
        "colab": {
          "base_uri": "https://localhost:8080/",
          "height": 122
        },
        "id": "0XcK9RE8sMtv",
        "outputId": "2c350bfc-f213-4066-c8aa-6b53e32eeea8"
      },
      "execution_count": null,
      "outputs": [
        {
          "output_type": "execute_result",
          "data": {
            "application/vnd.google.colaboratory.intrinsic+json": {
              "type": "string"
            },
            "text/plain": [
              "'дизайнеры агентства fabula branding минск провели комплексную разработку торговой марки колбасных изделий друзей нейминг логотип дизайн упаковки оао гродненский мясокомбинат продукт – колбасные изделия среднего ценового сегмента сырокопченые сыровяленые вареные колбасы сосиски сардельки регионы продаж – беларусь россия ситуации потребления дружеские семейные застолья пикник гости быстрый перекус целевая аудитория – мужчины женщины лет решением стал теплый яркий желтый цвет который отстраивает продукт полке служит цветовым идентификатором торговой марки вызывает приятные ассоциации пикником дружескими посиделками даче дружелюбную приветливую стилистику дизайна поддерживает цифра образованная колбасками маркер категории также рукописный шрифт логотипа'"
            ]
          },
          "metadata": {},
          "execution_count": 67
        }
      ]
    },
    {
      "cell_type": "code",
      "source": [
        "y_pred[0]"
      ],
      "metadata": {
        "colab": {
          "base_uri": "https://localhost:8080/"
        },
        "id": "g1MMYojky8GL",
        "outputId": "d66c773d-dbc0-44cf-88cb-aacc9d9c13cd"
      },
      "execution_count": null,
      "outputs": [
        {
          "output_type": "execute_result",
          "data": {
            "text/plain": [
              "3"
            ]
          },
          "metadata": {},
          "execution_count": 64
        }
      ]
    },
    {
      "cell_type": "code",
      "source": [
        "travel_text = '''отечественный концерн производству автомобилей отчитался росте продаж январе показатель увеличился тысяч единиц прогнозам компании lada vesta выйти третье место объему продаж россии'''"
      ],
      "metadata": {
        "id": "ozk2ci5GzP0q"
      },
      "execution_count": null,
      "outputs": []
    },
    {
      "cell_type": "code",
      "source": [
        "grow_up = remove_multiple_spaces(remove_numbers(remove_punctuation(travel_text.lower())))\n",
        "grow_up = remove_stop_words(travel_text)"
      ],
      "metadata": {
        "id": "6LE7gkiTzQWy"
      },
      "execution_count": null,
      "outputs": []
    },
    {
      "cell_type": "code",
      "source": [
        "pred = logreg.predict([grow_up])\n",
        "pred"
      ],
      "metadata": {
        "colab": {
          "base_uri": "https://localhost:8080/"
        },
        "id": "v5PXPyZgzS5C",
        "outputId": "0224cf2c-7b8c-48a7-ed10-647678af73a2"
      },
      "execution_count": null,
      "outputs": [
        {
          "output_type": "execute_result",
          "data": {
            "text/plain": [
              "array([4])"
            ]
          },
          "metadata": {},
          "execution_count": 57
        }
      ]
    },
    {
      "cell_type": "markdown",
      "source": [
        "было верно предсказана категория 4 - то есть новости об увеличении экономических показателей"
      ],
      "metadata": {
        "id": "QyZYYMcvzeaL"
      }
    },
    {
      "cell_type": "code",
      "source": [
        "sud_text='течение дней даты публикации сообщения урядовом курьере министерство проводить регистрацию заинтересованных расследовании лиц рассматривает требования относительно проведения слушаний течение дней мэрт рассматривает письменно изложенные комментарии информацию относительно возбуждения расследования'"
      ],
      "metadata": {
        "id": "kAdseCPDzk86"
      },
      "execution_count": null,
      "outputs": []
    },
    {
      "cell_type": "code",
      "source": [
        "sud = remove_multiple_spaces(remove_numbers(remove_punctuation(sud_text.lower())))\n",
        "sud = remove_stop_words(travel_text)"
      ],
      "metadata": {
        "id": "NOOMV0Vdz2vr"
      },
      "execution_count": null,
      "outputs": []
    },
    {
      "cell_type": "code",
      "source": [
        "pred = logreg.predict([sud])\n",
        "pred"
      ],
      "metadata": {
        "colab": {
          "base_uri": "https://localhost:8080/"
        },
        "id": "sZRAxo9Fz67j",
        "outputId": "8311109b-7a61-4a4c-8161-49176766d346"
      },
      "execution_count": null,
      "outputs": [
        {
          "output_type": "execute_result",
          "data": {
            "text/plain": [
              "array([4])"
            ]
          },
          "metadata": {},
          "execution_count": 77
        }
      ]
    },
    {
      "cell_type": "markdown",
      "source": [
        "### Кластеризация"
      ],
      "metadata": {
        "id": "QUOu00NR2Cb7"
      }
    },
    {
      "cell_type": "code",
      "source": [
        "texts = df_train['description']\n",
        "type(texts)"
      ],
      "metadata": {
        "colab": {
          "base_uri": "https://localhost:8080/"
        },
        "id": "vtf3oVMZ2RCy",
        "outputId": "b49b1689-6458-4d17-9761-0ee5c58063bb"
      },
      "execution_count": null,
      "outputs": [
        {
          "output_type": "execute_result",
          "data": {
            "text/plain": [
              "pandas.core.series.Series"
            ]
          },
          "metadata": {},
          "execution_count": 78
        }
      ]
    },
    {
      "cell_type": "code",
      "source": [
        "def token_and_stem(text):\n",
        "    tokens = [word for sent in nltk.sent_tokenize(text) for word in nltk.word_tokenize(sent)]\n",
        "    filtered_tokens = []\n",
        "    for token in tokens:\n",
        "        if re.search('[а-яА-Я]', token):\n",
        "            filtered_tokens.append(token)\n",
        "    stems = [stemmer.stem(t) for t in filtered_tokens]\n",
        "    return stems"
      ],
      "metadata": {
        "id": "P2xvbvT92KSL"
      },
      "execution_count": null,
      "outputs": []
    },
    {
      "cell_type": "code",
      "source": [
        "stopwords = nltk.corpus.stopwords.words('russian')\n",
        "#можно расширить список стоп-слов\n",
        "stopwords.extend(['что', 'это', 'так', 'вот', 'быть', 'как', 'в', 'к', 'на'])\n",
        "\n",
        "from sklearn.feature_extraction.text import TfidfVectorizer, CountVectorizer\n",
        "from sklearn.feature_extraction.text import TfidfVectorizer, CountVectorizer\n",
        "\n",
        "n_featur=200000\n",
        "tfidf_vectorizer = TfidfVectorizer(max_df=0.8, max_features=10000,\n",
        "                                 min_df=0.01, stop_words=stopwords,\n",
        "                                 use_idf=True, tokenizer=token_and_stem, ngram_range=(1,3))"
      ],
      "metadata": {
        "id": "Y2CJj0Ai2Enr"
      },
      "execution_count": null,
      "outputs": []
    },
    {
      "cell_type": "code",
      "source": [
        "%%time\n",
        "tfidf_matrix = tfidf_vectorizer.fit_transform(texts)\n"
      ],
      "metadata": {
        "colab": {
          "base_uri": "https://localhost:8080/"
        },
        "id": "ybds_NpC2Lhz",
        "outputId": "cad7fda9-fc52-4571-a250-afec6f1e6a9b"
      },
      "execution_count": null,
      "outputs": [
        {
          "output_type": "stream",
          "name": "stderr",
          "text": [
            "/usr/local/lib/python3.7/dist-packages/sklearn/feature_extraction/text.py:401: UserWarning: Your stop_words may be inconsistent with your preprocessing. Tokenizing the stop words generated tokens ['бол', 'больш', 'будт', 'быт', 'вед', 'впроч', 'всег', 'всегд', 'даж', 'друг', 'е', 'ег', 'ем', 'есл', 'ест', 'ещ', 'зач', 'зде', 'ил', 'иногд', 'когд', 'конечн', 'куд', 'лучш', 'межд', 'мен', 'мног', 'мо', 'можн', 'нег', 'нельз', 'нибуд', 'никогд', 'нич', 'опя', 'посл', 'пот', 'почт', 'разв', 'сво', 'себ', 'совс', 'теб', 'тепер', 'тог', 'тогд', 'тож', 'тольк', 'хорош', 'хот', 'чег', 'чут', 'эт'] not in stop_words.\n",
            "  % sorted(inconsistent)\n"
          ]
        },
        {
          "output_type": "stream",
          "name": "stdout",
          "text": [
            "CPU times: user 5.07 s, sys: 25.7 ms, total: 5.09 s\n",
            "Wall time: 5.1 s\n"
          ]
        }
      ]
    },
    {
      "cell_type": "code",
      "source": [
        "type(tfidf_matrix)\n",
        "tfidf_matrix"
      ],
      "metadata": {
        "colab": {
          "base_uri": "https://localhost:8080/"
        },
        "id": "3Sv1HGFP3DhL",
        "outputId": "b53dac85-89a5-4200-c8ce-5bf9b77a06b7"
      },
      "execution_count": null,
      "outputs": [
        {
          "output_type": "execute_result",
          "data": {
            "text/plain": [
              "<2069x462 sparse matrix of type '<class 'numpy.float64'>'\n",
              "\twith 22658 stored elements in Compressed Sparse Row format>"
            ]
          },
          "metadata": {},
          "execution_count": 82
        }
      ]
    },
    {
      "cell_type": "code",
      "source": [
        "num_clusters = 5\n",
        "\n",
        "# Метод к-средних - KMeans\n",
        "from sklearn.cluster import KMeans\n",
        "km = KMeans(n_clusters=num_clusters)"
      ],
      "metadata": {
        "id": "pCirkzlb3GMM"
      },
      "execution_count": null,
      "outputs": []
    },
    {
      "cell_type": "code",
      "source": [
        "%%time\n",
        "km.fit(tfidf_matrix)"
      ],
      "metadata": {
        "colab": {
          "base_uri": "https://localhost:8080/"
        },
        "id": "Lcj2twE53I_7",
        "outputId": "4e23dd89-47bb-44a6-b1ab-27ba02ae576f"
      },
      "execution_count": null,
      "outputs": [
        {
          "output_type": "stream",
          "name": "stdout",
          "text": [
            "CPU times: user 573 ms, sys: 15.8 ms, total: 589 ms\n",
            "Wall time: 322 ms\n"
          ]
        },
        {
          "output_type": "execute_result",
          "data": {
            "text/plain": [
              "KMeans(n_clusters=5)"
            ]
          },
          "metadata": {},
          "execution_count": 84
        }
      ]
    },
    {
      "cell_type": "code",
      "source": [
        "%%time\n",
        "idx = km.fit(tfidf_matrix)\n",
        "clusters = km.labels_.tolist()"
      ],
      "metadata": {
        "colab": {
          "base_uri": "https://localhost:8080/"
        },
        "id": "3lE2JCS13LGr",
        "outputId": "2f8a0317-401e-4e7a-c1b3-b2da40baa8d8"
      },
      "execution_count": null,
      "outputs": [
        {
          "output_type": "stream",
          "name": "stdout",
          "text": [
            "CPU times: user 628 ms, sys: 9.28 ms, total: 638 ms\n",
            "Wall time: 338 ms\n"
          ]
        }
      ]
    },
    {
      "cell_type": "code",
      "source": [
        "len(km.labels_)\n",
        "clusters[:10]"
      ],
      "metadata": {
        "colab": {
          "base_uri": "https://localhost:8080/"
        },
        "id": "odXFmsRM3M6-",
        "outputId": "3d4abac1-06cb-4c50-dbdd-04cae3de874f"
      },
      "execution_count": null,
      "outputs": [
        {
          "output_type": "execute_result",
          "data": {
            "text/plain": [
              "[1, 1, 1, 1, 1, 1, 0, 1, 0, 1]"
            ]
          },
          "metadata": {},
          "execution_count": 86
        }
      ]
    },
    {
      "cell_type": "code",
      "source": [
        "clusterkm = km.labels_.tolist()\n",
        "frame = pd.DataFrame(texts)\n",
        "\n",
        "#k-means\n",
        "out = { 'text': texts, 'cluster': clusterkm, 'topic': df_train['label'] }\n",
        "frame1 = pd.DataFrame(out, columns = ['text', 'cluster', 'topic'])"
      ],
      "metadata": {
        "id": "SUWQ5oPG3QOi"
      },
      "execution_count": null,
      "outputs": []
    },
    {
      "cell_type": "code",
      "source": [
        "frame1.head(10)"
      ],
      "metadata": {
        "colab": {
          "base_uri": "https://localhost:8080/",
          "height": 363
        },
        "id": "RgK2_53O3W3L",
        "outputId": "04aea834-4915-41da-e369-a86e40f3122a"
      },
      "execution_count": null,
      "outputs": [
        {
          "output_type": "execute_result",
          "data": {
            "text/html": [
              "\n",
              "  <div id=\"df-81249d09-7c39-4e06-8400-2668163b51ea\">\n",
              "    <div class=\"colab-df-container\">\n",
              "      <div>\n",
              "<style scoped>\n",
              "    .dataframe tbody tr th:only-of-type {\n",
              "        vertical-align: middle;\n",
              "    }\n",
              "\n",
              "    .dataframe tbody tr th {\n",
              "        vertical-align: top;\n",
              "    }\n",
              "\n",
              "    .dataframe thead th {\n",
              "        text-align: right;\n",
              "    }\n",
              "</style>\n",
              "<table border=\"1\" class=\"dataframe\">\n",
              "  <thead>\n",
              "    <tr style=\"text-align: right;\">\n",
              "      <th></th>\n",
              "      <th>text</th>\n",
              "      <th>cluster</th>\n",
              "      <th>topic</th>\n",
              "    </tr>\n",
              "  </thead>\n",
              "  <tbody>\n",
              "    <tr>\n",
              "      <th>0</th>\n",
              "      <td>Дизайнеры агентства Fabula Branding (Минск) пр...</td>\n",
              "      <td>1</td>\n",
              "      <td>1</td>\n",
              "    </tr>\n",
              "    <tr>\n",
              "      <th>1</th>\n",
              "      <td>В течение 30 дней, с даты публикации сообщения...</td>\n",
              "      <td>1</td>\n",
              "      <td>2</td>\n",
              "    </tr>\n",
              "    <tr>\n",
              "      <th>2</th>\n",
              "      <td>Глава государства назвал совершенно не имеющей...</td>\n",
              "      <td>1</td>\n",
              "      <td>2</td>\n",
              "    </tr>\n",
              "    <tr>\n",
              "      <th>3</th>\n",
              "      <td>Интерфакс-Россия, Новость: Авиакомпания \"Аврор...</td>\n",
              "      <td>1</td>\n",
              "      <td>3</td>\n",
              "    </tr>\n",
              "    <tr>\n",
              "      <th>4</th>\n",
              "      <td>Отечественный концерн по производству автомоби...</td>\n",
              "      <td>1</td>\n",
              "      <td>4</td>\n",
              "    </tr>\n",
              "    <tr>\n",
              "      <th>5</th>\n",
              "      <td>\"АвтоВАЗ\" начал продажи автомобилей Lada Vesta...</td>\n",
              "      <td>1</td>\n",
              "      <td>3</td>\n",
              "    </tr>\n",
              "    <tr>\n",
              "      <th>6</th>\n",
              "      <td>Совет директоров \"АвтоВАЗа\" принял стратегичес...</td>\n",
              "      <td>0</td>\n",
              "      <td>4</td>\n",
              "    </tr>\n",
              "    <tr>\n",
              "      <th>7</th>\n",
              "      <td>\"АвтоВАЗ\" завершил размещение дополнительных а...</td>\n",
              "      <td>1</td>\n",
              "      <td>3</td>\n",
              "    </tr>\n",
              "    <tr>\n",
              "      <th>8</th>\n",
              "      <td>\"АвтоВАЗ\" в январе увеличил продажи на 4,6% в ...</td>\n",
              "      <td>0</td>\n",
              "      <td>4</td>\n",
              "    </tr>\n",
              "    <tr>\n",
              "      <th>9</th>\n",
              "      <td>\"АвтоВАЗ\" сократит 740 человек (2% сотрудников...</td>\n",
              "      <td>1</td>\n",
              "      <td>5</td>\n",
              "    </tr>\n",
              "  </tbody>\n",
              "</table>\n",
              "</div>\n",
              "      <button class=\"colab-df-convert\" onclick=\"convertToInteractive('df-81249d09-7c39-4e06-8400-2668163b51ea')\"\n",
              "              title=\"Convert this dataframe to an interactive table.\"\n",
              "              style=\"display:none;\">\n",
              "        \n",
              "  <svg xmlns=\"http://www.w3.org/2000/svg\" height=\"24px\"viewBox=\"0 0 24 24\"\n",
              "       width=\"24px\">\n",
              "    <path d=\"M0 0h24v24H0V0z\" fill=\"none\"/>\n",
              "    <path d=\"M18.56 5.44l.94 2.06.94-2.06 2.06-.94-2.06-.94-.94-2.06-.94 2.06-2.06.94zm-11 1L8.5 8.5l.94-2.06 2.06-.94-2.06-.94L8.5 2.5l-.94 2.06-2.06.94zm10 10l.94 2.06.94-2.06 2.06-.94-2.06-.94-.94-2.06-.94 2.06-2.06.94z\"/><path d=\"M17.41 7.96l-1.37-1.37c-.4-.4-.92-.59-1.43-.59-.52 0-1.04.2-1.43.59L10.3 9.45l-7.72 7.72c-.78.78-.78 2.05 0 2.83L4 21.41c.39.39.9.59 1.41.59.51 0 1.02-.2 1.41-.59l7.78-7.78 2.81-2.81c.8-.78.8-2.07 0-2.86zM5.41 20L4 18.59l7.72-7.72 1.47 1.35L5.41 20z\"/>\n",
              "  </svg>\n",
              "      </button>\n",
              "      \n",
              "  <style>\n",
              "    .colab-df-container {\n",
              "      display:flex;\n",
              "      flex-wrap:wrap;\n",
              "      gap: 12px;\n",
              "    }\n",
              "\n",
              "    .colab-df-convert {\n",
              "      background-color: #E8F0FE;\n",
              "      border: none;\n",
              "      border-radius: 50%;\n",
              "      cursor: pointer;\n",
              "      display: none;\n",
              "      fill: #1967D2;\n",
              "      height: 32px;\n",
              "      padding: 0 0 0 0;\n",
              "      width: 32px;\n",
              "    }\n",
              "\n",
              "    .colab-df-convert:hover {\n",
              "      background-color: #E2EBFA;\n",
              "      box-shadow: 0px 1px 2px rgba(60, 64, 67, 0.3), 0px 1px 3px 1px rgba(60, 64, 67, 0.15);\n",
              "      fill: #174EA6;\n",
              "    }\n",
              "\n",
              "    [theme=dark] .colab-df-convert {\n",
              "      background-color: #3B4455;\n",
              "      fill: #D2E3FC;\n",
              "    }\n",
              "\n",
              "    [theme=dark] .colab-df-convert:hover {\n",
              "      background-color: #434B5C;\n",
              "      box-shadow: 0px 1px 3px 1px rgba(0, 0, 0, 0.15);\n",
              "      filter: drop-shadow(0px 1px 2px rgba(0, 0, 0, 0.3));\n",
              "      fill: #FFFFFF;\n",
              "    }\n",
              "  </style>\n",
              "\n",
              "      <script>\n",
              "        const buttonEl =\n",
              "          document.querySelector('#df-81249d09-7c39-4e06-8400-2668163b51ea button.colab-df-convert');\n",
              "        buttonEl.style.display =\n",
              "          google.colab.kernel.accessAllowed ? 'block' : 'none';\n",
              "\n",
              "        async function convertToInteractive(key) {\n",
              "          const element = document.querySelector('#df-81249d09-7c39-4e06-8400-2668163b51ea');\n",
              "          const dataTable =\n",
              "            await google.colab.kernel.invokeFunction('convertToInteractive',\n",
              "                                                     [key], {});\n",
              "          if (!dataTable) return;\n",
              "\n",
              "          const docLinkHtml = 'Like what you see? Visit the ' +\n",
              "            '<a target=\"_blank\" href=https://colab.research.google.com/notebooks/data_table.ipynb>data table notebook</a>'\n",
              "            + ' to learn more about interactive tables.';\n",
              "          element.innerHTML = '';\n",
              "          dataTable['output_type'] = 'display_data';\n",
              "          await google.colab.output.renderOutput(dataTable, element);\n",
              "          const docLink = document.createElement('div');\n",
              "          docLink.innerHTML = docLinkHtml;\n",
              "          element.appendChild(docLink);\n",
              "        }\n",
              "      </script>\n",
              "    </div>\n",
              "  </div>\n",
              "  "
            ],
            "text/plain": [
              "                                                text  cluster  topic\n",
              "0  Дизайнеры агентства Fabula Branding (Минск) пр...        1      1\n",
              "1  В течение 30 дней, с даты публикации сообщения...        1      2\n",
              "2  Глава государства назвал совершенно не имеющей...        1      2\n",
              "3  Интерфакс-Россия, Новость: Авиакомпания \"Аврор...        1      3\n",
              "4  Отечественный концерн по производству автомоби...        1      4\n",
              "5  \"АвтоВАЗ\" начал продажи автомобилей Lada Vesta...        1      3\n",
              "6  Совет директоров \"АвтоВАЗа\" принял стратегичес...        0      4\n",
              "7  \"АвтоВАЗ\" завершил размещение дополнительных а...        1      3\n",
              "8  \"АвтоВАЗ\" в январе увеличил продажи на 4,6% в ...        0      4\n",
              "9  \"АвтоВАЗ\" сократит 740 человек (2% сотрудников...        1      5"
            ]
          },
          "metadata": {},
          "execution_count": 88
        }
      ]
    },
    {
      "cell_type": "code",
      "source": [
        "frame1.tail(10)"
      ],
      "metadata": {
        "colab": {
          "base_uri": "https://localhost:8080/",
          "height": 453
        },
        "id": "lWUBwlE53c4k",
        "outputId": "939ef674-cfaa-4ac8-b14c-b5c074344415"
      },
      "execution_count": null,
      "outputs": [
        {
          "output_type": "execute_result",
          "data": {
            "text/html": [
              "\n",
              "  <div id=\"df-7ad23503-25ed-4ea3-9b26-8253811c447e\">\n",
              "    <div class=\"colab-df-container\">\n",
              "      <div>\n",
              "<style scoped>\n",
              "    .dataframe tbody tr th:only-of-type {\n",
              "        vertical-align: middle;\n",
              "    }\n",
              "\n",
              "    .dataframe tbody tr th {\n",
              "        vertical-align: top;\n",
              "    }\n",
              "\n",
              "    .dataframe thead th {\n",
              "        text-align: right;\n",
              "    }\n",
              "</style>\n",
              "<table border=\"1\" class=\"dataframe\">\n",
              "  <thead>\n",
              "    <tr style=\"text-align: right;\">\n",
              "      <th></th>\n",
              "      <th>text</th>\n",
              "      <th>cluster</th>\n",
              "      <th>topic</th>\n",
              "    </tr>\n",
              "  </thead>\n",
              "  <tbody>\n",
              "    <tr>\n",
              "      <th>2059</th>\n",
              "      <td>Шведский концерн IKEA, которому принадлежит кр...</td>\n",
              "      <td>1</td>\n",
              "      <td>3</td>\n",
              "    </tr>\n",
              "    <tr>\n",
              "      <th>2060</th>\n",
              "      <td>Шведская компания IKEA выплатит $50 млн в каче...</td>\n",
              "      <td>0</td>\n",
              "      <td>2</td>\n",
              "    </tr>\n",
              "    <tr>\n",
              "      <th>2061</th>\n",
              "      <td>Компания IRI Investments Lietuva, контролируем...</td>\n",
              "      <td>0</td>\n",
              "      <td>3</td>\n",
              "    </tr>\n",
              "    <tr>\n",
              "      <th>2062</th>\n",
              "      <td>Краснинский суд Смоленской области арестовал с...</td>\n",
              "      <td>3</td>\n",
              "      <td>2</td>\n",
              "    </tr>\n",
              "    <tr>\n",
              "      <th>2063</th>\n",
              "      <td>Шведская компания IKEA не согласна с решением ...</td>\n",
              "      <td>3</td>\n",
              "      <td>2</td>\n",
              "    </tr>\n",
              "    <tr>\n",
              "      <th>2064</th>\n",
              "      <td>Шведская IKEA не будет строить торговый центр ...</td>\n",
              "      <td>1</td>\n",
              "      <td>3</td>\n",
              "    </tr>\n",
              "    <tr>\n",
              "      <th>2065</th>\n",
              "      <td>Шведская IKEA планирует выставить права на дол...</td>\n",
              "      <td>1</td>\n",
              "      <td>3</td>\n",
              "    </tr>\n",
              "    <tr>\n",
              "      <th>2066</th>\n",
              "      <td>Шведская компания IKEA намерена трудоустроить ...</td>\n",
              "      <td>0</td>\n",
              "      <td>3</td>\n",
              "    </tr>\n",
              "    <tr>\n",
              "      <th>2067</th>\n",
              "      <td>Шведский ритейлер IKEA направил обращение упол...</td>\n",
              "      <td>1</td>\n",
              "      <td>2</td>\n",
              "    </tr>\n",
              "    <tr>\n",
              "      <th>2068</th>\n",
              "      <td>Каждый пятый товар сети подешевеет на 15–20%</td>\n",
              "      <td>1</td>\n",
              "      <td>5</td>\n",
              "    </tr>\n",
              "  </tbody>\n",
              "</table>\n",
              "</div>\n",
              "      <button class=\"colab-df-convert\" onclick=\"convertToInteractive('df-7ad23503-25ed-4ea3-9b26-8253811c447e')\"\n",
              "              title=\"Convert this dataframe to an interactive table.\"\n",
              "              style=\"display:none;\">\n",
              "        \n",
              "  <svg xmlns=\"http://www.w3.org/2000/svg\" height=\"24px\"viewBox=\"0 0 24 24\"\n",
              "       width=\"24px\">\n",
              "    <path d=\"M0 0h24v24H0V0z\" fill=\"none\"/>\n",
              "    <path d=\"M18.56 5.44l.94 2.06.94-2.06 2.06-.94-2.06-.94-.94-2.06-.94 2.06-2.06.94zm-11 1L8.5 8.5l.94-2.06 2.06-.94-2.06-.94L8.5 2.5l-.94 2.06-2.06.94zm10 10l.94 2.06.94-2.06 2.06-.94-2.06-.94-.94-2.06-.94 2.06-2.06.94z\"/><path d=\"M17.41 7.96l-1.37-1.37c-.4-.4-.92-.59-1.43-.59-.52 0-1.04.2-1.43.59L10.3 9.45l-7.72 7.72c-.78.78-.78 2.05 0 2.83L4 21.41c.39.39.9.59 1.41.59.51 0 1.02-.2 1.41-.59l7.78-7.78 2.81-2.81c.8-.78.8-2.07 0-2.86zM5.41 20L4 18.59l7.72-7.72 1.47 1.35L5.41 20z\"/>\n",
              "  </svg>\n",
              "      </button>\n",
              "      \n",
              "  <style>\n",
              "    .colab-df-container {\n",
              "      display:flex;\n",
              "      flex-wrap:wrap;\n",
              "      gap: 12px;\n",
              "    }\n",
              "\n",
              "    .colab-df-convert {\n",
              "      background-color: #E8F0FE;\n",
              "      border: none;\n",
              "      border-radius: 50%;\n",
              "      cursor: pointer;\n",
              "      display: none;\n",
              "      fill: #1967D2;\n",
              "      height: 32px;\n",
              "      padding: 0 0 0 0;\n",
              "      width: 32px;\n",
              "    }\n",
              "\n",
              "    .colab-df-convert:hover {\n",
              "      background-color: #E2EBFA;\n",
              "      box-shadow: 0px 1px 2px rgba(60, 64, 67, 0.3), 0px 1px 3px 1px rgba(60, 64, 67, 0.15);\n",
              "      fill: #174EA6;\n",
              "    }\n",
              "\n",
              "    [theme=dark] .colab-df-convert {\n",
              "      background-color: #3B4455;\n",
              "      fill: #D2E3FC;\n",
              "    }\n",
              "\n",
              "    [theme=dark] .colab-df-convert:hover {\n",
              "      background-color: #434B5C;\n",
              "      box-shadow: 0px 1px 3px 1px rgba(0, 0, 0, 0.15);\n",
              "      filter: drop-shadow(0px 1px 2px rgba(0, 0, 0, 0.3));\n",
              "      fill: #FFFFFF;\n",
              "    }\n",
              "  </style>\n",
              "\n",
              "      <script>\n",
              "        const buttonEl =\n",
              "          document.querySelector('#df-7ad23503-25ed-4ea3-9b26-8253811c447e button.colab-df-convert');\n",
              "        buttonEl.style.display =\n",
              "          google.colab.kernel.accessAllowed ? 'block' : 'none';\n",
              "\n",
              "        async function convertToInteractive(key) {\n",
              "          const element = document.querySelector('#df-7ad23503-25ed-4ea3-9b26-8253811c447e');\n",
              "          const dataTable =\n",
              "            await google.colab.kernel.invokeFunction('convertToInteractive',\n",
              "                                                     [key], {});\n",
              "          if (!dataTable) return;\n",
              "\n",
              "          const docLinkHtml = 'Like what you see? Visit the ' +\n",
              "            '<a target=\"_blank\" href=https://colab.research.google.com/notebooks/data_table.ipynb>data table notebook</a>'\n",
              "            + ' to learn more about interactive tables.';\n",
              "          element.innerHTML = '';\n",
              "          dataTable['output_type'] = 'display_data';\n",
              "          await google.colab.output.renderOutput(dataTable, element);\n",
              "          const docLink = document.createElement('div');\n",
              "          docLink.innerHTML = docLinkHtml;\n",
              "          element.appendChild(docLink);\n",
              "        }\n",
              "      </script>\n",
              "    </div>\n",
              "  </div>\n",
              "  "
            ],
            "text/plain": [
              "                                                   text  cluster  topic\n",
              "2059  Шведский концерн IKEA, которому принадлежит кр...        1      3\n",
              "2060  Шведская компания IKEA выплатит $50 млн в каче...        0      2\n",
              "2061  Компания IRI Investments Lietuva, контролируем...        0      3\n",
              "2062  Краснинский суд Смоленской области арестовал с...        3      2\n",
              "2063  Шведская компания IKEA не согласна с решением ...        3      2\n",
              "2064  Шведская IKEA не будет строить торговый центр ...        1      3\n",
              "2065  Шведская IKEA планирует выставить права на дол...        1      3\n",
              "2066  Шведская компания IKEA намерена трудоустроить ...        0      3\n",
              "2067  Шведский ритейлер IKEA направил обращение упол...        1      2\n",
              "2068       Каждый пятый товар сети подешевеет на 15–20%        1      5"
            ]
          },
          "metadata": {},
          "execution_count": 89
        }
      ]
    },
    {
      "cell_type": "code",
      "source": [
        "frame1.describe()"
      ],
      "metadata": {
        "colab": {
          "base_uri": "https://localhost:8080/",
          "height": 300
        },
        "id": "rztvuLPI3nfs",
        "outputId": "47979d91-f2ee-485f-a87c-6d5c392cb1eb"
      },
      "execution_count": null,
      "outputs": [
        {
          "output_type": "execute_result",
          "data": {
            "text/html": [
              "\n",
              "  <div id=\"df-5a85e091-8628-4677-940b-c077c9605e79\">\n",
              "    <div class=\"colab-df-container\">\n",
              "      <div>\n",
              "<style scoped>\n",
              "    .dataframe tbody tr th:only-of-type {\n",
              "        vertical-align: middle;\n",
              "    }\n",
              "\n",
              "    .dataframe tbody tr th {\n",
              "        vertical-align: top;\n",
              "    }\n",
              "\n",
              "    .dataframe thead th {\n",
              "        text-align: right;\n",
              "    }\n",
              "</style>\n",
              "<table border=\"1\" class=\"dataframe\">\n",
              "  <thead>\n",
              "    <tr style=\"text-align: right;\">\n",
              "      <th></th>\n",
              "      <th>cluster</th>\n",
              "      <th>topic</th>\n",
              "    </tr>\n",
              "  </thead>\n",
              "  <tbody>\n",
              "    <tr>\n",
              "      <th>count</th>\n",
              "      <td>2069.000000</td>\n",
              "      <td>2069.000000</td>\n",
              "    </tr>\n",
              "    <tr>\n",
              "      <th>mean</th>\n",
              "      <td>1.085549</td>\n",
              "      <td>2.631706</td>\n",
              "    </tr>\n",
              "    <tr>\n",
              "      <th>std</th>\n",
              "      <td>0.942203</td>\n",
              "      <td>1.075344</td>\n",
              "    </tr>\n",
              "    <tr>\n",
              "      <th>min</th>\n",
              "      <td>0.000000</td>\n",
              "      <td>1.000000</td>\n",
              "    </tr>\n",
              "    <tr>\n",
              "      <th>25%</th>\n",
              "      <td>1.000000</td>\n",
              "      <td>2.000000</td>\n",
              "    </tr>\n",
              "    <tr>\n",
              "      <th>50%</th>\n",
              "      <td>1.000000</td>\n",
              "      <td>3.000000</td>\n",
              "    </tr>\n",
              "    <tr>\n",
              "      <th>75%</th>\n",
              "      <td>1.000000</td>\n",
              "      <td>3.000000</td>\n",
              "    </tr>\n",
              "    <tr>\n",
              "      <th>max</th>\n",
              "      <td>4.000000</td>\n",
              "      <td>5.000000</td>\n",
              "    </tr>\n",
              "  </tbody>\n",
              "</table>\n",
              "</div>\n",
              "      <button class=\"colab-df-convert\" onclick=\"convertToInteractive('df-5a85e091-8628-4677-940b-c077c9605e79')\"\n",
              "              title=\"Convert this dataframe to an interactive table.\"\n",
              "              style=\"display:none;\">\n",
              "        \n",
              "  <svg xmlns=\"http://www.w3.org/2000/svg\" height=\"24px\"viewBox=\"0 0 24 24\"\n",
              "       width=\"24px\">\n",
              "    <path d=\"M0 0h24v24H0V0z\" fill=\"none\"/>\n",
              "    <path d=\"M18.56 5.44l.94 2.06.94-2.06 2.06-.94-2.06-.94-.94-2.06-.94 2.06-2.06.94zm-11 1L8.5 8.5l.94-2.06 2.06-.94-2.06-.94L8.5 2.5l-.94 2.06-2.06.94zm10 10l.94 2.06.94-2.06 2.06-.94-2.06-.94-.94-2.06-.94 2.06-2.06.94z\"/><path d=\"M17.41 7.96l-1.37-1.37c-.4-.4-.92-.59-1.43-.59-.52 0-1.04.2-1.43.59L10.3 9.45l-7.72 7.72c-.78.78-.78 2.05 0 2.83L4 21.41c.39.39.9.59 1.41.59.51 0 1.02-.2 1.41-.59l7.78-7.78 2.81-2.81c.8-.78.8-2.07 0-2.86zM5.41 20L4 18.59l7.72-7.72 1.47 1.35L5.41 20z\"/>\n",
              "  </svg>\n",
              "      </button>\n",
              "      \n",
              "  <style>\n",
              "    .colab-df-container {\n",
              "      display:flex;\n",
              "      flex-wrap:wrap;\n",
              "      gap: 12px;\n",
              "    }\n",
              "\n",
              "    .colab-df-convert {\n",
              "      background-color: #E8F0FE;\n",
              "      border: none;\n",
              "      border-radius: 50%;\n",
              "      cursor: pointer;\n",
              "      display: none;\n",
              "      fill: #1967D2;\n",
              "      height: 32px;\n",
              "      padding: 0 0 0 0;\n",
              "      width: 32px;\n",
              "    }\n",
              "\n",
              "    .colab-df-convert:hover {\n",
              "      background-color: #E2EBFA;\n",
              "      box-shadow: 0px 1px 2px rgba(60, 64, 67, 0.3), 0px 1px 3px 1px rgba(60, 64, 67, 0.15);\n",
              "      fill: #174EA6;\n",
              "    }\n",
              "\n",
              "    [theme=dark] .colab-df-convert {\n",
              "      background-color: #3B4455;\n",
              "      fill: #D2E3FC;\n",
              "    }\n",
              "\n",
              "    [theme=dark] .colab-df-convert:hover {\n",
              "      background-color: #434B5C;\n",
              "      box-shadow: 0px 1px 3px 1px rgba(0, 0, 0, 0.15);\n",
              "      filter: drop-shadow(0px 1px 2px rgba(0, 0, 0, 0.3));\n",
              "      fill: #FFFFFF;\n",
              "    }\n",
              "  </style>\n",
              "\n",
              "      <script>\n",
              "        const buttonEl =\n",
              "          document.querySelector('#df-5a85e091-8628-4677-940b-c077c9605e79 button.colab-df-convert');\n",
              "        buttonEl.style.display =\n",
              "          google.colab.kernel.accessAllowed ? 'block' : 'none';\n",
              "\n",
              "        async function convertToInteractive(key) {\n",
              "          const element = document.querySelector('#df-5a85e091-8628-4677-940b-c077c9605e79');\n",
              "          const dataTable =\n",
              "            await google.colab.kernel.invokeFunction('convertToInteractive',\n",
              "                                                     [key], {});\n",
              "          if (!dataTable) return;\n",
              "\n",
              "          const docLinkHtml = 'Like what you see? Visit the ' +\n",
              "            '<a target=\"_blank\" href=https://colab.research.google.com/notebooks/data_table.ipynb>data table notebook</a>'\n",
              "            + ' to learn more about interactive tables.';\n",
              "          element.innerHTML = '';\n",
              "          dataTable['output_type'] = 'display_data';\n",
              "          await google.colab.output.renderOutput(dataTable, element);\n",
              "          const docLink = document.createElement('div');\n",
              "          docLink.innerHTML = docLinkHtml;\n",
              "          element.appendChild(docLink);\n",
              "        }\n",
              "      </script>\n",
              "    </div>\n",
              "  </div>\n",
              "  "
            ],
            "text/plain": [
              "           cluster        topic\n",
              "count  2069.000000  2069.000000\n",
              "mean      1.085549     2.631706\n",
              "std       0.942203     1.075344\n",
              "min       0.000000     1.000000\n",
              "25%       1.000000     2.000000\n",
              "50%       1.000000     3.000000\n",
              "75%       1.000000     3.000000\n",
              "max       4.000000     5.000000"
            ]
          },
          "metadata": {},
          "execution_count": 90
        }
      ]
    },
    {
      "cell_type": "markdown",
      "source": [
        "## Биграммы, триграммы и прочее"
      ],
      "metadata": {
        "id": "1Q7kMVQcebGx"
      }
    },
    {
      "cell_type": "code",
      "source": [
        "from __future__ import unicode_literals\n",
        "import nltk\n",
        "from nltk import word_tokenize\n",
        "from nltk.util import ngrams\n",
        "from collections import Counter"
      ],
      "metadata": {
        "id": "erwvhevueumn"
      },
      "execution_count": null,
      "outputs": []
    },
    {
      "cell_type": "code",
      "source": [
        "def main_words1(row):\n",
        "      return nltk.word_tokenize(row['description'])# токинезация текста i-го документа "
      ],
      "metadata": {
        "id": "IKRtJo9EfBmf"
      },
      "execution_count": null,
      "outputs": []
    },
    {
      "cell_type": "code",
      "source": [
        "words1=df_train.apply(main_words1,axis=1)\n",
        "words1"
      ],
      "metadata": {
        "colab": {
          "base_uri": "https://localhost:8080/"
        },
        "id": "iciELRmDfCT_",
        "outputId": "d36441ec-2586-4bd9-a8c8-12648b1cb29c"
      },
      "execution_count": null,
      "outputs": [
        {
          "output_type": "execute_result",
          "data": {
            "text/plain": [
              "0       [Дизайнеры, агентства, Fabula, Branding, (, Ми...\n",
              "1       [В, течение, 30, дней, ,, с, даты, публикации,...\n",
              "2       [Глава, государства, назвал, совершенно, не, и...\n",
              "3       [Интерфакс-Россия, ,, Новость, :, Авиакомпания...\n",
              "4       [Отечественный, концерн, по, производству, авт...\n",
              "                              ...                        \n",
              "2145    [Шведская, IKEA, не, будет, строить, торговый,...\n",
              "2146    [Шведская, IKEA, планирует, выставить, права, ...\n",
              "2147    [Шведская, компания, IKEA, намерена, трудоустр...\n",
              "2148    [Шведский, ритейлер, IKEA, направил, обращение...\n",
              "2149    [Каждый, пятый, товар, сети, подешевеет, на, 1...\n",
              "Length: 2150, dtype: object"
            ]
          },
          "metadata": {},
          "execution_count": 53
        }
      ]
    },
    {
      "cell_type": "code",
      "source": [
        "ww=[]\n",
        "for i in range(len(words1)):\n",
        "  if type(words1[i])==list:\n",
        "     ww=ww+words1[i]\n",
        "word = list(filter(lambda x: x  != 'quot', ww))\n",
        "word_ws=[w.lower()  for w in   word if w.isalpha() ]#исключение слов и символов      \n",
        "token=[w for w in word_ws if w not in russian_stopwords ]#нижний регистр \n",
        "\n",
        "bigrams = ngrams(token,2)\n",
        "trigrams = ngrams(token,3)\n",
        "fourgrams = ngrams(token,4)\n",
        "fivegrams = ngrams(token,5)"
      ],
      "metadata": {
        "id": "hL3oieqPhTfY"
      },
      "execution_count": null,
      "outputs": []
    },
    {
      "cell_type": "code",
      "source": [
        "Counter(bigrams).most_common(5)"
      ],
      "metadata": {
        "colab": {
          "base_uri": "https://localhost:8080/"
        },
        "id": "DRMj90MQiwr5",
        "outputId": "cf0a823e-8a46-4b70-96a4-a6b78aadb633"
      },
      "execution_count": null,
      "outputs": [
        {
          "output_type": "execute_result",
          "data": {
            "text/plain": [
              "[(('говорится', 'сообщении'), 65),\n",
              " (('млрд', 'рублей'), 63),\n",
              " (('уровне', 'баррель'), 62),\n",
              " (('deutsche', 'bank'), 53),\n",
              " (('млрд', 'руб'), 47)]"
            ]
          },
          "metadata": {},
          "execution_count": 55
        }
      ]
    },
    {
      "cell_type": "code",
      "source": [
        "Counter(trigrams).most_common(5)"
      ],
      "metadata": {
        "colab": {
          "base_uri": "https://localhost:8080/"
        },
        "id": "1Jz_Lf3siy8_",
        "outputId": "8be1da11-d88f-4302-b33a-7f74ceb9a510"
      },
      "execution_count": null,
      "outputs": [
        {
          "output_type": "execute_result",
          "data": {
            "text/plain": [
              "[(('фьючерсы', 'brent', 'торговались'), 35),\n",
              " (('сообщает', 'rns', 'ссылкой'), 25),\n",
              " (('бирже', 'ice', 'futures'), 24),\n",
              " (('рейтинговое', 'агентство', 'fitch'), 24),\n",
              " (('сша', 'дональда', 'трампа'), 23)]"
            ]
          },
          "metadata": {},
          "execution_count": 56
        }
      ]
    },
    {
      "cell_type": "code",
      "source": [
        "Counter(fourgrams).most_common(5)"
      ],
      "metadata": {
        "colab": {
          "base_uri": "https://localhost:8080/"
        },
        "id": "X6qLj0cpiCOr",
        "outputId": "14e98d71-ab8a-47a8-fcc4-73e1aa5b307d"
      },
      "execution_count": null,
      "outputs": [
        {
          "output_type": "execute_result",
          "data": {
            "text/plain": [
              "[(('лондонской', 'бирже', 'ice', 'futures'), 23),\n",
              " (('президента', 'сша', 'дональда', 'трампа'), 22),\n",
              " (('международное', 'рейтинговое', 'агентство', 'fitch'), 21),\n",
              " (('фьючерсы', 'brent', 'торговались', 'лондоне'), 20),\n",
              " (('brent', 'торговались', 'лондоне', 'уровне'), 20)]"
            ]
          },
          "metadata": {},
          "execution_count": 57
        }
      ]
    },
    {
      "cell_type": "code",
      "source": [
        ""
      ],
      "metadata": {
        "id": "EZlZVgb9jHHQ"
      },
      "execution_count": null,
      "outputs": []
    },
    {
      "cell_type": "code",
      "source": [
        "Counter(fivegrams).most_common(5)"
      ],
      "metadata": {
        "colab": {
          "base_uri": "https://localhost:8080/"
        },
        "id": "ZFbKbeYIi2Bn",
        "outputId": "e71bf08c-bb61-44de-a887-f8f554323284"
      },
      "execution_count": null,
      "outputs": [
        {
          "output_type": "execute_result",
          "data": {
            "text/plain": [
              "[(('фьючерсы', 'brent', 'торговались', 'лондоне', 'уровне'), 20),\n",
              " (('brent', 'торговались', 'лондоне', 'уровне', 'баррель'), 20),\n",
              " (('электронных', 'торгах', 'товарной', 'биржи', 'nymex'), 15),\n",
              " (('общий', 'объем', 'продажи', 'иностранной', 'валюты'), 14),\n",
              " (('объем', 'продажи', 'иностранной', 'валюты', 'долларовом'), 14)]"
            ]
          },
          "metadata": {},
          "execution_count": 58
        }
      ]
    },
    {
      "cell_type": "markdown",
      "source": [
        "### BigARTM"
      ],
      "metadata": {
        "id": "ArzBHeacQ5bE"
      }
    },
    {
      "cell_type": "code",
      "source": [
        "text=df_train['description']\n",
        "freq=nltk.FreqDist(text)"
      ],
      "metadata": {
        "id": "71pMihGUQ9O0"
      },
      "execution_count": null,
      "outputs": []
    },
    {
      "cell_type": "markdown",
      "source": [
        "посмотрим наиболее часто встречающиеся слова, возможно, отсюда уже можно будет ориентироваться на категории новостей"
      ],
      "metadata": {
        "id": "H3b_nal0eAMq"
      }
    },
    {
      "cell_type": "code",
      "source": [
        "## Creating FreqDist for whole BoW, keeping the 20 most common tokens\n",
        "all_fdist = freq.most_common(20)\n",
        "\n",
        "## Conversion to Pandas series via Python Dictionary for easier plotting\n",
        "all_fdist = pd.Series(dict(all_fdist))\n",
        "\n",
        "## Setting figure, ax into variables\n",
        "fig, ax = plt.subplots(figsize=(10,10))\n",
        "\n",
        "## Seaborn plotting using Pandas attributes + xtick rotation for ease of viewing\n",
        "all_plot = sns.barplot(x=all_fdist.index, y=all_fdist.values, ax=ax)\n",
        "plt.xticks(rotation=30);"
      ],
      "metadata": {
        "colab": {
          "base_uri": "https://localhost:8080/",
          "height": 621
        },
        "id": "dmA4CwpJd44B",
        "outputId": "9ef60dcd-c8c8-4a75-c1bc-cd1fc6bb8ccb"
      },
      "execution_count": null,
      "outputs": [
        {
          "output_type": "display_data",
          "data": {
            "image/png": "[encoded data removed]",
            "text/plain": [
              "<Figure size 720x720 with 1 Axes>"
            ]
          },
          "metadata": {
            "needs_background": "light"
          }
        }
      ]
    },
    {
      "cell_type": "markdown",
      "source": [
        "нет, это все общеупотребительные слова"
      ],
      "metadata": {
        "id": "t1X0fN0OfCux"
      }
    },
    {
      "cell_type": "code",
      "source": [
        "text"
      ],
      "metadata": {
        "colab": {
          "base_uri": "https://localhost:8080/"
        },
        "id": "_b1rXV1jTGXE",
        "outputId": "41a6b209-9121-428b-d198-3fb5f8350f9e"
      },
      "execution_count": null,
      "outputs": [
        {
          "output_type": "execute_result",
          "data": {
            "text/plain": [
              "0       Дизайнеры агентства Fabula Branding (Минск) пр...\n",
              "1       В течение 30 дней, с даты публикации сообщения...\n",
              "2       Глава государства назвал совершенно не имеющей...\n",
              "3       Интерфакс-Россия, Новость:\\nАвиакомпания \"Авро...\n",
              "4       Отечественный концерн по производству автомоби...\n",
              "                              ...                        \n",
              "2145    Шведская IKEA не будет строить торговый центр ...\n",
              "2146    Шведская IKEA планирует выставить права на дол...\n",
              "2147    Шведская компания IKEA намерена трудоустроить ...\n",
              "2148    Шведский ритейлер IKEA направил обращение упол...\n",
              "2149         Каждый пятый товар сети подешевеет на 15–20%\n",
              "Name: description, Length: 2150, dtype: object"
            ]
          },
          "metadata": {},
          "execution_count": 60
        }
      ]
    },
    {
      "cell_type": "code",
      "source": [
        "def main_words1(row):\n",
        "      return nltk.word_tokenize(row['description'])# токинезация текста i-го документа "
      ],
      "metadata": {
        "id": "rn_HxrWx86gq"
      },
      "execution_count": null,
      "outputs": []
    },
    {
      "cell_type": "code",
      "source": [
        "words1=df_train.apply(main_words1,axis=1)"
      ],
      "metadata": {
        "id": "bwGjIYhV-AeB"
      },
      "execution_count": null,
      "outputs": []
    },
    {
      "cell_type": "code",
      "source": [
        "words1"
      ],
      "metadata": {
        "colab": {
          "base_uri": "https://localhost:8080/"
        },
        "id": "YETADDm7Eoch",
        "outputId": "016d6b0b-2948-4895-d9b8-2facc4f3dce0"
      },
      "execution_count": null,
      "outputs": [
        {
          "output_type": "execute_result",
          "data": {
            "text/plain": [
              "0       [Дизайнеры, агентства, Fabula, Branding, (, Ми...\n",
              "1       [В, течение, 30, дней, ,, с, даты, публикации,...\n",
              "2       [Глава, государства, назвал, совершенно, не, и...\n",
              "3       [Интерфакс-Россия, ,, Новость, :, Авиакомпания...\n",
              "4       [Отечественный, концерн, по, производству, авт...\n",
              "                              ...                        \n",
              "2145    [Шведская, IKEA, не, будет, строить, торговый,...\n",
              "2146    [Шведская, IKEA, планирует, выставить, права, ...\n",
              "2147    [Шведская, компания, IKEA, намерена, трудоустр...\n",
              "2148    [Шведский, ритейлер, IKEA, направил, обращение...\n",
              "2149    [Каждый, пятый, товар, сети, подешевеет, на, 1...\n",
              "Length: 2150, dtype: object"
            ]
          },
          "metadata": {},
          "execution_count": 104
        }
      ]
    },
    {
      "cell_type": "code",
      "source": [
        "count=0\n",
        "ww=[]\n",
        "for i in range(len(words1)):\n",
        "  if type(words1[i])==list:\n",
        "     ww=ww+words1[i]\n",
        "     count+=1\n",
        "word = list(filter(lambda x: x  != 'quot', ww))\n",
        "word_ws=[w.lower()  for w in   word if w.isalpha() ]#исключение слов и символов      \n",
        "word_w=[w for w in word_ws if w not in russian_stopwords ]#нижний регистр \n",
        "lem = mystem.lemmatize ((\" \").join(word_w))# лемматизация i -го документа\n",
        "lem=[w for w in lem if w.isalpha() and len(w)>1] \n",
        "freq=nltk.FreqDist(lem)# распределение слов в i -м документе по частоте\n",
        "z=[]# обновление списка для нового документа\n",
        "z=[(key+\":\"+str(val)) for key,val in freq.items() if val>1] # частота упоминания через : от слова \n",
        "\n",
        "    #text=text+\"|text\" +\" \"+str((\" \").join(z))+'\\n'# запись в мешок слов с меткой |text     \n",
        "    #text=text+\"|text\" +\" \"+str((\" \").join(z).encode('utf-8'))+'\\n'# запись в мешок слов с меткой |text          \n",
        "c=[];d=[]\n",
        "for key,val in freq.items():#подготовка к сортировке слов по убыванию частоты в i -м документе\n",
        "        if val>1:\n",
        "            c.append(val); d.append(key)\n",
        "a=[];b=[]    \n",
        "for k in np.arange(0,len(c),1):#сортировка слов по убыванию частоты в i -м документе \n",
        "                ind=c.index(max(c));  a.append(c[ind])\n",
        "                b.append(d[ind]); del c[ind]; del d[ind]\n",
        "\n",
        "a=a[0:20];b=b[0:20]# TOP-10 для частот a  и слов b в i -м документе    \n",
        "y_pos = np.arange(1,len(a)+1,1)#построение TOP-10 диаграмм      \n",
        "performance =a\n",
        "plt.barh(y_pos, a)\n",
        "plt.yticks(y_pos, b)\n",
        "plt.xlabel(u'Количество слов')\n",
        "plt.title(u'Частоты слов в обучающей выборке', size=12)\n",
        "plt.grid(True)\n",
        "plt.show()  \n",
        "\n",
        "\n"
      ],
      "metadata": {
        "colab": {
          "base_uri": "https://localhost:8080/",
          "height": 486
        },
        "id": "c7BsbunBRd0w",
        "outputId": "559d6a2c-b7ea-4398-ebb0-1da2342034ca"
      },
      "execution_count": null,
      "outputs": [
        {
          "output_type": "stream",
          "name": "stderr",
          "text": [
            "Exception ignored in: <function BatchVectorizer.__del__ at 0x7fc435d63170>\n",
            "Traceback (most recent call last):\n",
            "  File \"/usr/local/lib/python3.7/dist-packages/artm/batches_utils.py\", line 137, in __del__\n",
            "    self.__dispose()\n",
            "  File \"/usr/local/lib/python3.7/dist-packages/artm/batches_utils.py\", line 130, in __dispose\n",
            "    shutil.rmtree(self._target_folder)\n",
            "  File \"/usr/lib/python3.7/shutil.py\", line 485, in rmtree\n",
            "    onerror(os.lstat, path, sys.exc_info())\n",
            "  File \"/usr/lib/python3.7/shutil.py\", line 483, in rmtree\n",
            "    orig_st = os.lstat(path)\n",
            "FileNotFoundError: [Errno 2] No such file or directory: 'urnuuidaf904b00-7ceb-11ec-8661-0242ac1c0002'\n"
          ]
        },
        {
          "output_type": "display_data",
          "data": {
            "image/png": "[encoded data removed]",
            "text/plain": [
              "<Figure size 432x288 with 1 Axes>"
            ]
          },
          "metadata": {
            "needs_background": "light"
          }
        }
      ]
    },
    {
      "cell_type": "code",
      "source": [
        "sw_texts_list = []\n",
        "for text in tqdm(df_train['text_prep']):\n",
        "    tokens = word_tokenize(text)    \n",
        "    tokens = [token for token in tokens if token not in russian_stopwords and token != ' ']\n",
        "    text = \" \".join(tokens)\n",
        "    sw_texts_list.append(text)\n",
        "\n",
        "df_train['text_sw'] = sw_texts_list"
      ],
      "metadata": {
        "colab": {
          "base_uri": "https://localhost:8080/",
          "height": 49,
          "referenced_widgets": [
            "ef0e55315ecf4e4d9139f92ab53a5d05",
            "9912ea8816c04508b0c98c776d266cae",
            "d601c402bc824654adb49016625a665f",
            "074d2e63ce474736a76cd129e287c4c3",
            "a43d430f9b0b4dc48f7cb0db2fb14369",
            "f7ffe0d9a58349269c420410df8ba588",
            "3d84a33452514df9aaa915a05abd3490",
            "4fc4c918c9ac4209bd4360a16e62b7b8",
            "7299efc4707e4d76ab184559dee70008",
            "d80aebcca6a44b9584faf00edbf112aa",
            "d4673d45fd964abfb90bf9ea3d3a7fe4"
          ]
        },
        "id": "0a7AMzkMkOQy",
        "outputId": "e107d22e-0246-4f4c-ae9c-d4a26ff8d214"
      },
      "execution_count": null,
      "outputs": [
        {
          "output_type": "display_data",
          "data": {
            "application/vnd.jupyter.widget-view+json": {
              "model_id": "ef0e55315ecf4e4d9139f92ab53a5d05",
              "version_minor": 0,
              "version_major": 2
            },
            "text/plain": [
              "  0%|          | 0/2069 [00:00<?, ?it/s]"
            ]
          },
          "metadata": {}
        }
      ]
    },
    {
      "cell_type": "code",
      "source": [
        "count"
      ],
      "metadata": {
        "colab": {
          "base_uri": "https://localhost:8080/"
        },
        "id": "T76lnDxBfb1x",
        "outputId": "439be383-b7ee-4208-b024-155bcb965215"
      },
      "execution_count": null,
      "outputs": [
        {
          "output_type": "execute_result",
          "data": {
            "text/plain": [
              "2150"
            ]
          },
          "metadata": {},
          "execution_count": 106
        }
      ]
    },
    {
      "cell_type": "code",
      "source": [
        "#здесь теперь word содержит все слова с обучающей выборки\n",
        "#далее это пригодится для bigARTM\n",
        "len(word)"
      ],
      "metadata": {
        "id": "lP9idH0LKgdV",
        "colab": {
          "base_uri": "https://localhost:8080/"
        },
        "outputId": "9711698b-a0e6-40aa-eff9-2dfad784e0a1"
      },
      "execution_count": null,
      "outputs": [
        {
          "output_type": "execute_result",
          "data": {
            "text/plain": [
              "82472"
            ]
          },
          "metadata": {},
          "execution_count": 110
        }
      ]
    },
    {
      "cell_type": "code",
      "source": [
        "!pip install bigartm"
      ],
      "metadata": {
        "colab": {
          "base_uri": "https://localhost:8080/"
        },
        "id": "qm8Z5_FXICpp",
        "outputId": "da45f963-0472-47d5-df85-2fd27b2259e9"
      },
      "execution_count": null,
      "outputs": [
        {
          "output_type": "stream",
          "name": "stdout",
          "text": [
            "Collecting bigartm\n",
            "  Downloading bigartm-0.9.2-cp37-cp37m-manylinux1_x86_64.whl (1.9 MB)\n",
            "\u001b[?25l\r\u001b[K     |▏                               | 10 kB 20.7 MB/s eta 0:00:01\r\u001b[K     |▍                               | 20 kB 27.6 MB/s eta 0:00:01\r\u001b[K     |▌                               | 30 kB 30.9 MB/s eta 0:00:01\r\u001b[K     |▊                               | 40 kB 34.6 MB/s eta 0:00:01\r\u001b[K     |▉                               | 51 kB 19.8 MB/s eta 0:00:01\r\u001b[K     |█                               | 61 kB 19.3 MB/s eta 0:00:01\r\u001b[K     |█▏                              | 71 kB 15.0 MB/s eta 0:00:01\r\u001b[K     |█▍                              | 81 kB 16.2 MB/s eta 0:00:01\r\u001b[K     |█▌                              | 92 kB 16.0 MB/s eta 0:00:01\r\u001b[K     |█▊                              | 102 kB 14.5 MB/s eta 0:00:01\r\u001b[K     |█▉                              | 112 kB 14.5 MB/s eta 0:00:01\r\u001b[K     |██                              | 122 kB 14.5 MB/s eta 0:00:01\r\u001b[K     |██▏                             | 133 kB 14.5 MB/s eta 0:00:01\r\u001b[K     |██▍                             | 143 kB 14.5 MB/s eta 0:00:01\r\u001b[K     |██▌                             | 153 kB 14.5 MB/s eta 0:00:01\r\u001b[K     |██▊                             | 163 kB 14.5 MB/s eta 0:00:01\r\u001b[K     |██▉                             | 174 kB 14.5 MB/s eta 0:00:01\r\u001b[K     |███                             | 184 kB 14.5 MB/s eta 0:00:01\r\u001b[K     |███▏                            | 194 kB 14.5 MB/s eta 0:00:01\r\u001b[K     |███▍                            | 204 kB 14.5 MB/s eta 0:00:01\r\u001b[K     |███▋                            | 215 kB 14.5 MB/s eta 0:00:01\r\u001b[K     |███▊                            | 225 kB 14.5 MB/s eta 0:00:01\r\u001b[K     |████                            | 235 kB 14.5 MB/s eta 0:00:01\r\u001b[K     |████                            | 245 kB 14.5 MB/s eta 0:00:01\r\u001b[K     |████▎                           | 256 kB 14.5 MB/s eta 0:00:01\r\u001b[K     |████▍                           | 266 kB 14.5 MB/s eta 0:00:01\r\u001b[K     |████▋                           | 276 kB 14.5 MB/s eta 0:00:01\r\u001b[K     |████▊                           | 286 kB 14.5 MB/s eta 0:00:01\r\u001b[K     |█████                           | 296 kB 14.5 MB/s eta 0:00:01\r\u001b[K     |█████                           | 307 kB 14.5 MB/s eta 0:00:01\r\u001b[K     |█████▎                          | 317 kB 14.5 MB/s eta 0:00:01\r\u001b[K     |█████▍                          | 327 kB 14.5 MB/s eta 0:00:01\r\u001b[K     |█████▋                          | 337 kB 14.5 MB/s eta 0:00:01\r\u001b[K     |█████▊                          | 348 kB 14.5 MB/s eta 0:00:01\r\u001b[K     |██████                          | 358 kB 14.5 MB/s eta 0:00:01\r\u001b[K     |██████                          | 368 kB 14.5 MB/s eta 0:00:01\r\u001b[K     |██████▎                         | 378 kB 14.5 MB/s eta 0:00:01\r\u001b[K     |██████▍                         | 389 kB 14.5 MB/s eta 0:00:01\r\u001b[K     |██████▋                         | 399 kB 14.5 MB/s eta 0:00:01\r\u001b[K     |██████▊                         | 409 kB 14.5 MB/s eta 0:00:01\r\u001b[K     |███████                         | 419 kB 14.5 MB/s eta 0:00:01\r\u001b[K     |███████▏                        | 430 kB 14.5 MB/s eta 0:00:01\r\u001b[K     |███████▎                        | 440 kB 14.5 MB/s eta 0:00:01\r\u001b[K     |███████▌                        | 450 kB 14.5 MB/s eta 0:00:01\r\u001b[K     |███████▋                        | 460 kB 14.5 MB/s eta 0:00:01\r\u001b[K     |███████▉                        | 471 kB 14.5 MB/s eta 0:00:01\r\u001b[K     |████████                        | 481 kB 14.5 MB/s eta 0:00:01\r\u001b[K     |████████▏                       | 491 kB 14.5 MB/s eta 0:00:01\r\u001b[K     |████████▎                       | 501 kB 14.5 MB/s eta 0:00:01\r\u001b[K     |████████▌                       | 512 kB 14.5 MB/s eta 0:00:01\r\u001b[K     |████████▋                       | 522 kB 14.5 MB/s eta 0:00:01\r\u001b[K     |████████▉                       | 532 kB 14.5 MB/s eta 0:00:01\r\u001b[K     |█████████                       | 542 kB 14.5 MB/s eta 0:00:01\r\u001b[K     |█████████▏                      | 552 kB 14.5 MB/s eta 0:00:01\r\u001b[K     |█████████▎                      | 563 kB 14.5 MB/s eta 0:00:01\r\u001b[K     |█████████▌                      | 573 kB 14.5 MB/s eta 0:00:01\r\u001b[K     |█████████▋                      | 583 kB 14.5 MB/s eta 0:00:01\r\u001b[K     |█████████▉                      | 593 kB 14.5 MB/s eta 0:00:01\r\u001b[K     |██████████                      | 604 kB 14.5 MB/s eta 0:00:01\r\u001b[K     |██████████▏                     | 614 kB 14.5 MB/s eta 0:00:01\r\u001b[K     |██████████▎                     | 624 kB 14.5 MB/s eta 0:00:01\r\u001b[K     |██████████▌                     | 634 kB 14.5 MB/s eta 0:00:01\r\u001b[K     |██████████▊                     | 645 kB 14.5 MB/s eta 0:00:01\r\u001b[K     |██████████▉                     | 655 kB 14.5 MB/s eta 0:00:01\r\u001b[K     |███████████                     | 665 kB 14.5 MB/s eta 0:00:01\r\u001b[K     |███████████▏                    | 675 kB 14.5 MB/s eta 0:00:01\r\u001b[K     |███████████▍                    | 686 kB 14.5 MB/s eta 0:00:01\r\u001b[K     |███████████▌                    | 696 kB 14.5 MB/s eta 0:00:01\r\u001b[K     |███████████▊                    | 706 kB 14.5 MB/s eta 0:00:01\r\u001b[K     |███████████▉                    | 716 kB 14.5 MB/s eta 0:00:01\r\u001b[K     |████████████                    | 727 kB 14.5 MB/s eta 0:00:01\r\u001b[K     |████████████▏                   | 737 kB 14.5 MB/s eta 0:00:01\r\u001b[K     |████████████▍                   | 747 kB 14.5 MB/s eta 0:00:01\r\u001b[K     |████████████▌                   | 757 kB 14.5 MB/s eta 0:00:01\r\u001b[K     |████████████▊                   | 768 kB 14.5 MB/s eta 0:00:01\r\u001b[K     |████████████▉                   | 778 kB 14.5 MB/s eta 0:00:01\r\u001b[K     |█████████████                   | 788 kB 14.5 MB/s eta 0:00:01\r\u001b[K     |█████████████▏                  | 798 kB 14.5 MB/s eta 0:00:01\r\u001b[K     |█████████████▍                  | 808 kB 14.5 MB/s eta 0:00:01\r\u001b[K     |█████████████▌                  | 819 kB 14.5 MB/s eta 0:00:01\r\u001b[K     |█████████████▊                  | 829 kB 14.5 MB/s eta 0:00:01\r\u001b[K     |██████████████                  | 839 kB 14.5 MB/s eta 0:00:01\r\u001b[K     |██████████████                  | 849 kB 14.5 MB/s eta 0:00:01\r\u001b[K     |██████████████▎                 | 860 kB 14.5 MB/s eta 0:00:01\r\u001b[K     |██████████████▍                 | 870 kB 14.5 MB/s eta 0:00:01\r\u001b[K     |██████████████▋                 | 880 kB 14.5 MB/s eta 0:00:01\r\u001b[K     |██████████████▊                 | 890 kB 14.5 MB/s eta 0:00:01\r\u001b[K     |███████████████                 | 901 kB 14.5 MB/s eta 0:00:01\r\u001b[K     |███████████████                 | 911 kB 14.5 MB/s eta 0:00:01\r\u001b[K     |███████████████▎                | 921 kB 14.5 MB/s eta 0:00:01\r\u001b[K     |███████████████▍                | 931 kB 14.5 MB/s eta 0:00:01\r\u001b[K     |███████████████▋                | 942 kB 14.5 MB/s eta 0:00:01\r\u001b[K     |███████████████▊                | 952 kB 14.5 MB/s eta 0:00:01\r\u001b[K     |████████████████                | 962 kB 14.5 MB/s eta 0:00:01\r\u001b[K     |████████████████                | 972 kB 14.5 MB/s eta 0:00:01\r\u001b[K     |████████████████▎               | 983 kB 14.5 MB/s eta 0:00:01\r\u001b[K     |████████████████▍               | 993 kB 14.5 MB/s eta 0:00:01\r\u001b[K     |████████████████▋               | 1.0 MB 14.5 MB/s eta 0:00:01\r\u001b[K     |████████████████▊               | 1.0 MB 14.5 MB/s eta 0:00:01\r\u001b[K     |█████████████████               | 1.0 MB 14.5 MB/s eta 0:00:01\r\u001b[K     |█████████████████               | 1.0 MB 14.5 MB/s eta 0:00:01\r\u001b[K     |█████████████████▎              | 1.0 MB 14.5 MB/s eta 0:00:01\r\u001b[K     |█████████████████▌              | 1.1 MB 14.5 MB/s eta 0:00:01\r\u001b[K     |█████████████████▋              | 1.1 MB 14.5 MB/s eta 0:00:01\r\u001b[K     |█████████████████▉              | 1.1 MB 14.5 MB/s eta 0:00:01\r\u001b[K     |██████████████████              | 1.1 MB 14.5 MB/s eta 0:00:01\r\u001b[K     |██████████████████▏             | 1.1 MB 14.5 MB/s eta 0:00:01\r\u001b[K     |██████████████████▎             | 1.1 MB 14.5 MB/s eta 0:00:01\r\u001b[K     |██████████████████▌             | 1.1 MB 14.5 MB/s eta 0:00:01\r\u001b[K     |██████████████████▋             | 1.1 MB 14.5 MB/s eta 0:00:01\r\u001b[K     |██████████████████▉             | 1.1 MB 14.5 MB/s eta 0:00:01\r\u001b[K     |███████████████████             | 1.1 MB 14.5 MB/s eta 0:00:01\r\u001b[K     |███████████████████▏            | 1.2 MB 14.5 MB/s eta 0:00:01\r\u001b[K     |███████████████████▎            | 1.2 MB 14.5 MB/s eta 0:00:01\r\u001b[K     |███████████████████▌            | 1.2 MB 14.5 MB/s eta 0:00:01\r\u001b[K     |███████████████████▋            | 1.2 MB 14.5 MB/s eta 0:00:01\r\u001b[K     |███████████████████▉            | 1.2 MB 14.5 MB/s eta 0:00:01\r\u001b[K     |████████████████████            | 1.2 MB 14.5 MB/s eta 0:00:01\r\u001b[K     |████████████████████▏           | 1.2 MB 14.5 MB/s eta 0:00:01\r\u001b[K     |████████████████████▎           | 1.2 MB 14.5 MB/s eta 0:00:01\r\u001b[K     |████████████████████▌           | 1.2 MB 14.5 MB/s eta 0:00:01\r\u001b[K     |████████████████████▋           | 1.2 MB 14.5 MB/s eta 0:00:01\r\u001b[K     |████████████████████▉           | 1.3 MB 14.5 MB/s eta 0:00:01\r\u001b[K     |█████████████████████           | 1.3 MB 14.5 MB/s eta 0:00:01\r\u001b[K     |█████████████████████▏          | 1.3 MB 14.5 MB/s eta 0:00:01\r\u001b[K     |█████████████████████▍          | 1.3 MB 14.5 MB/s eta 0:00:01\r\u001b[K     |█████████████████████▌          | 1.3 MB 14.5 MB/s eta 0:00:01\r\u001b[K     |█████████████████████▊          | 1.3 MB 14.5 MB/s eta 0:00:01\r\u001b[K     |█████████████████████▉          | 1.3 MB 14.5 MB/s eta 0:00:01\r\u001b[K     |██████████████████████          | 1.3 MB 14.5 MB/s eta 0:00:01\r\u001b[K     |██████████████████████▏         | 1.3 MB 14.5 MB/s eta 0:00:01\r\u001b[K     |██████████████████████▍         | 1.4 MB 14.5 MB/s eta 0:00:01\r\u001b[K     |██████████████████████▌         | 1.4 MB 14.5 MB/s eta 0:00:01\r\u001b[K     |██████████████████████▊         | 1.4 MB 14.5 MB/s eta 0:00:01\r\u001b[K     |██████████████████████▉         | 1.4 MB 14.5 MB/s eta 0:00:01\r\u001b[K     |███████████████████████         | 1.4 MB 14.5 MB/s eta 0:00:01\r\u001b[K     |███████████████████████▏        | 1.4 MB 14.5 MB/s eta 0:00:01\r\u001b[K     |███████████████████████▍        | 1.4 MB 14.5 MB/s eta 0:00:01\r\u001b[K     |███████████████████████▌        | 1.4 MB 14.5 MB/s eta 0:00:01\r\u001b[K     |███████████████████████▊        | 1.4 MB 14.5 MB/s eta 0:00:01\r\u001b[K     |███████████████████████▉        | 1.4 MB 14.5 MB/s eta 0:00:01\r\u001b[K     |████████████████████████        | 1.5 MB 14.5 MB/s eta 0:00:01\r\u001b[K     |████████████████████████▎       | 1.5 MB 14.5 MB/s eta 0:00:01\r\u001b[K     |████████████████████████▍       | 1.5 MB 14.5 MB/s eta 0:00:01\r\u001b[K     |████████████████████████▋       | 1.5 MB 14.5 MB/s eta 0:00:01\r\u001b[K     |████████████████████████▊       | 1.5 MB 14.5 MB/s eta 0:00:01\r\u001b[K     |█████████████████████████       | 1.5 MB 14.5 MB/s eta 0:00:01\r\u001b[K     |█████████████████████████       | 1.5 MB 14.5 MB/s eta 0:00:01\r\u001b[K     |█████████████████████████▎      | 1.5 MB 14.5 MB/s eta 0:00:01\r\u001b[K     |█████████████████████████▍      | 1.5 MB 14.5 MB/s eta 0:00:01\r\u001b[K     |█████████████████████████▋      | 1.5 MB 14.5 MB/s eta 0:00:01\r\u001b[K     |█████████████████████████▊      | 1.6 MB 14.5 MB/s eta 0:00:01\r\u001b[K     |██████████████████████████      | 1.6 MB 14.5 MB/s eta 0:00:01\r\u001b[K     |██████████████████████████      | 1.6 MB 14.5 MB/s eta 0:00:01\r\u001b[K     |██████████████████████████▎     | 1.6 MB 14.5 MB/s eta 0:00:01\r\u001b[K     |██████████████████████████▍     | 1.6 MB 14.5 MB/s eta 0:00:01\r\u001b[K     |██████████████████████████▋     | 1.6 MB 14.5 MB/s eta 0:00:01\r\u001b[K     |██████████████████████████▊     | 1.6 MB 14.5 MB/s eta 0:00:01\r\u001b[K     |███████████████████████████     | 1.6 MB 14.5 MB/s eta 0:00:01\r\u001b[K     |███████████████████████████     | 1.6 MB 14.5 MB/s eta 0:00:01\r\u001b[K     |███████████████████████████▎    | 1.6 MB 14.5 MB/s eta 0:00:01\r\u001b[K     |███████████████████████████▍    | 1.7 MB 14.5 MB/s eta 0:00:01\r\u001b[K     |███████████████████████████▋    | 1.7 MB 14.5 MB/s eta 0:00:01\r\u001b[K     |███████████████████████████▉    | 1.7 MB 14.5 MB/s eta 0:00:01\r\u001b[K     |████████████████████████████    | 1.7 MB 14.5 MB/s eta 0:00:01\r\u001b[K     |████████████████████████████▏   | 1.7 MB 14.5 MB/s eta 0:00:01\r\u001b[K     |████████████████████████████▎   | 1.7 MB 14.5 MB/s eta 0:00:01\r\u001b[K     |████████████████████████████▌   | 1.7 MB 14.5 MB/s eta 0:00:01\r\u001b[K     |████████████████████████████▋   | 1.7 MB 14.5 MB/s eta 0:00:01\r\u001b[K     |████████████████████████████▉   | 1.7 MB 14.5 MB/s eta 0:00:01\r\u001b[K     |█████████████████████████████   | 1.8 MB 14.5 MB/s eta 0:00:01\r\u001b[K     |█████████████████████████████▏  | 1.8 MB 14.5 MB/s eta 0:00:01\r\u001b[K     |█████████████████████████████▎  | 1.8 MB 14.5 MB/s eta 0:00:01\r\u001b[K     |█████████████████████████████▌  | 1.8 MB 14.5 MB/s eta 0:00:01\r\u001b[K     |█████████████████████████████▋  | 1.8 MB 14.5 MB/s eta 0:00:01\r\u001b[K     |█████████████████████████████▉  | 1.8 MB 14.5 MB/s eta 0:00:01\r\u001b[K     |██████████████████████████████  | 1.8 MB 14.5 MB/s eta 0:00:01\r\u001b[K     |██████████████████████████████▏ | 1.8 MB 14.5 MB/s eta 0:00:01\r\u001b[K     |██████████████████████████████▎ | 1.8 MB 14.5 MB/s eta 0:00:01\r\u001b[K     |██████████████████████████████▌ | 1.8 MB 14.5 MB/s eta 0:00:01\r\u001b[K     |██████████████████████████████▋ | 1.9 MB 14.5 MB/s eta 0:00:01\r\u001b[K     |██████████████████████████████▉ | 1.9 MB 14.5 MB/s eta 0:00:01\r\u001b[K     |███████████████████████████████ | 1.9 MB 14.5 MB/s eta 0:00:01\r\u001b[K     |███████████████████████████████▏| 1.9 MB 14.5 MB/s eta 0:00:01\r\u001b[K     |███████████████████████████████▍| 1.9 MB 14.5 MB/s eta 0:00:01\r\u001b[K     |███████████████████████████████▌| 1.9 MB 14.5 MB/s eta 0:00:01\r\u001b[K     |███████████████████████████████▊| 1.9 MB 14.5 MB/s eta 0:00:01\r\u001b[K     |███████████████████████████████▉| 1.9 MB 14.5 MB/s eta 0:00:01\r\u001b[K     |████████████████████████████████| 1.9 MB 14.5 MB/s \n",
            "\u001b[?25hRequirement already satisfied: numpy in /usr/local/lib/python3.7/dist-packages (from bigartm) (1.19.5)\n",
            "Requirement already satisfied: pandas in /usr/local/lib/python3.7/dist-packages (from bigartm) (1.1.5)\n",
            "Requirement already satisfied: protobuf>=3.0 in /usr/local/lib/python3.7/dist-packages (from bigartm) (3.17.3)\n",
            "Requirement already satisfied: tqdm in /usr/local/lib/python3.7/dist-packages (from bigartm) (4.62.3)\n",
            "Requirement already satisfied: six>=1.9 in /usr/local/lib/python3.7/dist-packages (from protobuf>=3.0->bigartm) (1.15.0)\n",
            "Requirement already satisfied: pytz>=2017.2 in /usr/local/lib/python3.7/dist-packages (from pandas->bigartm) (2018.9)\n",
            "Requirement already satisfied: python-dateutil>=2.7.3 in /usr/local/lib/python3.7/dist-packages (from pandas->bigartm) (2.8.2)\n",
            "Installing collected packages: bigartm\n",
            "Successfully installed bigartm-0.9.2\n"
          ]
        }
      ]
    },
    {
      "cell_type": "code",
      "source": [
        "import artm\n",
        "\n",
        "\n",
        "from sklearn.feature_extraction.text import CountVectorizer\n",
        "\n",
        "from numpy import array\n",
        "\n",
        "cv = CountVectorizer(max_features=1000, stop_words='english')\n",
        "n_wd = array(cv.fit_transform(word).todense()).T\n",
        "vocabulary = cv.get_feature_names_out()\n",
        "\n",
        "bv = artm.BatchVectorizer(data_format='bow_n_wd',\n",
        "                          n_wd=n_wd,\n",
        "                          vocabulary=vocabulary)"
      ],
      "metadata": {
        "id": "tzvTvOIe9c9R"
      },
      "execution_count": null,
      "outputs": []
    },
    {
      "cell_type": "code",
      "source": [
        "lda = artm.LDA(num_topics=5, alpha=0.01, beta=0.001,\n",
        "               num_document_passes=5, dictionary=bv.dictionary,\n",
        "               cache_theta=True)"
      ],
      "metadata": {
        "id": "qK59dG8JRxbP"
      },
      "execution_count": null,
      "outputs": []
    },
    {
      "cell_type": "code",
      "source": [
        "lda.fit_offline(batch_vectorizer=bv, num_collection_passes=10)"
      ],
      "metadata": {
        "id": "s-R8W1tRS43o"
      },
      "execution_count": null,
      "outputs": []
    },
    {
      "cell_type": "code",
      "source": [
        "top_tokens = lda.get_top_tokens(num_tokens=10)\n",
        "for i, token_list in enumerate(top_tokens):\n",
        "    print ('Topic #{0}: {1}'.format(i, token_list))"
      ],
      "metadata": {
        "colab": {
          "base_uri": "https://localhost:8080/"
        },
        "id": "hM9C5NATTBpH",
        "outputId": "d6f6d842-e041-4f1f-9464-44b63e023885"
      },
      "execution_count": null,
      "outputs": [
        {
          "output_type": "stream",
          "name": "stdout",
          "text": [
            "Topic #0: ['на', 'по', 'года', 'млрд', 'ссылкой', 'будет', 'заявил', 'передает', 'может', 'это']\n",
            "Topic #1: ['компания', 'млн', '2017', 'как', 'баррель', 'газа', 'год', 'при', 'уровне', 'глава']\n",
            "Topic #2: ['что', 'до', 'для', 'россии', '2016', 'роснефть', 'пишет', 'после', 'руб', 'банка']\n",
            "Topic #3: ['за', 'об', 'не', 'сообщает', 'со', 'сша', 'от', 'рублей', 'говорится', 'акций']\n",
            "Topic #4: ['этом', 'компании', 'из', 'году', 'газпром', 'нефти', 'января', '10', 'долларов', 'президента']\n"
          ]
        }
      ]
    },
    {
      "cell_type": "markdown",
      "source": [
        "что мы видим? что по мнению BigARTM следует сгруппировать новости так:\n",
        "\n",
        "0 - новости касательно новостей заявительного характера, то есть по сути совпадает с рекламным характером\n",
        "\n",
        "1 - новости касательно биржевой оптовой торговли нефтью и газом, возможно 2017 года\n",
        "\n",
        "2 - новости относительно 2016 года касательно россии и роснефти\n",
        "\n",
        "3 - новости относительно США и акций\n",
        "\n",
        "4 - новости относительно газпрома, нефти, и очевидно долларов\n",
        "\n",
        "на мой взгляд, это неудовлетворительное разделение на категории, будем работать с моими предложенными категориями."
      ],
      "metadata": {
        "id": "D894PL64UpG4"
      }
    },
    {
      "cell_type": "code",
      "source": [
        ""
      ],
      "metadata": {
        "id": "z6ZVYkWcwnyr"
      },
      "execution_count": null,
      "outputs": []
    },
    {
      "cell_type": "markdown",
      "source": [
        "### обучение через FastText"
      ],
      "metadata": {
        "id": "sA6zuxf-xvK-"
      }
    },
    {
      "cell_type": "code",
      "source": [
        "!pip3 install fasttext"
      ],
      "metadata": {
        "colab": {
          "base_uri": "https://localhost:8080/"
        },
        "id": "aDqkueY5xy5i",
        "outputId": "3f4dc280-f0c1-4787-8689-a63f2220f5cb"
      },
      "execution_count": null,
      "outputs": [
        {
          "output_type": "stream",
          "name": "stdout",
          "text": [
            "Collecting fasttext\n",
            "  Downloading fasttext-0.9.2.tar.gz (68 kB)\n",
            "\u001b[?25l\r\u001b[K     |████▊                           | 10 kB 18.1 MB/s eta 0:00:01\r\u001b[K     |█████████▌                      | 20 kB 21.8 MB/s eta 0:00:01\r\u001b[K     |██████████████▎                 | 30 kB 26.8 MB/s eta 0:00:01\r\u001b[K     |███████████████████             | 40 kB 21.4 MB/s eta 0:00:01\r\u001b[K     |███████████████████████▉        | 51 kB 10.2 MB/s eta 0:00:01\r\u001b[K     |████████████████████████████▋   | 61 kB 10.7 MB/s eta 0:00:01\r\u001b[K     |████████████████████████████████| 68 kB 4.4 MB/s \n",
            "\u001b[?25hCollecting pybind11>=2.2\n",
            "  Using cached pybind11-2.9.1-py2.py3-none-any.whl (211 kB)\n",
            "Requirement already satisfied: setuptools>=0.7.0 in /usr/local/lib/python3.7/dist-packages (from fasttext) (57.4.0)\n",
            "Requirement already satisfied: numpy in /usr/local/lib/python3.7/dist-packages (from fasttext) (1.19.5)\n",
            "Building wheels for collected packages: fasttext\n",
            "  Building wheel for fasttext (setup.py) ... \u001b[?25l\u001b[?25hdone\n",
            "  Created wheel for fasttext: filename=fasttext-0.9.2-cp37-cp37m-linux_x86_64.whl size=3137354 sha256=9db9e083a2e4d812d31063609d91099c59dc340265324f622d49436e663f8c03\n",
            "  Stored in directory: /root/.cache/pip/wheels/4e/ca/bf/b020d2be95f7641801a6597a29c8f4f19e38f9c02a345bab9b\n",
            "Successfully built fasttext\n",
            "Installing collected packages: pybind11, fasttext\n",
            "Successfully installed fasttext-0.9.2 pybind11-2.9.1\n"
          ]
        }
      ]
    },
    {
      "cell_type": "code",
      "source": [
        "import pandas as pd\n",
        "import fasttext\n",
        " \n",
        "\n",
        "# А теперь одно из разачарований имплементации именно этой библиотеки:\n",
        "# Для обучения придется сделать файл, где целевой класс должен начинаться с __label__\n",
        "\n",
        "df_train['target'] = df_train['label'].apply(lambda x: '__label__' + str(x))\n",
        "df_train[['target', 'description']].to_csv('train_data.txt', header=False, index=False, sep=\"\\t\")\n",
        " \n",
        "# обучаем на 20 эпохах, полный набор гиперпараметров можно взглянуть на официальном сайте fasttext.cc\n",
        "model = fasttext.train_supervised(input='train_data.txt', epoch=20)"
      ],
      "metadata": {
        "id": "wDWcxf6fePY2"
      },
      "execution_count": null,
      "outputs": []
    },
    {
      "cell_type": "code",
      "source": [
        "p = model.predict('Дизайнеры агентства Fabula Branding (Минск) провели комплексную разработку торговой марки колбасных изделий «100 друзей» (нейминг, логотип, дизайн упаковки) для ОАО «Гродненский мясокомбинат». Продукт – колбасные изделия среднего ценового сегмента: сырокопченые, сыровяленые, вареные колбасы, сосиски и сардельки. Регионы продаж – Беларусь и Россия. Ситуации потребления: дружеские и семейные застолья, пикник, гости, быстрый перекус. Целевая аудитория – мужчины и женщины 25-40 лет. Решением стал теплый и яркий желтый цвет, который хорошо отстраивает продукт на полке, служит цветовым идентификатором торговой марки и вызывает приятные ассоциации с пикником / дружескими посиделками на даче. Дружелюбную и приветливую стилистику дизайна поддерживает цифра «100», образованная колбасками (маркер категории), а также рукописный шрифт логотипа.', k=5)"
      ],
      "metadata": {
        "id": "DXx-j_9hfV_u"
      },
      "execution_count": null,
      "outputs": []
    },
    {
      "cell_type": "code",
      "source": [
        "p"
      ],
      "metadata": {
        "colab": {
          "base_uri": "https://localhost:8080/"
        },
        "id": "GGrBCMvrfi6f",
        "outputId": "b6b3af76-1c76-4305-bee7-1ebc43781b4b"
      },
      "execution_count": null,
      "outputs": [
        {
          "output_type": "execute_result",
          "data": {
            "text/plain": [
              "(('__label__1', '__label__3', '__label__2', '__label__4', '__label__5'),\n",
              " array([0.48090658, 0.3290841 , 0.08553353, 0.05949963, 0.04502626]))"
            ]
          },
          "metadata": {},
          "execution_count": 40
        }
      ]
    },
    {
      "cell_type": "markdown",
      "source": [
        ""
      ],
      "metadata": {
        "id": "zen-S_MLgCHf"
      }
    },
    {
      "cell_type": "code",
      "source": [
        "model_fasttext = fasttext.train_supervised(input=\"train_data.txt\", lr=0.5, epoch=25, wordNgrams=2, bucket=200000, dim=50, loss='ova')"
      ],
      "metadata": {
        "id": "bT4h28ojgd09"
      },
      "execution_count": null,
      "outputs": []
    },
    {
      "cell_type": "code",
      "source": [
        "p = model_fasttext.predict('Дизайнеры агентства Fabula Branding (Минск) провели комплексную разработку торговой марки колбасных изделий «100 друзей» (нейминг, логотип, дизайн упаковки) для ОАО «Гродненский мясокомбинат». Продукт – колбасные изделия среднего ценового сегмента: сырокопченые, сыровяленые, вареные колбасы, сосиски и сардельки. Регионы продаж – Беларусь и Россия. Ситуации потребления: дружеские и семейные застолья, пикник, гости, быстрый перекус. Целевая аудитория – мужчины и женщины 25-40 лет. Решением стал теплый и яркий желтый цвет, который хорошо отстраивает продукт на полке, служит цветовым идентификатором торговой марки и вызывает приятные ассоциации с пикником / дружескими посиделками на даче. Дружелюбную и приветливую стилистику дизайна поддерживает цифра «100», образованная колбасками (маркер категории), а также рукописный шрифт логотипа.', k=5)\n",
        "p"
      ],
      "metadata": {
        "colab": {
          "base_uri": "https://localhost:8080/"
        },
        "id": "dnLk5pvXglb-",
        "outputId": "38626741-dbae-4b86-95f2-1101a967ac4d"
      },
      "execution_count": null,
      "outputs": [
        {
          "output_type": "execute_result",
          "data": {
            "text/plain": [
              "(('__label__1', '__label__4', '__label__3', '__label__2', '__label__5'),\n",
              " array([0.98795623, 0.04604391, 0.01641303, 0.00942259, 0.00171072]))"
            ]
          },
          "metadata": {},
          "execution_count": 29
        }
      ]
    },
    {
      "cell_type": "markdown",
      "source": [
        "с помощью библиотеки fasttext успешно произвели обучение c высокой точностью, будем с ее помощью оценивать успешность работы других моделей\n"
      ],
      "metadata": {
        "id": "iKf6_BjEg7WP"
      }
    },
    {
      "cell_type": "code",
      "source": [
        "model_fasttext.test(\"train_data.txt\", k=5)"
      ],
      "metadata": {
        "colab": {
          "base_uri": "https://localhost:8080/"
        },
        "id": "7IErsSq1wZJH",
        "outputId": "182d14fb-1c60-44f2-e0be-8c5783e151f3"
      },
      "execution_count": null,
      "outputs": [
        {
          "output_type": "execute_result",
          "data": {
            "text/plain": [
              "(2069, 0.2, 1.0)"
            ]
          },
          "metadata": {},
          "execution_count": 30
        }
      ]
    },
    {
      "cell_type": "code",
      "source": [
        "p = model_fasttext.predict('Краснинский суд Смоленской области арестовал счет с 9,3 млрд рублей, который принадлежит дочерней компании IKEA ООО «Икеа Мос (Торговля и Недвижимость)». Руководство IKEA, в свою очередь, намерено оспаривать решение суда.', k=5)\n",
        "p"
      ],
      "metadata": {
        "colab": {
          "base_uri": "https://localhost:8080/"
        },
        "id": "IsHApJ96zFH7",
        "outputId": "fd62cbfc-dd5d-43ef-bf68-2d1263f4226e"
      },
      "execution_count": null,
      "outputs": [
        {
          "output_type": "execute_result",
          "data": {
            "text/plain": [
              "(('__label__2', '__label__1', '__label__5', '__label__3', '__label__4'),\n",
              " array([9.96416390e-01, 8.85735452e-03, 2.89958040e-03, 8.65900831e-04,\n",
              "        5.62778732e-04]))"
            ]
          },
          "metadata": {},
          "execution_count": 31
        }
      ]
    },
    {
      "cell_type": "markdown",
      "source": [
        "здесь увидели что два примера распознаны были верно"
      ],
      "metadata": {
        "id": "5QOCAQO6mTom"
      }
    },
    {
      "cell_type": "markdown",
      "source": [
        "### Многослойный перцептрон"
      ],
      "metadata": {
        "id": "RlWb1jXs25l5"
      }
    },
    {
      "cell_type": "code",
      "source": [
        "from sklearn.neural_network import MLPClassifier\n",
        "\n",
        "MP = Pipeline([('vect', CountVectorizer()),\n",
        "                ('tfidf', TfidfTransformer()),\n",
        "                ('mp', MLPClassifier(hidden_layer_sizes=(8,8,8), activation='relu', solver='adam', max_iter=500)),\n",
        "               ])"
      ],
      "metadata": {
        "id": "eHc7n8xH29lP"
      },
      "execution_count": null,
      "outputs": []
    },
    {
      "cell_type": "markdown",
      "source": [
        ""
      ],
      "metadata": {
        "id": "UMJPhXRr25dy"
      }
    },
    {
      "cell_type": "code",
      "source": [
        "MP.fit(X_train, y_train)"
      ],
      "metadata": {
        "colab": {
          "base_uri": "https://localhost:8080/"
        },
        "id": "u7C2dQF2zd8v",
        "outputId": "55740487-264a-4c65-9e63-9f9cda31ad42"
      },
      "execution_count": null,
      "outputs": [
        {
          "output_type": "execute_result",
          "data": {
            "text/plain": [
              "Pipeline(steps=[('vect', CountVectorizer()), ('tfidf', TfidfTransformer()),\n",
              "                ('mp',\n",
              "                 MLPClassifier(hidden_layer_sizes=(8, 8, 8), max_iter=500))])"
            ]
          },
          "metadata": {},
          "execution_count": 43
        }
      ]
    },
    {
      "cell_type": "code",
      "source": [
        "%%time\n",
        "y_pred = sgd.predict(X_test)"
      ],
      "metadata": {
        "colab": {
          "base_uri": "https://localhost:8080/"
        },
        "id": "q0wYKSNy3bkm",
        "outputId": "8d2e86bc-353b-4652-cf8a-1a623ba8d363"
      },
      "execution_count": null,
      "outputs": [
        {
          "output_type": "stream",
          "name": "stdout",
          "text": [
            "CPU times: user 46.1 ms, sys: 32.7 ms, total: 78.8 ms\n",
            "Wall time: 51.9 ms\n"
          ]
        }
      ]
    },
    {
      "cell_type": "code",
      "source": [
        "print('accuracy %s' % accuracy_score(y_pred, y_test))\n",
        "print(classification_report(y_test, y_pred,target_names=my_tags))"
      ],
      "metadata": {
        "colab": {
          "base_uri": "https://localhost:8080/"
        },
        "id": "Aj3rH37O3kga",
        "outputId": "e1199a96-c8a7-4e3a-e720-f7d692def3c3"
      },
      "execution_count": null,
      "outputs": [
        {
          "output_type": "stream",
          "name": "stdout",
          "text": [
            "accuracy 0.6280193236714976\n",
            "              precision    recall  f1-score   support\n",
            "\n",
            "           1       0.59      0.22      0.32       143\n",
            "           2       0.84      0.38      0.53        68\n",
            "           3       0.63      0.96      0.76       335\n",
            "           4       0.38      0.24      0.29        38\n",
            "           5       0.60      0.08      0.14        37\n",
            "\n",
            "    accuracy                           0.63       621\n",
            "   macro avg       0.61      0.38      0.41       621\n",
            "weighted avg       0.63      0.63      0.57       621\n",
            "\n"
          ]
        }
      ]
    },
    {
      "cell_type": "markdown",
      "source": [
        "RNN (LTSM)"
      ],
      "metadata": {
        "id": "4MjUUcOh4a-K"
      }
    },
    {
      "cell_type": "code",
      "source": [
        "from keras.preprocessing.text import Tokenizer\n",
        "from keras.preprocessing.sequence import pad_sequences\n",
        "from keras.models import Sequential\n",
        "from keras.layers import Dense, Embedding, LSTM, SpatialDropout1D\n",
        "from sklearn.model_selection import train_test_split\n",
        "from keras.utils.np_utils import to_categorical\n",
        "from keras.callbacks import EarlyStopping\n",
        "from keras.layers import Dropout"
      ],
      "metadata": {
        "id": "Z5WtiHmI4dRR"
      },
      "execution_count": null,
      "outputs": []
    },
    {
      "cell_type": "code",
      "source": [
        "# The maximum number of words to be used. (most frequent)\n",
        "MAX_NB_WORDS = 50000\n",
        "# Max number of words in each complaint.\n",
        "MAX_SEQUENCE_LENGTH = 450\n",
        "# This is fixed.\n",
        "EMBEDDING_DIM = 100\n",
        "\n",
        "tokenizer = Tokenizer(num_words=MAX_NB_WORDS, filters='!\"#$%&()*+,-./:;<=>?@[\\]^_`{|}~', lower=True)\n",
        "tokenizer.fit_on_texts(df_train['text_sw'].values)\n",
        "word_index = tokenizer.word_index\n",
        "print('Found %s unique tokens.' % len(word_index))"
      ],
      "metadata": {
        "colab": {
          "base_uri": "https://localhost:8080/"
        },
        "id": "j4j_OEvF4xwC",
        "outputId": "e6ad3290-7bee-462b-b64b-539403fa6de3"
      },
      "execution_count": null,
      "outputs": [
        {
          "output_type": "stream",
          "name": "stdout",
          "text": [
            "Found 14253 unique tokens.\n"
          ]
        }
      ]
    },
    {
      "cell_type": "code",
      "source": [
        "X = tokenizer.texts_to_sequences(df_train['text_sw'].values)\n",
        "X = pad_sequences(X, maxlen=MAX_SEQUENCE_LENGTH)\n",
        "print('Shape of data tensor:', X.shape)"
      ],
      "metadata": {
        "colab": {
          "base_uri": "https://localhost:8080/"
        },
        "id": "Ortg6str47cH",
        "outputId": "961b7167-6308-4e8d-eb5f-c6efbdda12ed"
      },
      "execution_count": null,
      "outputs": [
        {
          "output_type": "stream",
          "name": "stdout",
          "text": [
            "Shape of data tensor: (2069, 450)\n"
          ]
        }
      ]
    },
    {
      "cell_type": "code",
      "source": [
        "Y = pd.get_dummies(df_train['label']).values\n",
        "print('Shape of label tensor:', Y.shape)"
      ],
      "metadata": {
        "colab": {
          "base_uri": "https://localhost:8080/"
        },
        "id": "HfDBwEVT5CLn",
        "outputId": "2181c715-10ec-4561-afba-088a4589ca6e"
      },
      "execution_count": null,
      "outputs": [
        {
          "output_type": "stream",
          "name": "stdout",
          "text": [
            "Shape of label tensor: (2069, 5)\n"
          ]
        }
      ]
    },
    {
      "cell_type": "code",
      "source": [
        "X_train, X_test, Y_train, Y_test = train_test_split(X,Y, test_size = 0.10, random_state = 42)\n",
        "print(X_train.shape,Y_train.shape)\n",
        "print(X_test.shape,Y_test.shape)"
      ],
      "metadata": {
        "colab": {
          "base_uri": "https://localhost:8080/"
        },
        "id": "BVZcm09y5HZY",
        "outputId": "9cc712f7-3d68-4b0e-bd4c-79b578df136d"
      },
      "execution_count": null,
      "outputs": [
        {
          "output_type": "stream",
          "name": "stdout",
          "text": [
            "(1862, 450) (1862, 5)\n",
            "(207, 450) (207, 5)\n"
          ]
        }
      ]
    },
    {
      "cell_type": "code",
      "source": [
        "model = Sequential()\n",
        "model.add(Embedding(MAX_NB_WORDS, EMBEDDING_DIM, input_length=X.shape[1]))\n",
        "model.add(SpatialDropout1D(0.2))\n",
        "model.add(LSTM(100, dropout=0.2, recurrent_dropout=0.2))\n",
        "model.add(Dense(5, activation='softmax'))\n",
        "model.compile(loss='categorical_crossentropy', optimizer='adam', metrics=['accuracy'])\n",
        "print(model.summary())"
      ],
      "metadata": {
        "colab": {
          "base_uri": "https://localhost:8080/"
        },
        "id": "8VQIJapc5Jm4",
        "outputId": "b4203efe-55fe-4f8c-eba6-5ebdfb0d061f"
      },
      "execution_count": null,
      "outputs": [
        {
          "output_type": "stream",
          "name": "stdout",
          "text": [
            "Model: \"sequential\"\n",
            "_________________________________________________________________\n",
            " Layer (type)                Output Shape              Param #   \n",
            "=================================================================\n",
            " embedding (Embedding)       (None, 450, 100)          5000000   \n",
            "                                                                 \n",
            " spatial_dropout1d (SpatialD  (None, 450, 100)         0         \n",
            " ropout1D)                                                       \n",
            "                                                                 \n",
            " lstm (LSTM)                 (None, 100)               80400     \n",
            "                                                                 \n",
            " dense (Dense)               (None, 5)                 505       \n",
            "                                                                 \n",
            "=================================================================\n",
            "Total params: 5,080,905\n",
            "Trainable params: 5,080,905\n",
            "Non-trainable params: 0\n",
            "_________________________________________________________________\n",
            "None\n"
          ]
        }
      ]
    },
    {
      "cell_type": "code",
      "source": [
        "epochs = 5\n",
        "batch_size = 64\n",
        "\n",
        "history = model.fit(X_train, Y_train, epochs=epochs, batch_size=batch_size,validation_split=0.1,callbacks=[EarlyStopping(monitor='val_loss', patience=3, min_delta=0.0001)])"
      ],
      "metadata": {
        "colab": {
          "base_uri": "https://localhost:8080/"
        },
        "id": "P2tf-Y1b5OIA",
        "outputId": "9bea8e02-e488-4ca4-ae0f-9017ba1de1b2"
      },
      "execution_count": null,
      "outputs": [
        {
          "output_type": "stream",
          "name": "stdout",
          "text": [
            "Epoch 1/5\n",
            "27/27 [==============================] - 45s 1s/step - loss: 1.3618 - accuracy: 0.5278 - val_loss: 1.2634 - val_accuracy: 0.5294\n",
            "Epoch 2/5\n",
            "27/27 [==============================] - 41s 2s/step - loss: 1.2226 - accuracy: 0.5451 - val_loss: 1.2314 - val_accuracy: 0.5294\n",
            "Epoch 3/5\n",
            "27/27 [==============================] - 40s 1s/step - loss: 1.0170 - accuracy: 0.5910 - val_loss: 1.1595 - val_accuracy: 0.5775\n",
            "Epoch 4/5\n",
            "27/27 [==============================] - 40s 1s/step - loss: 0.6606 - accuracy: 0.7618 - val_loss: 1.3638 - val_accuracy: 0.5348\n",
            "Epoch 5/5\n",
            "27/27 [==============================] - 43s 2s/step - loss: 0.4054 - accuracy: 0.8364 - val_loss: 1.4221 - val_accuracy: 0.5187\n"
          ]
        }
      ]
    },
    {
      "cell_type": "code",
      "source": [
        "accr = model.evaluate(X_test,Y_test)\n",
        "print('Test set\\n  Loss: {:0.3f}\\n  Accuracy: {:0.3f}'.format(accr[0],accr[1]))"
      ],
      "metadata": {
        "colab": {
          "base_uri": "https://localhost:8080/"
        },
        "id": "oWOMyicW53ZR",
        "outputId": "30ebd3f4-f366-4dd2-8438-a88910fd7aaf"
      },
      "execution_count": null,
      "outputs": [
        {
          "output_type": "stream",
          "name": "stdout",
          "text": [
            "7/7 [==============================] - 1s 129ms/step - loss: 1.0801 - accuracy: 0.5990\n",
            "Test set\n",
            "  Loss: 1.080\n",
            "  Accuracy: 0.599\n"
          ]
        }
      ]
    },
    {
      "cell_type": "code",
      "source": [
        "texts=df['description'][33]\n",
        "X = tokenizer.texts_to_sequences(texts)\n",
        "X = pad_sequences(X, maxlen=MAX_SEQUENCE_LENGTH)"
      ],
      "metadata": {
        "id": "oOW9UiL5FSbU"
      },
      "execution_count": null,
      "outputs": []
    },
    {
      "cell_type": "code",
      "source": [
        "texts"
      ],
      "metadata": {
        "colab": {
          "base_uri": "https://localhost:8080/",
          "height": 35
        },
        "id": "YapJkMhmeQMO",
        "outputId": "dadfff74-8736-42f8-8a71-956b0ff367e7"
      },
      "execution_count": null,
      "outputs": [
        {
          "output_type": "execute_result",
          "data": {
            "application/vnd.google.colaboratory.intrinsic+json": {
              "type": "string"
            },
            "text/plain": [
              "'\"Аэрофлот\" отменил ряд рейсов на внутрироссийских направлениях из-за приостановки эксплуатации шести'"
            ]
          },
          "metadata": {},
          "execution_count": 132
        }
      ]
    },
    {
      "cell_type": "code",
      "source": [
        "model.predict(np.array(X))[0]"
      ],
      "metadata": {
        "colab": {
          "base_uri": "https://localhost:8080/"
        },
        "id": "_p-dhSOddyRj",
        "outputId": "84dcdc6e-6dd0-43f9-b96d-151ee9354cdf"
      },
      "execution_count": null,
      "outputs": [
        {
          "output_type": "execute_result",
          "data": {
            "text/plain": [
              "array([0.24125358, 0.17394969, 0.3706453 , 0.11501416, 0.09913718],\n",
              "      dtype=float32)"
            ]
          },
          "metadata": {},
          "execution_count": 133
        }
      ]
    },
    {
      "cell_type": "markdown",
      "source": [
        "### Частичное обучение с учителем"
      ],
      "metadata": {
        "id": "hUn2KVd09QFA"
      }
    },
    {
      "cell_type": "code",
      "source": [
        "#когда загружаем работу заново, то сразу грузим датасет с метками и лемматизацией и прочее\n",
        "df_train=pd.read_csv('/content/drive/MyDrive/Colab Notebooks/df_train_prep.csv')"
      ],
      "metadata": {
        "id": "qmY9bXLS9VMA"
      },
      "execution_count": null,
      "outputs": []
    },
    {
      "cell_type": "code",
      "source": [
        "from numpy import concatenate\n",
        "import sklearn\n",
        "from sklearn.datasets import make_classification\n",
        "from sklearn.semi_supervised import LabelPropagation"
      ],
      "metadata": {
        "id": "qBeOtoqR_qrB"
      },
      "execution_count": null,
      "outputs": []
    },
    {
      "cell_type": "code",
      "source": [
        "#пробуем fasttext на неразмеченных примерах\n",
        "p = model_fasttext.predict(df['description'][3133], k=5)\n",
        "p[0][0][-1]"
      ],
      "metadata": {
        "colab": {
          "base_uri": "https://localhost:8080/",
          "height": 35
        },
        "id": "kQs_BBu2AtZu",
        "outputId": "1fc5d45b-f201-48de-92a8-66c1ae598573"
      },
      "execution_count": null,
      "outputs": [
        {
          "output_type": "execute_result",
          "data": {
            "application/vnd.google.colaboratory.intrinsic+json": {
              "type": "string"
            },
            "text/plain": [
              "'3'"
            ]
          },
          "metadata": {},
          "execution_count": 81
        }
      ]
    },
    {
      "cell_type": "code",
      "source": [
        "logreg.predict([df['description'][3133]])"
      ],
      "metadata": {
        "colab": {
          "base_uri": "https://localhost:8080/"
        },
        "id": "2Uk7pgmBBLpM",
        "outputId": "5a0cbaba-a954-4a46-e90d-75125d721407"
      },
      "execution_count": null,
      "outputs": [
        {
          "output_type": "execute_result",
          "data": {
            "text/plain": [
              "array([1])"
            ]
          },
          "metadata": {},
          "execution_count": 169
        }
      ]
    },
    {
      "cell_type": "markdown",
      "source": [
        "новость нейтрального характера, пример распознан успешно"
      ],
      "metadata": {
        "id": "r_NQZCW-BQzh"
      }
    },
    {
      "cell_type": "code",
      "source": [
        "def insert(df, row):\n",
        "    insert_loc = df.index.max()\n",
        "\n",
        "    if pd.isna(insert_loc):\n",
        "        df.loc[0] = row\n",
        "    else:\n",
        "        df.loc[insert_loc + 1] = row"
      ],
      "metadata": {
        "id": "_olYUm5WC2fS"
      },
      "execution_count": null,
      "outputs": []
    },
    {
      "cell_type": "markdown",
      "source": [
        "будем дообучать logreg"
      ],
      "metadata": {
        "id": "g9tXmAAlDYCf"
      }
    },
    {
      "cell_type": "code",
      "source": [
        "prep_text = [remove_multiple_spaces(remove_numbers(remove_punctuation(text.lower()))) for text in tqdm(df['description'])]"
      ],
      "metadata": {
        "colab": {
          "base_uri": "https://localhost:8080/",
          "height": 49,
          "referenced_widgets": [
            "8c14b22e138e46ffaac0d187cd1486bb",
            "861e126a166d41c980549ee380bf5724",
            "52764f4e5c284019a62e0400f2d3cfd0",
            "673cb39bc71d4d758c4a1cb0eb70d944",
            "b4bf9d0215194c57bdca2dfe8c89d99a",
            "a3fbbdaa615346da9db55563db0fd3a5",
            "860d660d12a74b449089e993684708e1",
            "efdd1ebf58f34fa386b92ab2314a2767",
            "52e23d627a784adba85f6600c3e111a6",
            "81113f41ffb744da8d8ca12c6d5832ef",
            "ef5edd101d064bfa84536fcb4ce400ac"
          ]
        },
        "id": "LQ8oZhU_mclj",
        "outputId": "df39e7d4-446c-477e-f910-3ce2f1e01382"
      },
      "execution_count": null,
      "outputs": [
        {
          "output_type": "display_data",
          "data": {
            "application/vnd.jupyter.widget-view+json": {
              "model_id": "8c14b22e138e46ffaac0d187cd1486bb",
              "version_minor": 0,
              "version_major": 2
            },
            "text/plain": [
              "  0%|          | 0/37243 [00:00<?, ?it/s]"
            ]
          },
          "metadata": {}
        }
      ]
    },
    {
      "cell_type": "code",
      "source": [
        "df['text_prep'] = prep_text"
      ],
      "metadata": {
        "id": "7wRU2hYsmjB0"
      },
      "execution_count": null,
      "outputs": []
    },
    {
      "cell_type": "code",
      "source": [
        "df['text_prep'] = prep_text\n",
        "sw_texts_list = []\n",
        "for text in tqdm(df['text_prep']):\n",
        "    tokens = word_tokenize(text)    \n",
        "    tokens = [token for token in tokens if token not in russian_stopwords and token != ' ']\n",
        "    text = \" \".join(tokens)\n",
        "    sw_texts_list.append(text)\n",
        "\n",
        "df['text_sw'] = sw_texts_list"
      ],
      "metadata": {
        "colab": {
          "base_uri": "https://localhost:8080/",
          "height": 49,
          "referenced_widgets": [
            "811189c91f7048b69afeaf4fc16a8063",
            "38d2d984ef0844a2adaf82d07eddc775",
            "d5ac270c34c944c8abf6159cbebb12cb",
            "cc0ba0e91e9548ffbc65214c80f5a582",
            "70dd6fec48ce400da31dd171bfb03c91",
            "6fbc1508e5e04b0f92f5c119eab728e1",
            "6fb9902e785742c9839403c8c4de05a5",
            "e8d0b03a020742abbe04ee8dc280a288",
            "6ec88409608943c7bfe32294bbc01b99",
            "88129bd061424cfe82cd018562f0ee23",
            "9094ae0be06b4a01abe8c29530a2665f"
          ]
        },
        "id": "6Zy_U5nxmR7j",
        "outputId": "3fc5cc8d-c635-4bb9-c88a-cd0b1fb096c6"
      },
      "execution_count": null,
      "outputs": [
        {
          "output_type": "display_data",
          "data": {
            "application/vnd.jupyter.widget-view+json": {
              "model_id": "811189c91f7048b69afeaf4fc16a8063",
              "version_minor": 0,
              "version_major": 2
            },
            "text/plain": [
              "  0%|          | 0/37243 [00:00<?, ?it/s]"
            ]
          },
          "metadata": {}
        }
      ]
    },
    {
      "cell_type": "code",
      "source": [
        "df['labeled']=False"
      ],
      "metadata": {
        "id": "kEDVt5vo9Bmi"
      },
      "execution_count": null,
      "outputs": []
    },
    {
      "cell_type": "code",
      "source": [
        "df.head()"
      ],
      "metadata": {
        "colab": {
          "base_uri": "https://localhost:8080/",
          "height": 582
        },
        "id": "gWsh7gjR9G3O",
        "outputId": "97e38ee4-85f8-499c-d44d-79c005b251a1"
      },
      "execution_count": null,
      "outputs": [
        {
          "output_type": "execute_result",
          "data": {
            "text/html": [
              "\n",
              "  <div id=\"df-3252470e-8570-48e8-85fc-7be1a804351b\">\n",
              "    <div class=\"colab-df-container\">\n",
              "      <div>\n",
              "<style scoped>\n",
              "    .dataframe tbody tr th:only-of-type {\n",
              "        vertical-align: middle;\n",
              "    }\n",
              "\n",
              "    .dataframe tbody tr th {\n",
              "        vertical-align: top;\n",
              "    }\n",
              "\n",
              "    .dataframe thead th {\n",
              "        text-align: right;\n",
              "    }\n",
              "</style>\n",
              "<table border=\"1\" class=\"dataframe\">\n",
              "  <thead>\n",
              "    <tr style=\"text-align: right;\">\n",
              "      <th></th>\n",
              "      <th>u_id</th>\n",
              "      <th>provider</th>\n",
              "      <th>date_time</th>\n",
              "      <th>title</th>\n",
              "      <th>description</th>\n",
              "      <th>link</th>\n",
              "      <th>pubdate</th>\n",
              "      <th>numfield</th>\n",
              "      <th>Languagereveiw</th>\n",
              "      <th>text_prep</th>\n",
              "      <th>text_sw</th>\n",
              "      <th>labeled</th>\n",
              "    </tr>\n",
              "  </thead>\n",
              "  <tbody>\n",
              "    <tr>\n",
              "      <th>0</th>\n",
              "      <td>211367</td>\n",
              "      <td>vsesmiru_business</td>\n",
              "      <td>2017-02-02 06:00:33</td>\n",
              "      <td>\"100 друзей\" Гродненского мясокомбината</td>\n",
              "      <td>Дизайнеры агентства Fabula Branding (Минск) пр...</td>\n",
              "      <td>http://www.vsesmi.ru/business/2017/02/02/321648/</td>\n",
              "      <td>02.02.2017 01:03</td>\n",
              "      <td>4</td>\n",
              "      <td>True</td>\n",
              "      <td>дизайнеры агентства fabula branding минск пров...</td>\n",
              "      <td>дизайнеры агентства fabula branding минск пров...</td>\n",
              "      <td>False</td>\n",
              "    </tr>\n",
              "    <tr>\n",
              "      <th>1</th>\n",
              "      <td>353361</td>\n",
              "      <td>vsesmiru_business</td>\n",
              "      <td>2017-02-24 09:00:34</td>\n",
              "      <td>\"ArcelorMittal Кривой Рог\" инициировал антидем...</td>\n",
              "      <td>В течение 30 дней, с даты публикации сообщения...</td>\n",
              "      <td>http://www.vsesmi.ru/business/2017/02/24/385699/</td>\n",
              "      <td>24.02.2017 08:31</td>\n",
              "      <td>4</td>\n",
              "      <td>True</td>\n",
              "      <td>в течение дней с даты публикации сообщения в у...</td>\n",
              "      <td>течение дней даты публикации сообщения урядово...</td>\n",
              "      <td>False</td>\n",
              "    </tr>\n",
              "    <tr>\n",
              "      <th>2</th>\n",
              "      <td>65369</td>\n",
              "      <td>newrucom_common</td>\n",
              "      <td>2016-12-05 20:30:06</td>\n",
              "      <td>\"Абсолютно никчемный аргумент\": Путин прокомме...</td>\n",
              "      <td>Глава государства назвал совершенно не имеющей...</td>\n",
              "      <td>http://www.newsru.com/finance/05dec2016/gazpro...</td>\n",
              "      <td>05.12.2016 20:26</td>\n",
              "      <td>4</td>\n",
              "      <td>True</td>\n",
              "      <td>глава государства назвал совершенно не имеющей...</td>\n",
              "      <td>глава государства назвал совершенно имеющей со...</td>\n",
              "      <td>False</td>\n",
              "    </tr>\n",
              "    <tr>\n",
              "      <th>3</th>\n",
              "      <td>58879</td>\n",
              "      <td>vsesmiru_business</td>\n",
              "      <td>2017-01-11 07:45:35</td>\n",
              "      <td>\"Аврора\" со следующей недели открывает новый р...</td>\n",
              "      <td>Интерфакс-Россия, Новость:\\nАвиакомпания \"Авро...</td>\n",
              "      <td>http://www.vsesmi.ru/business/2017/01/11/256028/</td>\n",
              "      <td>11.01.2017 07:26</td>\n",
              "      <td>4</td>\n",
              "      <td>True</td>\n",
              "      <td>интерфакс россия новость авиакомпания аврора с...</td>\n",
              "      <td>интерфакс россия новость авиакомпания аврора я...</td>\n",
              "      <td>False</td>\n",
              "    </tr>\n",
              "    <tr>\n",
              "      <th>4</th>\n",
              "      <td>243101</td>\n",
              "      <td>vestifinance_common</td>\n",
              "      <td>2017-02-07 11:15:54</td>\n",
              "      <td>\"АвтоВАЗ\" наращивает продажи. Главное</td>\n",
              "      <td>Отечественный концерн по производству автомоби...</td>\n",
              "      <td>http://www.vestifinance.ru/videos/32121</td>\n",
              "      <td>07.02.2017 11:11</td>\n",
              "      <td>4</td>\n",
              "      <td>True</td>\n",
              "      <td>отечественный концерн по производству автомоби...</td>\n",
              "      <td>отечественный концерн производству автомобилей...</td>\n",
              "      <td>False</td>\n",
              "    </tr>\n",
              "  </tbody>\n",
              "</table>\n",
              "</div>\n",
              "      <button class=\"colab-df-convert\" onclick=\"convertToInteractive('df-3252470e-8570-48e8-85fc-7be1a804351b')\"\n",
              "              title=\"Convert this dataframe to an interactive table.\"\n",
              "              style=\"display:none;\">\n",
              "        \n",
              "  <svg xmlns=\"http://www.w3.org/2000/svg\" height=\"24px\"viewBox=\"0 0 24 24\"\n",
              "       width=\"24px\">\n",
              "    <path d=\"M0 0h24v24H0V0z\" fill=\"none\"/>\n",
              "    <path d=\"M18.56 5.44l.94 2.06.94-2.06 2.06-.94-2.06-.94-.94-2.06-.94 2.06-2.06.94zm-11 1L8.5 8.5l.94-2.06 2.06-.94-2.06-.94L8.5 2.5l-.94 2.06-2.06.94zm10 10l.94 2.06.94-2.06 2.06-.94-2.06-.94-.94-2.06-.94 2.06-2.06.94z\"/><path d=\"M17.41 7.96l-1.37-1.37c-.4-.4-.92-.59-1.43-.59-.52 0-1.04.2-1.43.59L10.3 9.45l-7.72 7.72c-.78.78-.78 2.05 0 2.83L4 21.41c.39.39.9.59 1.41.59.51 0 1.02-.2 1.41-.59l7.78-7.78 2.81-2.81c.8-.78.8-2.07 0-2.86zM5.41 20L4 18.59l7.72-7.72 1.47 1.35L5.41 20z\"/>\n",
              "  </svg>\n",
              "      </button>\n",
              "      \n",
              "  <style>\n",
              "    .colab-df-container {\n",
              "      display:flex;\n",
              "      flex-wrap:wrap;\n",
              "      gap: 12px;\n",
              "    }\n",
              "\n",
              "    .colab-df-convert {\n",
              "      background-color: #E8F0FE;\n",
              "      border: none;\n",
              "      border-radius: 50%;\n",
              "      cursor: pointer;\n",
              "      display: none;\n",
              "      fill: #1967D2;\n",
              "      height: 32px;\n",
              "      padding: 0 0 0 0;\n",
              "      width: 32px;\n",
              "    }\n",
              "\n",
              "    .colab-df-convert:hover {\n",
              "      background-color: #E2EBFA;\n",
              "      box-shadow: 0px 1px 2px rgba(60, 64, 67, 0.3), 0px 1px 3px 1px rgba(60, 64, 67, 0.15);\n",
              "      fill: #174EA6;\n",
              "    }\n",
              "\n",
              "    [theme=dark] .colab-df-convert {\n",
              "      background-color: #3B4455;\n",
              "      fill: #D2E3FC;\n",
              "    }\n",
              "\n",
              "    [theme=dark] .colab-df-convert:hover {\n",
              "      background-color: #434B5C;\n",
              "      box-shadow: 0px 1px 3px 1px rgba(0, 0, 0, 0.15);\n",
              "      filter: drop-shadow(0px 1px 2px rgba(0, 0, 0, 0.3));\n",
              "      fill: #FFFFFF;\n",
              "    }\n",
              "  </style>\n",
              "\n",
              "      <script>\n",
              "        const buttonEl =\n",
              "          document.querySelector('#df-3252470e-8570-48e8-85fc-7be1a804351b button.colab-df-convert');\n",
              "        buttonEl.style.display =\n",
              "          google.colab.kernel.accessAllowed ? 'block' : 'none';\n",
              "\n",
              "        async function convertToInteractive(key) {\n",
              "          const element = document.querySelector('#df-3252470e-8570-48e8-85fc-7be1a804351b');\n",
              "          const dataTable =\n",
              "            await google.colab.kernel.invokeFunction('convertToInteractive',\n",
              "                                                     [key], {});\n",
              "          if (!dataTable) return;\n",
              "\n",
              "          const docLinkHtml = 'Like what you see? Visit the ' +\n",
              "            '<a target=\"_blank\" href=https://colab.research.google.com/notebooks/data_table.ipynb>data table notebook</a>'\n",
              "            + ' to learn more about interactive tables.';\n",
              "          element.innerHTML = '';\n",
              "          dataTable['output_type'] = 'display_data';\n",
              "          await google.colab.output.renderOutput(dataTable, element);\n",
              "          const docLink = document.createElement('div');\n",
              "          docLink.innerHTML = docLinkHtml;\n",
              "          element.appendChild(docLink);\n",
              "        }\n",
              "      </script>\n",
              "    </div>\n",
              "  </div>\n",
              "  "
            ],
            "text/plain": [
              "     u_id  ... labeled\n",
              "0  211367  ...   False\n",
              "1  353361  ...   False\n",
              "2   65369  ...   False\n",
              "3   58879  ...   False\n",
              "4  243101  ...   False\n",
              "\n",
              "[5 rows x 12 columns]"
            ]
          },
          "metadata": {},
          "execution_count": 22
        }
      ]
    },
    {
      "cell_type": "code",
      "source": [
        "\n",
        "data_add=[]\n",
        "for i in range(2151,len(df)):\n",
        "  if not df['labeled'][i]:\n",
        "    x=np.array_str ( logreg.predict( [df['text_sw'][i]]  ))[1]\n",
        "    y=model_fasttext.predict(df['text_sw'][i], k=5)[0][0][-1]\n",
        "    if x==y:\n",
        "      data_add.append([df['description'][i] ,df['text_sw'][i],x ])\n",
        "\n"
      ],
      "metadata": {
        "id": "DLKbhI33BtLi"
      },
      "execution_count": null,
      "outputs": []
    },
    {
      "cell_type": "code",
      "source": [
        "len(data_add)"
      ],
      "metadata": {
        "colab": {
          "base_uri": "https://localhost:8080/"
        },
        "id": "rEzXMm1P_oF1",
        "outputId": "2e81c348-9d81-4606-fd0d-dd8f760067a3"
      },
      "execution_count": null,
      "outputs": [
        {
          "output_type": "execute_result",
          "data": {
            "text/plain": [
              "29098"
            ]
          },
          "metadata": {},
          "execution_count": 65
        }
      ]
    },
    {
      "cell_type": "markdown",
      "source": [
        "это успех! было на второй итерации успешно распознано более 29000 примеров! анализ содержимого показал, что это соответствует истине"
      ],
      "metadata": {
        "id": "eYPnT9b1AVl2"
      }
    },
    {
      "cell_type": "code",
      "source": [
        "data_add[:-30]"
      ],
      "metadata": {
        "id": "T_q5mHSx-i2p"
      },
      "execution_count": null,
      "outputs": []
    },
    {
      "cell_type": "code",
      "source": [
        "df_train2=pd.DataFrame(data=data_add,columns=['description','text_sw','label'])"
      ],
      "metadata": {
        "id": "M4oov1DJ_raO"
      },
      "execution_count": null,
      "outputs": []
    },
    {
      "cell_type": "code",
      "source": [
        "df_train2.head()"
      ],
      "metadata": {
        "colab": {
          "base_uri": "https://localhost:8080/",
          "height": 314
        },
        "id": "uFzP28LQpCU0",
        "outputId": "dfbbaf34-70b3-44b5-fd4f-4e6f106e4ba1"
      },
      "execution_count": null,
      "outputs": [
        {
          "output_type": "execute_result",
          "data": {
            "text/html": [
              "\n",
              "  <div id=\"df-64ac77d5-ea9e-4df7-8114-5604f7cf904d\">\n",
              "    <div class=\"colab-df-container\">\n",
              "      <div>\n",
              "<style scoped>\n",
              "    .dataframe tbody tr th:only-of-type {\n",
              "        vertical-align: middle;\n",
              "    }\n",
              "\n",
              "    .dataframe tbody tr th {\n",
              "        vertical-align: top;\n",
              "    }\n",
              "\n",
              "    .dataframe thead th {\n",
              "        text-align: right;\n",
              "    }\n",
              "</style>\n",
              "<table border=\"1\" class=\"dataframe\">\n",
              "  <thead>\n",
              "    <tr style=\"text-align: right;\">\n",
              "      <th></th>\n",
              "      <th>description</th>\n",
              "      <th>text_sw</th>\n",
              "      <th>label</th>\n",
              "    </tr>\n",
              "  </thead>\n",
              "  <tbody>\n",
              "    <tr>\n",
              "      <th>0</th>\n",
              "      <td>Гендиректора сети IKEA в России Вальтер Каднар...</td>\n",
              "      <td>гендиректора сети ikea россии вальтер каднар с...</td>\n",
              "      <td>3</td>\n",
              "    </tr>\n",
              "    <tr>\n",
              "      <th>1</th>\n",
              "      <td>IKEA не хочет платить российскому бизнесмену К...</td>\n",
              "      <td>ikea хочет платить российскому бизнесмену конс...</td>\n",
              "      <td>2</td>\n",
              "    </tr>\n",
              "    <tr>\n",
              "      <th>2</th>\n",
              "      <td>Производитель сигарет Imperial Tobacco решил з...</td>\n",
              "      <td>производитель сигарет imperial tobacco решил з...</td>\n",
              "      <td>3</td>\n",
              "    </tr>\n",
              "    <tr>\n",
              "      <th>3</th>\n",
              "      <td>Компания объясняет решение падением российског...</td>\n",
              "      <td>компания объясняет решение падением российског...</td>\n",
              "      <td>3</td>\n",
              "    </tr>\n",
              "    <tr>\n",
              "      <th>4</th>\n",
              "      <td>Журналист Шенан Молони заявил об истинной, по ...</td>\n",
              "      <td>журналист шенан молони заявил истинной мнению ...</td>\n",
              "      <td>3</td>\n",
              "    </tr>\n",
              "  </tbody>\n",
              "</table>\n",
              "</div>\n",
              "      <button class=\"colab-df-convert\" onclick=\"convertToInteractive('df-64ac77d5-ea9e-4df7-8114-5604f7cf904d')\"\n",
              "              title=\"Convert this dataframe to an interactive table.\"\n",
              "              style=\"display:none;\">\n",
              "        \n",
              "  <svg xmlns=\"http://www.w3.org/2000/svg\" height=\"24px\"viewBox=\"0 0 24 24\"\n",
              "       width=\"24px\">\n",
              "    <path d=\"M0 0h24v24H0V0z\" fill=\"none\"/>\n",
              "    <path d=\"M18.56 5.44l.94 2.06.94-2.06 2.06-.94-2.06-.94-.94-2.06-.94 2.06-2.06.94zm-11 1L8.5 8.5l.94-2.06 2.06-.94-2.06-.94L8.5 2.5l-.94 2.06-2.06.94zm10 10l.94 2.06.94-2.06 2.06-.94-2.06-.94-.94-2.06-.94 2.06-2.06.94z\"/><path d=\"M17.41 7.96l-1.37-1.37c-.4-.4-.92-.59-1.43-.59-.52 0-1.04.2-1.43.59L10.3 9.45l-7.72 7.72c-.78.78-.78 2.05 0 2.83L4 21.41c.39.39.9.59 1.41.59.51 0 1.02-.2 1.41-.59l7.78-7.78 2.81-2.81c.8-.78.8-2.07 0-2.86zM5.41 20L4 18.59l7.72-7.72 1.47 1.35L5.41 20z\"/>\n",
              "  </svg>\n",
              "      </button>\n",
              "      \n",
              "  <style>\n",
              "    .colab-df-container {\n",
              "      display:flex;\n",
              "      flex-wrap:wrap;\n",
              "      gap: 12px;\n",
              "    }\n",
              "\n",
              "    .colab-df-convert {\n",
              "      background-color: #E8F0FE;\n",
              "      border: none;\n",
              "      border-radius: 50%;\n",
              "      cursor: pointer;\n",
              "      display: none;\n",
              "      fill: #1967D2;\n",
              "      height: 32px;\n",
              "      padding: 0 0 0 0;\n",
              "      width: 32px;\n",
              "    }\n",
              "\n",
              "    .colab-df-convert:hover {\n",
              "      background-color: #E2EBFA;\n",
              "      box-shadow: 0px 1px 2px rgba(60, 64, 67, 0.3), 0px 1px 3px 1px rgba(60, 64, 67, 0.15);\n",
              "      fill: #174EA6;\n",
              "    }\n",
              "\n",
              "    [theme=dark] .colab-df-convert {\n",
              "      background-color: #3B4455;\n",
              "      fill: #D2E3FC;\n",
              "    }\n",
              "\n",
              "    [theme=dark] .colab-df-convert:hover {\n",
              "      background-color: #434B5C;\n",
              "      box-shadow: 0px 1px 3px 1px rgba(0, 0, 0, 0.15);\n",
              "      filter: drop-shadow(0px 1px 2px rgba(0, 0, 0, 0.3));\n",
              "      fill: #FFFFFF;\n",
              "    }\n",
              "  </style>\n",
              "\n",
              "      <script>\n",
              "        const buttonEl =\n",
              "          document.querySelector('#df-64ac77d5-ea9e-4df7-8114-5604f7cf904d button.colab-df-convert');\n",
              "        buttonEl.style.display =\n",
              "          google.colab.kernel.accessAllowed ? 'block' : 'none';\n",
              "\n",
              "        async function convertToInteractive(key) {\n",
              "          const element = document.querySelector('#df-64ac77d5-ea9e-4df7-8114-5604f7cf904d');\n",
              "          const dataTable =\n",
              "            await google.colab.kernel.invokeFunction('convertToInteractive',\n",
              "                                                     [key], {});\n",
              "          if (!dataTable) return;\n",
              "\n",
              "          const docLinkHtml = 'Like what you see? Visit the ' +\n",
              "            '<a target=\"_blank\" href=https://colab.research.google.com/notebooks/data_table.ipynb>data table notebook</a>'\n",
              "            + ' to learn more about interactive tables.';\n",
              "          element.innerHTML = '';\n",
              "          dataTable['output_type'] = 'display_data';\n",
              "          await google.colab.output.renderOutput(dataTable, element);\n",
              "          const docLink = document.createElement('div');\n",
              "          docLink.innerHTML = docLinkHtml;\n",
              "          element.appendChild(docLink);\n",
              "        }\n",
              "      </script>\n",
              "    </div>\n",
              "  </div>\n",
              "  "
            ],
            "text/plain": [
              "                                         description  ... label\n",
              "0  Гендиректора сети IKEA в России Вальтер Каднар...  ...     3\n",
              "1  IKEA не хочет платить российскому бизнесмену К...  ...     2\n",
              "2  Производитель сигарет Imperial Tobacco решил з...  ...     3\n",
              "3  Компания объясняет решение падением российског...  ...     3\n",
              "4  Журналист Шенан Молони заявил об истинной, по ...  ...     3\n",
              "\n",
              "[5 rows x 3 columns]"
            ]
          },
          "metadata": {},
          "execution_count": 67
        }
      ]
    },
    {
      "cell_type": "code",
      "source": [
        "X = df_train2['text_sw']\n",
        "y = df_train2['label']\n"
      ],
      "metadata": {
        "id": "MsOna7tpo3Tt"
      },
      "execution_count": null,
      "outputs": []
    },
    {
      "cell_type": "code",
      "source": [
        "X_train, X_test, y_train, y_test = train_test_split(X, y, test_size=0.2, random_state = 42)"
      ],
      "metadata": {
        "id": "n_pl6KKxAxQR"
      },
      "execution_count": null,
      "outputs": []
    },
    {
      "cell_type": "code",
      "source": [
        "len(X_train)"
      ],
      "metadata": {
        "colab": {
          "base_uri": "https://localhost:8080/"
        },
        "id": "4dMIpKbqBSaN",
        "outputId": "9aeffe4c-fb29-426f-e416-44186ad243ea"
      },
      "execution_count": null,
      "outputs": [
        {
          "output_type": "execute_result",
          "data": {
            "text/plain": [
              "23278"
            ]
          },
          "metadata": {},
          "execution_count": 73
        }
      ]
    },
    {
      "cell_type": "code",
      "source": [
        "logreg.fit(X_train, y_train)"
      ],
      "metadata": {
        "colab": {
          "base_uri": "https://localhost:8080/"
        },
        "id": "hqXhUXrBA6W-",
        "outputId": "1124d0b0-801d-45a4-9e73-b49e23f517a1"
      },
      "execution_count": null,
      "outputs": [
        {
          "output_type": "stream",
          "name": "stderr",
          "text": [
            "/usr/local/lib/python3.7/dist-packages/sklearn/linear_model/_logistic.py:818: ConvergenceWarning: lbfgs failed to converge (status=1):\n",
            "STOP: TOTAL NO. of ITERATIONS REACHED LIMIT.\n",
            "\n",
            "Increase the number of iterations (max_iter) or scale the data as shown in:\n",
            "    https://scikit-learn.org/stable/modules/preprocessing.html\n",
            "Please also refer to the documentation for alternative solver options:\n",
            "    https://scikit-learn.org/stable/modules/linear_model.html#logistic-regression\n",
            "  extra_warning_msg=_LOGISTIC_SOLVER_CONVERGENCE_MSG,\n"
          ]
        },
        {
          "output_type": "execute_result",
          "data": {
            "text/plain": [
              "Pipeline(steps=[('vect', CountVectorizer()), ('tfidf', TfidfTransformer()),\n",
              "                ('logreg', LogisticRegression(C=100000.0, n_jobs=1))])"
            ]
          },
          "metadata": {},
          "execution_count": 70
        }
      ]
    },
    {
      "cell_type": "code",
      "source": [
        "y_pred = logreg.predict(X_test)"
      ],
      "metadata": {
        "id": "Ff8s1lsOA-IF"
      },
      "execution_count": null,
      "outputs": []
    },
    {
      "cell_type": "code",
      "source": [
        "print('accuracy %s' % accuracy_score(y_pred, y_test))\n",
        "print(classification_report(y_test, y_pred,target_names=my_tags))"
      ],
      "metadata": {
        "colab": {
          "base_uri": "https://localhost:8080/"
        },
        "id": "8KvhP4bXBCk-",
        "outputId": "73e26d45-8282-4c1e-ca6f-f61cc72a1d00"
      },
      "execution_count": null,
      "outputs": [
        {
          "output_type": "stream",
          "name": "stdout",
          "text": [
            "accuracy 0.9750859106529209\n",
            "              precision    recall  f1-score   support\n",
            "\n",
            "           1       0.91      0.75      0.82       290\n",
            "           2       0.92      0.90      0.91       136\n",
            "           3       0.98      0.99      0.99      5324\n",
            "           4       0.86      0.71      0.78        59\n",
            "           5       0.75      0.27      0.40        11\n",
            "\n",
            "    accuracy                           0.98      5820\n",
            "   macro avg       0.88      0.72      0.78      5820\n",
            "weighted avg       0.97      0.98      0.97      5820\n",
            "\n"
          ]
        }
      ]
    },
    {
      "cell_type": "markdown",
      "source": [
        "точность составила порядка 98 %"
      ],
      "metadata": {
        "id": "6Dx_TjmzBHLX"
      }
    },
    {
      "cell_type": "markdown",
      "source": [
        "### загрузка оставшихся датасетов, еще одна итерация"
      ],
      "metadata": {
        "id": "B79TucPeBb75"
      }
    },
    {
      "cell_type": "code",
      "source": [
        "df_all=pd.read_csv('/content/drive/MyDrive/Colab Notebooks/20170601.csv')"
      ],
      "metadata": {
        "id": "xsF2MaDzBjfd"
      },
      "execution_count": null,
      "outputs": []
    },
    {
      "cell_type": "code",
      "source": [
        "df_all.append(pd.read_csv('/content/drive/MyDrive/Colab Notebooks/20170901.csv'),sort=False)"
      ],
      "metadata": {
        "colab": {
          "base_uri": "https://localhost:8080/",
          "height": 693
        },
        "id": "DcJOEnv2CqNZ",
        "outputId": "727b881e-81b9-4b39-e332-9f3254083941"
      },
      "execution_count": null,
      "outputs": [
        {
          "output_type": "execute_result",
          "data": {
            "text/html": [
              "\n",
              "  <div id=\"df-4f251bd6-804c-4131-bb29-7496d5bb0547\">\n",
              "    <div class=\"colab-df-container\">\n",
              "      <div>\n",
              "<style scoped>\n",
              "    .dataframe tbody tr th:only-of-type {\n",
              "        vertical-align: middle;\n",
              "    }\n",
              "\n",
              "    .dataframe tbody tr th {\n",
              "        vertical-align: top;\n",
              "    }\n",
              "\n",
              "    .dataframe thead th {\n",
              "        text-align: right;\n",
              "    }\n",
              "</style>\n",
              "<table border=\"1\" class=\"dataframe\">\n",
              "  <thead>\n",
              "    <tr style=\"text-align: right;\">\n",
              "      <th></th>\n",
              "      <th>u_id</th>\n",
              "      <th>provider</th>\n",
              "      <th>date_time</th>\n",
              "      <th>title</th>\n",
              "      <th>description</th>\n",
              "      <th>link</th>\n",
              "      <th>pubdate</th>\n",
              "      <th>numfield</th>\n",
              "    </tr>\n",
              "  </thead>\n",
              "  <tbody>\n",
              "    <tr>\n",
              "      <th>0</th>\n",
              "      <td>407986</td>\n",
              "      <td>lifenewsru_common</td>\n",
              "      <td>2017-03-05 15:00:50</td>\n",
              "      <td>!!!АВИТКЕПСРЕП</td>\n",
              "      <td></td>\n",
              "      <td>https://life.ru/980965</td>\n",
              "      <td>05.03.2017 15:00</td>\n",
              "      <td>4</td>\n",
              "    </tr>\n",
              "    <tr>\n",
              "      <th>1</th>\n",
              "      <td>836706</td>\n",
              "      <td>mailru_common</td>\n",
              "      <td>2017-05-11 14:00:28</td>\n",
              "      <td>\"\"Вашингтону\" нужно расставаться с Овечкиным\"....</td>\n",
              "      <td>&lt;p&gt;Североамериканская пресса подводит неутешит...</td>\n",
              "      <td>https://sport.mail.ru/news/hockey-nhl/29706496/</td>\n",
              "      <td>11.05.2017 13:50</td>\n",
              "      <td>4</td>\n",
              "    </tr>\n",
              "    <tr>\n",
              "      <th>2</th>\n",
              "      <td>819187</td>\n",
              "      <td>mailru_common</td>\n",
              "      <td>2017-05-08 15:45:20</td>\n",
              "      <td>\"\"Краснодар\" рискует потерять лицо\". Ловчев - ...</td>\n",
              "      <td>&lt;p&gt;Обозреватель «Советского спорта» Евгений Ло...</td>\n",
              "      <td>https://sport.mail.ru/news/football-rus-premie...</td>\n",
              "      <td>08.05.2017 15:42</td>\n",
              "      <td>4</td>\n",
              "    </tr>\n",
              "    <tr>\n",
              "      <th>3</th>\n",
              "      <td>864467</td>\n",
              "      <td>mailru_common</td>\n",
              "      <td>2017-05-16 11:00:44</td>\n",
              "      <td>\"11 Аспиликуэт выиграют Лигу чемпионов\". Самый...</td>\n",
              "      <td>&lt;p&gt;И самый незаменимый — в нынешнем сезоне АПЛ...</td>\n",
              "      <td>https://sport.mail.ru/news/football-foreign/29...</td>\n",
              "      <td>16.05.2017 10:52</td>\n",
              "      <td>4</td>\n",
              "    </tr>\n",
              "    <tr>\n",
              "      <th>4</th>\n",
              "      <td>724875</td>\n",
              "      <td>lifenewsru_common</td>\n",
              "      <td>2017-04-22 11:30:51</td>\n",
              "      <td>\"13 причин почему\". Американская история про \"...</td>\n",
              "      <td>Ученица старшей школы городка Либерти по имени...</td>\n",
              "      <td>https://life.ru/1000004</td>\n",
              "      <td>22.04.2017 11:30</td>\n",
              "      <td>4</td>\n",
              "    </tr>\n",
              "    <tr>\n",
              "      <th>...</th>\n",
              "      <td>...</td>\n",
              "      <td>...</td>\n",
              "      <td>...</td>\n",
              "      <td>...</td>\n",
              "      <td>...</td>\n",
              "      <td>...</td>\n",
              "      <td>...</td>\n",
              "      <td>...</td>\n",
              "    </tr>\n",
              "    <tr>\n",
              "      <th>617985</th>\n",
              "      <td>1491950</td>\n",
              "      <td>infoxru_business</td>\n",
              "      <td>2017-08-15 19:30:29</td>\n",
              "      <td>… Плюс монополизация всей страны</td>\n",
              "      <td>Почему усилия правительства по поддержке малог...</td>\n",
              "      <td>https://www.infox.ru/news/271/economy/company/...</td>\n",
              "      <td>15.08.2017 19:28</td>\n",
              "      <td>4</td>\n",
              "    </tr>\n",
              "    <tr>\n",
              "      <th>617986</th>\n",
              "      <td>1111364</td>\n",
              "      <td>ftcom_world[eng]</td>\n",
              "      <td>2017-06-20 23:46:18</td>\n",
              "      <td>€100bn Brexit bill explained</td>\n",
              "      <td>EU demands compared with public debt, contribu...</td>\n",
              "      <td>https://www.ft.com/content/2b2601a5-561b-4c9d-...</td>\n",
              "      <td>20.06.2017 20:32</td>\n",
              "      <td>4</td>\n",
              "    </tr>\n",
              "    <tr>\n",
              "      <th>617987</th>\n",
              "      <td>1582029</td>\n",
              "      <td>theguardiancom_world[eng]</td>\n",
              "      <td>2017-08-29 18:01:35</td>\n",
              "      <td>€100m needed to save the gargoyles and gothic ...</td>\n",
              "      <td>&amp;lt;p&amp;gt;Cash needed to save Paris landmark wh...</td>\n",
              "      <td>https://www.theguardian.com/world/2017/aug/29/...</td>\n",
              "      <td>29.08.2017 14:40</td>\n",
              "      <td>4</td>\n",
              "    </tr>\n",
              "    <tr>\n",
              "      <th>617988</th>\n",
              "      <td>1565513</td>\n",
              "      <td>russianrtcom_common</td>\n",
              "      <td>2017-08-27 00:00:39</td>\n",
              "      <td>€26 000 на макияж: президенту Макрону ищут нов...</td>\n",
              "      <td>&lt;img alt=\"Preview\" align=\"left\" style=\"margin-...</td>\n",
              "      <td>https://russian.rt.com/world/article/423416-ma...</td>\n",
              "      <td>27.08.2017 00:00</td>\n",
              "      <td>4</td>\n",
              "    </tr>\n",
              "    <tr>\n",
              "      <th>617989</th>\n",
              "      <td>1310132</td>\n",
              "      <td>kommersantru_main</td>\n",
              "      <td>2017-07-18 22:15:20</td>\n",
              "      <td>€5,4 млн за якорную стоянку Arctic Sunrise // ...</td>\n",
              "      <td>Международный арбитраж в Гааге обязал Россию в...</td>\n",
              "      <td>https://www.kommersant.ru/doc/3360765</td>\n",
              "      <td>18.07.2017 22:04</td>\n",
              "      <td>4</td>\n",
              "    </tr>\n",
              "  </tbody>\n",
              "</table>\n",
              "<p>1202359 rows × 8 columns</p>\n",
              "</div>\n",
              "      <button class=\"colab-df-convert\" onclick=\"convertToInteractive('df-4f251bd6-804c-4131-bb29-7496d5bb0547')\"\n",
              "              title=\"Convert this dataframe to an interactive table.\"\n",
              "              style=\"display:none;\">\n",
              "        \n",
              "  <svg xmlns=\"http://www.w3.org/2000/svg\" height=\"24px\"viewBox=\"0 0 24 24\"\n",
              "       width=\"24px\">\n",
              "    <path d=\"M0 0h24v24H0V0z\" fill=\"none\"/>\n",
              "    <path d=\"M18.56 5.44l.94 2.06.94-2.06 2.06-.94-2.06-.94-.94-2.06-.94 2.06-2.06.94zm-11 1L8.5 8.5l.94-2.06 2.06-.94-2.06-.94L8.5 2.5l-.94 2.06-2.06.94zm10 10l.94 2.06.94-2.06 2.06-.94-2.06-.94-.94-2.06-.94 2.06-2.06.94z\"/><path d=\"M17.41 7.96l-1.37-1.37c-.4-.4-.92-.59-1.43-.59-.52 0-1.04.2-1.43.59L10.3 9.45l-7.72 7.72c-.78.78-.78 2.05 0 2.83L4 21.41c.39.39.9.59 1.41.59.51 0 1.02-.2 1.41-.59l7.78-7.78 2.81-2.81c.8-.78.8-2.07 0-2.86zM5.41 20L4 18.59l7.72-7.72 1.47 1.35L5.41 20z\"/>\n",
              "  </svg>\n",
              "      </button>\n",
              "      \n",
              "  <style>\n",
              "    .colab-df-container {\n",
              "      display:flex;\n",
              "      flex-wrap:wrap;\n",
              "      gap: 12px;\n",
              "    }\n",
              "\n",
              "    .colab-df-convert {\n",
              "      background-color: #E8F0FE;\n",
              "      border: none;\n",
              "      border-radius: 50%;\n",
              "      cursor: pointer;\n",
              "      display: none;\n",
              "      fill: #1967D2;\n",
              "      height: 32px;\n",
              "      padding: 0 0 0 0;\n",
              "      width: 32px;\n",
              "    }\n",
              "\n",
              "    .colab-df-convert:hover {\n",
              "      background-color: #E2EBFA;\n",
              "      box-shadow: 0px 1px 2px rgba(60, 64, 67, 0.3), 0px 1px 3px 1px rgba(60, 64, 67, 0.15);\n",
              "      fill: #174EA6;\n",
              "    }\n",
              "\n",
              "    [theme=dark] .colab-df-convert {\n",
              "      background-color: #3B4455;\n",
              "      fill: #D2E3FC;\n",
              "    }\n",
              "\n",
              "    [theme=dark] .colab-df-convert:hover {\n",
              "      background-color: #434B5C;\n",
              "      box-shadow: 0px 1px 3px 1px rgba(0, 0, 0, 0.15);\n",
              "      filter: drop-shadow(0px 1px 2px rgba(0, 0, 0, 0.3));\n",
              "      fill: #FFFFFF;\n",
              "    }\n",
              "  </style>\n",
              "\n",
              "      <script>\n",
              "        const buttonEl =\n",
              "          document.querySelector('#df-4f251bd6-804c-4131-bb29-7496d5bb0547 button.colab-df-convert');\n",
              "        buttonEl.style.display =\n",
              "          google.colab.kernel.accessAllowed ? 'block' : 'none';\n",
              "\n",
              "        async function convertToInteractive(key) {\n",
              "          const element = document.querySelector('#df-4f251bd6-804c-4131-bb29-7496d5bb0547');\n",
              "          const dataTable =\n",
              "            await google.colab.kernel.invokeFunction('convertToInteractive',\n",
              "                                                     [key], {});\n",
              "          if (!dataTable) return;\n",
              "\n",
              "          const docLinkHtml = 'Like what you see? Visit the ' +\n",
              "            '<a target=\"_blank\" href=https://colab.research.google.com/notebooks/data_table.ipynb>data table notebook</a>'\n",
              "            + ' to learn more about interactive tables.';\n",
              "          element.innerHTML = '';\n",
              "          dataTable['output_type'] = 'display_data';\n",
              "          await google.colab.output.renderOutput(dataTable, element);\n",
              "          const docLink = document.createElement('div');\n",
              "          docLink.innerHTML = docLinkHtml;\n",
              "          element.appendChild(docLink);\n",
              "        }\n",
              "      </script>\n",
              "    </div>\n",
              "  </div>\n",
              "  "
            ],
            "text/plain": [
              "           u_id                   provider  ...           pubdate numfield\n",
              "0        407986          lifenewsru_common  ...  05.03.2017 15:00        4\n",
              "1        836706              mailru_common  ...  11.05.2017 13:50        4\n",
              "2        819187              mailru_common  ...  08.05.2017 15:42        4\n",
              "3        864467              mailru_common  ...  16.05.2017 10:52        4\n",
              "4        724875          lifenewsru_common  ...  22.04.2017 11:30        4\n",
              "...         ...                        ...  ...               ...      ...\n",
              "617985  1491950           infoxru_business  ...  15.08.2017 19:28        4\n",
              "617986  1111364           ftcom_world[eng]  ...  20.06.2017 20:32        4\n",
              "617987  1582029  theguardiancom_world[eng]  ...  29.08.2017 14:40        4\n",
              "617988  1565513        russianrtcom_common  ...  27.08.2017 00:00        4\n",
              "617989  1310132          kommersantru_main  ...  18.07.2017 22:04        4\n",
              "\n",
              "[1202359 rows x 8 columns]"
            ]
          },
          "metadata": {},
          "execution_count": 75
        }
      ]
    },
    {
      "cell_type": "code",
      "source": [
        "df_all.append(pd.read_csv('/content/drive/MyDrive/Colab Notebooks/20171201.csv'),sort=False)"
      ],
      "metadata": {
        "colab": {
          "base_uri": "https://localhost:8080/",
          "height": 693
        },
        "id": "le1RU6LHC2_e",
        "outputId": "3321f4ea-219e-471b-a085-a4b7c56b9e14"
      },
      "execution_count": null,
      "outputs": [
        {
          "output_type": "execute_result",
          "data": {
            "text/html": [
              "\n",
              "  <div id=\"df-af0cecf5-9b86-43e8-ad75-aa738f1a579f\">\n",
              "    <div class=\"colab-df-container\">\n",
              "      <div>\n",
              "<style scoped>\n",
              "    .dataframe tbody tr th:only-of-type {\n",
              "        vertical-align: middle;\n",
              "    }\n",
              "\n",
              "    .dataframe tbody tr th {\n",
              "        vertical-align: top;\n",
              "    }\n",
              "\n",
              "    .dataframe thead th {\n",
              "        text-align: right;\n",
              "    }\n",
              "</style>\n",
              "<table border=\"1\" class=\"dataframe\">\n",
              "  <thead>\n",
              "    <tr style=\"text-align: right;\">\n",
              "      <th></th>\n",
              "      <th>u_id</th>\n",
              "      <th>provider</th>\n",
              "      <th>date_time</th>\n",
              "      <th>title</th>\n",
              "      <th>description</th>\n",
              "      <th>link</th>\n",
              "      <th>pubdate</th>\n",
              "      <th>numfield</th>\n",
              "    </tr>\n",
              "  </thead>\n",
              "  <tbody>\n",
              "    <tr>\n",
              "      <th>0</th>\n",
              "      <td>407986</td>\n",
              "      <td>lifenewsru_common</td>\n",
              "      <td>2017-03-05 15:00:50</td>\n",
              "      <td>!!!АВИТКЕПСРЕП</td>\n",
              "      <td></td>\n",
              "      <td>https://life.ru/980965</td>\n",
              "      <td>05.03.2017 15:00</td>\n",
              "      <td>4</td>\n",
              "    </tr>\n",
              "    <tr>\n",
              "      <th>1</th>\n",
              "      <td>836706</td>\n",
              "      <td>mailru_common</td>\n",
              "      <td>2017-05-11 14:00:28</td>\n",
              "      <td>\"\"Вашингтону\" нужно расставаться с Овечкиным\"....</td>\n",
              "      <td>&lt;p&gt;Североамериканская пресса подводит неутешит...</td>\n",
              "      <td>https://sport.mail.ru/news/hockey-nhl/29706496/</td>\n",
              "      <td>11.05.2017 13:50</td>\n",
              "      <td>4</td>\n",
              "    </tr>\n",
              "    <tr>\n",
              "      <th>2</th>\n",
              "      <td>819187</td>\n",
              "      <td>mailru_common</td>\n",
              "      <td>2017-05-08 15:45:20</td>\n",
              "      <td>\"\"Краснодар\" рискует потерять лицо\". Ловчев - ...</td>\n",
              "      <td>&lt;p&gt;Обозреватель «Советского спорта» Евгений Ло...</td>\n",
              "      <td>https://sport.mail.ru/news/football-rus-premie...</td>\n",
              "      <td>08.05.2017 15:42</td>\n",
              "      <td>4</td>\n",
              "    </tr>\n",
              "    <tr>\n",
              "      <th>3</th>\n",
              "      <td>864467</td>\n",
              "      <td>mailru_common</td>\n",
              "      <td>2017-05-16 11:00:44</td>\n",
              "      <td>\"11 Аспиликуэт выиграют Лигу чемпионов\". Самый...</td>\n",
              "      <td>&lt;p&gt;И самый незаменимый — в нынешнем сезоне АПЛ...</td>\n",
              "      <td>https://sport.mail.ru/news/football-foreign/29...</td>\n",
              "      <td>16.05.2017 10:52</td>\n",
              "      <td>4</td>\n",
              "    </tr>\n",
              "    <tr>\n",
              "      <th>4</th>\n",
              "      <td>724875</td>\n",
              "      <td>lifenewsru_common</td>\n",
              "      <td>2017-04-22 11:30:51</td>\n",
              "      <td>\"13 причин почему\". Американская история про \"...</td>\n",
              "      <td>Ученица старшей школы городка Либерти по имени...</td>\n",
              "      <td>https://life.ru/1000004</td>\n",
              "      <td>22.04.2017 11:30</td>\n",
              "      <td>4</td>\n",
              "    </tr>\n",
              "    <tr>\n",
              "      <th>...</th>\n",
              "      <td>...</td>\n",
              "      <td>...</td>\n",
              "      <td>...</td>\n",
              "      <td>...</td>\n",
              "      <td>...</td>\n",
              "      <td>...</td>\n",
              "      <td>...</td>\n",
              "      <td>...</td>\n",
              "    </tr>\n",
              "    <tr>\n",
              "      <th>227382</th>\n",
              "      <td>1783725</td>\n",
              "      <td>washingtonpostcom_world[eng]</td>\n",
              "      <td>2017-09-27 19:31:13</td>\n",
              "      <td>“Don’t be afraid!” Pope starts campaign to pro...</td>\n",
              "      <td>Pope Francis has launched a two-year campaign ...</td>\n",
              "      <td>https://www.washingtonpost.com/national/religi...</td>\n",
              "      <td>27.09.2017 19:31</td>\n",
              "      <td>3</td>\n",
              "    </tr>\n",
              "    <tr>\n",
              "      <th>227383</th>\n",
              "      <td>1749586</td>\n",
              "      <td>telegraphcouk_uknews[eng]</td>\n",
              "      <td>2017-09-22 15:16:33</td>\n",
              "      <td>“How can London be a 21st century city?” Londo...</td>\n",
              "      <td>NaN</td>\n",
              "      <td>http://www.telegraph.co.uk/news/2017/09/22/can...</td>\n",
              "      <td>22.09.2017 11:55</td>\n",
              "      <td>3</td>\n",
              "    </tr>\n",
              "    <tr>\n",
              "      <th>227384</th>\n",
              "      <td>1808272</td>\n",
              "      <td>washingtonpostcom_world[eng]</td>\n",
              "      <td>2017-10-02 03:04:04</td>\n",
              "      <td>“Yes” side wins Catalonia independence vote ma...</td>\n",
              "      <td>Riot police smashed their way into polling sta...</td>\n",
              "      <td>https://www.washingtonpost.com/world/europe/ca...</td>\n",
              "      <td>02.10.2017 03:04</td>\n",
              "      <td>3</td>\n",
              "    </tr>\n",
              "    <tr>\n",
              "      <th>227385</th>\n",
              "      <td>1645929</td>\n",
              "      <td>ftcom_markets[eng]</td>\n",
              "      <td>2017-09-07 18:01:36</td>\n",
              "      <td>…and it’s gone: euro gains evaporate</td>\n",
              "      <td>NaN</td>\n",
              "      <td>https://www.ft.com/content/908b83c3-dd3f-3482-...</td>\n",
              "      <td>07.09.2017 14:16</td>\n",
              "      <td>3</td>\n",
              "    </tr>\n",
              "    <tr>\n",
              "      <th>227386</th>\n",
              "      <td>1815740</td>\n",
              "      <td>russianrtcom_common</td>\n",
              "      <td>2017-10-03 01:15:46</td>\n",
              "      <td>€50 млн за ксенофобию: в Германии вступил в си...</td>\n",
              "      <td>&lt;img alt=\"Preview\" align=\"left\" style=\"margin-...</td>\n",
              "      <td>https://russian.rt.com/world/article/435951-ge...</td>\n",
              "      <td>03.10.2017 01:10</td>\n",
              "      <td>4</td>\n",
              "    </tr>\n",
              "  </tbody>\n",
              "</table>\n",
              "<p>811756 rows × 8 columns</p>\n",
              "</div>\n",
              "      <button class=\"colab-df-convert\" onclick=\"convertToInteractive('df-af0cecf5-9b86-43e8-ad75-aa738f1a579f')\"\n",
              "              title=\"Convert this dataframe to an interactive table.\"\n",
              "              style=\"display:none;\">\n",
              "        \n",
              "  <svg xmlns=\"http://www.w3.org/2000/svg\" height=\"24px\"viewBox=\"0 0 24 24\"\n",
              "       width=\"24px\">\n",
              "    <path d=\"M0 0h24v24H0V0z\" fill=\"none\"/>\n",
              "    <path d=\"M18.56 5.44l.94 2.06.94-2.06 2.06-.94-2.06-.94-.94-2.06-.94 2.06-2.06.94zm-11 1L8.5 8.5l.94-2.06 2.06-.94-2.06-.94L8.5 2.5l-.94 2.06-2.06.94zm10 10l.94 2.06.94-2.06 2.06-.94-2.06-.94-.94-2.06-.94 2.06-2.06.94z\"/><path d=\"M17.41 7.96l-1.37-1.37c-.4-.4-.92-.59-1.43-.59-.52 0-1.04.2-1.43.59L10.3 9.45l-7.72 7.72c-.78.78-.78 2.05 0 2.83L4 21.41c.39.39.9.59 1.41.59.51 0 1.02-.2 1.41-.59l7.78-7.78 2.81-2.81c.8-.78.8-2.07 0-2.86zM5.41 20L4 18.59l7.72-7.72 1.47 1.35L5.41 20z\"/>\n",
              "  </svg>\n",
              "      </button>\n",
              "      \n",
              "  <style>\n",
              "    .colab-df-container {\n",
              "      display:flex;\n",
              "      flex-wrap:wrap;\n",
              "      gap: 12px;\n",
              "    }\n",
              "\n",
              "    .colab-df-convert {\n",
              "      background-color: #E8F0FE;\n",
              "      border: none;\n",
              "      border-radius: 50%;\n",
              "      cursor: pointer;\n",
              "      display: none;\n",
              "      fill: #1967D2;\n",
              "      height: 32px;\n",
              "      padding: 0 0 0 0;\n",
              "      width: 32px;\n",
              "    }\n",
              "\n",
              "    .colab-df-convert:hover {\n",
              "      background-color: #E2EBFA;\n",
              "      box-shadow: 0px 1px 2px rgba(60, 64, 67, 0.3), 0px 1px 3px 1px rgba(60, 64, 67, 0.15);\n",
              "      fill: #174EA6;\n",
              "    }\n",
              "\n",
              "    [theme=dark] .colab-df-convert {\n",
              "      background-color: #3B4455;\n",
              "      fill: #D2E3FC;\n",
              "    }\n",
              "\n",
              "    [theme=dark] .colab-df-convert:hover {\n",
              "      background-color: #434B5C;\n",
              "      box-shadow: 0px 1px 3px 1px rgba(0, 0, 0, 0.15);\n",
              "      filter: drop-shadow(0px 1px 2px rgba(0, 0, 0, 0.3));\n",
              "      fill: #FFFFFF;\n",
              "    }\n",
              "  </style>\n",
              "\n",
              "      <script>\n",
              "        const buttonEl =\n",
              "          document.querySelector('#df-af0cecf5-9b86-43e8-ad75-aa738f1a579f button.colab-df-convert');\n",
              "        buttonEl.style.display =\n",
              "          google.colab.kernel.accessAllowed ? 'block' : 'none';\n",
              "\n",
              "        async function convertToInteractive(key) {\n",
              "          const element = document.querySelector('#df-af0cecf5-9b86-43e8-ad75-aa738f1a579f');\n",
              "          const dataTable =\n",
              "            await google.colab.kernel.invokeFunction('convertToInteractive',\n",
              "                                                     [key], {});\n",
              "          if (!dataTable) return;\n",
              "\n",
              "          const docLinkHtml = 'Like what you see? Visit the ' +\n",
              "            '<a target=\"_blank\" href=https://colab.research.google.com/notebooks/data_table.ipynb>data table notebook</a>'\n",
              "            + ' to learn more about interactive tables.';\n",
              "          element.innerHTML = '';\n",
              "          dataTable['output_type'] = 'display_data';\n",
              "          await google.colab.output.renderOutput(dataTable, element);\n",
              "          const docLink = document.createElement('div');\n",
              "          docLink.innerHTML = docLinkHtml;\n",
              "          element.appendChild(docLink);\n",
              "        }\n",
              "      </script>\n",
              "    </div>\n",
              "  </div>\n",
              "  "
            ],
            "text/plain": [
              "           u_id                      provider  ...           pubdate numfield\n",
              "0        407986             lifenewsru_common  ...  05.03.2017 15:00        4\n",
              "1        836706                 mailru_common  ...  11.05.2017 13:50        4\n",
              "2        819187                 mailru_common  ...  08.05.2017 15:42        4\n",
              "3        864467                 mailru_common  ...  16.05.2017 10:52        4\n",
              "4        724875             lifenewsru_common  ...  22.04.2017 11:30        4\n",
              "...         ...                           ...  ...               ...      ...\n",
              "227382  1783725  washingtonpostcom_world[eng]  ...  27.09.2017 19:31        3\n",
              "227383  1749586     telegraphcouk_uknews[eng]  ...  22.09.2017 11:55        3\n",
              "227384  1808272  washingtonpostcom_world[eng]  ...  02.10.2017 03:04        3\n",
              "227385  1645929            ftcom_markets[eng]  ...  07.09.2017 14:16        3\n",
              "227386  1815740           russianrtcom_common  ...  03.10.2017 01:10        4\n",
              "\n",
              "[811756 rows x 8 columns]"
            ]
          },
          "metadata": {},
          "execution_count": 76
        }
      ]
    },
    {
      "cell_type": "code",
      "source": [
        "df_all.info()"
      ],
      "metadata": {
        "colab": {
          "base_uri": "https://localhost:8080/"
        },
        "id": "n0D9pcqEDGF-",
        "outputId": "4f936f59-8e47-4a41-b986-7aec2bd4bda3"
      },
      "execution_count": null,
      "outputs": [
        {
          "output_type": "stream",
          "name": "stdout",
          "text": [
            "<class 'pandas.core.frame.DataFrame'>\n",
            "RangeIndex: 584369 entries, 0 to 584368\n",
            "Data columns (total 8 columns):\n",
            " #   Column       Non-Null Count   Dtype \n",
            "---  ------       --------------   ----- \n",
            " 0   u_id         584369 non-null  int64 \n",
            " 1   provider     584369 non-null  object\n",
            " 2   date_time    584369 non-null  object\n",
            " 3   title        584369 non-null  object\n",
            " 4   description  551672 non-null  object\n",
            " 5   link         584301 non-null  object\n",
            " 6   pubdate      584369 non-null  object\n",
            " 7   numfield     584369 non-null  int64 \n",
            "dtypes: int64(2), object(6)\n",
            "memory usage: 35.7+ MB\n"
          ]
        }
      ]
    },
    {
      "cell_type": "code",
      "source": [
        "df_all['description']=df_all['description'].fillna(df_all['title'])"
      ],
      "metadata": {
        "id": "poHhUvhnDFb3"
      },
      "execution_count": null,
      "outputs": []
    },
    {
      "cell_type": "code",
      "source": [
        "df_all=df_all[df_all['link'].str.contains(\"business\") | df_all['link'].str.contains(\"finance\") | df_all['link'].str.contains(\"economy\")]"
      ],
      "metadata": {
        "id": "bIk3cMAOD2b-"
      },
      "execution_count": null,
      "outputs": []
    },
    {
      "cell_type": "code",
      "source": [
        "df_all['Languagereveiw'] = df_all.apply(detect_ru, axis=1)"
      ],
      "metadata": {
        "id": "EDu9kBL6EBAo"
      },
      "execution_count": null,
      "outputs": []
    },
    {
      "cell_type": "code",
      "source": [
        "df_all=df_all[df_all['Languagereveiw']==True ].reset_index(drop=True)\n",
        "df_all.info()"
      ],
      "metadata": {
        "colab": {
          "base_uri": "https://localhost:8080/"
        },
        "id": "H8VeuzCyEFwe",
        "outputId": "6f1260a4-645c-4994-d8fa-471c33031f68"
      },
      "execution_count": null,
      "outputs": [
        {
          "output_type": "stream",
          "name": "stdout",
          "text": [
            "<class 'pandas.core.frame.DataFrame'>\n",
            "RangeIndex: 41555 entries, 0 to 41554\n",
            "Data columns (total 9 columns):\n",
            " #   Column          Non-Null Count  Dtype \n",
            "---  ------          --------------  ----- \n",
            " 0   u_id            41555 non-null  int64 \n",
            " 1   provider        41555 non-null  object\n",
            " 2   date_time       41555 non-null  object\n",
            " 3   title           41555 non-null  object\n",
            " 4   description     41555 non-null  object\n",
            " 5   link            41555 non-null  object\n",
            " 6   pubdate         41555 non-null  object\n",
            " 7   numfield        41555 non-null  int64 \n",
            " 8   Languagereveiw  41555 non-null  bool  \n",
            "dtypes: bool(1), int64(2), object(6)\n",
            "memory usage: 2.6+ MB\n"
          ]
        }
      ]
    },
    {
      "cell_type": "code",
      "source": [
        "prep_text = [remove_multiple_spaces(remove_numbers(remove_punctuation(text.lower()))) for text in tqdm(df_all['description'])]\n",
        "df_all['text_prep'] = prep_text\n",
        "sw_texts_list = []\n",
        "for text in tqdm(df_all['text_prep']):\n",
        "    tokens = word_tokenize(text)    \n",
        "    tokens = [token for token in tokens if token not in russian_stopwords and token != ' ']\n",
        "    text = \" \".join(tokens)\n",
        "    sw_texts_list.append(text)\n",
        "\n",
        "df_all['text_sw'] = sw_texts_list"
      ],
      "metadata": {
        "colab": {
          "base_uri": "https://localhost:8080/",
          "height": 81,
          "referenced_widgets": [
            "2b67b74b30bf4ce6abd3496a2bc1dcba",
            "73f8865f48c74abb8d8e44de81e3456c",
            "70abf0d8061040f2aa47add4bcbb18c6",
            "c3b19f46fae64a1fbc5fdaf1d1ae981b",
            "5e5b6a2351c240fc80fb952351041473",
            "85473bb13e6c44f3b1b036a21ad7ddca",
            "0e2d2615d3744c4a999f964d4b40d3d2",
            "18700cefacfa46ab8a9cbd267dde778a",
            "0b2f028a63b5475c992130a1449863ba",
            "4fccbe5c38e84e568a48e1b547c5030c",
            "2731d9156cae422a8cf71b9b223c6bbf",
            "943fb4a96a4144038bb51f957f752f63",
            "084949d1e5614e0980d8a6e537ebf3c2",
            "3628f1b4d68c48fb809be4024703cea8",
            "fe73f92d92cf409c94aee07360c3bbd8",
            "a51f1787d9354ab3be23e2127249df65",
            "b3d6cc2539124b83ad3d0219607f6007",
            "fbc9373ed00a4f5792e075704eb5086e",
            "a0cb1250ea1c44a69912ec84cecd2d48",
            "738844bf30474c02955fae0dd48a9ae5",
            "b9a6fe2507b8402ebeb86a25d8899bf6",
            "21940524a8a94ad9bfe551e20bdb39bb"
          ]
        },
        "id": "Woa8H8OaERqx",
        "outputId": "5c569d1e-7aa3-4d7e-9ef7-b12a85162bb0"
      },
      "execution_count": null,
      "outputs": [
        {
          "output_type": "display_data",
          "data": {
            "application/vnd.jupyter.widget-view+json": {
              "model_id": "2b67b74b30bf4ce6abd3496a2bc1dcba",
              "version_minor": 0,
              "version_major": 2
            },
            "text/plain": [
              "  0%|          | 0/41555 [00:00<?, ?it/s]"
            ]
          },
          "metadata": {}
        },
        {
          "output_type": "display_data",
          "data": {
            "application/vnd.jupyter.widget-view+json": {
              "model_id": "943fb4a96a4144038bb51f957f752f63",
              "version_minor": 0,
              "version_major": 2
            },
            "text/plain": [
              "  0%|          | 0/41555 [00:00<?, ?it/s]"
            ]
          },
          "metadata": {}
        }
      ]
    },
    {
      "cell_type": "code",
      "source": [
        "df_all['labeled']=False"
      ],
      "metadata": {
        "id": "dttJCcAPEnFv"
      },
      "execution_count": null,
      "outputs": []
    },
    {
      "cell_type": "code",
      "source": [
        "df_all.head()"
      ],
      "metadata": {
        "colab": {
          "base_uri": "https://localhost:8080/",
          "height": 548
        },
        "id": "RpaCwdZaEo6B",
        "outputId": "afd4da49-6889-4e28-abc0-5a52609e859e"
      },
      "execution_count": null,
      "outputs": [
        {
          "output_type": "execute_result",
          "data": {
            "text/html": [
              "\n",
              "  <div id=\"df-53c0bc68-54d6-4bb0-87d5-f3a10d737838\">\n",
              "    <div class=\"colab-df-container\">\n",
              "      <div>\n",
              "<style scoped>\n",
              "    .dataframe tbody tr th:only-of-type {\n",
              "        vertical-align: middle;\n",
              "    }\n",
              "\n",
              "    .dataframe tbody tr th {\n",
              "        vertical-align: top;\n",
              "    }\n",
              "\n",
              "    .dataframe thead th {\n",
              "        text-align: right;\n",
              "    }\n",
              "</style>\n",
              "<table border=\"1\" class=\"dataframe\">\n",
              "  <thead>\n",
              "    <tr style=\"text-align: right;\">\n",
              "      <th></th>\n",
              "      <th>u_id</th>\n",
              "      <th>provider</th>\n",
              "      <th>date_time</th>\n",
              "      <th>title</th>\n",
              "      <th>description</th>\n",
              "      <th>link</th>\n",
              "      <th>pubdate</th>\n",
              "      <th>numfield</th>\n",
              "      <th>Languagereveiw</th>\n",
              "      <th>text_prep</th>\n",
              "      <th>text_sw</th>\n",
              "      <th>labeled</th>\n",
              "    </tr>\n",
              "  </thead>\n",
              "  <tbody>\n",
              "    <tr>\n",
              "      <th>0</th>\n",
              "      <td>567759</td>\n",
              "      <td>vestifinance_common</td>\n",
              "      <td>2017-03-29 19:00:47</td>\n",
              "      <td>\"I-ll be back\": история искусственного интеллекта</td>\n",
              "      <td>Об искусственном разуме человечество задумалос...</td>\n",
              "      <td>http://www.vestifinance.ru/articles/83286</td>\n",
              "      <td>29.03.2017 18:32</td>\n",
              "      <td>4</td>\n",
              "      <td>True</td>\n",
              "      <td>об искусственном разуме человечество задумалос...</td>\n",
              "      <td>искусственном разуме человечество задумалось п...</td>\n",
              "      <td>False</td>\n",
              "    </tr>\n",
              "    <tr>\n",
              "      <th>1</th>\n",
              "      <td>825987</td>\n",
              "      <td>vsesmiru_business</td>\n",
              "      <td>2017-05-10 04:15:30</td>\n",
              "      <td>\"А почему бы и нет?\" Как парень из алтайской д...</td>\n",
              "      <td>Предприятие Анатолия Вытоптова одним из первых...</td>\n",
              "      <td>http://www.vsesmi.ru/business/2017/05/10/617031/</td>\n",
              "      <td>10.05.2017 03:18</td>\n",
              "      <td>4</td>\n",
              "      <td>True</td>\n",
              "      <td>предприятие анатолия вытоптова одним из первых...</td>\n",
              "      <td>предприятие анатолия вытоптова одним первых на...</td>\n",
              "      <td>False</td>\n",
              "    </tr>\n",
              "    <tr>\n",
              "      <th>2</th>\n",
              "      <td>738680</td>\n",
              "      <td>vsesmiru_finance</td>\n",
              "      <td>2017-04-25 02:45:39</td>\n",
              "      <td>\"Авишка\" возвращается в новом образе</td>\n",
              "      <td>Агропромышленный холдинг «Авида» является прои...</td>\n",
              "      <td>http://www.vsesmi.ru/economy/2017/04/25/571501/</td>\n",
              "      <td>25.04.2017 02:06</td>\n",
              "      <td>4</td>\n",
              "      <td>True</td>\n",
              "      <td>агропромышленный холдинг «авида» является прои...</td>\n",
              "      <td>агропромышленный холдинг авида является произв...</td>\n",
              "      <td>False</td>\n",
              "    </tr>\n",
              "    <tr>\n",
              "      <th>3</th>\n",
              "      <td>512853</td>\n",
              "      <td>vestifinance_common</td>\n",
              "      <td>2017-03-21 18:45:37</td>\n",
              "      <td>\"АвтоВАЗ\" отзывает 106 тыс. автомобилей \"Лада\"</td>\n",
              "      <td>Компания \"АвтоВАЗ\" объявила об отзыве 106,7 ты...</td>\n",
              "      <td>http://www.vestifinance.ru/articles/82871</td>\n",
              "      <td>21.03.2017 18:31</td>\n",
              "      <td>4</td>\n",
              "      <td>True</td>\n",
              "      <td>компания автоваз объявила об отзыве тысяч авто...</td>\n",
              "      <td>компания автоваз объявила отзыве тысяч автомоб...</td>\n",
              "      <td>False</td>\n",
              "    </tr>\n",
              "    <tr>\n",
              "      <th>4</th>\n",
              "      <td>513963</td>\n",
              "      <td>vestifinance_common</td>\n",
              "      <td>2017-03-21 22:00:44</td>\n",
              "      <td>\"АвтоВАЗ\" отзывает 106 тысяч автомобилей \"Лада\"</td>\n",
              "      <td>Компания \"АвтоВАЗ\" объявила об отзыве 106,7 ты...</td>\n",
              "      <td>http://www.vestifinance.ru/articles/82871</td>\n",
              "      <td>21.03.2017 18:31</td>\n",
              "      <td>4</td>\n",
              "      <td>True</td>\n",
              "      <td>компания автоваз объявила об отзыве тыс автомо...</td>\n",
              "      <td>компания автоваз объявила отзыве тыс автомобил...</td>\n",
              "      <td>False</td>\n",
              "    </tr>\n",
              "  </tbody>\n",
              "</table>\n",
              "</div>\n",
              "      <button class=\"colab-df-convert\" onclick=\"convertToInteractive('df-53c0bc68-54d6-4bb0-87d5-f3a10d737838')\"\n",
              "              title=\"Convert this dataframe to an interactive table.\"\n",
              "              style=\"display:none;\">\n",
              "        \n",
              "  <svg xmlns=\"http://www.w3.org/2000/svg\" height=\"24px\"viewBox=\"0 0 24 24\"\n",
              "       width=\"24px\">\n",
              "    <path d=\"M0 0h24v24H0V0z\" fill=\"none\"/>\n",
              "    <path d=\"M18.56 5.44l.94 2.06.94-2.06 2.06-.94-2.06-.94-.94-2.06-.94 2.06-2.06.94zm-11 1L8.5 8.5l.94-2.06 2.06-.94-2.06-.94L8.5 2.5l-.94 2.06-2.06.94zm10 10l.94 2.06.94-2.06 2.06-.94-2.06-.94-.94-2.06-.94 2.06-2.06.94z\"/><path d=\"M17.41 7.96l-1.37-1.37c-.4-.4-.92-.59-1.43-.59-.52 0-1.04.2-1.43.59L10.3 9.45l-7.72 7.72c-.78.78-.78 2.05 0 2.83L4 21.41c.39.39.9.59 1.41.59.51 0 1.02-.2 1.41-.59l7.78-7.78 2.81-2.81c.8-.78.8-2.07 0-2.86zM5.41 20L4 18.59l7.72-7.72 1.47 1.35L5.41 20z\"/>\n",
              "  </svg>\n",
              "      </button>\n",
              "      \n",
              "  <style>\n",
              "    .colab-df-container {\n",
              "      display:flex;\n",
              "      flex-wrap:wrap;\n",
              "      gap: 12px;\n",
              "    }\n",
              "\n",
              "    .colab-df-convert {\n",
              "      background-color: #E8F0FE;\n",
              "      border: none;\n",
              "      border-radius: 50%;\n",
              "      cursor: pointer;\n",
              "      display: none;\n",
              "      fill: #1967D2;\n",
              "      height: 32px;\n",
              "      padding: 0 0 0 0;\n",
              "      width: 32px;\n",
              "    }\n",
              "\n",
              "    .colab-df-convert:hover {\n",
              "      background-color: #E2EBFA;\n",
              "      box-shadow: 0px 1px 2px rgba(60, 64, 67, 0.3), 0px 1px 3px 1px rgba(60, 64, 67, 0.15);\n",
              "      fill: #174EA6;\n",
              "    }\n",
              "\n",
              "    [theme=dark] .colab-df-convert {\n",
              "      background-color: #3B4455;\n",
              "      fill: #D2E3FC;\n",
              "    }\n",
              "\n",
              "    [theme=dark] .colab-df-convert:hover {\n",
              "      background-color: #434B5C;\n",
              "      box-shadow: 0px 1px 3px 1px rgba(0, 0, 0, 0.15);\n",
              "      filter: drop-shadow(0px 1px 2px rgba(0, 0, 0, 0.3));\n",
              "      fill: #FFFFFF;\n",
              "    }\n",
              "  </style>\n",
              "\n",
              "      <script>\n",
              "        const buttonEl =\n",
              "          document.querySelector('#df-53c0bc68-54d6-4bb0-87d5-f3a10d737838 button.colab-df-convert');\n",
              "        buttonEl.style.display =\n",
              "          google.colab.kernel.accessAllowed ? 'block' : 'none';\n",
              "\n",
              "        async function convertToInteractive(key) {\n",
              "          const element = document.querySelector('#df-53c0bc68-54d6-4bb0-87d5-f3a10d737838');\n",
              "          const dataTable =\n",
              "            await google.colab.kernel.invokeFunction('convertToInteractive',\n",
              "                                                     [key], {});\n",
              "          if (!dataTable) return;\n",
              "\n",
              "          const docLinkHtml = 'Like what you see? Visit the ' +\n",
              "            '<a target=\"_blank\" href=https://colab.research.google.com/notebooks/data_table.ipynb>data table notebook</a>'\n",
              "            + ' to learn more about interactive tables.';\n",
              "          element.innerHTML = '';\n",
              "          dataTable['output_type'] = 'display_data';\n",
              "          await google.colab.output.renderOutput(dataTable, element);\n",
              "          const docLink = document.createElement('div');\n",
              "          docLink.innerHTML = docLinkHtml;\n",
              "          element.appendChild(docLink);\n",
              "        }\n",
              "      </script>\n",
              "    </div>\n",
              "  </div>\n",
              "  "
            ],
            "text/plain": [
              "     u_id  ... labeled\n",
              "0  567759  ...   False\n",
              "1  825987  ...   False\n",
              "2  738680  ...   False\n",
              "3  512853  ...   False\n",
              "4  513963  ...   False\n",
              "\n",
              "[5 rows x 12 columns]"
            ]
          },
          "metadata": {},
          "execution_count": 85
        }
      ]
    },
    {
      "cell_type": "code",
      "source": [
        "df_all['u_id'].value_counts"
      ],
      "metadata": {
        "colab": {
          "base_uri": "https://localhost:8080/"
        },
        "id": "PylEDn96FrvI",
        "outputId": "b300d76c-0886-4537-815d-410c73d47bc4"
      },
      "execution_count": null,
      "outputs": [
        {
          "output_type": "execute_result",
          "data": {
            "text/plain": [
              "<bound method IndexOpsMixin.value_counts of 0        567759\n",
              "1        825987\n",
              "2        738680\n",
              "3        512853\n",
              "4        513963\n",
              "          ...  \n",
              "41550    393643\n",
              "41551    552159\n",
              "41552    645421\n",
              "41553    575493\n",
              "41554    488716\n",
              "Name: u_id, Length: 41555, dtype: int64>"
            ]
          },
          "metadata": {},
          "execution_count": 93
        }
      ]
    },
    {
      "cell_type": "code",
      "source": [
        "df_all.info()"
      ],
      "metadata": {
        "colab": {
          "base_uri": "https://localhost:8080/"
        },
        "id": "9o2DkTB4Flgf",
        "outputId": "f8a0da50-8624-443e-98c2-331f762b5e98"
      },
      "execution_count": null,
      "outputs": [
        {
          "output_type": "stream",
          "name": "stdout",
          "text": [
            "<class 'pandas.core.frame.DataFrame'>\n",
            "RangeIndex: 41555 entries, 0 to 41554\n",
            "Data columns (total 12 columns):\n",
            " #   Column          Non-Null Count  Dtype \n",
            "---  ------          --------------  ----- \n",
            " 0   u_id            41555 non-null  int64 \n",
            " 1   provider        41555 non-null  object\n",
            " 2   date_time       41555 non-null  object\n",
            " 3   title           41555 non-null  object\n",
            " 4   description     41555 non-null  object\n",
            " 5   link            41555 non-null  object\n",
            " 6   pubdate         41555 non-null  object\n",
            " 7   numfield        41555 non-null  int64 \n",
            " 8   Languagereveiw  41555 non-null  bool  \n",
            " 9   text_prep       41555 non-null  object\n",
            " 10  text_sw         41555 non-null  object\n",
            " 11  labeled         41555 non-null  bool  \n",
            "dtypes: bool(2), int64(2), object(8)\n",
            "memory usage: 3.2+ MB\n"
          ]
        }
      ]
    },
    {
      "cell_type": "code",
      "source": [
        "logreg.predict( [df_all['text_sw'][555]])"
      ],
      "metadata": {
        "colab": {
          "base_uri": "https://localhost:8080/"
        },
        "id": "iG879dFWFcip",
        "outputId": "48447eb2-78d4-4998-d3d4-3919c41173b7"
      },
      "execution_count": null,
      "outputs": [
        {
          "output_type": "execute_result",
          "data": {
            "text/plain": [
              "array(['3'], dtype=object)"
            ]
          },
          "metadata": {},
          "execution_count": 91
        }
      ]
    },
    {
      "cell_type": "code",
      "source": [
        "len(df_all)"
      ],
      "metadata": {
        "colab": {
          "base_uri": "https://localhost:8080/"
        },
        "id": "Hf74wMsrG11O",
        "outputId": "3be39a2b-8e86-4e1e-e9e6-bf3b968e250c"
      },
      "execution_count": null,
      "outputs": [
        {
          "output_type": "execute_result",
          "data": {
            "text/plain": [
              "41555"
            ]
          },
          "metadata": {},
          "execution_count": 99
        }
      ]
    },
    {
      "cell_type": "code",
      "source": [
        "x=logreg.predict( [df_all['text_sw'][100]]  )[0]\n",
        "x"
      ],
      "metadata": {
        "colab": {
          "base_uri": "https://localhost:8080/",
          "height": 35
        },
        "id": "4Gy10NUDHPKI",
        "outputId": "c9414e91-de52-4a2e-f11a-7385b5b40c50"
      },
      "execution_count": null,
      "outputs": [
        {
          "output_type": "execute_result",
          "data": {
            "application/vnd.google.colaboratory.intrinsic+json": {
              "type": "string"
            },
            "text/plain": [
              "'1'"
            ]
          },
          "metadata": {},
          "execution_count": 113
        }
      ]
    },
    {
      "cell_type": "code",
      "source": [
        "type(x)"
      ],
      "metadata": {
        "colab": {
          "base_uri": "https://localhost:8080/"
        },
        "id": "B84CE5auHt7n",
        "outputId": "8350383b-46ca-4b14-cf02-8380ec9392b6"
      },
      "execution_count": null,
      "outputs": [
        {
          "output_type": "execute_result",
          "data": {
            "text/plain": [
              "str"
            ]
          },
          "metadata": {},
          "execution_count": 111
        }
      ]
    },
    {
      "cell_type": "code",
      "source": [
        "df_all['labeled']=False"
      ],
      "metadata": {
        "id": "tfC2mHRKIzyG"
      },
      "execution_count": null,
      "outputs": []
    },
    {
      "cell_type": "code",
      "source": [
        "data_add=[]\n",
        "for i in range(len(df_all)):\n",
        "  if not df_all['labeled'][i]:\n",
        "    x=logreg.predict( [df_all['text_sw'][i]]  )[0]\n",
        "    y=model_fasttext.predict(df_all['text_sw'][i], k=5)[0][0][-1]\n",
        "    #print(df_all['text_sw'][i],x,y)\n",
        "    if x==y:\n",
        "      data_add.append([df_all['description'][i] ,df_all['text_sw'][i],x ])\n",
        "     # df_all['labeled'][i]=True"
      ],
      "metadata": {
        "id": "hY0kH015EzLP"
      },
      "execution_count": null,
      "outputs": []
    },
    {
      "cell_type": "code",
      "source": [
        "len(data_add)"
      ],
      "metadata": {
        "colab": {
          "base_uri": "https://localhost:8080/"
        },
        "id": "HwNNwpSwGxJv",
        "outputId": "b616c052-b8c8-4610-e52d-7164892509db"
      },
      "execution_count": null,
      "outputs": [
        {
          "output_type": "execute_result",
          "data": {
            "text/plain": [
              "37503"
            ]
          },
          "metadata": {},
          "execution_count": 126
        }
      ]
    },
    {
      "cell_type": "code",
      "source": [
        "df_train3=pd.DataFrame(data=data_add,columns=['description','text_sw','label'])"
      ],
      "metadata": {
        "id": "pde4tRVvJmTm"
      },
      "execution_count": null,
      "outputs": []
    },
    {
      "cell_type": "code",
      "source": [
        "df_train2=df_train2.append(df_train3, sort=False)"
      ],
      "metadata": {
        "id": "4i-KeRjdJoc6"
      },
      "execution_count": null,
      "outputs": []
    },
    {
      "cell_type": "code",
      "source": [
        "df_train2.info()"
      ],
      "metadata": {
        "colab": {
          "base_uri": "https://localhost:8080/"
        },
        "id": "BhyIPzILKAk-",
        "outputId": "8388742e-6fd8-45c9-9daa-98d739d1a907"
      },
      "execution_count": null,
      "outputs": [
        {
          "output_type": "stream",
          "name": "stdout",
          "text": [
            "<class 'pandas.core.frame.DataFrame'>\n",
            "Int64Index: 66601 entries, 0 to 37502\n",
            "Data columns (total 3 columns):\n",
            " #   Column       Non-Null Count  Dtype \n",
            "---  ------       --------------  ----- \n",
            " 0   description  66601 non-null  object\n",
            " 1   text_sw      66601 non-null  object\n",
            " 2   label        66601 non-null  object\n",
            "dtypes: object(3)\n",
            "memory usage: 2.0+ MB\n"
          ]
        }
      ]
    },
    {
      "cell_type": "code",
      "source": [
        "df_train2.reset_index(drop=True)"
      ],
      "metadata": {
        "colab": {
          "base_uri": "https://localhost:8080/",
          "height": 423
        },
        "id": "UyEjR6b0J28-",
        "outputId": "4c89f6e3-14e6-48eb-db4e-0e4687c9f35e"
      },
      "execution_count": null,
      "outputs": [
        {
          "output_type": "execute_result",
          "data": {
            "text/html": [
              "\n",
              "  <div id=\"df-fad442ad-a9d2-4f1f-b87f-d74c93df4cf9\">\n",
              "    <div class=\"colab-df-container\">\n",
              "      <div>\n",
              "<style scoped>\n",
              "    .dataframe tbody tr th:only-of-type {\n",
              "        vertical-align: middle;\n",
              "    }\n",
              "\n",
              "    .dataframe tbody tr th {\n",
              "        vertical-align: top;\n",
              "    }\n",
              "\n",
              "    .dataframe thead th {\n",
              "        text-align: right;\n",
              "    }\n",
              "</style>\n",
              "<table border=\"1\" class=\"dataframe\">\n",
              "  <thead>\n",
              "    <tr style=\"text-align: right;\">\n",
              "      <th></th>\n",
              "      <th>description</th>\n",
              "      <th>text_sw</th>\n",
              "      <th>label</th>\n",
              "    </tr>\n",
              "  </thead>\n",
              "  <tbody>\n",
              "    <tr>\n",
              "      <th>0</th>\n",
              "      <td>Гендиректора сети IKEA в России Вальтер Каднар...</td>\n",
              "      <td>гендиректора сети ikea россии вальтер каднар с...</td>\n",
              "      <td>3</td>\n",
              "    </tr>\n",
              "    <tr>\n",
              "      <th>1</th>\n",
              "      <td>IKEA не хочет платить российскому бизнесмену К...</td>\n",
              "      <td>ikea хочет платить российскому бизнесмену конс...</td>\n",
              "      <td>2</td>\n",
              "    </tr>\n",
              "    <tr>\n",
              "      <th>2</th>\n",
              "      <td>Производитель сигарет Imperial Tobacco решил з...</td>\n",
              "      <td>производитель сигарет imperial tobacco решил з...</td>\n",
              "      <td>3</td>\n",
              "    </tr>\n",
              "    <tr>\n",
              "      <th>3</th>\n",
              "      <td>Компания объясняет решение падением российског...</td>\n",
              "      <td>компания объясняет решение падением российског...</td>\n",
              "      <td>3</td>\n",
              "    </tr>\n",
              "    <tr>\n",
              "      <th>4</th>\n",
              "      <td>Журналист Шенан Молони заявил об истинной, по ...</td>\n",
              "      <td>журналист шенан молони заявил истинной мнению ...</td>\n",
              "      <td>3</td>\n",
              "    </tr>\n",
              "    <tr>\n",
              "      <th>...</th>\n",
              "      <td>...</td>\n",
              "      <td>...</td>\n",
              "      <td>...</td>\n",
              "    </tr>\n",
              "    <tr>\n",
              "      <th>66596</th>\n",
              "      <td>Экс-премьер-министр Украины, лидер партии &amp;quo...</td>\n",
              "      <td>экс премьер министр украины лидер партии quot ...</td>\n",
              "      <td>3</td>\n",
              "    </tr>\n",
              "    <tr>\n",
              "      <th>66597</th>\n",
              "      <td>Накануне съезда АРБ “Альфа-Банк“ объявил о при...</td>\n",
              "      <td>накануне съезда арб “ альфа банк “ объявил при...</td>\n",
              "      <td>3</td>\n",
              "    </tr>\n",
              "    <tr>\n",
              "      <th>66598</th>\n",
              "      <td>&lt;b&gt;Главные новости энергетики Украины за перио...</td>\n",
              "      <td>b главные новости энергетики украины период ап...</td>\n",
              "      <td>3</td>\n",
              "    </tr>\n",
              "    <tr>\n",
              "      <th>66599</th>\n",
              "      <td>&lt;b&gt;ИА REGNUM представляет обзор важнейших собы...</td>\n",
              "      <td>b иа regnum представляет обзор важнейших событ...</td>\n",
              "      <td>3</td>\n",
              "    </tr>\n",
              "    <tr>\n",
              "      <th>66600</th>\n",
              "      <td>&lt;b&gt;В регионе продолжают работать над схемой ух...</td>\n",
              "      <td>b регионе продолжают работать схемой ухода маз...</td>\n",
              "      <td>3</td>\n",
              "    </tr>\n",
              "  </tbody>\n",
              "</table>\n",
              "<p>66601 rows × 3 columns</p>\n",
              "</div>\n",
              "      <button class=\"colab-df-convert\" onclick=\"convertToInteractive('df-fad442ad-a9d2-4f1f-b87f-d74c93df4cf9')\"\n",
              "              title=\"Convert this dataframe to an interactive table.\"\n",
              "              style=\"display:none;\">\n",
              "        \n",
              "  <svg xmlns=\"http://www.w3.org/2000/svg\" height=\"24px\"viewBox=\"0 0 24 24\"\n",
              "       width=\"24px\">\n",
              "    <path d=\"M0 0h24v24H0V0z\" fill=\"none\"/>\n",
              "    <path d=\"M18.56 5.44l.94 2.06.94-2.06 2.06-.94-2.06-.94-.94-2.06-.94 2.06-2.06.94zm-11 1L8.5 8.5l.94-2.06 2.06-.94-2.06-.94L8.5 2.5l-.94 2.06-2.06.94zm10 10l.94 2.06.94-2.06 2.06-.94-2.06-.94-.94-2.06-.94 2.06-2.06.94z\"/><path d=\"M17.41 7.96l-1.37-1.37c-.4-.4-.92-.59-1.43-.59-.52 0-1.04.2-1.43.59L10.3 9.45l-7.72 7.72c-.78.78-.78 2.05 0 2.83L4 21.41c.39.39.9.59 1.41.59.51 0 1.02-.2 1.41-.59l7.78-7.78 2.81-2.81c.8-.78.8-2.07 0-2.86zM5.41 20L4 18.59l7.72-7.72 1.47 1.35L5.41 20z\"/>\n",
              "  </svg>\n",
              "      </button>\n",
              "      \n",
              "  <style>\n",
              "    .colab-df-container {\n",
              "      display:flex;\n",
              "      flex-wrap:wrap;\n",
              "      gap: 12px;\n",
              "    }\n",
              "\n",
              "    .colab-df-convert {\n",
              "      background-color: #E8F0FE;\n",
              "      border: none;\n",
              "      border-radius: 50%;\n",
              "      cursor: pointer;\n",
              "      display: none;\n",
              "      fill: #1967D2;\n",
              "      height: 32px;\n",
              "      padding: 0 0 0 0;\n",
              "      width: 32px;\n",
              "    }\n",
              "\n",
              "    .colab-df-convert:hover {\n",
              "      background-color: #E2EBFA;\n",
              "      box-shadow: 0px 1px 2px rgba(60, 64, 67, 0.3), 0px 1px 3px 1px rgba(60, 64, 67, 0.15);\n",
              "      fill: #174EA6;\n",
              "    }\n",
              "\n",
              "    [theme=dark] .colab-df-convert {\n",
              "      background-color: #3B4455;\n",
              "      fill: #D2E3FC;\n",
              "    }\n",
              "\n",
              "    [theme=dark] .colab-df-convert:hover {\n",
              "      background-color: #434B5C;\n",
              "      box-shadow: 0px 1px 3px 1px rgba(0, 0, 0, 0.15);\n",
              "      filter: drop-shadow(0px 1px 2px rgba(0, 0, 0, 0.3));\n",
              "      fill: #FFFFFF;\n",
              "    }\n",
              "  </style>\n",
              "\n",
              "      <script>\n",
              "        const buttonEl =\n",
              "          document.querySelector('#df-fad442ad-a9d2-4f1f-b87f-d74c93df4cf9 button.colab-df-convert');\n",
              "        buttonEl.style.display =\n",
              "          google.colab.kernel.accessAllowed ? 'block' : 'none';\n",
              "\n",
              "        async function convertToInteractive(key) {\n",
              "          const element = document.querySelector('#df-fad442ad-a9d2-4f1f-b87f-d74c93df4cf9');\n",
              "          const dataTable =\n",
              "            await google.colab.kernel.invokeFunction('convertToInteractive',\n",
              "                                                     [key], {});\n",
              "          if (!dataTable) return;\n",
              "\n",
              "          const docLinkHtml = 'Like what you see? Visit the ' +\n",
              "            '<a target=\"_blank\" href=https://colab.research.google.com/notebooks/data_table.ipynb>data table notebook</a>'\n",
              "            + ' to learn more about interactive tables.';\n",
              "          element.innerHTML = '';\n",
              "          dataTable['output_type'] = 'display_data';\n",
              "          await google.colab.output.renderOutput(dataTable, element);\n",
              "          const docLink = document.createElement('div');\n",
              "          docLink.innerHTML = docLinkHtml;\n",
              "          element.appendChild(docLink);\n",
              "        }\n",
              "      </script>\n",
              "    </div>\n",
              "  </div>\n",
              "  "
            ],
            "text/plain": [
              "                                             description  ... label\n",
              "0      Гендиректора сети IKEA в России Вальтер Каднар...  ...     3\n",
              "1      IKEA не хочет платить российскому бизнесмену К...  ...     2\n",
              "2      Производитель сигарет Imperial Tobacco решил з...  ...     3\n",
              "3      Компания объясняет решение падением российског...  ...     3\n",
              "4      Журналист Шенан Молони заявил об истинной, по ...  ...     3\n",
              "...                                                  ...  ...   ...\n",
              "66596  Экс-премьер-министр Украины, лидер партии &quo...  ...     3\n",
              "66597  Накануне съезда АРБ “Альфа-Банк“ объявил о при...  ...     3\n",
              "66598  <b>Главные новости энергетики Украины за перио...  ...     3\n",
              "66599  <b>ИА REGNUM представляет обзор важнейших собы...  ...     3\n",
              "66600  <b>В регионе продолжают работать над схемой ух...  ...     3\n",
              "\n",
              "[66601 rows x 3 columns]"
            ]
          },
          "metadata": {},
          "execution_count": 136
        }
      ]
    },
    {
      "cell_type": "code",
      "source": [
        "X = df_train2['text_sw']\n",
        "y = df_train2['label']\n",
        "X_train, X_test, y_train, y_test = train_test_split(X, y, test_size=0.2, random_state = 42)\n",
        "logreg.fit(X_train, y_train)\n",
        "y_pred = logreg.predict(X_test)\n",
        "print('accuracy %s' % accuracy_score(y_pred, y_test))\n",
        "print(classification_report(y_test, y_pred,target_names=my_tags))"
      ],
      "metadata": {
        "colab": {
          "base_uri": "https://localhost:8080/"
        },
        "id": "fUJPND6YKLgz",
        "outputId": "e71ec08e-4afa-4cd3-8562-13ef354a7a4f"
      },
      "execution_count": null,
      "outputs": [
        {
          "output_type": "stream",
          "name": "stderr",
          "text": [
            "/usr/local/lib/python3.7/dist-packages/sklearn/linear_model/_logistic.py:818: ConvergenceWarning: lbfgs failed to converge (status=1):\n",
            "STOP: TOTAL NO. of ITERATIONS REACHED LIMIT.\n",
            "\n",
            "Increase the number of iterations (max_iter) or scale the data as shown in:\n",
            "    https://scikit-learn.org/stable/modules/preprocessing.html\n",
            "Please also refer to the documentation for alternative solver options:\n",
            "    https://scikit-learn.org/stable/modules/linear_model.html#logistic-regression\n",
            "  extra_warning_msg=_LOGISTIC_SOLVER_CONVERGENCE_MSG,\n"
          ]
        },
        {
          "output_type": "stream",
          "name": "stdout",
          "text": [
            "accuracy 0.9864124314991367\n",
            "              precision    recall  f1-score   support\n",
            "\n",
            "           1       0.94      0.86      0.90       679\n",
            "           2       0.96      0.94      0.95       323\n",
            "           3       0.99      1.00      0.99     12149\n",
            "           4       0.93      0.89      0.91       141\n",
            "           5       1.00      0.72      0.84        29\n",
            "\n",
            "    accuracy                           0.99     13321\n",
            "   macro avg       0.96      0.88      0.92     13321\n",
            "weighted avg       0.99      0.99      0.99     13321\n",
            "\n"
          ]
        }
      ]
    },
    {
      "cell_type": "markdown",
      "source": [
        "### точность повысилась еще на один пункт!"
      ],
      "metadata": {
        "id": "g7BkM2ogK4QO"
      }
    },
    {
      "cell_type": "markdown",
      "source": [
        "###**DEEP PAVLOV **"
      ],
      "metadata": {
        "id": "_acpPuzENGy0"
      }
    },
    {
      "cell_type": "code",
      "source": [
        "!pip3 install deeppavlov"
      ],
      "metadata": {
        "colab": {
          "base_uri": "https://localhost:8080/"
        },
        "id": "9MaHak-2Bq1B",
        "outputId": "c64ae59e-d4c3-4fb1-e4a9-bcd7908a7b97"
      },
      "execution_count": 1,
      "outputs": [
        {
          "output_type": "stream",
          "name": "stdout",
          "text": [
            "Requirement already satisfied: deeppavlov in /usr/local/lib/python3.7/dist-packages (0.5.0)\n",
            "Requirement already satisfied: overrides==1.9 in /usr/local/lib/python3.7/dist-packages (from deeppavlov) (1.9)\n",
            "Requirement already satisfied: h5py==2.9.0 in /usr/local/lib/python3.7/dist-packages (from deeppavlov) (2.9.0)\n",
            "Requirement already satisfied: pymorphy2==0.8 in /usr/local/lib/python3.7/dist-packages (from deeppavlov) (0.8)\n",
            "Requirement already satisfied: Cython==0.29.12 in /usr/local/lib/python3.7/dist-packages (from deeppavlov) (0.29.12)\n",
            "Requirement already satisfied: numpy==1.16.4 in /usr/local/lib/python3.7/dist-packages (from deeppavlov) (1.16.4)\n",
            "Requirement already satisfied: scipy==1.3.0 in /usr/local/lib/python3.7/dist-packages (from deeppavlov) (1.3.0)\n",
            "Requirement already satisfied: nltk==3.2.5 in /usr/local/lib/python3.7/dist-packages (from deeppavlov) (3.2.5)\n",
            "Requirement already satisfied: rusenttokenize==0.0.5 in /usr/local/lib/python3.7/dist-packages (from deeppavlov) (0.0.5)\n",
            "Requirement already satisfied: pandas==0.24.2 in /usr/local/lib/python3.7/dist-packages (from deeppavlov) (0.24.2)\n",
            "Requirement already satisfied: flask==1.1.1 in /usr/local/lib/python3.7/dist-packages (from deeppavlov) (1.1.1)\n",
            "Requirement already satisfied: flask-cors==3.0.8 in /usr/local/lib/python3.7/dist-packages (from deeppavlov) (3.0.8)\n",
            "Requirement already satisfied: pytelegrambotapi==3.6.6 in /usr/local/lib/python3.7/dist-packages (from deeppavlov) (3.6.6)\n",
            "Requirement already satisfied: scikit-learn==0.21.2 in /usr/local/lib/python3.7/dist-packages (from deeppavlov) (0.21.2)\n",
            "Requirement already satisfied: pymorphy2-dicts-ru in /usr/local/lib/python3.7/dist-packages (from deeppavlov) (2.4.417127.4579844)\n",
            "Requirement already satisfied: fuzzywuzzy==0.17.0 in /usr/local/lib/python3.7/dist-packages (from deeppavlov) (0.17.0)\n",
            "Requirement already satisfied: pyopenssl==19.0.0 in /usr/local/lib/python3.7/dist-packages (from deeppavlov) (19.0.0)\n",
            "Requirement already satisfied: requests==2.22.0 in /usr/local/lib/python3.7/dist-packages (from deeppavlov) (2.22.0)\n",
            "Requirement already satisfied: tqdm==4.32.2 in /usr/local/lib/python3.7/dist-packages (from deeppavlov) (4.32.2)\n",
            "Requirement already satisfied: flasgger==0.9.2 in /usr/local/lib/python3.7/dist-packages (from deeppavlov) (0.9.2)\n",
            "Requirement already satisfied: keras==2.2.4 in /usr/local/lib/python3.7/dist-packages (from deeppavlov) (2.2.4)\n",
            "Requirement already satisfied: mistune in /usr/local/lib/python3.7/dist-packages (from flasgger==0.9.2->deeppavlov) (0.8.4)\n",
            "Requirement already satisfied: jsonschema>=2.5.1 in /usr/local/lib/python3.7/dist-packages (from flasgger==0.9.2->deeppavlov) (4.3.3)\n",
            "Requirement already satisfied: six>=1.10.0 in /usr/local/lib/python3.7/dist-packages (from flasgger==0.9.2->deeppavlov) (1.15.0)\n",
            "Requirement already satisfied: PyYAML>=3.0 in /usr/local/lib/python3.7/dist-packages (from flasgger==0.9.2->deeppavlov) (3.13)\n",
            "Requirement already satisfied: click>=5.1 in /usr/local/lib/python3.7/dist-packages (from flask==1.1.1->deeppavlov) (7.1.2)\n",
            "Requirement already satisfied: Werkzeug>=0.15 in /usr/local/lib/python3.7/dist-packages (from flask==1.1.1->deeppavlov) (1.0.1)\n",
            "Requirement already satisfied: itsdangerous>=0.24 in /usr/local/lib/python3.7/dist-packages (from flask==1.1.1->deeppavlov) (1.1.0)\n",
            "Requirement already satisfied: Jinja2>=2.10.1 in /usr/local/lib/python3.7/dist-packages (from flask==1.1.1->deeppavlov) (2.11.3)\n",
            "Requirement already satisfied: keras-applications>=1.0.6 in /usr/local/lib/python3.7/dist-packages (from keras==2.2.4->deeppavlov) (1.0.8)\n",
            "Requirement already satisfied: keras-preprocessing>=1.0.5 in /usr/local/lib/python3.7/dist-packages (from keras==2.2.4->deeppavlov) (1.1.2)\n",
            "Requirement already satisfied: pytz>=2011k in /usr/local/lib/python3.7/dist-packages (from pandas==0.24.2->deeppavlov) (2018.9)\n",
            "Requirement already satisfied: python-dateutil>=2.5.0 in /usr/local/lib/python3.7/dist-packages (from pandas==0.24.2->deeppavlov) (2.8.2)\n",
            "Requirement already satisfied: docopt>=0.6 in /usr/local/lib/python3.7/dist-packages (from pymorphy2==0.8->deeppavlov) (0.6.2)\n",
            "Requirement already satisfied: dawg-python>=0.7 in /usr/local/lib/python3.7/dist-packages (from pymorphy2==0.8->deeppavlov) (0.7.2)\n",
            "Requirement already satisfied: pymorphy2-dicts<3.0,>=2.4 in /usr/local/lib/python3.7/dist-packages (from pymorphy2==0.8->deeppavlov) (2.4.393442.3710985)\n",
            "Requirement already satisfied: cryptography>=2.3 in /usr/local/lib/python3.7/dist-packages (from pyopenssl==19.0.0->deeppavlov) (36.0.1)\n",
            "Requirement already satisfied: chardet<3.1.0,>=3.0.2 in /usr/local/lib/python3.7/dist-packages (from requests==2.22.0->deeppavlov) (3.0.4)\n",
            "Requirement already satisfied: idna<2.9,>=2.5 in /usr/local/lib/python3.7/dist-packages (from requests==2.22.0->deeppavlov) (2.8)\n",
            "Requirement already satisfied: urllib3!=1.25.0,!=1.25.1,<1.26,>=1.21.1 in /usr/local/lib/python3.7/dist-packages (from requests==2.22.0->deeppavlov) (1.24.3)\n",
            "Requirement already satisfied: certifi>=2017.4.17 in /usr/local/lib/python3.7/dist-packages (from requests==2.22.0->deeppavlov) (2021.10.8)\n",
            "Requirement already satisfied: joblib>=0.11 in /usr/local/lib/python3.7/dist-packages (from scikit-learn==0.21.2->deeppavlov) (1.1.0)\n",
            "Requirement already satisfied: cffi>=1.12 in /usr/local/lib/python3.7/dist-packages (from cryptography>=2.3->pyopenssl==19.0.0->deeppavlov) (1.15.0)\n",
            "Requirement already satisfied: pycparser in /usr/local/lib/python3.7/dist-packages (from cffi>=1.12->cryptography>=2.3->pyopenssl==19.0.0->deeppavlov) (2.21)\n",
            "Requirement already satisfied: MarkupSafe>=0.23 in /usr/local/lib/python3.7/dist-packages (from Jinja2>=2.10.1->flask==1.1.1->deeppavlov) (2.0.1)\n",
            "Requirement already satisfied: attrs>=17.4.0 in /usr/local/lib/python3.7/dist-packages (from jsonschema>=2.5.1->flasgger==0.9.2->deeppavlov) (21.4.0)\n",
            "Requirement already satisfied: importlib-metadata in /usr/local/lib/python3.7/dist-packages (from jsonschema>=2.5.1->flasgger==0.9.2->deeppavlov) (4.11.2)\n",
            "Requirement already satisfied: importlib-resources>=1.4.0 in /usr/local/lib/python3.7/dist-packages (from jsonschema>=2.5.1->flasgger==0.9.2->deeppavlov) (5.4.0)\n",
            "Requirement already satisfied: typing-extensions in /usr/local/lib/python3.7/dist-packages (from jsonschema>=2.5.1->flasgger==0.9.2->deeppavlov) (3.10.0.2)\n",
            "Requirement already satisfied: pyrsistent!=0.17.0,!=0.17.1,!=0.17.2,>=0.14.0 in /usr/local/lib/python3.7/dist-packages (from jsonschema>=2.5.1->flasgger==0.9.2->deeppavlov) (0.18.1)\n",
            "Requirement already satisfied: zipp>=3.1.0 in /usr/local/lib/python3.7/dist-packages (from importlib-resources>=1.4.0->jsonschema>=2.5.1->flasgger==0.9.2->deeppavlov) (3.7.0)\n"
          ]
        }
      ]
    },
    {
      "cell_type": "code",
      "source": [
        "!pip install deeppavlov==0.5.0"
      ],
      "metadata": {
        "colab": {
          "base_uri": "https://localhost:8080/"
        },
        "id": "YwEn0qfNlkYM",
        "outputId": "d3f2a282-a9a4-4eb5-adfa-ce501fd1e152"
      },
      "execution_count": 2,
      "outputs": [
        {
          "output_type": "stream",
          "name": "stdout",
          "text": [
            "Requirement already satisfied: deeppavlov==0.5.0 in /usr/local/lib/python3.7/dist-packages (0.5.0)\n",
            "Requirement already satisfied: requests==2.22.0 in /usr/local/lib/python3.7/dist-packages (from deeppavlov==0.5.0) (2.22.0)\n",
            "Requirement already satisfied: pandas==0.24.2 in /usr/local/lib/python3.7/dist-packages (from deeppavlov==0.5.0) (0.24.2)\n",
            "Requirement already satisfied: flask-cors==3.0.8 in /usr/local/lib/python3.7/dist-packages (from deeppavlov==0.5.0) (3.0.8)\n",
            "Requirement already satisfied: Cython==0.29.12 in /usr/local/lib/python3.7/dist-packages (from deeppavlov==0.5.0) (0.29.12)\n",
            "Requirement already satisfied: pytelegrambotapi==3.6.6 in /usr/local/lib/python3.7/dist-packages (from deeppavlov==0.5.0) (3.6.6)\n",
            "Requirement already satisfied: flasgger==0.9.2 in /usr/local/lib/python3.7/dist-packages (from deeppavlov==0.5.0) (0.9.2)\n",
            "Requirement already satisfied: tqdm==4.32.2 in /usr/local/lib/python3.7/dist-packages (from deeppavlov==0.5.0) (4.32.2)\n",
            "Requirement already satisfied: flask==1.1.1 in /usr/local/lib/python3.7/dist-packages (from deeppavlov==0.5.0) (1.1.1)\n",
            "Requirement already satisfied: numpy==1.16.4 in /usr/local/lib/python3.7/dist-packages (from deeppavlov==0.5.0) (1.16.4)\n",
            "Requirement already satisfied: keras==2.2.4 in /usr/local/lib/python3.7/dist-packages (from deeppavlov==0.5.0) (2.2.4)\n",
            "Requirement already satisfied: overrides==1.9 in /usr/local/lib/python3.7/dist-packages (from deeppavlov==0.5.0) (1.9)\n",
            "Requirement already satisfied: pyopenssl==19.0.0 in /usr/local/lib/python3.7/dist-packages (from deeppavlov==0.5.0) (19.0.0)\n",
            "Requirement already satisfied: scipy==1.3.0 in /usr/local/lib/python3.7/dist-packages (from deeppavlov==0.5.0) (1.3.0)\n",
            "Requirement already satisfied: nltk==3.2.5 in /usr/local/lib/python3.7/dist-packages (from deeppavlov==0.5.0) (3.2.5)\n",
            "Requirement already satisfied: pymorphy2==0.8 in /usr/local/lib/python3.7/dist-packages (from deeppavlov==0.5.0) (0.8)\n",
            "Requirement already satisfied: pymorphy2-dicts-ru in /usr/local/lib/python3.7/dist-packages (from deeppavlov==0.5.0) (2.4.417127.4579844)\n",
            "Requirement already satisfied: scikit-learn==0.21.2 in /usr/local/lib/python3.7/dist-packages (from deeppavlov==0.5.0) (0.21.2)\n",
            "Requirement already satisfied: rusenttokenize==0.0.5 in /usr/local/lib/python3.7/dist-packages (from deeppavlov==0.5.0) (0.0.5)\n",
            "Requirement already satisfied: h5py==2.9.0 in /usr/local/lib/python3.7/dist-packages (from deeppavlov==0.5.0) (2.9.0)\n",
            "Requirement already satisfied: fuzzywuzzy==0.17.0 in /usr/local/lib/python3.7/dist-packages (from deeppavlov==0.5.0) (0.17.0)\n",
            "Requirement already satisfied: jsonschema>=2.5.1 in /usr/local/lib/python3.7/dist-packages (from flasgger==0.9.2->deeppavlov==0.5.0) (4.3.3)\n",
            "Requirement already satisfied: mistune in /usr/local/lib/python3.7/dist-packages (from flasgger==0.9.2->deeppavlov==0.5.0) (0.8.4)\n",
            "Requirement already satisfied: six>=1.10.0 in /usr/local/lib/python3.7/dist-packages (from flasgger==0.9.2->deeppavlov==0.5.0) (1.15.0)\n",
            "Requirement already satisfied: PyYAML>=3.0 in /usr/local/lib/python3.7/dist-packages (from flasgger==0.9.2->deeppavlov==0.5.0) (3.13)\n",
            "Requirement already satisfied: Werkzeug>=0.15 in /usr/local/lib/python3.7/dist-packages (from flask==1.1.1->deeppavlov==0.5.0) (1.0.1)\n",
            "Requirement already satisfied: click>=5.1 in /usr/local/lib/python3.7/dist-packages (from flask==1.1.1->deeppavlov==0.5.0) (7.1.2)\n",
            "Requirement already satisfied: Jinja2>=2.10.1 in /usr/local/lib/python3.7/dist-packages (from flask==1.1.1->deeppavlov==0.5.0) (2.11.3)\n",
            "Requirement already satisfied: itsdangerous>=0.24 in /usr/local/lib/python3.7/dist-packages (from flask==1.1.1->deeppavlov==0.5.0) (1.1.0)\n",
            "Requirement already satisfied: keras-preprocessing>=1.0.5 in /usr/local/lib/python3.7/dist-packages (from keras==2.2.4->deeppavlov==0.5.0) (1.1.2)\n",
            "Requirement already satisfied: keras-applications>=1.0.6 in /usr/local/lib/python3.7/dist-packages (from keras==2.2.4->deeppavlov==0.5.0) (1.0.8)\n",
            "Requirement already satisfied: pytz>=2011k in /usr/local/lib/python3.7/dist-packages (from pandas==0.24.2->deeppavlov==0.5.0) (2018.9)\n",
            "Requirement already satisfied: python-dateutil>=2.5.0 in /usr/local/lib/python3.7/dist-packages (from pandas==0.24.2->deeppavlov==0.5.0) (2.8.2)\n",
            "Requirement already satisfied: pymorphy2-dicts<3.0,>=2.4 in /usr/local/lib/python3.7/dist-packages (from pymorphy2==0.8->deeppavlov==0.5.0) (2.4.393442.3710985)\n",
            "Requirement already satisfied: docopt>=0.6 in /usr/local/lib/python3.7/dist-packages (from pymorphy2==0.8->deeppavlov==0.5.0) (0.6.2)\n",
            "Requirement already satisfied: dawg-python>=0.7 in /usr/local/lib/python3.7/dist-packages (from pymorphy2==0.8->deeppavlov==0.5.0) (0.7.2)\n",
            "Requirement already satisfied: cryptography>=2.3 in /usr/local/lib/python3.7/dist-packages (from pyopenssl==19.0.0->deeppavlov==0.5.0) (36.0.1)\n",
            "Requirement already satisfied: chardet<3.1.0,>=3.0.2 in /usr/local/lib/python3.7/dist-packages (from requests==2.22.0->deeppavlov==0.5.0) (3.0.4)\n",
            "Requirement already satisfied: urllib3!=1.25.0,!=1.25.1,<1.26,>=1.21.1 in /usr/local/lib/python3.7/dist-packages (from requests==2.22.0->deeppavlov==0.5.0) (1.24.3)\n",
            "Requirement already satisfied: idna<2.9,>=2.5 in /usr/local/lib/python3.7/dist-packages (from requests==2.22.0->deeppavlov==0.5.0) (2.8)\n",
            "Requirement already satisfied: certifi>=2017.4.17 in /usr/local/lib/python3.7/dist-packages (from requests==2.22.0->deeppavlov==0.5.0) (2021.10.8)\n",
            "Requirement already satisfied: joblib>=0.11 in /usr/local/lib/python3.7/dist-packages (from scikit-learn==0.21.2->deeppavlov==0.5.0) (1.1.0)\n",
            "Requirement already satisfied: cffi>=1.12 in /usr/local/lib/python3.7/dist-packages (from cryptography>=2.3->pyopenssl==19.0.0->deeppavlov==0.5.0) (1.15.0)\n",
            "Requirement already satisfied: pycparser in /usr/local/lib/python3.7/dist-packages (from cffi>=1.12->cryptography>=2.3->pyopenssl==19.0.0->deeppavlov==0.5.0) (2.21)\n",
            "Requirement already satisfied: MarkupSafe>=0.23 in /usr/local/lib/python3.7/dist-packages (from Jinja2>=2.10.1->flask==1.1.1->deeppavlov==0.5.0) (2.0.1)\n",
            "Requirement already satisfied: attrs>=17.4.0 in /usr/local/lib/python3.7/dist-packages (from jsonschema>=2.5.1->flasgger==0.9.2->deeppavlov==0.5.0) (21.4.0)\n",
            "Requirement already satisfied: typing-extensions in /usr/local/lib/python3.7/dist-packages (from jsonschema>=2.5.1->flasgger==0.9.2->deeppavlov==0.5.0) (3.10.0.2)\n",
            "Requirement already satisfied: pyrsistent!=0.17.0,!=0.17.1,!=0.17.2,>=0.14.0 in /usr/local/lib/python3.7/dist-packages (from jsonschema>=2.5.1->flasgger==0.9.2->deeppavlov==0.5.0) (0.18.1)\n",
            "Requirement already satisfied: importlib-metadata in /usr/local/lib/python3.7/dist-packages (from jsonschema>=2.5.1->flasgger==0.9.2->deeppavlov==0.5.0) (4.11.2)\n",
            "Requirement already satisfied: importlib-resources>=1.4.0 in /usr/local/lib/python3.7/dist-packages (from jsonschema>=2.5.1->flasgger==0.9.2->deeppavlov==0.5.0) (5.4.0)\n",
            "Requirement already satisfied: zipp>=3.1.0 in /usr/local/lib/python3.7/dist-packages (from importlib-resources>=1.4.0->jsonschema>=2.5.1->flasgger==0.9.2->deeppavlov==0.5.0) (3.7.0)\n"
          ]
        }
      ]
    },
    {
      "cell_type": "code",
      "source": [
        "!python -m deeppavlov install squad_bert"
      ],
      "metadata": {
        "colab": {
          "base_uri": "https://localhost:8080/"
        },
        "id": "HpFx3wv2lr1V",
        "outputId": "e2095494-8d59-4c15-d284-6ffc8598084f"
      },
      "execution_count": 3,
      "outputs": [
        {
          "output_type": "stream",
          "name": "stdout",
          "text": [
            "2022-03-04 06:28:26.600 INFO in 'deeppavlov.core.common.file'['file'] at line 30: Interpreting 'squad_bert' as '/usr/local/lib/python3.7/dist-packages/deeppavlov/configs/squad/squad_bert.json'\n",
            "Requirement already satisfied: tensorflow==1.14.0 in /usr/local/lib/python3.7/dist-packages (1.14.0)\n",
            "Requirement already satisfied: astor>=0.6.0 in /usr/local/lib/python3.7/dist-packages (from tensorflow==1.14.0) (0.8.1)\n",
            "Requirement already satisfied: termcolor>=1.1.0 in /usr/local/lib/python3.7/dist-packages (from tensorflow==1.14.0) (1.1.0)\n",
            "Requirement already satisfied: grpcio>=1.8.6 in /usr/local/lib/python3.7/dist-packages (from tensorflow==1.14.0) (1.44.0)\n",
            "Requirement already satisfied: wheel>=0.26 in /usr/local/lib/python3.7/dist-packages (from tensorflow==1.14.0) (0.37.1)\n",
            "Requirement already satisfied: keras-preprocessing>=1.0.5 in /usr/local/lib/python3.7/dist-packages (from tensorflow==1.14.0) (1.1.2)\n",
            "Requirement already satisfied: protobuf>=3.6.1 in /usr/local/lib/python3.7/dist-packages (from tensorflow==1.14.0) (3.17.3)\n",
            "Requirement already satisfied: tensorboard<1.15.0,>=1.14.0 in /usr/local/lib/python3.7/dist-packages (from tensorflow==1.14.0) (1.14.0)\n",
            "Requirement already satisfied: google-pasta>=0.1.6 in /usr/local/lib/python3.7/dist-packages (from tensorflow==1.14.0) (0.2.0)\n",
            "Requirement already satisfied: numpy<2.0,>=1.14.5 in /usr/local/lib/python3.7/dist-packages (from tensorflow==1.14.0) (1.16.4)\n",
            "Requirement already satisfied: keras-applications>=1.0.6 in /usr/local/lib/python3.7/dist-packages (from tensorflow==1.14.0) (1.0.8)\n",
            "Requirement already satisfied: six>=1.10.0 in /usr/local/lib/python3.7/dist-packages (from tensorflow==1.14.0) (1.15.0)\n",
            "Requirement already satisfied: wrapt>=1.11.1 in /usr/local/lib/python3.7/dist-packages (from tensorflow==1.14.0) (1.13.3)\n",
            "Requirement already satisfied: gast>=0.2.0 in /usr/local/lib/python3.7/dist-packages (from tensorflow==1.14.0) (0.5.3)\n",
            "Requirement already satisfied: tensorflow-estimator<1.15.0rc0,>=1.14.0rc0 in /usr/local/lib/python3.7/dist-packages (from tensorflow==1.14.0) (1.14.0)\n",
            "Requirement already satisfied: absl-py>=0.7.0 in /usr/local/lib/python3.7/dist-packages (from tensorflow==1.14.0) (1.0.0)\n",
            "Requirement already satisfied: h5py in /usr/local/lib/python3.7/dist-packages (from keras-applications>=1.0.6->tensorflow==1.14.0) (2.9.0)\n",
            "Requirement already satisfied: setuptools>=41.0.0 in /usr/local/lib/python3.7/dist-packages (from tensorboard<1.15.0,>=1.14.0->tensorflow==1.14.0) (57.4.0)\n",
            "Requirement already satisfied: werkzeug>=0.11.15 in /usr/local/lib/python3.7/dist-packages (from tensorboard<1.15.0,>=1.14.0->tensorflow==1.14.0) (1.0.1)\n",
            "Requirement already satisfied: markdown>=2.6.8 in /usr/local/lib/python3.7/dist-packages (from tensorboard<1.15.0,>=1.14.0->tensorflow==1.14.0) (3.3.6)\n",
            "Requirement already satisfied: importlib-metadata>=4.4 in /usr/local/lib/python3.7/dist-packages (from markdown>=2.6.8->tensorboard<1.15.0,>=1.14.0->tensorflow==1.14.0) (4.11.2)\n",
            "Requirement already satisfied: zipp>=0.5 in /usr/local/lib/python3.7/dist-packages (from importlib-metadata>=4.4->markdown>=2.6.8->tensorboard<1.15.0,>=1.14.0->tensorflow==1.14.0) (3.7.0)\n",
            "Requirement already satisfied: typing-extensions>=3.6.4 in /usr/local/lib/python3.7/dist-packages (from importlib-metadata>=4.4->markdown>=2.6.8->tensorboard<1.15.0,>=1.14.0->tensorflow==1.14.0) (3.10.0.2)\n",
            "Collecting git+https://github.com/deepmipt/bert.git@feat/multi_gpu\n",
            "  Cloning https://github.com/deepmipt/bert.git (to revision feat/multi_gpu) to /tmp/pip-req-build-sblf6kjr\n",
            "  Running command git clone -q https://github.com/deepmipt/bert.git /tmp/pip-req-build-sblf6kjr\n"
          ]
        }
      ]
    },
    {
      "cell_type": "code",
      "source": [
        "from deeppavlov.dataset_readers.basic_classification_reader import BasicClassificationDatasetReader"
      ],
      "metadata": {
        "id": "BRRCN5FkiomQ"
      },
      "execution_count": 8,
      "outputs": []
    },
    {
      "cell_type": "markdown",
      "source": [
        "df_train=pd.read_csv('/content/drive/MyDrive/Colab Notebooks/df_train_prep.csv')"
      ],
      "metadata": {
        "id": "-lu_bm-43f6N"
      }
    },
    {
      "cell_type": "code",
      "source": [
        "# read data from particular columns of `.csv` file\n",
        "dr = BasicClassificationDatasetReader().read(\n",
        "    data_path='/content/drive/MyDrive/Colab Notebooks/',\n",
        "    train='df_train_prep.csv',\n",
        "    x = 'description',\n",
        "    y = 'label'\n",
        ")"
      ],
      "metadata": {
        "colab": {
          "base_uri": "https://localhost:8080/"
        },
        "id": "S3thHV1u3V4J",
        "outputId": "ec6dce05-5a44-4d42-e9ea-4adb4f1a91a7"
      },
      "execution_count": 9,
      "outputs": [
        {
          "output_type": "stream",
          "name": "stderr",
          "text": [
            "2022-03-04 06:31:29.220 WARNING in 'deeppavlov.dataset_readers.basic_classification_reader'['basic_classification_reader'] at line 95: Cannot find /content/drive/MyDrive/Colab Notebooks/valid.csv file\n",
            "2022-03-04 06:31:29.223 WARNING in 'deeppavlov.dataset_readers.basic_classification_reader'['basic_classification_reader'] at line 95: Cannot find /content/drive/MyDrive/Colab Notebooks/test.csv file\n"
          ]
        }
      ]
    },
    {
      "cell_type": "code",
      "source": [
        "# check train/valid/test sizes\n",
        "[(k, len(dr[k])) for k in dr.keys()]"
      ],
      "metadata": {
        "colab": {
          "base_uri": "https://localhost:8080/"
        },
        "id": "dnZEOLxv35zz",
        "outputId": "6359064f-3023-49bd-9613-17825f3d03d8"
      },
      "execution_count": 10,
      "outputs": [
        {
          "output_type": "execute_result",
          "data": {
            "text/plain": [
              "[('train', 2069), ('valid', 0), ('test', 0)]"
            ]
          },
          "metadata": {},
          "execution_count": 10
        }
      ]
    },
    {
      "cell_type": "code",
      "source": [
        "from deeppavlov.dataset_iterators.basic_classification_iterator import BasicClassificationDatasetIterator"
      ],
      "metadata": {
        "id": "sEMUe6sH3-_Y"
      },
      "execution_count": 11,
      "outputs": []
    },
    {
      "cell_type": "code",
      "source": [
        "# initialize data iterator splitting `train` field to `train` and `valid` in proportion 0.8/0.2\n",
        "train_iterator = BasicClassificationDatasetIterator(\n",
        "    data=dr,\n",
        "    field_to_split='train',  # field that will be splitted\n",
        "    split_fields=['train', 'valid'],   # fields to which the fiald above will be splitted\n",
        "    split_proportions=[0.8, 0.2],  #proportions for splitting\n",
        "    split_seed=23,  # seed for splitting dataset\n",
        "    seed=42)  # seed for iteration over dataset"
      ],
      "metadata": {
        "colab": {
          "base_uri": "https://localhost:8080/"
        },
        "id": "gF377jwT4AkK",
        "outputId": "25fb134a-94b5-4d2b-d718-7e2a4e68efca"
      },
      "execution_count": 12,
      "outputs": [
        {
          "output_type": "stream",
          "name": "stderr",
          "text": [
            "2022-03-04 06:31:36.912 INFO in 'deeppavlov.dataset_iterators.basic_classification_iterator'['basic_classification_iterator'] at line 73: Splitting field <<train>> to new fields <<['train', 'valid']>>\n"
          ]
        }
      ]
    },
    {
      "cell_type": "code",
      "source": [
        "# one can get train instances (or any other data type including `all`)\n",
        "x_train, y_train = train_iterator.get_instances(data_type='train')\n",
        "for x, y in list(zip(x_train, y_train))[:5]:\n",
        "    print('x:', x)\n",
        "    print('y:', y)\n",
        "    print('=================')"
      ],
      "metadata": {
        "colab": {
          "base_uri": "https://localhost:8080/"
        },
        "id": "WwVzD_PM4FIY",
        "outputId": "72298c53-4a9e-495d-f095-bc803581b2eb"
      },
      "execution_count": 13,
      "outputs": [
        {
          "output_type": "stream",
          "name": "stdout",
          "text": [
            "x: Компания &quot;Газпром&quot; намерена потратить 13,14 млн рублей на организацию пяти корпоративных мероприятий в Москве и Санкт-Петербурге, сообщается на сайте госзакупок.  Уточняется, что концерн ищет подрядчика для организации таких ...\n",
            "y: ['1']\n",
            "=================\n",
            "x: ПАО \"Газпром\" представил Еврокомиссии (ЕК) предложения по урегулированию антимонопольного расследования,\n",
            "y: ['3']\n",
            "=================\n",
            "x: Госхолдинг &quot;Роснефтегаз&quot;, владеющий контролем в &quot;Роснефти&quot;, выплатит промежуточные дивиденды по итогам 9 месяцев 2016 года в размере около 18,5 млрд рублей, срок выплаты - не позднее 22 декабря текущего года, сообщило в понедельник Росимущество.\n",
            "y: ['4']\n",
            "=================\n",
            "x: Apple завершила размещение облигаций на $10 млрд\n",
            "y: ['3']\n",
            "=================\n",
            "x: Apple и Samsung заключили контракт на $11,4 млрд. Южнокорейская компания обязалась поставить 160 млн изогнутых OLED-дисплеев для флагманского iPhone 8, который должны анонсировать осенью этого года\n",
            "y: ['1']\n",
            "=================\n"
          ]
        }
      ]
    },
    {
      "cell_type": "markdown",
      "source": [
        "Производим предобработку текста"
      ],
      "metadata": {
        "id": "J1guOaEKOtKc"
      }
    },
    {
      "cell_type": "code",
      "source": [
        "from deeppavlov.models.tokenizers.nltk_moses_tokenizer import NLTKMosesTokenizer"
      ],
      "metadata": {
        "id": "FWPiLveY4MhB"
      },
      "execution_count": 14,
      "outputs": []
    },
    {
      "cell_type": "code",
      "source": [
        "tokenizer = NLTKMosesTokenizer()"
      ],
      "metadata": {
        "id": "5UEwCTW04W5A"
      },
      "execution_count": 15,
      "outputs": []
    },
    {
      "cell_type": "code",
      "source": [
        "from typing import Union\n",
        "\n",
        "from deeppavlov.core.common.registry import register\n",
        "\n",
        "\n",
        "@register('str_lower')\n",
        "def str_lower(batch: Union[str, list, tuple]):\n",
        "    \"\"\"Recursively search for strings in a list and convert them to lowercase\n",
        "\n",
        "    Args:\n",
        "        batch: a string or a list containing strings at some level of nesting\n",
        "\n",
        "    Returns:\n",
        "        the same structure where all strings are converted to lowercase\n",
        "    \"\"\"\n",
        "    if isinstance(batch, str):\n",
        "        return batch.lower()\n",
        "    else:\n",
        "        return list(map(str_lower, batch))"
      ],
      "metadata": {
        "colab": {
          "base_uri": "https://localhost:8080/"
        },
        "id": "zwzNjAREocns",
        "outputId": "b4f8acd0-6736-4cde-8456-176d16a03ede"
      },
      "execution_count": 19,
      "outputs": [
        {
          "output_type": "stream",
          "name": "stderr",
          "text": [
            "2022-03-04 06:33:23.104 WARNING in 'deeppavlov.core.common.registry'['registry'] at line 53: Registry name \"str_lower\" has been already registered and will be overwritten.\n"
          ]
        }
      ]
    },
    {
      "cell_type": "code",
      "source": [
        "train_x_lower_tokenized = str_lower(tokenizer(train_iterator.get_instances(data_type='train')[0]))"
      ],
      "metadata": {
        "id": "WtN18ND84Yw1"
      },
      "execution_count": 20,
      "outputs": []
    },
    {
      "cell_type": "markdown",
      "source": [
        "создаем словарь"
      ],
      "metadata": {
        "id": "aIt_QwI8OxSD"
      }
    },
    {
      "cell_type": "code",
      "source": [
        "from deeppavlov.core.data.simple_vocab import SimpleVocabulary"
      ],
      "metadata": {
        "id": "YSlJelgu4cbr"
      },
      "execution_count": 21,
      "outputs": []
    },
    {
      "cell_type": "markdown",
      "source": [
        ""
      ],
      "metadata": {
        "id": "8YJLOJJhO-JK"
      }
    },
    {
      "cell_type": "code",
      "source": [
        "classes_vocab = SimpleVocabulary(\n",
        "    save_path='/content/drive/MyDrive/Colab Notebooks/classes.dict',\n",
        "    load_path='/content/drive/MyDrive/Colab Notebooks/classes.dict')"
      ],
      "metadata": {
        "id": "Jn7nS3XF4fbm",
        "colab": {
          "base_uri": "https://localhost:8080/"
        },
        "outputId": "2f33a0ca-b2b0-4e67-b2cb-9c7ec2fee75b"
      },
      "execution_count": 22,
      "outputs": [
        {
          "output_type": "stream",
          "name": "stderr",
          "text": [
            "2022-03-04 06:33:44.380 INFO in 'deeppavlov.core.data.simple_vocab'['simple_vocab'] at line 112: [loading vocabulary from /content/drive/MyDrive/Colab Notebooks/classes.dict]\n"
          ]
        }
      ]
    },
    {
      "cell_type": "code",
      "source": [
        "classes_vocab.fit((train_iterator.get_instances(data_type='train')[1]))\n",
        "classes_vocab.save()"
      ],
      "metadata": {
        "colab": {
          "base_uri": "https://localhost:8080/"
        },
        "id": "CJP3s31K4loJ",
        "outputId": "e338bba7-4397-43e3-fa2f-111638aac51a"
      },
      "execution_count": 23,
      "outputs": [
        {
          "output_type": "stream",
          "name": "stderr",
          "text": [
            "2022-03-04 06:33:45.766 INFO in 'deeppavlov.core.data.simple_vocab'['simple_vocab'] at line 98: [saving vocabulary to /content/drive/MyDrive/Colab Notebooks/classes.dict]\n"
          ]
        }
      ]
    },
    {
      "cell_type": "markdown",
      "source": [
        "это смотрим классы наших новостей, всё верно"
      ],
      "metadata": {
        "id": "EgFC6x36O5Ro"
      }
    },
    {
      "cell_type": "code",
      "source": [
        "list(classes_vocab.items())"
      ],
      "metadata": {
        "colab": {
          "base_uri": "https://localhost:8080/"
        },
        "id": "V7ViqaZF4q6K",
        "outputId": "ff09bd5b-6477-46a4-8b72-7cab2d86f8be"
      },
      "execution_count": 24,
      "outputs": [
        {
          "output_type": "execute_result",
          "data": {
            "text/plain": [
              "[('3', 0), ('1', 1), ('2', 2), ('4', 3), ('5', 4)]"
            ]
          },
          "metadata": {},
          "execution_count": 24
        }
      ]
    },
    {
      "cell_type": "code",
      "source": [
        "# also one can collect vocabulary of textual tokens appeared 2 and more times in the dataset\n",
        "token_vocab = SimpleVocabulary(\n",
        "    save_path='/content/drive/MyDrive/Colab Notebooks/tokens.dict',\n",
        "    load_path='/content/drive/MyDrive/Colab Notebooks/tokens.dict',\n",
        "    min_freq=2,\n",
        "    special_tokens=('<PAD>', '<UNK>',),\n",
        "    unk_token='<UNK>')"
      ],
      "metadata": {
        "colab": {
          "base_uri": "https://localhost:8080/"
        },
        "id": "m5tDO3adPBY5",
        "outputId": "d7d6eb72-4147-4846-db66-728fdd5fe082"
      },
      "execution_count": 25,
      "outputs": [
        {
          "output_type": "stream",
          "name": "stderr",
          "text": [
            "2022-03-04 06:33:50.465 INFO in 'deeppavlov.core.data.simple_vocab'['simple_vocab'] at line 112: [loading vocabulary from /content/drive/MyDrive/Colab Notebooks/tokens.dict]\n"
          ]
        }
      ]
    },
    {
      "cell_type": "code",
      "source": [
        "token_vocab.fit(train_x_lower_tokenized)\n",
        "token_vocab.save()"
      ],
      "metadata": {
        "colab": {
          "base_uri": "https://localhost:8080/"
        },
        "id": "ZCKCjci2PBV0",
        "outputId": "bab9ee8e-8708-465e-c8d9-f9c0366e5190"
      },
      "execution_count": 26,
      "outputs": [
        {
          "output_type": "stream",
          "name": "stderr",
          "text": [
            "2022-03-04 06:33:52.839 INFO in 'deeppavlov.core.data.simple_vocab'['simple_vocab'] at line 98: [saving vocabulary to /content/drive/MyDrive/Colab Notebooks/tokens.dict]\n"
          ]
        }
      ]
    },
    {
      "cell_type": "code",
      "source": [
        "len(token_vocab)"
      ],
      "metadata": {
        "colab": {
          "base_uri": "https://localhost:8080/"
        },
        "id": "a2EvX-nyPBTs",
        "outputId": "702bb9e2-2609-4aeb-aadf-ab02d361ad74"
      },
      "execution_count": 27,
      "outputs": [
        {
          "output_type": "execute_result",
          "data": {
            "text/plain": [
              "5325"
            ]
          },
          "metadata": {},
          "execution_count": 27
        }
      ]
    },
    {
      "cell_type": "code",
      "source": [
        "# 10 most common words and number of times their appeared\n",
        "token_vocab.freqs.most_common()[:10]"
      ],
      "metadata": {
        "colab": {
          "base_uri": "https://localhost:8080/"
        },
        "id": "WkzW1qXNPBQ4",
        "outputId": "c62b3525-4565-4f88-f09a-da3bfdcea3f8"
      },
      "execution_count": 28,
      "outputs": [
        {
          "output_type": "execute_result",
          "data": {
            "text/plain": [
              "[(',', 2858),\n",
              " ('.', 2649),\n",
              " ('в', 2327),\n",
              " ('на', 1357),\n",
              " (';', 1294),\n",
              " ('&', 1279),\n",
              " ('quot', 1208),\n",
              " ('\"', 1153),\n",
              " ('и', 875),\n",
              " ('по', 562)]"
            ]
          },
          "metadata": {},
          "execution_count": 28
        }
      ]
    },
    {
      "cell_type": "code",
      "source": [
        "from deeppavlov.metrics.accuracy import sets_accuracy"
      ],
      "metadata": {
        "id": "6NFBsaF4PBOc"
      },
      "execution_count": 29,
      "outputs": []
    },
    {
      "cell_type": "code",
      "source": [
        "# get all train and valid data from iterator\n",
        "x_train, y_train = train_iterator.get_instances(data_type=\"train\")\n",
        "x_valid, y_valid = train_iterator.get_instances(data_type=\"valid\")"
      ],
      "metadata": {
        "id": "ysBdfWp8PBL8"
      },
      "execution_count": 30,
      "outputs": []
    },
    {
      "cell_type": "code",
      "source": [
        "from deeppavlov.dataset_iterators.basic_classification_iterator import BasicClassificationDatasetIterator"
      ],
      "metadata": {
        "id": "fu6ZdS5nPBJN"
      },
      "execution_count": 31,
      "outputs": []
    },
    {
      "cell_type": "code",
      "source": [
        "iterator = BasicClassificationDatasetIterator(dr, seed=42, shuffle=True)"
      ],
      "metadata": {
        "id": "FvZelUbbPBBg"
      },
      "execution_count": 32,
      "outputs": []
    },
    {
      "cell_type": "code",
      "source": [
        "for batch in iterator.gen_batches(data_type=\"train\", batch_size=13):\n",
        "    print(batch)\n",
        "    break"
      ],
      "metadata": {
        "colab": {
          "base_uri": "https://localhost:8080/"
        },
        "id": "CuiYBSuWQqr7",
        "outputId": "4040aae1-9d6e-4fc7-e314-1d116f464862"
      },
      "execution_count": 33,
      "outputs": [
        {
          "output_type": "stream",
          "name": "stdout",
          "text": [
            "(('<b>По сравнению с прошлым годом на 40% увеличилась заявленная работодателями потребность в работниках</b>.\\xa0\\xa0 В Мурманской области зарегистрировано 7754 безработных гражданина. Актуальной информацией с корреспондентом ИА REGNUM поделились в пресс-службе правительства области. «По...', 'Корпорация &quot;Газпром&quot; установила новый суточный рекорд экспорта по газопроводу &quot;Северный поток&quot; 10 января, передает ТАСС.   За прошедшие сутки по &quot;Северному потоку&quot; было поставлено 167,4 млн кубометров газа, ...', '\"Мечел\" подписал договор о переносе погашения долга перед ВТБ на апрель 2022 г. Дополнительное соглашение к действующему кредитному договору подписано 23 декабря.', 'К 8.39 мск четверга февральские фьючерсы на Brent торговались на лондонской бирже ICE Futures на уровне $53,88 за баррель. К этому же моменту цена январских фьючерсов на WTI на Нью-Йоркской товарной бирже (NYMEX) составляла $50,95 за баррель. Федеральная резервная система США в среду изменила прогноз повышения ставок, что увеличило спрос на доллары и гособлигации США, и понизило – на сырье. Цены на нефть поддерживают данные о снижении запасов топлива в США, отмечает  «Интерфакс». Минэнерго США сообщило, что на предыдущей неделе запасы нефти в стране снизились на 2,56 млн баррелей – сильнее, чем ожидал рынок.', 'По данным защитников прав потребителя, речь идет, например, об информировании о просроченной задолженности, дате очередного платежа, остатке лимита по кредитам и т.п.. Эти услуги являются добровольными, но они необходимы для своевременного обслуживания кредитов.', 'Подразделение игрового издательства Activision Blizzard, Activision Publishing, уволило ряд своих сотрудников.', 'К 8.40 мск пятницы февральские фьючерсы на Brent торговались в Лондоне на уровне $54,27 за баррель, январские фьючерсы на WTI в Нью-Йорке - на уровне $51,22 за баррель. Нефть слабо дорожает в пятницу.', '&quot;РусГидро&quot;, которое вскоре может оказаться участником bail-in в проблемном российском банке &quot;Пересвет&quot;, уже имеет опыт участия в этом механизме за рубежом - правда, в незначительном объеме.', 'Входящая в группу &quot;Роснефти&quot; компания, название которой не раскрывается, попала в тройку претендентов на приобретение &quot;Глобэкса&quot; и Связь-банка (дочерние банки Внешэкономбанка - &quot;Газета.Ru&quot;). Об этом пишет ...', 'Первый зампред ВЭБ Михаил Полубояринов может занять должность замминистра экономического развития, пишет &quot;Коммерсантъ&quot; со ссылкой на информированные источники.  Издание отмечает, что Михаил Полубояринов пришел в ВЭБ в 2009 году ...', 'Компания &quot;Ростсельмаш&quot; (Ростов-на-Дону) намерена создать в Узбекистане на базе АО &quot;Чирчикский завод сельскохозяйственной техники&quot; производство по сборке кормоуборочных комбайнов и другой техники, сообщает пресс-служба российского предприятия.', '<b>Настрой нового президента и его команды «внушает оптимизм» большинству инвесторов</b>.\\xa0\\xa0На фондовом рынке США — долгожданный рекорд: промышленный индекс Dow Jones установил новый исторический максимум и покорил отметку в 20000 пунктов, передает Assocaiated Press 26...', 'Курс криптовалюты bitcoin устремился к новым максимумам на фоне растущего беспокойства инвесторов относительно перспектив глобального роста в 2017 году.'), (['4'], ['4'], ['1'], ['3'], ['2'], ['5'], ['3'], ['3'], ['3'], ['3'], ['1'], ['4'], ['4']))\n"
          ]
        }
      ]
    },
    {
      "cell_type": "markdown",
      "metadata": {
        "id": "C7q-San0cHJ6"
      },
      "source": [
        "## BERT Preprocessor\n"
      ]
    },
    {
      "cell_type": "code",
      "source": [
        "from deeppavlov.models.preprocessors.bert_preprocessor import BertPreprocessor"
      ],
      "metadata": {
        "id": "y3FjbCkNQqpU"
      },
      "execution_count": 34,
      "outputs": []
    },
    {
      "cell_type": "code",
      "source": [
        "import tensorflow.compat.v1 as tf"
      ],
      "metadata": {
        "id": "wfe-nCAMpME3"
      },
      "execution_count": 53,
      "outputs": []
    },
    {
      "cell_type": "code",
      "source": [
        "bert_preprocessor = BertPreprocessor(vocab_file=\"/content/drive/MyDrive/Colab Notebooks/vocab.txt\",\n",
        "                                     do_lower_case=False,\n",
        "                                     max_seq_length=64)"
      ],
      "metadata": {
        "id": "JHWfO4WOQqmq"
      },
      "execution_count": 38,
      "outputs": []
    },
    {
      "cell_type": "code",
      "source": [
        "from deeppavlov.core.data.simple_vocab import SimpleVocabulary"
      ],
      "metadata": {
        "id": "s1bmUBoAi3L4"
      },
      "execution_count": 39,
      "outputs": []
    },
    {
      "cell_type": "code",
      "source": [
        "vocab = SimpleVocabulary(save_path=\"/content/drive/MyDrive/Colab Notebooks/classes.dict\")"
      ],
      "metadata": {
        "colab": {
          "base_uri": "https://localhost:8080/"
        },
        "id": "iV343rAji3Jk",
        "outputId": "75151dbe-4e28-4d97-fd20-d44390626987"
      },
      "execution_count": 40,
      "outputs": [
        {
          "output_type": "stream",
          "name": "stderr",
          "text": [
            "2022-03-04 06:36:33.765 WARNING in 'deeppavlov.core.models.serializable'['serializable'] at line 47: No load path is set for SimpleVocabulary in 'infer' mode. Using save path instead\n",
            "2022-03-04 06:36:33.776 INFO in 'deeppavlov.core.data.simple_vocab'['simple_vocab'] at line 112: [loading vocabulary from /content/drive/MyDrive/Colab Notebooks/classes.dict]\n"
          ]
        }
      ]
    },
    {
      "cell_type": "code",
      "source": [
        "iterator.get_instances(data_type=\"train\")"
      ],
      "metadata": {
        "id": "8ZgKWT2ki3HB"
      },
      "execution_count": null,
      "outputs": []
    },
    {
      "cell_type": "code",
      "source": [
        "vocab.fit(iterator.get_instances(data_type=\"train\")[1])"
      ],
      "metadata": {
        "id": "1htF9TWFjDT1"
      },
      "execution_count": 42,
      "outputs": []
    },
    {
      "cell_type": "code",
      "source": [
        "list(vocab.items())"
      ],
      "metadata": {
        "colab": {
          "base_uri": "https://localhost:8080/"
        },
        "id": "UsKztNjMjDKo",
        "outputId": "9972a738-02d4-46c2-931e-7b84c8714000"
      },
      "execution_count": 43,
      "outputs": [
        {
          "output_type": "execute_result",
          "data": {
            "text/plain": [
              "[('3', 0), ('1', 1), ('2', 2), ('4', 3), ('5', 4)]"
            ]
          },
          "metadata": {},
          "execution_count": 43
        }
      ]
    },
    {
      "cell_type": "code",
      "source": [
        ""
      ],
      "metadata": {
        "id": "OZdsSlT2i2-h"
      },
      "execution_count": null,
      "outputs": []
    },
    {
      "cell_type": "code",
      "source": [
        "from deeppavlov.models.preprocessors.one_hotter import OneHotter"
      ],
      "metadata": {
        "id": "2gT4lvKCQqkW"
      },
      "execution_count": 44,
      "outputs": []
    },
    {
      "cell_type": "code",
      "source": [
        "one_hotter = OneHotter(depth=vocab.len, \n",
        "                       single_vector=True  # means we want to have one vector per sample\n",
        "                      )"
      ],
      "metadata": {
        "id": "B2z_9VVWQqhu"
      },
      "execution_count": 45,
      "outputs": []
    },
    {
      "cell_type": "code",
      "source": [
        "from deeppavlov.models.classifiers.proba2labels import Proba2Labels\n",
        "\n",
        "prob2labels = Proba2Labels(max_proba=True)"
      ],
      "metadata": {
        "id": "6sh3vOj1jPaK"
      },
      "execution_count": 46,
      "outputs": []
    },
    {
      "cell_type": "code",
      "source": [
        "vocab.len"
      ],
      "metadata": {
        "colab": {
          "base_uri": "https://localhost:8080/"
        },
        "id": "PTEpBrc2jPXW",
        "outputId": "81d06f23-18ff-41ef-9557-f3a6401d5d74"
      },
      "execution_count": 47,
      "outputs": [
        {
          "output_type": "execute_result",
          "data": {
            "text/plain": [
              "5"
            ]
          },
          "metadata": {},
          "execution_count": 47
        }
      ]
    },
    {
      "cell_type": "code",
      "source": [
        "prob2labels([[0.6, 0.4], \n",
        "             [0.2, 0.8],\n",
        "             [0.1, 0.9]])"
      ],
      "metadata": {
        "colab": {
          "base_uri": "https://localhost:8080/"
        },
        "id": "TM6jsH28jPKV",
        "outputId": "dd9c120b-8a3f-4f7f-ac84-f21b7a44bb34"
      },
      "execution_count": 48,
      "outputs": [
        {
          "output_type": "execute_result",
          "data": {
            "text/plain": [
              "[[0], [1], [1]]"
            ]
          },
          "metadata": {},
          "execution_count": 48
        }
      ]
    },
    {
      "cell_type": "code",
      "source": [
        "vocab(prob2labels([[0.6, 0.4], \n",
        "                   [0.2, 0.8],\n",
        "                   [0.1, 0.9]]))"
      ],
      "metadata": {
        "colab": {
          "base_uri": "https://localhost:8080/"
        },
        "id": "yfC_D8VJQqdZ",
        "outputId": "b178edb3-e3e4-414e-e2de-3a1105963d4f"
      },
      "execution_count": 49,
      "outputs": [
        {
          "output_type": "execute_result",
          "data": {
            "text/plain": [
              "[['3'], ['1'], ['1']]"
            ]
          },
          "metadata": {},
          "execution_count": 49
        }
      ]
    },
    {
      "cell_type": "code",
      "source": [
        "from deeppavlov.models.bert.bert_classifier import BertClassifierModel\n",
        "from deeppavlov.metrics.accuracy import sets_accuracy"
      ],
      "metadata": {
        "id": "1_7Wwx3PQqak"
      },
      "execution_count": 54,
      "outputs": []
    },
    {
      "cell_type": "code",
      "source": [
        "bert_classifier = BertClassifierModel(\n",
        "    n_classes=vocab.len,\n",
        "    return_probas=True,\n",
        "    one_hot_labels=True,\n",
        "    bert_config_file=\"/content/drive/MyDrive/Colab Notebooks/bert_config_old.json\",\n",
        "    pretrained_bert=\"/content/drive/MyDrive/Colab Notebooks/bert_model.ckpt\",\n",
        "    save_path=\"sst_bert_model/model\",\n",
        "    load_path=\"sst_bert_model/model\",\n",
        "    keep_prob=0.5,\n",
        "    learning_rate=1e-05,\n",
        "    learning_rate_drop_patience=5,\n",
        "    learning_rate_drop_div=2.0\n",
        ")"
      ],
      "metadata": {
        "colab": {
          "base_uri": "https://localhost:8080/"
        },
        "id": "eBdDsKUGQqUN",
        "outputId": "0dd2ce2a-915f-480e-9995-8f79ab7a530e"
      },
      "execution_count": 55,
      "outputs": [
        {
          "output_type": "stream",
          "name": "stdout",
          "text": [
            "WARNING:tensorflow:From /usr/local/lib/python3.7/dist-packages/deeppavlov/core/models/tf_model.py:194: The name tf.train.AdamOptimizer is deprecated. Please use tf.compat.v1.train.AdamOptimizer instead.\n",
            "\n"
          ]
        },
        {
          "output_type": "stream",
          "name": "stderr",
          "text": [
            "Using TensorFlow backend.\n"
          ]
        },
        {
          "output_type": "stream",
          "name": "stdout",
          "text": [
            "WARNING:tensorflow:From /usr/local/lib/python3.7/dist-packages/deeppavlov/models/bert/bert_classifier.py:83: The name tf.ConfigProto is deprecated. Please use tf.compat.v1.ConfigProto instead.\n",
            "\n",
            "WARNING:tensorflow:From /usr/local/lib/python3.7/dist-packages/deeppavlov/models/bert/bert_classifier.py:160: The name tf.placeholder_with_default is deprecated. Please use tf.compat.v1.placeholder_with_default instead.\n",
            "\n",
            "WARNING:tensorflow:From /usr/local/lib/python3.7/dist-packages/bert_dp/modeling.py:178: The name tf.variable_scope is deprecated. Please use tf.compat.v1.variable_scope instead.\n",
            "\n",
            "WARNING:tensorflow:\n",
            "The TensorFlow contrib module will not be included in TensorFlow 2.0.\n",
            "For more information, please see:\n",
            "  * https://github.com/tensorflow/community/blob/master/rfcs/20180907-contrib-sunset.md\n",
            "  * https://github.com/tensorflow/addons\n",
            "  * https://github.com/tensorflow/io (for I/O related ops)\n",
            "If you depend on functionality not listed there, please file an issue.\n",
            "\n",
            "WARNING:tensorflow:From /usr/local/lib/python3.7/dist-packages/bert_dp/modeling.py:366: calling dropout (from tensorflow.python.ops.nn_ops) with keep_prob is deprecated and will be removed in a future version.\n",
            "Instructions for updating:\n",
            "Please use `rate` instead of `keep_prob`. Rate should be set to `rate = 1 - keep_prob`.\n",
            "WARNING:tensorflow:From /usr/local/lib/python3.7/dist-packages/bert_dp/modeling.py:680: dense (from tensorflow.python.layers.core) is deprecated and will be removed in a future version.\n",
            "Instructions for updating:\n",
            "Use keras.layers.dense instead.\n",
            "WARNING:tensorflow:Entity <bound method Dense.call of <tensorflow.python.layers.core.Dense object at 0x7fbe6b7bb2d0>> could not be transformed and will be executed as-is. Please report this to the AutgoGraph team. When filing the bug, set the verbosity to 10 (on Linux, `export AUTOGRAPH_VERBOSITY=10`) and attach the full output. Cause: converting <bound method Dense.call of <tensorflow.python.layers.core.Dense object at 0x7fbe6b7bb2d0>>: AttributeError: module 'gast' has no attribute 'Index'\n",
            "WARNING: Entity <bound method Dense.call of <tensorflow.python.layers.core.Dense object at 0x7fbe6b7bb2d0>> could not be transformed and will be executed as-is. Please report this to the AutgoGraph team. When filing the bug, set the verbosity to 10 (on Linux, `export AUTOGRAPH_VERBOSITY=10`) and attach the full output. Cause: converting <bound method Dense.call of <tensorflow.python.layers.core.Dense object at 0x7fbe6b7bb2d0>>: AttributeError: module 'gast' has no attribute 'Index'\n",
            "WARNING:tensorflow:Entity <bound method Dense.call of <tensorflow.python.layers.core.Dense object at 0x7fbe6b7bb2d0>> could not be transformed and will be executed as-is. Please report this to the AutgoGraph team. When filing the bug, set the verbosity to 10 (on Linux, `export AUTOGRAPH_VERBOSITY=10`) and attach the full output. Cause: converting <bound method Dense.call of <tensorflow.python.layers.core.Dense object at 0x7fbe6b7bb2d0>>: AttributeError: module 'gast' has no attribute 'Index'\n",
            "WARNING: Entity <bound method Dense.call of <tensorflow.python.layers.core.Dense object at 0x7fbe6b7bb2d0>> could not be transformed and will be executed as-is. Please report this to the AutgoGraph team. When filing the bug, set the verbosity to 10 (on Linux, `export AUTOGRAPH_VERBOSITY=10`) and attach the full output. Cause: converting <bound method Dense.call of <tensorflow.python.layers.core.Dense object at 0x7fbe6b7bb2d0>>: AttributeError: module 'gast' has no attribute 'Index'\n",
            "WARNING:tensorflow:Entity <bound method Dense.call of <tensorflow.python.layers.core.Dense object at 0x7fbe6b7bb2d0>> could not be transformed and will be executed as-is. Please report this to the AutgoGraph team. When filing the bug, set the verbosity to 10 (on Linux, `export AUTOGRAPH_VERBOSITY=10`) and attach the full output. Cause: converting <bound method Dense.call of <tensorflow.python.layers.core.Dense object at 0x7fbe6b7bb2d0>>: AttributeError: module 'gast' has no attribute 'Index'\n",
            "WARNING: Entity <bound method Dense.call of <tensorflow.python.layers.core.Dense object at 0x7fbe6b7bb2d0>> could not be transformed and will be executed as-is. Please report this to the AutgoGraph team. When filing the bug, set the verbosity to 10 (on Linux, `export AUTOGRAPH_VERBOSITY=10`) and attach the full output. Cause: converting <bound method Dense.call of <tensorflow.python.layers.core.Dense object at 0x7fbe6b7bb2d0>>: AttributeError: module 'gast' has no attribute 'Index'\n",
            "WARNING:tensorflow:Entity <bound method Dense.call of <tensorflow.python.layers.core.Dense object at 0x7fbe6b674c10>> could not be transformed and will be executed as-is. Please report this to the AutgoGraph team. When filing the bug, set the verbosity to 10 (on Linux, `export AUTOGRAPH_VERBOSITY=10`) and attach the full output. Cause: converting <bound method Dense.call of <tensorflow.python.layers.core.Dense object at 0x7fbe6b674c10>>: AttributeError: module 'gast' has no attribute 'Index'\n",
            "WARNING: Entity <bound method Dense.call of <tensorflow.python.layers.core.Dense object at 0x7fbe6b674c10>> could not be transformed and will be executed as-is. Please report this to the AutgoGraph team. When filing the bug, set the verbosity to 10 (on Linux, `export AUTOGRAPH_VERBOSITY=10`) and attach the full output. Cause: converting <bound method Dense.call of <tensorflow.python.layers.core.Dense object at 0x7fbe6b674c10>>: AttributeError: module 'gast' has no attribute 'Index'\n",
            "WARNING:tensorflow:Entity <bound method Dense.call of <tensorflow.python.layers.core.Dense object at 0x7fbe6b5ed250>> could not be transformed and will be executed as-is. Please report this to the AutgoGraph team. When filing the bug, set the verbosity to 10 (on Linux, `export AUTOGRAPH_VERBOSITY=10`) and attach the full output. Cause: converting <bound method Dense.call of <tensorflow.python.layers.core.Dense object at 0x7fbe6b5ed250>>: AttributeError: module 'gast' has no attribute 'Index'\n",
            "WARNING: Entity <bound method Dense.call of <tensorflow.python.layers.core.Dense object at 0x7fbe6b5ed250>> could not be transformed and will be executed as-is. Please report this to the AutgoGraph team. When filing the bug, set the verbosity to 10 (on Linux, `export AUTOGRAPH_VERBOSITY=10`) and attach the full output. Cause: converting <bound method Dense.call of <tensorflow.python.layers.core.Dense object at 0x7fbe6b5ed250>>: AttributeError: module 'gast' has no attribute 'Index'\n",
            "WARNING:tensorflow:Entity <bound method Dense.call of <tensorflow.python.layers.core.Dense object at 0x7fbe6b674850>> could not be transformed and will be executed as-is. Please report this to the AutgoGraph team. When filing the bug, set the verbosity to 10 (on Linux, `export AUTOGRAPH_VERBOSITY=10`) and attach the full output. Cause: converting <bound method Dense.call of <tensorflow.python.layers.core.Dense object at 0x7fbe6b674850>>: AttributeError: module 'gast' has no attribute 'Index'\n",
            "WARNING: Entity <bound method Dense.call of <tensorflow.python.layers.core.Dense object at 0x7fbe6b674850>> could not be transformed and will be executed as-is. Please report this to the AutgoGraph team. When filing the bug, set the verbosity to 10 (on Linux, `export AUTOGRAPH_VERBOSITY=10`) and attach the full output. Cause: converting <bound method Dense.call of <tensorflow.python.layers.core.Dense object at 0x7fbe6b674850>>: AttributeError: module 'gast' has no attribute 'Index'\n",
            "WARNING:tensorflow:Entity <bound method Dense.call of <tensorflow.python.layers.core.Dense object at 0x7fbe6b65e710>> could not be transformed and will be executed as-is. Please report this to the AutgoGraph team. When filing the bug, set the verbosity to 10 (on Linux, `export AUTOGRAPH_VERBOSITY=10`) and attach the full output. Cause: converting <bound method Dense.call of <tensorflow.python.layers.core.Dense object at 0x7fbe6b65e710>>: AttributeError: module 'gast' has no attribute 'Index'\n",
            "WARNING: Entity <bound method Dense.call of <tensorflow.python.layers.core.Dense object at 0x7fbe6b65e710>> could not be transformed and will be executed as-is. Please report this to the AutgoGraph team. When filing the bug, set the verbosity to 10 (on Linux, `export AUTOGRAPH_VERBOSITY=10`) and attach the full output. Cause: converting <bound method Dense.call of <tensorflow.python.layers.core.Dense object at 0x7fbe6b65e710>>: AttributeError: module 'gast' has no attribute 'Index'\n",
            "WARNING:tensorflow:Entity <bound method Dense.call of <tensorflow.python.layers.core.Dense object at 0x7fbe6b5ec950>> could not be transformed and will be executed as-is. Please report this to the AutgoGraph team. When filing the bug, set the verbosity to 10 (on Linux, `export AUTOGRAPH_VERBOSITY=10`) and attach the full output. Cause: converting <bound method Dense.call of <tensorflow.python.layers.core.Dense object at 0x7fbe6b5ec950>>: AttributeError: module 'gast' has no attribute 'Index'\n",
            "WARNING: Entity <bound method Dense.call of <tensorflow.python.layers.core.Dense object at 0x7fbe6b5ec950>> could not be transformed and will be executed as-is. Please report this to the AutgoGraph team. When filing the bug, set the verbosity to 10 (on Linux, `export AUTOGRAPH_VERBOSITY=10`) and attach the full output. Cause: converting <bound method Dense.call of <tensorflow.python.layers.core.Dense object at 0x7fbe6b5ec950>>: AttributeError: module 'gast' has no attribute 'Index'\n",
            "WARNING:tensorflow:Entity <bound method Dense.call of <tensorflow.python.layers.core.Dense object at 0x7fbe6b4eb990>> could not be transformed and will be executed as-is. Please report this to the AutgoGraph team. When filing the bug, set the verbosity to 10 (on Linux, `export AUTOGRAPH_VERBOSITY=10`) and attach the full output. Cause: converting <bound method Dense.call of <tensorflow.python.layers.core.Dense object at 0x7fbe6b4eb990>>: AttributeError: module 'gast' has no attribute 'Index'\n",
            "WARNING: Entity <bound method Dense.call of <tensorflow.python.layers.core.Dense object at 0x7fbe6b4eb990>> could not be transformed and will be executed as-is. Please report this to the AutgoGraph team. When filing the bug, set the verbosity to 10 (on Linux, `export AUTOGRAPH_VERBOSITY=10`) and attach the full output. Cause: converting <bound method Dense.call of <tensorflow.python.layers.core.Dense object at 0x7fbe6b4eb990>>: AttributeError: module 'gast' has no attribute 'Index'\n",
            "WARNING:tensorflow:Entity <bound method Dense.call of <tensorflow.python.layers.core.Dense object at 0x7fbe6b568310>> could not be transformed and will be executed as-is. Please report this to the AutgoGraph team. When filing the bug, set the verbosity to 10 (on Linux, `export AUTOGRAPH_VERBOSITY=10`) and attach the full output. Cause: converting <bound method Dense.call of <tensorflow.python.layers.core.Dense object at 0x7fbe6b568310>>: AttributeError: module 'gast' has no attribute 'Index'\n",
            "WARNING: Entity <bound method Dense.call of <tensorflow.python.layers.core.Dense object at 0x7fbe6b568310>> could not be transformed and will be executed as-is. Please report this to the AutgoGraph team. When filing the bug, set the verbosity to 10 (on Linux, `export AUTOGRAPH_VERBOSITY=10`) and attach the full output. Cause: converting <bound method Dense.call of <tensorflow.python.layers.core.Dense object at 0x7fbe6b568310>>: AttributeError: module 'gast' has no attribute 'Index'\n",
            "WARNING:tensorflow:Entity <bound method Dense.call of <tensorflow.python.layers.core.Dense object at 0x7fbe6b674050>> could not be transformed and will be executed as-is. Please report this to the AutgoGraph team. When filing the bug, set the verbosity to 10 (on Linux, `export AUTOGRAPH_VERBOSITY=10`) and attach the full output. Cause: converting <bound method Dense.call of <tensorflow.python.layers.core.Dense object at 0x7fbe6b674050>>: AttributeError: module 'gast' has no attribute 'Index'\n",
            "WARNING: Entity <bound method Dense.call of <tensorflow.python.layers.core.Dense object at 0x7fbe6b674050>> could not be transformed and will be executed as-is. Please report this to the AutgoGraph team. When filing the bug, set the verbosity to 10 (on Linux, `export AUTOGRAPH_VERBOSITY=10`) and attach the full output. Cause: converting <bound method Dense.call of <tensorflow.python.layers.core.Dense object at 0x7fbe6b674050>>: AttributeError: module 'gast' has no attribute 'Index'\n",
            "WARNING:tensorflow:Entity <bound method Dense.call of <tensorflow.python.layers.core.Dense object at 0x7fbe6b674910>> could not be transformed and will be executed as-is. Please report this to the AutgoGraph team. When filing the bug, set the verbosity to 10 (on Linux, `export AUTOGRAPH_VERBOSITY=10`) and attach the full output. Cause: converting <bound method Dense.call of <tensorflow.python.layers.core.Dense object at 0x7fbe6b674910>>: AttributeError: module 'gast' has no attribute 'Index'\n",
            "WARNING: Entity <bound method Dense.call of <tensorflow.python.layers.core.Dense object at 0x7fbe6b674910>> could not be transformed and will be executed as-is. Please report this to the AutgoGraph team. When filing the bug, set the verbosity to 10 (on Linux, `export AUTOGRAPH_VERBOSITY=10`) and attach the full output. Cause: converting <bound method Dense.call of <tensorflow.python.layers.core.Dense object at 0x7fbe6b674910>>: AttributeError: module 'gast' has no attribute 'Index'\n",
            "WARNING:tensorflow:Entity <bound method Dense.call of <tensorflow.python.layers.core.Dense object at 0x7fbe6b2b8dd0>> could not be transformed and will be executed as-is. Please report this to the AutgoGraph team. When filing the bug, set the verbosity to 10 (on Linux, `export AUTOGRAPH_VERBOSITY=10`) and attach the full output. Cause: converting <bound method Dense.call of <tensorflow.python.layers.core.Dense object at 0x7fbe6b2b8dd0>>: AttributeError: module 'gast' has no attribute 'Index'\n",
            "WARNING: Entity <bound method Dense.call of <tensorflow.python.layers.core.Dense object at 0x7fbe6b2b8dd0>> could not be transformed and will be executed as-is. Please report this to the AutgoGraph team. When filing the bug, set the verbosity to 10 (on Linux, `export AUTOGRAPH_VERBOSITY=10`) and attach the full output. Cause: converting <bound method Dense.call of <tensorflow.python.layers.core.Dense object at 0x7fbe6b2b8dd0>>: AttributeError: module 'gast' has no attribute 'Index'\n",
            "WARNING:tensorflow:Entity <bound method Dense.call of <tensorflow.python.layers.core.Dense object at 0x7fbe6b1ed650>> could not be transformed and will be executed as-is. Please report this to the AutgoGraph team. When filing the bug, set the verbosity to 10 (on Linux, `export AUTOGRAPH_VERBOSITY=10`) and attach the full output. Cause: converting <bound method Dense.call of <tensorflow.python.layers.core.Dense object at 0x7fbe6b1ed650>>: AttributeError: module 'gast' has no attribute 'Index'\n",
            "WARNING: Entity <bound method Dense.call of <tensorflow.python.layers.core.Dense object at 0x7fbe6b1ed650>> could not be transformed and will be executed as-is. Please report this to the AutgoGraph team. When filing the bug, set the verbosity to 10 (on Linux, `export AUTOGRAPH_VERBOSITY=10`) and attach the full output. Cause: converting <bound method Dense.call of <tensorflow.python.layers.core.Dense object at 0x7fbe6b1ed650>>: AttributeError: module 'gast' has no attribute 'Index'\n",
            "WARNING:tensorflow:Entity <bound method Dense.call of <tensorflow.python.layers.core.Dense object at 0x7fbe6b2bedd0>> could not be transformed and will be executed as-is. Please report this to the AutgoGraph team. When filing the bug, set the verbosity to 10 (on Linux, `export AUTOGRAPH_VERBOSITY=10`) and attach the full output. Cause: converting <bound method Dense.call of <tensorflow.python.layers.core.Dense object at 0x7fbe6b2bedd0>>: AttributeError: module 'gast' has no attribute 'Index'\n",
            "WARNING: Entity <bound method Dense.call of <tensorflow.python.layers.core.Dense object at 0x7fbe6b2bedd0>> could not be transformed and will be executed as-is. Please report this to the AutgoGraph team. When filing the bug, set the verbosity to 10 (on Linux, `export AUTOGRAPH_VERBOSITY=10`) and attach the full output. Cause: converting <bound method Dense.call of <tensorflow.python.layers.core.Dense object at 0x7fbe6b2bedd0>>: AttributeError: module 'gast' has no attribute 'Index'\n",
            "WARNING:tensorflow:Entity <bound method Dense.call of <tensorflow.python.layers.core.Dense object at 0x7fbe6d912cd0>> could not be transformed and will be executed as-is. Please report this to the AutgoGraph team. When filing the bug, set the verbosity to 10 (on Linux, `export AUTOGRAPH_VERBOSITY=10`) and attach the full output. Cause: converting <bound method Dense.call of <tensorflow.python.layers.core.Dense object at 0x7fbe6d912cd0>>: AttributeError: module 'gast' has no attribute 'Index'\n",
            "WARNING: Entity <bound method Dense.call of <tensorflow.python.layers.core.Dense object at 0x7fbe6d912cd0>> could not be transformed and will be executed as-is. Please report this to the AutgoGraph team. When filing the bug, set the verbosity to 10 (on Linux, `export AUTOGRAPH_VERBOSITY=10`) and attach the full output. Cause: converting <bound method Dense.call of <tensorflow.python.layers.core.Dense object at 0x7fbe6d912cd0>>: AttributeError: module 'gast' has no attribute 'Index'\n",
            "WARNING:tensorflow:Entity <bound method Dense.call of <tensorflow.python.layers.core.Dense object at 0x7fbe6b674150>> could not be transformed and will be executed as-is. Please report this to the AutgoGraph team. When filing the bug, set the verbosity to 10 (on Linux, `export AUTOGRAPH_VERBOSITY=10`) and attach the full output. Cause: converting <bound method Dense.call of <tensorflow.python.layers.core.Dense object at 0x7fbe6b674150>>: AttributeError: module 'gast' has no attribute 'Index'\n",
            "WARNING: Entity <bound method Dense.call of <tensorflow.python.layers.core.Dense object at 0x7fbe6b674150>> could not be transformed and will be executed as-is. Please report this to the AutgoGraph team. When filing the bug, set the verbosity to 10 (on Linux, `export AUTOGRAPH_VERBOSITY=10`) and attach the full output. Cause: converting <bound method Dense.call of <tensorflow.python.layers.core.Dense object at 0x7fbe6b674150>>: AttributeError: module 'gast' has no attribute 'Index'\n",
            "WARNING:tensorflow:Entity <bound method Dense.call of <tensorflow.python.layers.core.Dense object at 0x7fbe6b6748d0>> could not be transformed and will be executed as-is. Please report this to the AutgoGraph team. When filing the bug, set the verbosity to 10 (on Linux, `export AUTOGRAPH_VERBOSITY=10`) and attach the full output. Cause: converting <bound method Dense.call of <tensorflow.python.layers.core.Dense object at 0x7fbe6b6748d0>>: AttributeError: module 'gast' has no attribute 'Index'\n",
            "WARNING: Entity <bound method Dense.call of <tensorflow.python.layers.core.Dense object at 0x7fbe6b6748d0>> could not be transformed and will be executed as-is. Please report this to the AutgoGraph team. When filing the bug, set the verbosity to 10 (on Linux, `export AUTOGRAPH_VERBOSITY=10`) and attach the full output. Cause: converting <bound method Dense.call of <tensorflow.python.layers.core.Dense object at 0x7fbe6b6748d0>>: AttributeError: module 'gast' has no attribute 'Index'\n",
            "WARNING:tensorflow:Entity <bound method Dense.call of <tensorflow.python.layers.core.Dense object at 0x7fbe6b101150>> could not be transformed and will be executed as-is. Please report this to the AutgoGraph team. When filing the bug, set the verbosity to 10 (on Linux, `export AUTOGRAPH_VERBOSITY=10`) and attach the full output. Cause: converting <bound method Dense.call of <tensorflow.python.layers.core.Dense object at 0x7fbe6b101150>>: AttributeError: module 'gast' has no attribute 'Index'\n",
            "WARNING: Entity <bound method Dense.call of <tensorflow.python.layers.core.Dense object at 0x7fbe6b101150>> could not be transformed and will be executed as-is. Please report this to the AutgoGraph team. When filing the bug, set the verbosity to 10 (on Linux, `export AUTOGRAPH_VERBOSITY=10`) and attach the full output. Cause: converting <bound method Dense.call of <tensorflow.python.layers.core.Dense object at 0x7fbe6b101150>>: AttributeError: module 'gast' has no attribute 'Index'\n",
            "WARNING:tensorflow:Entity <bound method Dense.call of <tensorflow.python.layers.core.Dense object at 0x7fbe6b667290>> could not be transformed and will be executed as-is. Please report this to the AutgoGraph team. When filing the bug, set the verbosity to 10 (on Linux, `export AUTOGRAPH_VERBOSITY=10`) and attach the full output. Cause: converting <bound method Dense.call of <tensorflow.python.layers.core.Dense object at 0x7fbe6b667290>>: AttributeError: module 'gast' has no attribute 'Index'\n",
            "WARNING: Entity <bound method Dense.call of <tensorflow.python.layers.core.Dense object at 0x7fbe6b667290>> could not be transformed and will be executed as-is. Please report this to the AutgoGraph team. When filing the bug, set the verbosity to 10 (on Linux, `export AUTOGRAPH_VERBOSITY=10`) and attach the full output. Cause: converting <bound method Dense.call of <tensorflow.python.layers.core.Dense object at 0x7fbe6b667290>>: AttributeError: module 'gast' has no attribute 'Index'\n",
            "WARNING:tensorflow:Entity <bound method Dense.call of <tensorflow.python.layers.core.Dense object at 0x7fbe6b195250>> could not be transformed and will be executed as-is. Please report this to the AutgoGraph team. When filing the bug, set the verbosity to 10 (on Linux, `export AUTOGRAPH_VERBOSITY=10`) and attach the full output. Cause: converting <bound method Dense.call of <tensorflow.python.layers.core.Dense object at 0x7fbe6b195250>>: AttributeError: module 'gast' has no attribute 'Index'\n",
            "WARNING: Entity <bound method Dense.call of <tensorflow.python.layers.core.Dense object at 0x7fbe6b195250>> could not be transformed and will be executed as-is. Please report this to the AutgoGraph team. When filing the bug, set the verbosity to 10 (on Linux, `export AUTOGRAPH_VERBOSITY=10`) and attach the full output. Cause: converting <bound method Dense.call of <tensorflow.python.layers.core.Dense object at 0x7fbe6b195250>>: AttributeError: module 'gast' has no attribute 'Index'\n",
            "WARNING:tensorflow:Entity <bound method Dense.call of <tensorflow.python.layers.core.Dense object at 0x7fbe6b231f50>> could not be transformed and will be executed as-is. Please report this to the AutgoGraph team. When filing the bug, set the verbosity to 10 (on Linux, `export AUTOGRAPH_VERBOSITY=10`) and attach the full output. Cause: converting <bound method Dense.call of <tensorflow.python.layers.core.Dense object at 0x7fbe6b231f50>>: AttributeError: module 'gast' has no attribute 'Index'\n",
            "WARNING: Entity <bound method Dense.call of <tensorflow.python.layers.core.Dense object at 0x7fbe6b231f50>> could not be transformed and will be executed as-is. Please report this to the AutgoGraph team. When filing the bug, set the verbosity to 10 (on Linux, `export AUTOGRAPH_VERBOSITY=10`) and attach the full output. Cause: converting <bound method Dense.call of <tensorflow.python.layers.core.Dense object at 0x7fbe6b231f50>>: AttributeError: module 'gast' has no attribute 'Index'\n",
            "WARNING:tensorflow:Entity <bound method Dense.call of <tensorflow.python.layers.core.Dense object at 0x7fbe6b6746d0>> could not be transformed and will be executed as-is. Please report this to the AutgoGraph team. When filing the bug, set the verbosity to 10 (on Linux, `export AUTOGRAPH_VERBOSITY=10`) and attach the full output. Cause: converting <bound method Dense.call of <tensorflow.python.layers.core.Dense object at 0x7fbe6b6746d0>>: AttributeError: module 'gast' has no attribute 'Index'\n",
            "WARNING: Entity <bound method Dense.call of <tensorflow.python.layers.core.Dense object at 0x7fbe6b6746d0>> could not be transformed and will be executed as-is. Please report this to the AutgoGraph team. When filing the bug, set the verbosity to 10 (on Linux, `export AUTOGRAPH_VERBOSITY=10`) and attach the full output. Cause: converting <bound method Dense.call of <tensorflow.python.layers.core.Dense object at 0x7fbe6b6746d0>>: AttributeError: module 'gast' has no attribute 'Index'\n",
            "WARNING:tensorflow:Entity <bound method Dense.call of <tensorflow.python.layers.core.Dense object at 0x7fbe7455a950>> could not be transformed and will be executed as-is. Please report this to the AutgoGraph team. When filing the bug, set the verbosity to 10 (on Linux, `export AUTOGRAPH_VERBOSITY=10`) and attach the full output. Cause: converting <bound method Dense.call of <tensorflow.python.layers.core.Dense object at 0x7fbe7455a950>>: AttributeError: module 'gast' has no attribute 'Index'\n",
            "WARNING: Entity <bound method Dense.call of <tensorflow.python.layers.core.Dense object at 0x7fbe7455a950>> could not be transformed and will be executed as-is. Please report this to the AutgoGraph team. When filing the bug, set the verbosity to 10 (on Linux, `export AUTOGRAPH_VERBOSITY=10`) and attach the full output. Cause: converting <bound method Dense.call of <tensorflow.python.layers.core.Dense object at 0x7fbe7455a950>>: AttributeError: module 'gast' has no attribute 'Index'\n",
            "WARNING:tensorflow:Entity <bound method Dense.call of <tensorflow.python.layers.core.Dense object at 0x7fbe6ad6fed0>> could not be transformed and will be executed as-is. Please report this to the AutgoGraph team. When filing the bug, set the verbosity to 10 (on Linux, `export AUTOGRAPH_VERBOSITY=10`) and attach the full output. Cause: converting <bound method Dense.call of <tensorflow.python.layers.core.Dense object at 0x7fbe6ad6fed0>>: AttributeError: module 'gast' has no attribute 'Index'\n",
            "WARNING: Entity <bound method Dense.call of <tensorflow.python.layers.core.Dense object at 0x7fbe6ad6fed0>> could not be transformed and will be executed as-is. Please report this to the AutgoGraph team. When filing the bug, set the verbosity to 10 (on Linux, `export AUTOGRAPH_VERBOSITY=10`) and attach the full output. Cause: converting <bound method Dense.call of <tensorflow.python.layers.core.Dense object at 0x7fbe6ad6fed0>>: AttributeError: module 'gast' has no attribute 'Index'\n",
            "WARNING:tensorflow:Entity <bound method Dense.call of <tensorflow.python.layers.core.Dense object at 0x7fbe6ad74d50>> could not be transformed and will be executed as-is. Please report this to the AutgoGraph team. When filing the bug, set the verbosity to 10 (on Linux, `export AUTOGRAPH_VERBOSITY=10`) and attach the full output. Cause: converting <bound method Dense.call of <tensorflow.python.layers.core.Dense object at 0x7fbe6ad74d50>>: AttributeError: module 'gast' has no attribute 'Index'\n",
            "WARNING: Entity <bound method Dense.call of <tensorflow.python.layers.core.Dense object at 0x7fbe6ad74d50>> could not be transformed and will be executed as-is. Please report this to the AutgoGraph team. When filing the bug, set the verbosity to 10 (on Linux, `export AUTOGRAPH_VERBOSITY=10`) and attach the full output. Cause: converting <bound method Dense.call of <tensorflow.python.layers.core.Dense object at 0x7fbe6ad74d50>>: AttributeError: module 'gast' has no attribute 'Index'\n",
            "WARNING:tensorflow:Entity <bound method Dense.call of <tensorflow.python.layers.core.Dense object at 0x7fbe6af17d10>> could not be transformed and will be executed as-is. Please report this to the AutgoGraph team. When filing the bug, set the verbosity to 10 (on Linux, `export AUTOGRAPH_VERBOSITY=10`) and attach the full output. Cause: converting <bound method Dense.call of <tensorflow.python.layers.core.Dense object at 0x7fbe6af17d10>>: AttributeError: module 'gast' has no attribute 'Index'\n",
            "WARNING: Entity <bound method Dense.call of <tensorflow.python.layers.core.Dense object at 0x7fbe6af17d10>> could not be transformed and will be executed as-is. Please report this to the AutgoGraph team. When filing the bug, set the verbosity to 10 (on Linux, `export AUTOGRAPH_VERBOSITY=10`) and attach the full output. Cause: converting <bound method Dense.call of <tensorflow.python.layers.core.Dense object at 0x7fbe6af17d10>>: AttributeError: module 'gast' has no attribute 'Index'\n",
            "WARNING:tensorflow:Entity <bound method Dense.call of <tensorflow.python.layers.core.Dense object at 0x7fbe6ae64b90>> could not be transformed and will be executed as-is. Please report this to the AutgoGraph team. When filing the bug, set the verbosity to 10 (on Linux, `export AUTOGRAPH_VERBOSITY=10`) and attach the full output. Cause: converting <bound method Dense.call of <tensorflow.python.layers.core.Dense object at 0x7fbe6ae64b90>>: AttributeError: module 'gast' has no attribute 'Index'\n",
            "WARNING: Entity <bound method Dense.call of <tensorflow.python.layers.core.Dense object at 0x7fbe6ae64b90>> could not be transformed and will be executed as-is. Please report this to the AutgoGraph team. When filing the bug, set the verbosity to 10 (on Linux, `export AUTOGRAPH_VERBOSITY=10`) and attach the full output. Cause: converting <bound method Dense.call of <tensorflow.python.layers.core.Dense object at 0x7fbe6ae64b90>>: AttributeError: module 'gast' has no attribute 'Index'\n",
            "WARNING:tensorflow:Entity <bound method Dense.call of <tensorflow.python.layers.core.Dense object at 0x7fbe6b65e990>> could not be transformed and will be executed as-is. Please report this to the AutgoGraph team. When filing the bug, set the verbosity to 10 (on Linux, `export AUTOGRAPH_VERBOSITY=10`) and attach the full output. Cause: converting <bound method Dense.call of <tensorflow.python.layers.core.Dense object at 0x7fbe6b65e990>>: AttributeError: module 'gast' has no attribute 'Index'\n",
            "WARNING: Entity <bound method Dense.call of <tensorflow.python.layers.core.Dense object at 0x7fbe6b65e990>> could not be transformed and will be executed as-is. Please report this to the AutgoGraph team. When filing the bug, set the verbosity to 10 (on Linux, `export AUTOGRAPH_VERBOSITY=10`) and attach the full output. Cause: converting <bound method Dense.call of <tensorflow.python.layers.core.Dense object at 0x7fbe6b65e990>>: AttributeError: module 'gast' has no attribute 'Index'\n",
            "WARNING:tensorflow:Entity <bound method Dense.call of <tensorflow.python.layers.core.Dense object at 0x7fbe6b3a2c10>> could not be transformed and will be executed as-is. Please report this to the AutgoGraph team. When filing the bug, set the verbosity to 10 (on Linux, `export AUTOGRAPH_VERBOSITY=10`) and attach the full output. Cause: converting <bound method Dense.call of <tensorflow.python.layers.core.Dense object at 0x7fbe6b3a2c10>>: AttributeError: module 'gast' has no attribute 'Index'\n",
            "WARNING: Entity <bound method Dense.call of <tensorflow.python.layers.core.Dense object at 0x7fbe6b3a2c10>> could not be transformed and will be executed as-is. Please report this to the AutgoGraph team. When filing the bug, set the verbosity to 10 (on Linux, `export AUTOGRAPH_VERBOSITY=10`) and attach the full output. Cause: converting <bound method Dense.call of <tensorflow.python.layers.core.Dense object at 0x7fbe6b3a2c10>>: AttributeError: module 'gast' has no attribute 'Index'\n",
            "WARNING:tensorflow:Entity <bound method Dense.call of <tensorflow.python.layers.core.Dense object at 0x7fbe6abb15d0>> could not be transformed and will be executed as-is. Please report this to the AutgoGraph team. When filing the bug, set the verbosity to 10 (on Linux, `export AUTOGRAPH_VERBOSITY=10`) and attach the full output. Cause: converting <bound method Dense.call of <tensorflow.python.layers.core.Dense object at 0x7fbe6abb15d0>>: AttributeError: module 'gast' has no attribute 'Index'\n",
            "WARNING: Entity <bound method Dense.call of <tensorflow.python.layers.core.Dense object at 0x7fbe6abb15d0>> could not be transformed and will be executed as-is. Please report this to the AutgoGraph team. When filing the bug, set the verbosity to 10 (on Linux, `export AUTOGRAPH_VERBOSITY=10`) and attach the full output. Cause: converting <bound method Dense.call of <tensorflow.python.layers.core.Dense object at 0x7fbe6abb15d0>>: AttributeError: module 'gast' has no attribute 'Index'\n",
            "WARNING:tensorflow:Entity <bound method Dense.call of <tensorflow.python.layers.core.Dense object at 0x7fbe6ab3f710>> could not be transformed and will be executed as-is. Please report this to the AutgoGraph team. When filing the bug, set the verbosity to 10 (on Linux, `export AUTOGRAPH_VERBOSITY=10`) and attach the full output. Cause: converting <bound method Dense.call of <tensorflow.python.layers.core.Dense object at 0x7fbe6ab3f710>>: AttributeError: module 'gast' has no attribute 'Index'\n",
            "WARNING: Entity <bound method Dense.call of <tensorflow.python.layers.core.Dense object at 0x7fbe6ab3f710>> could not be transformed and will be executed as-is. Please report this to the AutgoGraph team. When filing the bug, set the verbosity to 10 (on Linux, `export AUTOGRAPH_VERBOSITY=10`) and attach the full output. Cause: converting <bound method Dense.call of <tensorflow.python.layers.core.Dense object at 0x7fbe6ab3f710>>: AttributeError: module 'gast' has no attribute 'Index'\n",
            "WARNING:tensorflow:Entity <bound method Dense.call of <tensorflow.python.layers.core.Dense object at 0x7fbe6ab3f710>> could not be transformed and will be executed as-is. Please report this to the AutgoGraph team. When filing the bug, set the verbosity to 10 (on Linux, `export AUTOGRAPH_VERBOSITY=10`) and attach the full output. Cause: converting <bound method Dense.call of <tensorflow.python.layers.core.Dense object at 0x7fbe6ab3f710>>: AttributeError: module 'gast' has no attribute 'Index'\n",
            "WARNING: Entity <bound method Dense.call of <tensorflow.python.layers.core.Dense object at 0x7fbe6ab3f710>> could not be transformed and will be executed as-is. Please report this to the AutgoGraph team. When filing the bug, set the verbosity to 10 (on Linux, `export AUTOGRAPH_VERBOSITY=10`) and attach the full output. Cause: converting <bound method Dense.call of <tensorflow.python.layers.core.Dense object at 0x7fbe6ab3f710>>: AttributeError: module 'gast' has no attribute 'Index'\n",
            "WARNING:tensorflow:Entity <bound method Dense.call of <tensorflow.python.layers.core.Dense object at 0x7fbe7455a950>> could not be transformed and will be executed as-is. Please report this to the AutgoGraph team. When filing the bug, set the verbosity to 10 (on Linux, `export AUTOGRAPH_VERBOSITY=10`) and attach the full output. Cause: converting <bound method Dense.call of <tensorflow.python.layers.core.Dense object at 0x7fbe7455a950>>: AttributeError: module 'gast' has no attribute 'Index'\n",
            "WARNING: Entity <bound method Dense.call of <tensorflow.python.layers.core.Dense object at 0x7fbe7455a950>> could not be transformed and will be executed as-is. Please report this to the AutgoGraph team. When filing the bug, set the verbosity to 10 (on Linux, `export AUTOGRAPH_VERBOSITY=10`) and attach the full output. Cause: converting <bound method Dense.call of <tensorflow.python.layers.core.Dense object at 0x7fbe7455a950>>: AttributeError: module 'gast' has no attribute 'Index'\n",
            "WARNING:tensorflow:Entity <bound method Dense.call of <tensorflow.python.layers.core.Dense object at 0x7fbe6ad6fd50>> could not be transformed and will be executed as-is. Please report this to the AutgoGraph team. When filing the bug, set the verbosity to 10 (on Linux, `export AUTOGRAPH_VERBOSITY=10`) and attach the full output. Cause: converting <bound method Dense.call of <tensorflow.python.layers.core.Dense object at 0x7fbe6ad6fd50>>: AttributeError: module 'gast' has no attribute 'Index'\n",
            "WARNING: Entity <bound method Dense.call of <tensorflow.python.layers.core.Dense object at 0x7fbe6ad6fd50>> could not be transformed and will be executed as-is. Please report this to the AutgoGraph team. When filing the bug, set the verbosity to 10 (on Linux, `export AUTOGRAPH_VERBOSITY=10`) and attach the full output. Cause: converting <bound method Dense.call of <tensorflow.python.layers.core.Dense object at 0x7fbe6ad6fd50>>: AttributeError: module 'gast' has no attribute 'Index'\n",
            "WARNING:tensorflow:Entity <bound method Dense.call of <tensorflow.python.layers.core.Dense object at 0x7fbe6b3a2fd0>> could not be transformed and will be executed as-is. Please report this to the AutgoGraph team. When filing the bug, set the verbosity to 10 (on Linux, `export AUTOGRAPH_VERBOSITY=10`) and attach the full output. Cause: converting <bound method Dense.call of <tensorflow.python.layers.core.Dense object at 0x7fbe6b3a2fd0>>: AttributeError: module 'gast' has no attribute 'Index'\n",
            "WARNING: Entity <bound method Dense.call of <tensorflow.python.layers.core.Dense object at 0x7fbe6b3a2fd0>> could not be transformed and will be executed as-is. Please report this to the AutgoGraph team. When filing the bug, set the verbosity to 10 (on Linux, `export AUTOGRAPH_VERBOSITY=10`) and attach the full output. Cause: converting <bound method Dense.call of <tensorflow.python.layers.core.Dense object at 0x7fbe6b3a2fd0>>: AttributeError: module 'gast' has no attribute 'Index'\n",
            "WARNING:tensorflow:Entity <bound method Dense.call of <tensorflow.python.layers.core.Dense object at 0x7fbe6aa68d50>> could not be transformed and will be executed as-is. Please report this to the AutgoGraph team. When filing the bug, set the verbosity to 10 (on Linux, `export AUTOGRAPH_VERBOSITY=10`) and attach the full output. Cause: converting <bound method Dense.call of <tensorflow.python.layers.core.Dense object at 0x7fbe6aa68d50>>: AttributeError: module 'gast' has no attribute 'Index'\n",
            "WARNING: Entity <bound method Dense.call of <tensorflow.python.layers.core.Dense object at 0x7fbe6aa68d50>> could not be transformed and will be executed as-is. Please report this to the AutgoGraph team. When filing the bug, set the verbosity to 10 (on Linux, `export AUTOGRAPH_VERBOSITY=10`) and attach the full output. Cause: converting <bound method Dense.call of <tensorflow.python.layers.core.Dense object at 0x7fbe6aa68d50>>: AttributeError: module 'gast' has no attribute 'Index'\n",
            "WARNING:tensorflow:Entity <bound method Dense.call of <tensorflow.python.layers.core.Dense object at 0x7fbe6b471c90>> could not be transformed and will be executed as-is. Please report this to the AutgoGraph team. When filing the bug, set the verbosity to 10 (on Linux, `export AUTOGRAPH_VERBOSITY=10`) and attach the full output. Cause: converting <bound method Dense.call of <tensorflow.python.layers.core.Dense object at 0x7fbe6b471c90>>: AttributeError: module 'gast' has no attribute 'Index'\n",
            "WARNING: Entity <bound method Dense.call of <tensorflow.python.layers.core.Dense object at 0x7fbe6b471c90>> could not be transformed and will be executed as-is. Please report this to the AutgoGraph team. When filing the bug, set the verbosity to 10 (on Linux, `export AUTOGRAPH_VERBOSITY=10`) and attach the full output. Cause: converting <bound method Dense.call of <tensorflow.python.layers.core.Dense object at 0x7fbe6b471c90>>: AttributeError: module 'gast' has no attribute 'Index'\n",
            "WARNING:tensorflow:Entity <bound method Dense.call of <tensorflow.python.layers.core.Dense object at 0x7fbe6b471c90>> could not be transformed and will be executed as-is. Please report this to the AutgoGraph team. When filing the bug, set the verbosity to 10 (on Linux, `export AUTOGRAPH_VERBOSITY=10`) and attach the full output. Cause: converting <bound method Dense.call of <tensorflow.python.layers.core.Dense object at 0x7fbe6b471c90>>: AttributeError: module 'gast' has no attribute 'Index'\n",
            "WARNING: Entity <bound method Dense.call of <tensorflow.python.layers.core.Dense object at 0x7fbe6b471c90>> could not be transformed and will be executed as-is. Please report this to the AutgoGraph team. When filing the bug, set the verbosity to 10 (on Linux, `export AUTOGRAPH_VERBOSITY=10`) and attach the full output. Cause: converting <bound method Dense.call of <tensorflow.python.layers.core.Dense object at 0x7fbe6b471c90>>: AttributeError: module 'gast' has no attribute 'Index'\n",
            "WARNING:tensorflow:Entity <bound method Dense.call of <tensorflow.python.layers.core.Dense object at 0x7fbe6acc5a50>> could not be transformed and will be executed as-is. Please report this to the AutgoGraph team. When filing the bug, set the verbosity to 10 (on Linux, `export AUTOGRAPH_VERBOSITY=10`) and attach the full output. Cause: converting <bound method Dense.call of <tensorflow.python.layers.core.Dense object at 0x7fbe6acc5a50>>: AttributeError: module 'gast' has no attribute 'Index'\n",
            "WARNING: Entity <bound method Dense.call of <tensorflow.python.layers.core.Dense object at 0x7fbe6acc5a50>> could not be transformed and will be executed as-is. Please report this to the AutgoGraph team. When filing the bug, set the verbosity to 10 (on Linux, `export AUTOGRAPH_VERBOSITY=10`) and attach the full output. Cause: converting <bound method Dense.call of <tensorflow.python.layers.core.Dense object at 0x7fbe6acc5a50>>: AttributeError: module 'gast' has no attribute 'Index'\n",
            "WARNING:tensorflow:Entity <bound method Dense.call of <tensorflow.python.layers.core.Dense object at 0x7fbe6ad6d190>> could not be transformed and will be executed as-is. Please report this to the AutgoGraph team. When filing the bug, set the verbosity to 10 (on Linux, `export AUTOGRAPH_VERBOSITY=10`) and attach the full output. Cause: converting <bound method Dense.call of <tensorflow.python.layers.core.Dense object at 0x7fbe6ad6d190>>: AttributeError: module 'gast' has no attribute 'Index'\n",
            "WARNING: Entity <bound method Dense.call of <tensorflow.python.layers.core.Dense object at 0x7fbe6ad6d190>> could not be transformed and will be executed as-is. Please report this to the AutgoGraph team. When filing the bug, set the verbosity to 10 (on Linux, `export AUTOGRAPH_VERBOSITY=10`) and attach the full output. Cause: converting <bound method Dense.call of <tensorflow.python.layers.core.Dense object at 0x7fbe6ad6d190>>: AttributeError: module 'gast' has no attribute 'Index'\n",
            "WARNING:tensorflow:Entity <bound method Dense.call of <tensorflow.python.layers.core.Dense object at 0x7fbe6aae5510>> could not be transformed and will be executed as-is. Please report this to the AutgoGraph team. When filing the bug, set the verbosity to 10 (on Linux, `export AUTOGRAPH_VERBOSITY=10`) and attach the full output. Cause: converting <bound method Dense.call of <tensorflow.python.layers.core.Dense object at 0x7fbe6aae5510>>: AttributeError: module 'gast' has no attribute 'Index'\n",
            "WARNING: Entity <bound method Dense.call of <tensorflow.python.layers.core.Dense object at 0x7fbe6aae5510>> could not be transformed and will be executed as-is. Please report this to the AutgoGraph team. When filing the bug, set the verbosity to 10 (on Linux, `export AUTOGRAPH_VERBOSITY=10`) and attach the full output. Cause: converting <bound method Dense.call of <tensorflow.python.layers.core.Dense object at 0x7fbe6aae5510>>: AttributeError: module 'gast' has no attribute 'Index'\n",
            "WARNING:tensorflow:Entity <bound method Dense.call of <tensorflow.python.layers.core.Dense object at 0x7fbe6a7c2210>> could not be transformed and will be executed as-is. Please report this to the AutgoGraph team. When filing the bug, set the verbosity to 10 (on Linux, `export AUTOGRAPH_VERBOSITY=10`) and attach the full output. Cause: converting <bound method Dense.call of <tensorflow.python.layers.core.Dense object at 0x7fbe6a7c2210>>: AttributeError: module 'gast' has no attribute 'Index'\n",
            "WARNING: Entity <bound method Dense.call of <tensorflow.python.layers.core.Dense object at 0x7fbe6a7c2210>> could not be transformed and will be executed as-is. Please report this to the AutgoGraph team. When filing the bug, set the verbosity to 10 (on Linux, `export AUTOGRAPH_VERBOSITY=10`) and attach the full output. Cause: converting <bound method Dense.call of <tensorflow.python.layers.core.Dense object at 0x7fbe6a7c2210>>: AttributeError: module 'gast' has no attribute 'Index'\n",
            "WARNING:tensorflow:Entity <bound method Dense.call of <tensorflow.python.layers.core.Dense object at 0x7fbe6a8562d0>> could not be transformed and will be executed as-is. Please report this to the AutgoGraph team. When filing the bug, set the verbosity to 10 (on Linux, `export AUTOGRAPH_VERBOSITY=10`) and attach the full output. Cause: converting <bound method Dense.call of <tensorflow.python.layers.core.Dense object at 0x7fbe6a8562d0>>: AttributeError: module 'gast' has no attribute 'Index'\n",
            "WARNING: Entity <bound method Dense.call of <tensorflow.python.layers.core.Dense object at 0x7fbe6a8562d0>> could not be transformed and will be executed as-is. Please report this to the AutgoGraph team. When filing the bug, set the verbosity to 10 (on Linux, `export AUTOGRAPH_VERBOSITY=10`) and attach the full output. Cause: converting <bound method Dense.call of <tensorflow.python.layers.core.Dense object at 0x7fbe6a8562d0>>: AttributeError: module 'gast' has no attribute 'Index'\n",
            "WARNING:tensorflow:Entity <bound method Dense.call of <tensorflow.python.layers.core.Dense object at 0x7fbe6a906210>> could not be transformed and will be executed as-is. Please report this to the AutgoGraph team. When filing the bug, set the verbosity to 10 (on Linux, `export AUTOGRAPH_VERBOSITY=10`) and attach the full output. Cause: converting <bound method Dense.call of <tensorflow.python.layers.core.Dense object at 0x7fbe6a906210>>: AttributeError: module 'gast' has no attribute 'Index'\n",
            "WARNING: Entity <bound method Dense.call of <tensorflow.python.layers.core.Dense object at 0x7fbe6a906210>> could not be transformed and will be executed as-is. Please report this to the AutgoGraph team. When filing the bug, set the verbosity to 10 (on Linux, `export AUTOGRAPH_VERBOSITY=10`) and attach the full output. Cause: converting <bound method Dense.call of <tensorflow.python.layers.core.Dense object at 0x7fbe6a906210>>: AttributeError: module 'gast' has no attribute 'Index'\n",
            "WARNING:tensorflow:Entity <bound method Dense.call of <tensorflow.python.layers.core.Dense object at 0x7fbe6ac7c310>> could not be transformed and will be executed as-is. Please report this to the AutgoGraph team. When filing the bug, set the verbosity to 10 (on Linux, `export AUTOGRAPH_VERBOSITY=10`) and attach the full output. Cause: converting <bound method Dense.call of <tensorflow.python.layers.core.Dense object at 0x7fbe6ac7c310>>: AttributeError: module 'gast' has no attribute 'Index'\n",
            "WARNING: Entity <bound method Dense.call of <tensorflow.python.layers.core.Dense object at 0x7fbe6ac7c310>> could not be transformed and will be executed as-is. Please report this to the AutgoGraph team. When filing the bug, set the verbosity to 10 (on Linux, `export AUTOGRAPH_VERBOSITY=10`) and attach the full output. Cause: converting <bound method Dense.call of <tensorflow.python.layers.core.Dense object at 0x7fbe6ac7c310>>: AttributeError: module 'gast' has no attribute 'Index'\n",
            "WARNING:tensorflow:Entity <bound method Dense.call of <tensorflow.python.layers.core.Dense object at 0x7fbe6ac83e10>> could not be transformed and will be executed as-is. Please report this to the AutgoGraph team. When filing the bug, set the verbosity to 10 (on Linux, `export AUTOGRAPH_VERBOSITY=10`) and attach the full output. Cause: converting <bound method Dense.call of <tensorflow.python.layers.core.Dense object at 0x7fbe6ac83e10>>: AttributeError: module 'gast' has no attribute 'Index'\n",
            "WARNING: Entity <bound method Dense.call of <tensorflow.python.layers.core.Dense object at 0x7fbe6ac83e10>> could not be transformed and will be executed as-is. Please report this to the AutgoGraph team. When filing the bug, set the verbosity to 10 (on Linux, `export AUTOGRAPH_VERBOSITY=10`) and attach the full output. Cause: converting <bound method Dense.call of <tensorflow.python.layers.core.Dense object at 0x7fbe6ac83e10>>: AttributeError: module 'gast' has no attribute 'Index'\n",
            "WARNING:tensorflow:Entity <bound method Dense.call of <tensorflow.python.layers.core.Dense object at 0x7fbe6a7f93d0>> could not be transformed and will be executed as-is. Please report this to the AutgoGraph team. When filing the bug, set the verbosity to 10 (on Linux, `export AUTOGRAPH_VERBOSITY=10`) and attach the full output. Cause: converting <bound method Dense.call of <tensorflow.python.layers.core.Dense object at 0x7fbe6a7f93d0>>: AttributeError: module 'gast' has no attribute 'Index'\n",
            "WARNING: Entity <bound method Dense.call of <tensorflow.python.layers.core.Dense object at 0x7fbe6a7f93d0>> could not be transformed and will be executed as-is. Please report this to the AutgoGraph team. When filing the bug, set the verbosity to 10 (on Linux, `export AUTOGRAPH_VERBOSITY=10`) and attach the full output. Cause: converting <bound method Dense.call of <tensorflow.python.layers.core.Dense object at 0x7fbe6a7f93d0>>: AttributeError: module 'gast' has no attribute 'Index'\n",
            "WARNING:tensorflow:Entity <bound method Dense.call of <tensorflow.python.layers.core.Dense object at 0x7fbe6a430c50>> could not be transformed and will be executed as-is. Please report this to the AutgoGraph team. When filing the bug, set the verbosity to 10 (on Linux, `export AUTOGRAPH_VERBOSITY=10`) and attach the full output. Cause: converting <bound method Dense.call of <tensorflow.python.layers.core.Dense object at 0x7fbe6a430c50>>: AttributeError: module 'gast' has no attribute 'Index'\n",
            "WARNING: Entity <bound method Dense.call of <tensorflow.python.layers.core.Dense object at 0x7fbe6a430c50>> could not be transformed and will be executed as-is. Please report this to the AutgoGraph team. When filing the bug, set the verbosity to 10 (on Linux, `export AUTOGRAPH_VERBOSITY=10`) and attach the full output. Cause: converting <bound method Dense.call of <tensorflow.python.layers.core.Dense object at 0x7fbe6a430c50>>: AttributeError: module 'gast' has no attribute 'Index'\n",
            "WARNING:tensorflow:Entity <bound method Dense.call of <tensorflow.python.layers.core.Dense object at 0x7fbe6a6d80d0>> could not be transformed and will be executed as-is. Please report this to the AutgoGraph team. When filing the bug, set the verbosity to 10 (on Linux, `export AUTOGRAPH_VERBOSITY=10`) and attach the full output. Cause: converting <bound method Dense.call of <tensorflow.python.layers.core.Dense object at 0x7fbe6a6d80d0>>: AttributeError: module 'gast' has no attribute 'Index'\n",
            "WARNING: Entity <bound method Dense.call of <tensorflow.python.layers.core.Dense object at 0x7fbe6a6d80d0>> could not be transformed and will be executed as-is. Please report this to the AutgoGraph team. When filing the bug, set the verbosity to 10 (on Linux, `export AUTOGRAPH_VERBOSITY=10`) and attach the full output. Cause: converting <bound method Dense.call of <tensorflow.python.layers.core.Dense object at 0x7fbe6a6d80d0>>: AttributeError: module 'gast' has no attribute 'Index'\n",
            "WARNING:tensorflow:Entity <bound method Dense.call of <tensorflow.python.layers.core.Dense object at 0x7fbe6a6d80d0>> could not be transformed and will be executed as-is. Please report this to the AutgoGraph team. When filing the bug, set the verbosity to 10 (on Linux, `export AUTOGRAPH_VERBOSITY=10`) and attach the full output. Cause: converting <bound method Dense.call of <tensorflow.python.layers.core.Dense object at 0x7fbe6a6d80d0>>: AttributeError: module 'gast' has no attribute 'Index'\n",
            "WARNING: Entity <bound method Dense.call of <tensorflow.python.layers.core.Dense object at 0x7fbe6a6d80d0>> could not be transformed and will be executed as-is. Please report this to the AutgoGraph team. When filing the bug, set the verbosity to 10 (on Linux, `export AUTOGRAPH_VERBOSITY=10`) and attach the full output. Cause: converting <bound method Dense.call of <tensorflow.python.layers.core.Dense object at 0x7fbe6a6d80d0>>: AttributeError: module 'gast' has no attribute 'Index'\n",
            "WARNING:tensorflow:Entity <bound method Dense.call of <tensorflow.python.layers.core.Dense object at 0x7fbe6a85c3d0>> could not be transformed and will be executed as-is. Please report this to the AutgoGraph team. When filing the bug, set the verbosity to 10 (on Linux, `export AUTOGRAPH_VERBOSITY=10`) and attach the full output. Cause: converting <bound method Dense.call of <tensorflow.python.layers.core.Dense object at 0x7fbe6a85c3d0>>: AttributeError: module 'gast' has no attribute 'Index'\n",
            "WARNING: Entity <bound method Dense.call of <tensorflow.python.layers.core.Dense object at 0x7fbe6a85c3d0>> could not be transformed and will be executed as-is. Please report this to the AutgoGraph team. When filing the bug, set the verbosity to 10 (on Linux, `export AUTOGRAPH_VERBOSITY=10`) and attach the full output. Cause: converting <bound method Dense.call of <tensorflow.python.layers.core.Dense object at 0x7fbe6a85c3d0>>: AttributeError: module 'gast' has no attribute 'Index'\n",
            "WARNING:tensorflow:Entity <bound method Dense.call of <tensorflow.python.layers.core.Dense object at 0x7fbe6a589450>> could not be transformed and will be executed as-is. Please report this to the AutgoGraph team. When filing the bug, set the verbosity to 10 (on Linux, `export AUTOGRAPH_VERBOSITY=10`) and attach the full output. Cause: converting <bound method Dense.call of <tensorflow.python.layers.core.Dense object at 0x7fbe6a589450>>: AttributeError: module 'gast' has no attribute 'Index'\n",
            "WARNING: Entity <bound method Dense.call of <tensorflow.python.layers.core.Dense object at 0x7fbe6a589450>> could not be transformed and will be executed as-is. Please report this to the AutgoGraph team. When filing the bug, set the verbosity to 10 (on Linux, `export AUTOGRAPH_VERBOSITY=10`) and attach the full output. Cause: converting <bound method Dense.call of <tensorflow.python.layers.core.Dense object at 0x7fbe6a589450>>: AttributeError: module 'gast' has no attribute 'Index'\n",
            "WARNING:tensorflow:Entity <bound method Dense.call of <tensorflow.python.layers.core.Dense object at 0x7fbe6a80e3d0>> could not be transformed and will be executed as-is. Please report this to the AutgoGraph team. When filing the bug, set the verbosity to 10 (on Linux, `export AUTOGRAPH_VERBOSITY=10`) and attach the full output. Cause: converting <bound method Dense.call of <tensorflow.python.layers.core.Dense object at 0x7fbe6a80e3d0>>: AttributeError: module 'gast' has no attribute 'Index'\n",
            "WARNING: Entity <bound method Dense.call of <tensorflow.python.layers.core.Dense object at 0x7fbe6a80e3d0>> could not be transformed and will be executed as-is. Please report this to the AutgoGraph team. When filing the bug, set the verbosity to 10 (on Linux, `export AUTOGRAPH_VERBOSITY=10`) and attach the full output. Cause: converting <bound method Dense.call of <tensorflow.python.layers.core.Dense object at 0x7fbe6a80e3d0>>: AttributeError: module 'gast' has no attribute 'Index'\n",
            "WARNING:tensorflow:Entity <bound method Dense.call of <tensorflow.python.layers.core.Dense object at 0x7fbe6a589450>> could not be transformed and will be executed as-is. Please report this to the AutgoGraph team. When filing the bug, set the verbosity to 10 (on Linux, `export AUTOGRAPH_VERBOSITY=10`) and attach the full output. Cause: converting <bound method Dense.call of <tensorflow.python.layers.core.Dense object at 0x7fbe6a589450>>: AttributeError: module 'gast' has no attribute 'Index'\n",
            "WARNING: Entity <bound method Dense.call of <tensorflow.python.layers.core.Dense object at 0x7fbe6a589450>> could not be transformed and will be executed as-is. Please report this to the AutgoGraph team. When filing the bug, set the verbosity to 10 (on Linux, `export AUTOGRAPH_VERBOSITY=10`) and attach the full output. Cause: converting <bound method Dense.call of <tensorflow.python.layers.core.Dense object at 0x7fbe6a589450>>: AttributeError: module 'gast' has no attribute 'Index'\n",
            "WARNING:tensorflow:Entity <bound method Dense.call of <tensorflow.python.layers.core.Dense object at 0x7fbe6a26c490>> could not be transformed and will be executed as-is. Please report this to the AutgoGraph team. When filing the bug, set the verbosity to 10 (on Linux, `export AUTOGRAPH_VERBOSITY=10`) and attach the full output. Cause: converting <bound method Dense.call of <tensorflow.python.layers.core.Dense object at 0x7fbe6a26c490>>: AttributeError: module 'gast' has no attribute 'Index'\n",
            "WARNING: Entity <bound method Dense.call of <tensorflow.python.layers.core.Dense object at 0x7fbe6a26c490>> could not be transformed and will be executed as-is. Please report this to the AutgoGraph team. When filing the bug, set the verbosity to 10 (on Linux, `export AUTOGRAPH_VERBOSITY=10`) and attach the full output. Cause: converting <bound method Dense.call of <tensorflow.python.layers.core.Dense object at 0x7fbe6a26c490>>: AttributeError: module 'gast' has no attribute 'Index'\n",
            "WARNING:tensorflow:Entity <bound method Dense.call of <tensorflow.python.layers.core.Dense object at 0x7fbe6ad34590>> could not be transformed and will be executed as-is. Please report this to the AutgoGraph team. When filing the bug, set the verbosity to 10 (on Linux, `export AUTOGRAPH_VERBOSITY=10`) and attach the full output. Cause: converting <bound method Dense.call of <tensorflow.python.layers.core.Dense object at 0x7fbe6ad34590>>: AttributeError: module 'gast' has no attribute 'Index'\n",
            "WARNING: Entity <bound method Dense.call of <tensorflow.python.layers.core.Dense object at 0x7fbe6ad34590>> could not be transformed and will be executed as-is. Please report this to the AutgoGraph team. When filing the bug, set the verbosity to 10 (on Linux, `export AUTOGRAPH_VERBOSITY=10`) and attach the full output. Cause: converting <bound method Dense.call of <tensorflow.python.layers.core.Dense object at 0x7fbe6ad34590>>: AttributeError: module 'gast' has no attribute 'Index'\n",
            "WARNING:tensorflow:Entity <bound method Dense.call of <tensorflow.python.layers.core.Dense object at 0x7fbe6a26c690>> could not be transformed and will be executed as-is. Please report this to the AutgoGraph team. When filing the bug, set the verbosity to 10 (on Linux, `export AUTOGRAPH_VERBOSITY=10`) and attach the full output. Cause: converting <bound method Dense.call of <tensorflow.python.layers.core.Dense object at 0x7fbe6a26c690>>: AttributeError: module 'gast' has no attribute 'Index'\n",
            "WARNING: Entity <bound method Dense.call of <tensorflow.python.layers.core.Dense object at 0x7fbe6a26c690>> could not be transformed and will be executed as-is. Please report this to the AutgoGraph team. When filing the bug, set the verbosity to 10 (on Linux, `export AUTOGRAPH_VERBOSITY=10`) and attach the full output. Cause: converting <bound method Dense.call of <tensorflow.python.layers.core.Dense object at 0x7fbe6a26c690>>: AttributeError: module 'gast' has no attribute 'Index'\n",
            "WARNING:tensorflow:Entity <bound method Dense.call of <tensorflow.python.layers.core.Dense object at 0x7fbe6a5abd90>> could not be transformed and will be executed as-is. Please report this to the AutgoGraph team. When filing the bug, set the verbosity to 10 (on Linux, `export AUTOGRAPH_VERBOSITY=10`) and attach the full output. Cause: converting <bound method Dense.call of <tensorflow.python.layers.core.Dense object at 0x7fbe6a5abd90>>: AttributeError: module 'gast' has no attribute 'Index'\n",
            "WARNING: Entity <bound method Dense.call of <tensorflow.python.layers.core.Dense object at 0x7fbe6a5abd90>> could not be transformed and will be executed as-is. Please report this to the AutgoGraph team. When filing the bug, set the verbosity to 10 (on Linux, `export AUTOGRAPH_VERBOSITY=10`) and attach the full output. Cause: converting <bound method Dense.call of <tensorflow.python.layers.core.Dense object at 0x7fbe6a5abd90>>: AttributeError: module 'gast' has no attribute 'Index'\n",
            "WARNING:tensorflow:Entity <bound method Dense.call of <tensorflow.python.layers.core.Dense object at 0x7fbe6a270c50>> could not be transformed and will be executed as-is. Please report this to the AutgoGraph team. When filing the bug, set the verbosity to 10 (on Linux, `export AUTOGRAPH_VERBOSITY=10`) and attach the full output. Cause: converting <bound method Dense.call of <tensorflow.python.layers.core.Dense object at 0x7fbe6a270c50>>: AttributeError: module 'gast' has no attribute 'Index'\n",
            "WARNING: Entity <bound method Dense.call of <tensorflow.python.layers.core.Dense object at 0x7fbe6a270c50>> could not be transformed and will be executed as-is. Please report this to the AutgoGraph team. When filing the bug, set the verbosity to 10 (on Linux, `export AUTOGRAPH_VERBOSITY=10`) and attach the full output. Cause: converting <bound method Dense.call of <tensorflow.python.layers.core.Dense object at 0x7fbe6a270c50>>: AttributeError: module 'gast' has no attribute 'Index'\n",
            "WARNING:tensorflow:Entity <bound method Dense.call of <tensorflow.python.layers.core.Dense object at 0x7fbe6ad34390>> could not be transformed and will be executed as-is. Please report this to the AutgoGraph team. When filing the bug, set the verbosity to 10 (on Linux, `export AUTOGRAPH_VERBOSITY=10`) and attach the full output. Cause: converting <bound method Dense.call of <tensorflow.python.layers.core.Dense object at 0x7fbe6ad34390>>: AttributeError: module 'gast' has no attribute 'Index'\n",
            "WARNING: Entity <bound method Dense.call of <tensorflow.python.layers.core.Dense object at 0x7fbe6ad34390>> could not be transformed and will be executed as-is. Please report this to the AutgoGraph team. When filing the bug, set the verbosity to 10 (on Linux, `export AUTOGRAPH_VERBOSITY=10`) and attach the full output. Cause: converting <bound method Dense.call of <tensorflow.python.layers.core.Dense object at 0x7fbe6ad34390>>: AttributeError: module 'gast' has no attribute 'Index'\n",
            "WARNING:tensorflow:Entity <bound method Dense.call of <tensorflow.python.layers.core.Dense object at 0x7fbe6ad34390>> could not be transformed and will be executed as-is. Please report this to the AutgoGraph team. When filing the bug, set the verbosity to 10 (on Linux, `export AUTOGRAPH_VERBOSITY=10`) and attach the full output. Cause: converting <bound method Dense.call of <tensorflow.python.layers.core.Dense object at 0x7fbe6ad34390>>: AttributeError: module 'gast' has no attribute 'Index'\n",
            "WARNING: Entity <bound method Dense.call of <tensorflow.python.layers.core.Dense object at 0x7fbe6ad34390>> could not be transformed and will be executed as-is. Please report this to the AutgoGraph team. When filing the bug, set the verbosity to 10 (on Linux, `export AUTOGRAPH_VERBOSITY=10`) and attach the full output. Cause: converting <bound method Dense.call of <tensorflow.python.layers.core.Dense object at 0x7fbe6ad34390>>: AttributeError: module 'gast' has no attribute 'Index'\n",
            "WARNING:tensorflow:Entity <bound method Dense.call of <tensorflow.python.layers.core.Dense object at 0x7fbe69fc1d90>> could not be transformed and will be executed as-is. Please report this to the AutgoGraph team. When filing the bug, set the verbosity to 10 (on Linux, `export AUTOGRAPH_VERBOSITY=10`) and attach the full output. Cause: converting <bound method Dense.call of <tensorflow.python.layers.core.Dense object at 0x7fbe69fc1d90>>: AttributeError: module 'gast' has no attribute 'Index'\n",
            "WARNING: Entity <bound method Dense.call of <tensorflow.python.layers.core.Dense object at 0x7fbe69fc1d90>> could not be transformed and will be executed as-is. Please report this to the AutgoGraph team. When filing the bug, set the verbosity to 10 (on Linux, `export AUTOGRAPH_VERBOSITY=10`) and attach the full output. Cause: converting <bound method Dense.call of <tensorflow.python.layers.core.Dense object at 0x7fbe69fc1d90>>: AttributeError: module 'gast' has no attribute 'Index'\n",
            "WARNING:tensorflow:Entity <bound method Dense.call of <tensorflow.python.layers.core.Dense object at 0x7fbe6a1f4210>> could not be transformed and will be executed as-is. Please report this to the AutgoGraph team. When filing the bug, set the verbosity to 10 (on Linux, `export AUTOGRAPH_VERBOSITY=10`) and attach the full output. Cause: converting <bound method Dense.call of <tensorflow.python.layers.core.Dense object at 0x7fbe6a1f4210>>: AttributeError: module 'gast' has no attribute 'Index'\n",
            "WARNING: Entity <bound method Dense.call of <tensorflow.python.layers.core.Dense object at 0x7fbe6a1f4210>> could not be transformed and will be executed as-is. Please report this to the AutgoGraph team. When filing the bug, set the verbosity to 10 (on Linux, `export AUTOGRAPH_VERBOSITY=10`) and attach the full output. Cause: converting <bound method Dense.call of <tensorflow.python.layers.core.Dense object at 0x7fbe6a1f4210>>: AttributeError: module 'gast' has no attribute 'Index'\n",
            "WARNING:tensorflow:Entity <bound method Dense.call of <tensorflow.python.layers.core.Dense object at 0x7fbe6a1f1990>> could not be transformed and will be executed as-is. Please report this to the AutgoGraph team. When filing the bug, set the verbosity to 10 (on Linux, `export AUTOGRAPH_VERBOSITY=10`) and attach the full output. Cause: converting <bound method Dense.call of <tensorflow.python.layers.core.Dense object at 0x7fbe6a1f1990>>: AttributeError: module 'gast' has no attribute 'Index'\n",
            "WARNING: Entity <bound method Dense.call of <tensorflow.python.layers.core.Dense object at 0x7fbe6a1f1990>> could not be transformed and will be executed as-is. Please report this to the AutgoGraph team. When filing the bug, set the verbosity to 10 (on Linux, `export AUTOGRAPH_VERBOSITY=10`) and attach the full output. Cause: converting <bound method Dense.call of <tensorflow.python.layers.core.Dense object at 0x7fbe6a1f1990>>: AttributeError: module 'gast' has no attribute 'Index'\n",
            "WARNING:tensorflow:Entity <bound method Dense.call of <tensorflow.python.layers.core.Dense object at 0x7fbe6a037d50>> could not be transformed and will be executed as-is. Please report this to the AutgoGraph team. When filing the bug, set the verbosity to 10 (on Linux, `export AUTOGRAPH_VERBOSITY=10`) and attach the full output. Cause: converting <bound method Dense.call of <tensorflow.python.layers.core.Dense object at 0x7fbe6a037d50>>: AttributeError: module 'gast' has no attribute 'Index'\n",
            "WARNING: Entity <bound method Dense.call of <tensorflow.python.layers.core.Dense object at 0x7fbe6a037d50>> could not be transformed and will be executed as-is. Please report this to the AutgoGraph team. When filing the bug, set the verbosity to 10 (on Linux, `export AUTOGRAPH_VERBOSITY=10`) and attach the full output. Cause: converting <bound method Dense.call of <tensorflow.python.layers.core.Dense object at 0x7fbe6a037d50>>: AttributeError: module 'gast' has no attribute 'Index'\n",
            "WARNING:tensorflow:Entity <bound method Dense.call of <tensorflow.python.layers.core.Dense object at 0x7fbe69d9e510>> could not be transformed and will be executed as-is. Please report this to the AutgoGraph team. When filing the bug, set the verbosity to 10 (on Linux, `export AUTOGRAPH_VERBOSITY=10`) and attach the full output. Cause: converting <bound method Dense.call of <tensorflow.python.layers.core.Dense object at 0x7fbe69d9e510>>: AttributeError: module 'gast' has no attribute 'Index'\n",
            "WARNING: Entity <bound method Dense.call of <tensorflow.python.layers.core.Dense object at 0x7fbe69d9e510>> could not be transformed and will be executed as-is. Please report this to the AutgoGraph team. When filing the bug, set the verbosity to 10 (on Linux, `export AUTOGRAPH_VERBOSITY=10`) and attach the full output. Cause: converting <bound method Dense.call of <tensorflow.python.layers.core.Dense object at 0x7fbe69d9e510>>: AttributeError: module 'gast' has no attribute 'Index'\n",
            "WARNING:tensorflow:Entity <bound method Dense.call of <tensorflow.python.layers.core.Dense object at 0x7fbe69fc2e10>> could not be transformed and will be executed as-is. Please report this to the AutgoGraph team. When filing the bug, set the verbosity to 10 (on Linux, `export AUTOGRAPH_VERBOSITY=10`) and attach the full output. Cause: converting <bound method Dense.call of <tensorflow.python.layers.core.Dense object at 0x7fbe69fc2e10>>: AttributeError: module 'gast' has no attribute 'Index'\n",
            "WARNING: Entity <bound method Dense.call of <tensorflow.python.layers.core.Dense object at 0x7fbe69fc2e10>> could not be transformed and will be executed as-is. Please report this to the AutgoGraph team. When filing the bug, set the verbosity to 10 (on Linux, `export AUTOGRAPH_VERBOSITY=10`) and attach the full output. Cause: converting <bound method Dense.call of <tensorflow.python.layers.core.Dense object at 0x7fbe69fc2e10>>: AttributeError: module 'gast' has no attribute 'Index'\n",
            "WARNING:tensorflow:Entity <bound method Dense.call of <tensorflow.python.layers.core.Dense object at 0x7fbe69e7fed0>> could not be transformed and will be executed as-is. Please report this to the AutgoGraph team. When filing the bug, set the verbosity to 10 (on Linux, `export AUTOGRAPH_VERBOSITY=10`) and attach the full output. Cause: converting <bound method Dense.call of <tensorflow.python.layers.core.Dense object at 0x7fbe69e7fed0>>: AttributeError: module 'gast' has no attribute 'Index'\n",
            "WARNING: Entity <bound method Dense.call of <tensorflow.python.layers.core.Dense object at 0x7fbe69e7fed0>> could not be transformed and will be executed as-is. Please report this to the AutgoGraph team. When filing the bug, set the verbosity to 10 (on Linux, `export AUTOGRAPH_VERBOSITY=10`) and attach the full output. Cause: converting <bound method Dense.call of <tensorflow.python.layers.core.Dense object at 0x7fbe69e7fed0>>: AttributeError: module 'gast' has no attribute 'Index'\n",
            "WARNING:tensorflow:Entity <bound method Dense.call of <tensorflow.python.layers.core.Dense object at 0x7fbe69df8bd0>> could not be transformed and will be executed as-is. Please report this to the AutgoGraph team. When filing the bug, set the verbosity to 10 (on Linux, `export AUTOGRAPH_VERBOSITY=10`) and attach the full output. Cause: converting <bound method Dense.call of <tensorflow.python.layers.core.Dense object at 0x7fbe69df8bd0>>: AttributeError: module 'gast' has no attribute 'Index'\n",
            "WARNING: Entity <bound method Dense.call of <tensorflow.python.layers.core.Dense object at 0x7fbe69df8bd0>> could not be transformed and will be executed as-is. Please report this to the AutgoGraph team. When filing the bug, set the verbosity to 10 (on Linux, `export AUTOGRAPH_VERBOSITY=10`) and attach the full output. Cause: converting <bound method Dense.call of <tensorflow.python.layers.core.Dense object at 0x7fbe69df8bd0>>: AttributeError: module 'gast' has no attribute 'Index'\n",
            "WARNING:tensorflow:Entity <bound method Dense.call of <tensorflow.python.layers.core.Dense object at 0x7fbe69f182d0>> could not be transformed and will be executed as-is. Please report this to the AutgoGraph team. When filing the bug, set the verbosity to 10 (on Linux, `export AUTOGRAPH_VERBOSITY=10`) and attach the full output. Cause: converting <bound method Dense.call of <tensorflow.python.layers.core.Dense object at 0x7fbe69f182d0>>: AttributeError: module 'gast' has no attribute 'Index'\n",
            "WARNING: Entity <bound method Dense.call of <tensorflow.python.layers.core.Dense object at 0x7fbe69f182d0>> could not be transformed and will be executed as-is. Please report this to the AutgoGraph team. When filing the bug, set the verbosity to 10 (on Linux, `export AUTOGRAPH_VERBOSITY=10`) and attach the full output. Cause: converting <bound method Dense.call of <tensorflow.python.layers.core.Dense object at 0x7fbe69f182d0>>: AttributeError: module 'gast' has no attribute 'Index'\n",
            "WARNING:tensorflow:Entity <bound method Dense.call of <tensorflow.python.layers.core.Dense object at 0x7fbe69e7f310>> could not be transformed and will be executed as-is. Please report this to the AutgoGraph team. When filing the bug, set the verbosity to 10 (on Linux, `export AUTOGRAPH_VERBOSITY=10`) and attach the full output. Cause: converting <bound method Dense.call of <tensorflow.python.layers.core.Dense object at 0x7fbe69e7f310>>: AttributeError: module 'gast' has no attribute 'Index'\n",
            "WARNING: Entity <bound method Dense.call of <tensorflow.python.layers.core.Dense object at 0x7fbe69e7f310>> could not be transformed and will be executed as-is. Please report this to the AutgoGraph team. When filing the bug, set the verbosity to 10 (on Linux, `export AUTOGRAPH_VERBOSITY=10`) and attach the full output. Cause: converting <bound method Dense.call of <tensorflow.python.layers.core.Dense object at 0x7fbe69e7f310>>: AttributeError: module 'gast' has no attribute 'Index'\n",
            "WARNING:tensorflow:Entity <bound method Dense.call of <tensorflow.python.layers.core.Dense object at 0x7fbe69a65750>> could not be transformed and will be executed as-is. Please report this to the AutgoGraph team. When filing the bug, set the verbosity to 10 (on Linux, `export AUTOGRAPH_VERBOSITY=10`) and attach the full output. Cause: converting <bound method Dense.call of <tensorflow.python.layers.core.Dense object at 0x7fbe69a65750>>: AttributeError: module 'gast' has no attribute 'Index'\n",
            "WARNING: Entity <bound method Dense.call of <tensorflow.python.layers.core.Dense object at 0x7fbe69a65750>> could not be transformed and will be executed as-is. Please report this to the AutgoGraph team. When filing the bug, set the verbosity to 10 (on Linux, `export AUTOGRAPH_VERBOSITY=10`) and attach the full output. Cause: converting <bound method Dense.call of <tensorflow.python.layers.core.Dense object at 0x7fbe69a65750>>: AttributeError: module 'gast' has no attribute 'Index'\n",
            "WARNING:tensorflow:From /usr/local/lib/python3.7/dist-packages/deeppavlov/core/models/tf_model.py:235: The name tf.train.AdadeltaOptimizer is deprecated. Please use tf.compat.v1.train.AdadeltaOptimizer instead.\n",
            "\n",
            "WARNING:tensorflow:From /usr/local/lib/python3.7/dist-packages/deeppavlov/models/bert/bert_classifier.py:96: checkpoint_exists (from tensorflow.python.training.checkpoint_management) is deprecated and will be removed in a future version.\n",
            "Instructions for updating:\n",
            "Use standard file APIs to check for files with this prefix.\n"
          ]
        },
        {
          "output_type": "stream",
          "name": "stderr",
          "text": [
            "2022-03-04 06:38:12.617 INFO in 'deeppavlov.models.bert.bert_classifier'['bert_classifier'] at line 98: [initializing model with Bert from /content/drive/MyDrive/Colab Notebooks/bert_model.ckpt]\n"
          ]
        },
        {
          "output_type": "stream",
          "name": "stdout",
          "text": [
            "WARNING:tensorflow:From /usr/local/lib/python3.7/dist-packages/deeppavlov/models/bert/bert_classifier.py:102: The name tf.train.Saver is deprecated. Please use tf.compat.v1.train.Saver instead.\n",
            "\n",
            "INFO:tensorflow:Restoring parameters from /content/drive/MyDrive/Colab Notebooks/bert_model.ckpt\n"
          ]
        }
      ]
    },
    {
      "cell_type": "code",
      "source": [
        "\n",
        "best_score = 0.\n",
        "patience = 2\n",
        "impatience = 0\n",
        "\n",
        "# let's train for 3 epochs\n",
        "for ep in range(3):\n",
        "  \n",
        "    nbatches = 0\n",
        "    for x, y in iterator.gen_batches(batch_size=64, \n",
        "                                     data_type=\"train\", shuffle=True):\n",
        "        x_feat = bert_preprocessor(x)\n",
        "        y_onehot = one_hotter(vocab(y))\n",
        "        bert_classifier.train_on_batch(x_feat, y_onehot)\n",
        "        print(\"Batch done\\n\")\n",
        "        nbatches += 1\n",
        "        \n",
        "        if nbatches % 1 == 0:\n",
        "            # валидируемся каждые 100 батчей\n",
        "            y_valid_pred = bert_classifier(bert_preprocessor(x_valid))\n",
        "            score = sets_accuracy(y_valid, vocab(prob2labels(y_valid_pred)))\n",
        "            print(\"Batches done: {}. Valid Accuracy: {}\".format(nbatches, score))\n",
        "            \n",
        "    y_valid_pred = bert_classifier(bert_preprocessor(x_valid))\n",
        "    score = sets_accuracy(y_valid, vocab(prob2labels(y_valid_pred)))\n",
        "    print(\"Epochs done: {}. Valid Accuracy: {}\".format(ep + 1, score))\n",
        "    if score > best_score:\n",
        "        bert_classifier.save()\n",
        "        print(\"New best score. Saving model.\")\n",
        "        best_score = score    \n",
        "        impatience = 0\n",
        "    else:\n",
        "        impatience += 1\n",
        "        if impatience == patience:\n",
        "            print(\"Out of patience. Stop training.\")\n",
        "            break"
      ],
      "metadata": {
        "colab": {
          "base_uri": "https://localhost:8080/"
        },
        "id": "Wg6serL3kqCk",
        "outputId": "2993d363-e494-4e3b-aa3f-ff48b391a817"
      },
      "execution_count": null,
      "outputs": [
        {
          "output_type": "stream",
          "name": "stdout",
          "text": [
            "Batch done\n",
            "\n",
            "Batches done: 1. Valid Accuracy: 0.5289855072463768\n",
            "Batch done\n",
            "\n",
            "Batches done: 2. Valid Accuracy: 0.5289855072463768\n",
            "Batch done\n",
            "\n",
            "Batches done: 3. Valid Accuracy: 0.5289855072463768\n",
            "Batch done\n",
            "\n",
            "Batches done: 4. Valid Accuracy: 0.5289855072463768\n",
            "Batch done\n",
            "\n",
            "Batches done: 5. Valid Accuracy: 0.5289855072463768\n",
            "Batch done\n",
            "\n",
            "Batches done: 6. Valid Accuracy: 0.5289855072463768\n",
            "Batch done\n",
            "\n",
            "Batches done: 7. Valid Accuracy: 0.5289855072463768\n",
            "Batch done\n",
            "\n",
            "Batches done: 8. Valid Accuracy: 0.5289855072463768\n",
            "Batch done\n",
            "\n",
            "Batches done: 9. Valid Accuracy: 0.5289855072463768\n",
            "Batch done\n",
            "\n",
            "Batches done: 10. Valid Accuracy: 0.5289855072463768\n",
            "Batch done\n",
            "\n",
            "Batches done: 11. Valid Accuracy: 0.5289855072463768\n",
            "Batch done\n",
            "\n",
            "Batches done: 12. Valid Accuracy: 0.5289855072463768\n",
            "Batch done\n",
            "\n",
            "Batches done: 13. Valid Accuracy: 0.5289855072463768\n",
            "Batch done\n",
            "\n",
            "Batches done: 14. Valid Accuracy: 0.5289855072463768\n",
            "Batch done\n",
            "\n",
            "Batches done: 15. Valid Accuracy: 0.5289855072463768\n",
            "Batch done\n",
            "\n",
            "Batches done: 16. Valid Accuracy: 0.533816425120773\n",
            "Batch done\n",
            "\n",
            "Batches done: 17. Valid Accuracy: 0.5603864734299517\n",
            "Batch done\n",
            "\n",
            "Batches done: 18. Valid Accuracy: 0.5579710144927537\n",
            "Batch done\n",
            "\n",
            "Batches done: 19. Valid Accuracy: 0.5579710144927537\n",
            "Batch done\n",
            "\n",
            "Batches done: 20. Valid Accuracy: 0.5748792270531401\n",
            "Batch done\n",
            "\n",
            "Batches done: 21. Valid Accuracy: 0.606280193236715\n",
            "Batch done\n",
            "\n",
            "Batches done: 22. Valid Accuracy: 0.6086956521739131\n",
            "Batch done\n",
            "\n",
            "Batches done: 23. Valid Accuracy: 0.6231884057971014\n",
            "Batch done\n",
            "\n",
            "Batches done: 24. Valid Accuracy: 0.6376811594202898\n",
            "Batch done\n",
            "\n"
          ]
        }
      ]
    },
    {
      "cell_type": "code",
      "source": [
        "# Let's look into obtained resulting outputs\n",
        "print(\"Text sample: {}\".format(x_valid[0]))\n",
        "print(\"True label: {}\".format(y_valid[0]))\n",
        "print(\"Predicted probability distribution: {}\".format(dict(zip(vocab.keys(), \n",
        "                                                               y_valid_pred[0]))))\n",
        "print(\"Predicted label: {}\".format(vocab(prob2labels(y_valid_pred))[0]))"
      ],
      "metadata": {
        "id": "JgSVaVz7ARsh"
      },
      "execution_count": null,
      "outputs": []
    },
    {
      "cell_type": "code",
      "source": [
        ""
      ],
      "metadata": {
        "id": "QLxOmDSL_rOw"
      },
      "execution_count": null,
      "outputs": []
    }
  ]
}